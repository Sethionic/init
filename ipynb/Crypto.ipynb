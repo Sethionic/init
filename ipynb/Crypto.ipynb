{
 "metadata": {
  "name": "Crypto"
 },
 "nbformat": 3,
 "nbformat_minor": 0,
 "worksheets": [
  {
   "cells": [
    {
     "cell_type": "markdown",
     "metadata": {},
     "source": [
      "#HowTo's\n",
      "\n",
      "##Graphs\n",
      "x = numpy.arange(0,2 * math.pi, 0.1)\n",
      "f1=map(lambda x: 5 * math.sin(x), x)\n",
      "f2=map(lambda x: 2 * math.sin(2*x), x)\n",
      "f3=map(lambda x: 1 * math.sin(3*x), x)\n",
      "pylab.plot(x,f1)\n",
      "pylab.plot(x,f2,'ro')\n",
      "pylab.plot(x,f3,'g--')\n",
      "pylab.show()\n",
      "\n",
      "\n",
      "LaTeX: $e^{i \\omega t}$\n"
     ]
    },
    {
     "cell_type": "code",
     "collapsed": false,
     "input": [
      "from IPython.core.display import *\n",
      "\n",
      "global MathJax \n",
      "MathJax = True\n",
      "def MDPL(string): display(Math(string)) if MathJax else display(Latex(string))\n",
      "\n",
      "def add(x,y): return x+y\n",
      "\n",
      "def comp_str(listofstrings): return reduce(add,listofstrings)\n",
      "\n",
      "class math_expr(object):\n",
      "   '''''Math Expression object'''''\n",
      "\n",
      "   def __init__(self,arg1):\n",
      "      '''''init takes arg: list of atoms, each atom being a compilable chunck of LaTeX expression'''''\n",
      "      self.listofatoms = arg1\n",
      "\n",
      "   def show(self):\n",
      "      '''''Displays the content of the expression in mathmode'''''\n",
      "      MDPL(comp_str(self.listofatoms))\n",
      "\n",
      "   def replace(self,pos,newstr):\n",
      "      '''''Replaces an atom with another atom'''''\n",
      "      MDPL(comp_str(self.colouratoms([pos])))\n",
      "      self.listofatoms[pos] = newstr\n",
      "      MDPL(comp_str(self.colouratoms([pos],True)))\n",
      "\n",
      "   def merge(self,positions):\n",
      "      '''''Merges atoms: the input is a list of positions. The new atom is placed at the position of the foremost of the positions'''''\n",
      "      MDPL(comp_str(self.colouratoms(positions)))\n",
      "      temp = [ self.listofatoms[i] for i in positions ]\n",
      "      positions.sort()\n",
      "      positions.reverse()\n",
      "      for i in positions: del self.listofatoms[i]\n",
      "      self.listofatoms.insert(positions[-1],comp_str(temp))\n",
      "      MDPL(comp_str(self.colouratoms([positions[-1]],True)))\n",
      "\n",
      "   def split(self,pos,newatoms):\n",
      "      '''''Splits atoms: replaces an atom in place with multiple sub atoms'''''\n",
      "      MDPL(comp_str(self.colouratoms([pos])))\n",
      "      del self.listofatoms[pos]\n",
      "      templen = len(newatoms)\n",
      "      while len(newatoms) > 0:\n",
      "         self.listofatoms.insert(pos,newatoms.pop())\n",
      "      MDPL(comp_str(self.colouratoms(range(pos, pos+templen),True)))\n",
      "\n",
      "   def cancel(self,positions):\n",
      "      '''''Cancels a bunch of terms: input a list of positions'''''\n",
      "      MDPL(comp_str(self.colouratoms(positions)))\n",
      "      positions.sort()\n",
      "      positions.reverse()\n",
      "      for i in positions: del self.listofatoms[i]\n",
      "      self.fullshow()\n",
      "\n",
      "   def move(self,posini,posfin):\n",
      "      '''''Move atom at posini to posfin, pushing all others back'''''\n",
      "      MDPL(comp_str(self.colouratoms([posini])))\n",
      "      temp = self.listofatoms.pop(posini)\n",
      "      self.listofatoms.insert(posfin if posfin < posini else posfin-1, temp)\n",
      "      MDPL(comp_str(self.colouratoms([posfin if posfin < posini else posfin-1],True)))\n",
      "\n",
      "   def colouratoms(self,positions,labelled=False):\n",
      "      '''''Returns the list of atoms, but with selected terms coloured'''''\n",
      "      temp = list(self.listofatoms)\n",
      "      if labelled:\n",
      "         self.labelatoms()\n",
      "         temp = list(self.labeledatoms)\n",
      "      for i in positions: temp[i] = \"\\color{red}{\"+temp[i]+\"}\"\n",
      "      return temp\n",
      "\n",
      "   def labelatoms(self):\n",
      "      '''''Label atoms by adding underbraces'''''\n",
      "      self.labeledatoms = [ \"\\underbrace{\" + self.listofatoms[i] + \"}_{\" + str(i) + \"}\" for i in range(len(self.listofatoms)) ]\n",
      "\n",
      "   def fullshow(self):\n",
      "      '''''Shows the content whilst labeling positions'''''\n",
      "      self.labelatoms()\n",
      "      MDPL(comp_str(self.labeledatoms))"
     ],
     "language": "python",
     "metadata": {},
     "outputs": [],
     "prompt_number": 5
    },
    {
     "cell_type": "code",
     "collapsed": false,
     "input": [
      "pprint=MDPL\n",
      "#from IPython.core.display import display_latex as pprint\n",
      "\n",
      "pprint(\"\"\"\\begin{tabular}{ l | c || r }\n",
      "  1 & 2 & 3 \\\\\n",
      "  4 & 5 & 6 \\\\\n",
      "  7 & 8 & 9 \\\\\n",
      "\\end{tabular}\"\"\")"
     ],
     "language": "python",
     "metadata": {},
     "outputs": [
      {
       "latex": [
        "$$\begin{tabular}{ l | c || r }\n",
        "  1 & 2 & 3 \\\n",
        "  4 & 5 & 6 \\\n",
        "  7 & 8 & 9 \\\n",
        "\\end{tabular}$$"
       ],
       "output_type": "display_data",
       "text": [
        "<IPython.core.display.Math at 0x110cc5850>"
       ]
      }
     ],
     "prompt_number": 51
    },
    {
     "cell_type": "code",
     "collapsed": false,
     "input": [
      "#(Extended) Euclid Algorithm\n",
      "#\n",
      "def Euclid(a,b,ans=0,pt=0,retA=0):\n",
      "    Temp=Euc([1,0,a],[0,1,b],[[['A1','A2','A3'],['B1','B2','B3']],[[1,0,a],[0,1,b]]])\n",
      "    T=Temp[0]\n",
      "    if ans:\n",
      "        print '\\n({0})({1})+({2})({3})={4}'.format(a,T[0],b,T[1],T[2])\n",
      "    if pt: \n",
      "        for x in Temp[1]: print '{0}\\t{1}\\t{2}\\t{3}\\t{4}\\t{5}'.format(x[0][0],x[0][1],x[0][2],x[1][0],x[1][1],x[1][2])\n",
      "        print\n",
      "    if retA:\n",
      "        return [a,T[0],b,T[1],T[2]]\n",
      "def Euc(a,b,s):\n",
      "    #Main recursive loop\n",
      "    if b[2]==0: return [b[0],b[1],a[2]],s\n",
      "    if b[2]==1: return b,s\n",
      "    else:\n",
      "        Q=a[2]/b[2]\n",
      "        t=[a[n]-Q*b[n] for n in range(3)]\n",
      "        a=b\n",
      "        b=t\n",
      "        return Euc(a,b,s+[[a,b]])\n",
      "#Example Runs\n",
      "Euclid(3,59,ans=1,pt=1,retA=1)\n",
      "#Euclid(4,9,pt=1)\n",
      "#Euclid(26,3)\n",
      "#Euclid(1000,800,pt=1)\n",
      "#Euclid(5423,76357,pt=1)"
     ],
     "language": "python",
     "metadata": {},
     "outputs": [
      {
       "output_type": "stream",
       "stream": "stdout",
       "text": [
        "\n",
        "(3)(20)+(59)(-1)=1\n",
        "A1\tA2\tA3\tB1\tB2\tB3\n",
        "1\t0\t3\t0\t1\t59\n",
        "0\t1\t59\t1\t0\t3\n",
        "1\t0\t3\t-19\t1\t2\n",
        "-19\t1\t2\t20\t-1\t1\n",
        "\n"
       ]
      },
      {
       "output_type": "pyout",
       "prompt_number": 4,
       "text": [
        "[3, 20, 59, -1, 1]"
       ]
      }
     ],
     "prompt_number": 4
    },
    {
     "cell_type": "code",
     "collapsed": false,
     "input": [
      "#Chinese Remainder Theorum\n",
      "#Done, but only has LaTeX visual output so far\n",
      "pprint=MDPL\n",
      "def ChRem(A):\n",
      "    M=reduce(lambda x,y:x*y,[i[1] for i in A])\n",
      "    pprint( 'M={0}'.format(M))\n",
      "    count=1;Ans=[];outS='';sumS=0\n",
      "    for i in A:\n",
      "        Ans=Ans+[[count,i[0],i[1],M/i[1],Euclid(M/i[1],i[1],retA=1)[1]%i[1]]]\n",
      "        #print 'a({0})={1} m({0})={2} M/M({0})={3} c({0})={4}'.format(Ans[count-1][0],Ans[count-1][1],Ans[count-1][2],Ans[count-1][3],Ans[count-1][4])\n",
      "        pprint('a_{{{0}}}={1},\\ m_{{{0}}}={2},\\ \\\\frac{{M}}{{M_{{{0}}}}}={3},\\ c_{{{0}}}={4}'.format(Ans[count-1][0],Ans[count-1][1],Ans[count-1][2],Ans[count-1][3],Ans[count-1][4]))\n",
      "        outS=outS+'({0}*{1}*{2})+'.format(Ans[count-1][3],Ans[count-1][4],Ans[count-1][1])\n",
      "        sumS=sumS+(Ans[count-1][3]*Ans[count-1][4]*Ans[count-1][1])\n",
      "        count=count+1\n",
      "    pprint( outS[:-1] + ' = {0}'.format(sumS) )\n",
      "    pprint( '= {0}\\ mod\\ {1}'.format(sumS%M,M) )\n",
      "ChRem([[5,7],[7,11],[3,13]]);print\n",
      "#ChRem([[2,4],[3,59]]);print\n",
      "#ChRem([[2,7],[3,10]])"
     ],
     "language": "python",
     "metadata": {},
     "outputs": [
      {
       "latex": [
        "$$M=1001$$"
       ],
       "output_type": "display_data",
       "text": [
        "<IPython.core.display.Math at 0x110cc0590>"
       ]
      },
      {
       "latex": [
        "$$a_{1}=5,\\ m_{1}=7,\\ \\frac{M}{M_{1}}=143,\\ c_{1}=5$$"
       ],
       "output_type": "display_data",
       "text": [
        "<IPython.core.display.Math at 0x110cc05d0>"
       ]
      },
      {
       "latex": [
        "$$a_{2}=7,\\ m_{2}=11,\\ \\frac{M}{M_{2}}=91,\\ c_{2}=4$$"
       ],
       "output_type": "display_data",
       "text": [
        "<IPython.core.display.Math at 0x110cc05d0>"
       ]
      },
      {
       "latex": [
        "$$a_{3}=3,\\ m_{3}=13,\\ \\frac{M}{M_{3}}=77,\\ c_{3}=12$$"
       ],
       "output_type": "display_data",
       "text": [
        "<IPython.core.display.Math at 0x110cc0610>"
       ]
      },
      {
       "latex": [
        "$$(143*5*5)+(91*4*7)+(77*12*3) = 8895$$"
       ],
       "output_type": "display_data",
       "text": [
        "<IPython.core.display.Math at 0x110cc0590>"
       ]
      },
      {
       "latex": [
        "$$= 887\\ mod\\ 1001$$"
       ],
       "output_type": "display_data",
       "text": [
        "<IPython.core.display.Math at 0x110cc0590>"
       ]
      },
      {
       "output_type": "stream",
       "stream": "stdout",
       "text": [
        "\n"
       ]
      }
     ],
     "prompt_number": 52
    },
    {
     "cell_type": "code",
     "collapsed": false,
     "input": [
      "#P1 Encryption/Decryption/Frequency Analysis\n",
      "from binascii import *        #Hex conversion\n",
      "from collections import deque #Queue\n",
      "from collections import defaultdict as dd #Dynamic Dictionary\n",
      "from string import Template   #Output formatting\n",
      "import re\n",
      "\n",
      "def type2(a):\n",
      "    try:\n",
      "        b=type(a)\n",
      "    except:\n",
      "        b='NULL'\n",
      "    return b\n",
      "\n",
      "def remDups(seq):\n",
      "    seen = set()\n",
      "    seen_add = seen.add\n",
      "    return reduce(lambda x,y:x+y,[ x for x in seq if x not in seen and not seen_add(x)])\n",
      "\n",
      "class Cipher:\n",
      "    def __init__(self):\n",
      "        pass\n",
      "    def enc(self,s):\n",
      "        print \"No Encryption Algorithm Added\"\n",
      "    def dec(self,s):\n",
      "        print \"No Decryption Algorithm Added\"\n",
      "\n",
      "class MAS(Cipher):\n",
      "    \"\"\"Monoalphabetic Substitution Cipher\"\"\"\n",
      "    def __init__(self,a,b):\n",
      "        self.a=a\n",
      "        self.b=b\n",
      "        self.an=Euclid(a,26,retA=1)[1]\n",
      "    def enc(self,s):\n",
      "        return reduce(lambda x,y:x+y,[chr(((ord(p)-97)*self.a+self.b)%26+97) for p in s])\n",
      "    def dec(self,s):\n",
      "        return reduce(lambda x,y:x+y,[chr((((ord(p)-97)-self.b)*self.an)%26+97) for p in s])\n",
      "    \n",
      "class PF(Cipher):\n",
      "    \"\"\"Playfair Cipher\"\"\"\n",
      "    def __init__(self,s):\n",
      "        Temp=remDups(s.replace('q','')+'abcdefghijklmnoprstuvwxyz')\n",
      "        Temp2=[]\n",
      "        for i in range(5):\n",
      "            Temp2=Temp2+[Temp[i*5:(i+1)*5]]\n",
      "        self.Table=Temp2\n",
      "    def printTable(self):\n",
      "        for i in self.Table:\n",
      "            print '{0}'.format(str(i))\n",
      "\n",
      "#English frequency data:\n",
      "#http://jnicholl.org/Cryptanalysis/Data/EnglishData.php\n",
      "\n",
      "class Cgram:\n",
      "    def __init__(self):\n",
      "        Monograms=self.loadgram('monogram.dat')\n",
      "        Digram=self.loadgram('digram.dat')\n",
      "        Trigram=self.loadgram('trigram.dat')\n",
      "        Polygram={}#Not implemented yet\n",
      "        self.grams=[Monograms,Digram,Trigram,Polygram]\n",
      "    def loadgram(self,path):\n",
      "        temp=dd(int)\n",
      "        with open(path) as f:\n",
      "            for i in f:\n",
      "                res=i.split()\n",
      "                temp[res[0]]=res[1]\n",
      "        return temp\n",
      "    def search(self,s):\n",
      "        self.rep=dd(int)\n",
      "        for i in range(3):\n",
      "            self.subsearch(s,i+1)\n",
      "        print self.rep\n",
      "    def mapper(self):\n",
      "        #Throw the found grams into a maxheap and pair them with their correponding highest\n",
      "        #freq contender for each size. for each char in each gram, raise the confidence of\n",
      "        #a mapping by one\n",
      "        #e.g. 'ABC' matches 'CRE' and 'AB' matches 'TE': {'A':[['C',1]['T',1]],'B':[[R,1],[E,1]],etc...}\n",
      "        #When mapping is complete, look for highest confidences and create a decoder dict to run the\n",
      "        #ciphertext through\n",
      "        decodex=dd(dd) #Dictionary of dictionaries of char:confidence parings\n",
      "        #Use later for adding to decodex: \"\"\"try: decodex[A][B]+=1 ; except decodex[A][B]=1\"\"\"\n",
      "        heap\n",
      "        ##### denotes something missing\n",
      "        #####NEED to sort everything largest to smallest frequency\n",
      "        for i in range(3): #i is the generated {mono,di,tri}graph set\n",
      "            for j in self.rep[i+1].keys(): #j is each entry in a given graph set\n",
      "                ####pop the next highest as j2\n",
      "                for k in range(len(j)):\n",
      "                    try:\n",
      "                        self.decodex[j[k]][j2[k]]+=1\n",
      "                    except:\n",
      "                        self.decodex[j[k]][j2[k]]=1\n",
      "        #By the end of this function, there should be character mappings based on frequency comparisons\n",
      "        #Still need to translate the confidence values to most likely characters [self.makeMap]\n",
      "    def makeMap(self):\n",
      "        pass\n",
      "    def subsearch(self,s,n):\n",
      "        #self.rep=dd(int)\n",
      "        t1=s.lower().split(' ')\n",
      "        for s in t1:\n",
      "            for iter in range(n):\n",
      "                for i in [(s[iter+i:iter+i+n]) for i in xrange(0, len(s), n) ]:\n",
      "                    if len(i)==n: self.rep[i]+=1\n",
      "\n",
      "\n",
      "    "
     ],
     "language": "python",
     "metadata": {},
     "outputs": [],
     "prompt_number": 117
    },
    {
     "cell_type": "code",
     "collapsed": false,
     "input": [
      "#print \"Testing MAS\"\n",
      "TEST = MAS(9,17)\n",
      "#print TEST.dec(\"crwwz\")\n",
      "#print TEST.enc(\"happy\")\n",
      "#Blah=unhexlify(hexlify(\"Test\"))\n",
      "#print \"\\nTesting PF\"\n",
      "#TEST = PF('testerstesting')\n",
      "#TEST.printTable()\n",
      "#print TEST.dec(\"blahblahtesttest\")\n",
      "#print TEST.enc(\"happy\")\n",
      "print \"\\nTesting Freq:\\n\"\n",
      "pt='Episode IV, A NEW HOPE It is a period of civil war. Rebel spaceships, striking from a hidden base, have won their first victory against the evil Galactic Empire. During the battle, Rebel spies managed to steal secret plans to the Empire\u2019s ultimate weapon, the DEATH STAR, an armored space station with enough power to destroy an entire planet. Pursued by the Empire\u2019s sinister agents, Princess Leia races home aboard her starship, custodian of the stolen plans that can save her people and restore freedom to the galaxy\u2026.'\n",
      "pt=re.sub('[^a-z]','',pt.lower())\n",
      "ct=TEST.enc(pt)\n",
      "tt=TEST.dec(ct)\n",
      "print 'Plaintext:',pt\n",
      "print 'Ciphertext:',ct\n",
      "print 'UnCiphered:',tt\n",
      "Anyl=Cgram()\n",
      "Anyl.search(ct)\n",
      "\n",
      "#testdict=calcf(temp,3)\n",
      "#temp=[]\n",
      "#for i in testdict.keys():\n",
      "#    temp+=[[testdict[i],i]]\n",
      "#temp.sort()\n",
      "#print temp\n"
     ],
     "language": "python",
     "metadata": {},
     "outputs": [
      {
       "output_type": "stream",
       "stream": "stdout",
       "text": [
        "\n",
        "Testing Freq:\n",
        "\n",
        "Plaintext: episodeivanewhopeitisaperiodofcivilwarrebelspaceshipsstrikingfromahiddenbasehavewontheirfirstvictoryagainsttheevilgalacticempireduringthebattlerebelspiesmanagedtostealsecretplanstotheempiresultimateweaponthedeathstaranarmoredspacestationwithenoughpowertodestroyanentireplanetpursuedbytheempiressinisteragentsprincessleiaraceshomeaboardherstarshipcustodianofthestolenplansthatcansaveherpeopleandrestorefreedomtothegalaxy\n",
        "Ciphertext: bwlxnsblyrebhcnwblglxrwbolnsnkjlylmhroobabmxwrjbxclwxxgoldletkonvrclssbearxbcrybhnegcblokloxgyljgnozrtrlexggcbbylmtrmrjgljbvwlobspoletgcbarggmbobabmxwlbxvrertbsgnxgbrmxbjobgwmrexgngcbbvwlobxpmglvrgbhbrwnegcbsbrgcxgrorerovnobsxwrjbxgrglnehlgcbenptcwnhbognsbxgonzrebeglobwmrebgwpoxpbsazgcbbvwlobxxlelxgbortbegxwolejbxxmblrorjbxcnvbranroscboxgroxclwjpxgnslrenkgcbxgnmbewmrexgcrgjrexrybcbowbnwmbresobxgnobkobbsnvgngcbtrmrqz\n",
        "UnCiphered: episodeivanewhopeitisaperiodofcivilwarrebelspaceshipsstrikingfromahiddenbasehavewontheirfirstvictoryagainsttheevilgalacticempireduringthebattlerebelspiesmanagedtostealsecretplanstotheempiresultimateweaponthedeathstaranarmoredspacestationwithenoughpowertodestroyanentireplanetpursuedbytheempiressinisteragentsprincessleiaraceshomeaboardherstarshipcustodianofthestolenplansthatcansaveherpeopleandrestorefreedomtothegalaxy\n",
        "defaultdict(<type 'int'>, {'gw': 2, 'bvw': 3, 'gr': 3, 'roo': 1, 'ptc': 1, 'gy': 1, 'gx': 1, 'gg': 2, 'gc': 11, 'gb': 3, 'nwb': 1, 'go': 2, 'gn': 8, 'gm': 1, 'gl': 5, 'gj': 1, 'rov': 1, 'wmr': 3, 'tr': 3, 'tk': 1, 'tg': 1, 'tb': 2, 'tc': 1, 'lre': 1, 'rc': 1, 'lro': 1, 'rl': 1, 'scb': 1, 'wjp': 1, 'bxx': 2, 'trm': 2, 'trl': 1, 'pbs': 1, 'bxp': 1, 'bxv': 1, 'p': 6, 'bxc': 2, 'bxg': 4, 'zg': 1, 'pmg': 1, 'nwm': 1, 'osc': 1, 'zr': 2, 'zrt': 1, 'neh': 1, 'neg': 2, 'abm': 2, 'zre': 1, 'sbx': 1, 'lej': 1, 'v': 9, 'lel': 1, 'let': 2, 'ggc': 1, 'lex': 1, 'box': 1, 'hbo': 1, 'gln': 1, 'glo': 1, 'bor': 1, 'gno': 2, 'glx': 1, 'vbr': 1, 'bol': 1, 'bob': 1, 'glv': 1, 'hbr': 1, 'jre': 1, 'brw': 1, 'brm': 1, 'sgn': 1, 'brg': 1, 'bre': 1, 'pxg': 1, 'bra': 1, 'lwx': 1, 'lwj': 1, 'oob': 1, 'nkj': 1, 'kgc': 1, 'wmb': 1, 'ert': 1, 'mg': 1, 'mb': 4, 'klo': 1, 'mh': 1, 'mt': 1, 'mr': 5, 'ero': 1, 'mx': 3, 'xcn': 1, 'xcl': 2, 'spo': 1, 'gcb': 9, 'enk': 1, 'ryb': 2, 'enp': 1, 'gcr': 1, 'gcx': 1, 'wrj': 2, 'bgw': 2, 'snk': 1, 'snv': 1, 'obw': 1, 'npt': 1, 'ovn': 1, 'a': 6, 'sx': 1, 'ewm': 1, 'ss': 1, 'ylj': 1, 'sp': 1, 'obs': 2, 'q': 1, 'so': 1, 'sn': 2, 'egl': 1, 'sc': 1, 'sb': 4, 'sa': 1, 'sg': 1, 'sob': 1, 'lss': 1, 'lg': 2, 'ld': 1, 'le': 5, 'lb': 1, 'ln': 2, 'lo': 6, 'lm': 2, 'lj': 2, 'lv': 1, 'lw': 2, 'byl': 1, 'lr': 2, 'ls': 1, 'clw': 2, 'lx': 3, 'ly': 2, 'rwb': 1, 'yl': 3, 'mxw': 2, 'yb': 2, 'rwn': 1, 'noz': 1, 'yr': 1, 'mxb': 1, 'okl': 1, 'xle': 1, 'l': 32, 'gbo': 1, 'xgn': 4, 'el': 1, 'en': 2, 'eh': 1, 'ej': 1, 'xgg': 1, 'eg': 4, 'ea': 1, 'xgc': 1, 'eb': 3, 'ex': 4, 'xgy': 1, 'hlg': 1, 'et': 2, 'ew': 1, 'xgr': 3, 'es': 1, 'er': 2, 'rt': 3, 'gol': 1, 'rex': 3, 'rw': 2, 'bly': 1, 'rq': 1, 'rer': 2, 'res': 1, 'rx': 1, 'ry': 2, 'ejb': 1, 'blr': 1, 're': 10, 'blo': 1, 'rg': 5, 'ren': 1, 'ra': 1, 'cwn': 1, 'reb': 3, 'rm': 3, 'blg': 1, 'ro': 6, 'hcn': 1, 'rj': 4, 'sbr': 1, 'bko': 1, 'rle': 1, 'ort': 1, 'lmt': 1, 'lmh': 1, 'orj': 1, 'sbe': 1, 'ore': 1, 'bwl': 1, 'bwm': 1, 'sbl': 1, 'wlx': 1, 'g': 40, 'w': 20, 'wlo': 3, 'wlb': 1, 'xn': 1, 'xl': 1, 'xm': 1, 'xb': 2, 'xc': 3, 'xg': 14, 'onz': 1, 'xx': 3, 'xr': 2, 'xp': 2, 'xv': 1, 'xw': 4, 'kon': 1, 'kob': 1, 'gyl': 1, 'ogn': 1, 'ehl': 1, 'nzr': 1, 'b': 62, 'ben': 1, 'bea': 1, 'beg': 2, 'ybh': 1, 'r': 40, 'ybc': 1, 'bew': 1, 'bhn': 1, 'ran': 1, 'lbx': 1, 'bhc': 1, 'bhb': 1, 'saz': 1, 'anr': 1, 'vgn': 1, 'xry': 1, 'xrw': 1, 'bsx': 1, 'vno': 1, 'sl': 1, 'bsp': 1, 'egc': 2, 'bsn': 1, 'rox': 1, 'bsg': 1, 'bsa': 1, 'bsb': 1, 'exg': 3, 'kg': 1, 'kj': 1, 'ko': 2, 'mrq': 1, 'kl': 1, 'exr': 1, 'mrj': 1, 'mre': 3, 'rtb': 2, 'tko': 1, 'rtr': 1, 'ngc': 2, 'xmb': 1, 'hro': 1, 'dl': 1, 'tbs': 1, 'mgl': 1, 'tbe': 1, 'ssb': 1, 'bar': 1, 'h': 6, 'qz': 1, 'oxp': 1, 'gbh': 1, 'bab': 2, 'crg': 1, 'x': 34, 'oxg': 2, 'oxc': 1, 'rmr': 2, 'ebe': 1, 'ebg': 1, 'btr': 1, 'arx': 1, 'rmx': 1, 'ebh': 1, 'lns': 1, 'arg': 1, 'lne': 1, 'dle': 1, 'xvr': 1, 'wol': 1, 'wb': 3, 'wo': 1, 'wn': 2, 'wm': 4, 'wl': 5, 'jp': 1, 'wj': 1, 'jr': 1, 'jl': 1, 'job': 1, 'jo': 1, 'vrg': 1, 'wr': 2, 'vre': 1, 'wp': 1, 'jg': 2, 'jb': 5, 'wx': 1, 'vrc': 1, 'c': 20, 'gwm': 1, 'kjl': 1, 's': 14, 'etg': 1, 'etk': 1, 'ozr': 1, 'cn': 2, 'pox': 1, 'cl': 3, 'cb': 11, 'tgc': 1, 'pol': 1, 'gxw': 1, 'cxg': 1, 'cr': 2, 'cw': 1, 'pt': 1, 'px': 1, 'elx': 1, 'pb': 1, 'cry': 1, 'bby': 1, 'bbv': 2, 'bbs': 1, 'po': 2, 'pm': 1, 'nro': 1, 'lgl': 1, 'lgc': 1, 'glj': 1, 'xxg': 1, 'bmx': 2, 'xxm': 1, 'xxl': 1, 'gns': 2, 'gnx': 1, 'slr': 1, 'n': 25, 'gng': 2, 'cls': 1, 'k': 5, 'gnm': 1, 'vb': 1, 'vg': 1, 'vn': 1, 'jpx': 1, 'vr': 3, 'vw': 3, 'bow': 1, 'onv': 1, 'zgc': 1, 'gwp': 1, 'lxr': 1, 'lxg': 1, 'wpo': 1, 'nob': 2, 'lxn': 1, 'ab': 2, 'jbv': 1, 'jbx': 4, 'nhb': 1, 'y': 6, 'bog': 1, 'tcw': 1, 'ldl': 1, 'gmb': 1, 'bnw': 1, 'egx': 1, 'rgb': 1, 'rgc': 1, 'rgg': 1, 'rgj': 1, 'rgl': 1, 'nvr': 1, 'nvg': 1, 'ror': 2, 'nvb': 1, 'd': 1, 'ljb': 1, 'gjr': 1, 'ljg': 1, 'ros': 1, 'cx': 1, 't': 8, 'wbn': 1, 'wbo': 1, 'wbl': 1, 'mhr': 1, 'gbr': 1, 'old': 1, 'ole': 2, 'jly': 1, 'oln': 1, 'cnv': 1, 'cnw': 1, 'jgl': 1, 'jgn': 1, 'eso': 1, 'hne': 1, 'be': 5, 'bg': 2, 'ba': 3, 'bb': 4, 'bc': 2, 'bl': 4, 'bm': 2, 'bn': 1, 'bo': 6, 'bh': 3, 'bj': 1, 'bk': 1, 'bt': 1, 'bv': 3, 'bw': 2, 'nmb': 1, 'br': 5, 'bs': 6, 'bx': 10, 'by': 1, 'xpb': 1, 'oo': 1, 'on': 2, 'xns': 1, 'ol': 4, 'ok': 1, 'obk': 1, 'og': 1, 'obg': 1, 'obb': 1, 'ob': 11, 'o': 31, 'oba': 2, 'oz': 1, 'obx': 3, 'ox': 4, 'ow': 1, 'ov': 1, 'ylm': 2, 'os': 1, 'or': 3, 'mbl': 1, 'mbo': 1, 'nsl': 1, 'nsn': 1, 'xgo': 2, 'bjo': 1, 'mbe': 1, 'nsb': 2, 'owb': 1, 'mbr': 1, 'lob': 4, 'xpm': 1, 'lok': 1, 'yre': 1, 'rcl': 1, 'lox': 1, 'wne': 1, 'hr': 1, 'xgb': 2, 'wnh': 1, 'rjg': 1, 'hn': 1, 'rjb': 3, 'hl': 1, 'hb': 2, 'hc': 1, 'ear': 1, 'lvr': 1, 'mtr': 1, 'j': 11, 'xwr': 2, 'azg': 1, 'xwo': 1, 'xwl': 1, 'z': 4, 'cbb': 3, 'cba': 1, 'lyr': 1, 'cbe': 1, 'm': 15, 'cbo': 2, 'cbl': 1, 'an': 1, 'vwl': 3, 'cbs': 1, 'ar': 2, 'cbt': 1, 'sxw': 1, 'lyl': 1, 'cbx': 1, 'az': 1, 'nh': 1, 'nk': 2, 'nm': 1, 'no': 3, 'nkg': 1, 'wxx': 1, 'ne': 3, 'ng': 2, 'nx': 1, 'grg': 1, 'nz': 1, 'np': 1, 'gro': 2, 'nr': 1, 'ns': 4, 'nv': 3, 'nw': 2, 'rqz': 1, 'gon': 1, 'ggm': 1, 'e': 23, 'rxb': 1, 'bcb': 1, 'nxg': 1, 'xbc': 1, 'xbj': 1, 'bcr': 1})\n"
       ]
      }
     ],
     "prompt_number": 120
    },
    {
     "cell_type": "code",
     "collapsed": false,
     "input": [
      "print Anyl.grams\n",
      "#import scipy\n",
      "#Euclid(5,7,retA=1)"
     ],
     "language": "python",
     "metadata": {},
     "outputs": [
      {
       "output_type": "stream",
       "stream": "stdout",
       "text": [
        "[defaultdict(<type 'int'>, {'A': '805', 'C': '320', 'B': '162', 'E': '1231', 'D': '365', 'G': '161', 'F': '228', 'I': '718', 'H': '514', 'K': '52', 'J': '10', 'M': '225', 'L': '403', 'O': '794', 'N': '719', 'Q': '20', 'P': '229', 'S': '659', 'R': '603', 'U': '310', 'T': '959', 'W': '203', 'V': '93', 'Y': '188', 'X': '20', 'Z': '9'}), defaultdict(<type 'int'>, {'BE': '181', 'WE': '158', 'VE': '321', 'WA': '171', 'BL': '101', 'WI': '188', 'WH': '177', 'BU': '100', 'RT': '142', 'RE': '625', 'RA': '275', 'RO': '275', 'RI': '271', 'GE': '112', 'ON': '420', 'OM': '163', 'OL': '141', 'OF': '101', 'OU': '361', 'OT': '113', 'OS': '117', 'OR': '339', 'IV': '127', 'HI': '330', 'HO': '184', 'HA': '420', 'HE': '542', 'PR': '161', 'PA': '165', 'PE': '174', 'PO': '125', 'PL': '128', 'EM': '114', 'EL': '216', 'EN': '511', 'EI': '122', 'EE': '148', 'EA': '321', 'EC': '214', 'IT': '356', 'ET': '146', 'EV': '131', 'ES': '343', 'ER': '667', 'ME': '216', 'MA': '260', 'UT': '189', 'MO': '164', 'MI': '128', 'US': '165', 'UR': '169', 'UL': '115', 'UN': '201', 'AT': '440', 'AV': '111', 'FI': '175', 'FO': '239', 'NI': '142', 'NO': '175', 'NA': '141', 'NC': '188', 'ND': '263', 'NE': '232', 'NG': '128', 'NS': '113', 'NT': '337', 'CI': '104', 'CH': '122', 'CO': '296', 'CA': '202', 'CE': '177', 'CT': '111', 'SS': '120', 'SU': '102', 'ST': '340', 'SI': '210', 'SA': '146', 'SE': '259', 'DI': '210', 'DE': '275', 'DA': '107', 'LE': '263', 'LA': '229', 'LO': '166', 'LL': '176', 'TU': '108', 'TR': '183', 'LI': '273', 'TO': '175', 'TH': '1582', 'TI': '510', 'TE': '492', 'TA': '225', 'AC': '152', 'AD': '120', 'AI': '162', 'IS': '211', 'IR': '112', 'AM': '104', 'AL': '246', 'AN': '542', 'AS': '172', 'AR': '511', 'IL': '232', 'IO': '270', 'IN': '784', 'IC': '244', 'IE': '129'}), defaultdict(<type 'int'>, {'LIN': '54', 'TIN': '71', 'TIO': '188', 'TIC': '62', 'PRE': '57', 'SAN': '59', 'PRO': '75', 'ION': '252', 'RAT': '58', 'URE': '63', 'THO': '66', 'WER': '61', 'THI': '100', 'THE': '1182', 'HAS': '56', 'HAT': '138', 'THA': '155', 'ITH': '111', 'OVE': '71', 'ORT': '67', 'LAR': '59', 'MAN': '101', 'MEN': '76', 'DER': '70', 'EVE': '111', 'ICH': '57', 'ROM': '70', 'AME': '61', 'BUT': '64', 'LES': '59', 'ENC': '56', 'FOR': '191', 'TRA': '54', 'ENT': '246', 'AND': '284', 'IVE': '96', 'INT': '80', 'ANT': '79', 'NOT': '67', 'INE': '73', 'ING': '356', 'ANY': '58', 'ATE': '165', 'RES': '125', 'ILL': '118', 'PER': '84', 'ATI': '148', 'REA': '95', 'COM': '61', 'RED': '101', 'CON': '114', 'WHE': '55', 'OUN': '75', 'AST': '70', 'TED': '110', 'WHI': '71', 'ECT': '83', 'EEN': '59', 'OUS': '70', 'OUR': '61', 'TER': '157', 'OUT': '63', 'VER': '159', 'HER': '170', 'NDE': '57', 'UND': '83', 'VEN': '70', 'WAS': '76', 'ALL': '111', 'OME': '60', 'TUR': '58', 'WIL': '55', 'WIT': '93', 'ORE': '65', 'NTE': '58', 'DIN': '68', 'ERS': '135', 'ERE': '173', 'AIN': '108', 'ERA': '54', 'HIS': '130', 'ONE': '83', 'ONS': '92', 'EAR': '69', 'DAY': '65', 'STE': '59', 'EST': '106', 'ESS': '90', 'STA': '75', 'ICA': '57', 'STI': '68', 'HOU': '77', 'STR': '62', 'AVE': '84', 'ART': '58', 'ARD': '69', 'ARE': '117', 'NCE': '113'}), {}]\n"
       ]
      }
     ],
     "prompt_number": 121
    },
    {
     "cell_type": "code",
     "collapsed": false,
     "input": [],
     "language": "python",
     "metadata": {},
     "outputs": [],
     "prompt_number": 14
    }
   ],
   "metadata": {}
  }
 ]
}