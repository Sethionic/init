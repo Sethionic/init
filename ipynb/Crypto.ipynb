{
 "metadata": {
  "name": "Crypto"
 },
 "nbformat": 3,
 "nbformat_minor": 0,
 "worksheets": [
  {
   "cells": [
    {
     "cell_type": "code",
     "collapsed": false,
     "input": [
      "#HowTo's\n",
      "\n",
      "##Graphs\n",
      "'''\n",
      "x = numpy.arange(0,2 * math.pi, 0.1)\n",
      "f1=map(lambda x: 5 * math.sin(x), x)\n",
      "f2=map(lambda x: 2 * math.sin(2*x), x)\n",
      "f3=map(lambda x: 1 * math.sin(3*x), x)\n",
      "pylab.plot(x,f1)\n",
      "pylab.plot(x,f2,'ro')\n",
      "pylab.plot(x,f3,'g--')\n",
      "pylab.show()\n",
      "'''"
     ],
     "language": "python",
     "metadata": {},
     "outputs": [
      {
       "output_type": "pyout",
       "prompt_number": 8,
       "text": [
        "\"\\nx = numpy.arange(0,2 * math.pi, 0.1)\\nf1=map(lambda x: 5 * math.sin(x), x)\\nf2=map(lambda x: 2 * math.sin(2*x), x)\\nf3=map(lambda x: 1 * math.sin(3*x), x)\\npylab.plot(x,f1)\\npylab.plot(x,f2,'ro')\\npylab.plot(x,f3,'g--')\\npylab.show()\\n\""
       ]
      }
     ],
     "prompt_number": 8
    },
    {
     "cell_type": "code",
     "collapsed": false,
     "input": [
      "#P1 Encryption/Decryption\n",
      "from binascii import *        #Hex conversion\n",
      "from collections import deque #Queue\n",
      "from string import Template   #Output formatting\n",
      "import re\n",
      "\n",
      "class Cipher:\n",
      "    def __init__(self):\n",
      "        pass\n",
      "    def enc(self):\n",
      "        print \"No Encryption Algorithm Added\"\n",
      "    def dec(self):\n",
      "        print \"No Encryption Algorithm Added\"\n",
      "class Caesar(Cipher):\n",
      "    def __init__(self):\n",
      "        pass\n",
      "    def enc(self):\n",
      "        print \"UnCaesar\"\n",
      "        "
     ],
     "language": "python",
     "metadata": {},
     "outputs": [],
     "prompt_number": 1
    },
    {
     "cell_type": "code",
     "collapsed": false,
     "input": [
      "TEST = Caesar()\n",
      "TEST.dec()\n",
      "TEST.enc()\n",
      "Blah=unhexlify(hexlify(\"Test\"))\n",
      "\"Test\""
     ],
     "language": "python",
     "metadata": {},
     "outputs": [
      {
       "output_type": "stream",
       "stream": "stdout",
       "text": [
        "No Encryption Algorithm Added\n",
        "UnCaesar\n"
       ]
      },
      {
       "output_type": "pyout",
       "prompt_number": 2,
       "text": [
        "'Test'"
       ]
      }
     ],
     "prompt_number": 2
    },
    {
     "cell_type": "code",
     "collapsed": false,
     "input": [
      "#(Extended) Euclid Algorithm\n",
      "#\n",
      "def Euclid(a,b,ans=0,pt=0,retA=0):\n",
      "    Temp=Euc([1,0,a],[0,1,b],[[['A1','A2','A3'],['B1','B2','B3']],[[1,0,a],[0,1,b]]])\n",
      "    T=Temp[0]\n",
      "    if ans:\n",
      "        print '\\n({0})({1})+({2})({3})={4}'.format(a,T[0],b,T[1],T[2])\n",
      "    if pt: \n",
      "        for x in Temp[1]: print '{0}\\t{1}\\t{2}\\t{3}\\t{4}\\t{5}'.format(x[0][0],x[0][1],x[0][2],x[1][0],x[1][1],x[1][2])\n",
      "        print\n",
      "    if retA:\n",
      "        return [a,T[0],b,T[1],T[2]]\n",
      "def Euc(a,b,s):\n",
      "    #Main recursive loop\n",
      "    if b[2]==0: return [b[0],b[1],a[2]],s\n",
      "    if b[2]==1: return b,s\n",
      "    else:\n",
      "        Q=a[2]/b[2]\n",
      "        t=[a[n]-Q*b[n] for n in range(3)]\n",
      "        a=b\n",
      "        b=t\n",
      "        return Euc(a,b,s+[[a,b]])\n",
      "#Example Runs\n",
      "#Euclid(7,5)\n",
      "#Euclid(4,9,pt=1)\n",
      "#Euclid(26,3)\n",
      "#Euclid(1000,800,pt=1)\n",
      "#Euclid(5423,76357,pt=1)"
     ],
     "language": "python",
     "metadata": {},
     "outputs": [],
     "prompt_number": 21
    },
    {
     "cell_type": "code",
     "collapsed": false,
     "input": [
      "#Chinese Remainder Theorum\n",
      "#Done, but tested once\n",
      "def ChRem(A):\n",
      "    M=reduce(lambda x,y:x*y,[i[1] for i in A])\n",
      "    print 'M={0}'.format(M)\n",
      "    count=1;Ans=[];outS='';sumS=0\n",
      "    for i in A:\n",
      "        Ans=Ans+[[count,i[0],i[1],M/i[1],Euclid(M/i[1],i[1],retA=1)[1]%i[1]]]\n",
      "        print 'a({0})={1} m({0})={2} M/M({0})={3} c({0})={4}'.format(Ans[count-1][0],Ans[count-1][1],Ans[count-1][2],Ans[count-1][3],Ans[count-1][4])\n",
      "        outS=outS+'({0}*{1}*{2})+'.format(Ans[count-1][3],Ans[count-1][4],Ans[count-1][1])\n",
      "        sumS=sumS+(Ans[count-1][3]*Ans[count-1][4]*Ans[count-1][1])\n",
      "        count=count+1\n",
      "    print outS[:-1] + ' = {0}'.format(sumS)\n",
      "    print '= {0} mod {1}'.format(sumS%M,M)\n",
      "ChRem([[5,7],[7,11],[3,13]])"
     ],
     "language": "python",
     "metadata": {},
     "outputs": [
      {
       "output_type": "stream",
       "stream": "stdout",
       "text": [
        "M=1001\n",
        "a(1)=5 m(1)=7 M/M(1)=143 c(1)=5\n",
        "a(2)=7 m(2)=11 M/M(2)=91 c(2)=4\n",
        "a(3)=3 m(3)=13 M/M(3)=77 c(3)=12\n",
        "(143*5*5)+(91*4*7)+(77*12*3) = 8895\n",
        "= 887 mod 1001\n"
       ]
      }
     ],
     "prompt_number": 45
    },
    {
     "cell_type": "code",
     "collapsed": false,
     "input": [
      "import scipy\n",
      "Euclid(5,7,retA=1)"
     ],
     "language": "python",
     "metadata": {},
     "outputs": [
      {
       "output_type": "pyout",
       "prompt_number": 46,
       "text": [
        "[5, 3, 7, -2, 1]"
       ]
      }
     ],
     "prompt_number": 46
    },
    {
     "cell_type": "code",
     "collapsed": false,
     "input": [],
     "language": "python",
     "metadata": {},
     "outputs": []
    }
   ],
   "metadata": {}
  }
 ]
}