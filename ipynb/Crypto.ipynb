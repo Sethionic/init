{
 "metadata": {
  "name": "Crypto"
 },
 "nbformat": 3,
 "nbformat_minor": 0,
 "worksheets": [
  {
   "cells": [
    {
     "cell_type": "markdown",
     "metadata": {},
     "source": [
      "#HowTo's\n",
      "\n",
      "##Graphs\n",
      "x = numpy.arange(0,2 * math.pi, 0.1)\n",
      "f1=map(lambda x: 5 * math.sin(x), x)\n",
      "f2=map(lambda x: 2 * math.sin(2*x), x)\n",
      "f3=map(lambda x: 1 * math.sin(3*x), x)\n",
      "pylab.plot(x,f1)\n",
      "pylab.plot(x,f2,'ro')\n",
      "pylab.plot(x,f3,'g--')\n",
      "pylab.show()\n",
      "\n",
      "LaTeX: $e^{i \\omega t}$\n",
      "\n",
      "##Ideas:\n",
      "General Ideas:\n",
      "https://github.com/ipython/ipython/tree/master/examples/notebooks#a-collection-of-notebooks-for-using-ipython-effectively\n",
      "\n",
      "Cython integration: http://nbviewer.ipython.org/urls/raw.github.com/ipython/ipython/3607712653c66d63e0d7f13f073bde8c0f209ba8/docs/examples/notebooks/cython_extension.ipynb\n",
      "\n"
     ]
    },
    {
     "cell_type": "code",
     "collapsed": false,
     "input": [
      "from IPython.core.display import *\n",
      "\n",
      "global MathJax \n",
      "MathJax = True\n",
      "def MDPL(string): display(Math(string)) if MathJax else display(Latex(string))\n",
      "\n",
      "def add(x,y): return x+y\n",
      "\n",
      "def comp_str(listofstrings): return reduce(add,listofstrings)\n",
      "\n",
      "class math_expr(object):\n",
      "   '''''Math Expression object'''''\n",
      "\n",
      "   def __init__(self,arg1):\n",
      "      '''''init takes arg: list of atoms, each atom being a compilable chunck of LaTeX expression'''''\n",
      "      self.listofatoms = arg1\n",
      "\n",
      "   def show(self):\n",
      "      '''''Displays the content of the expression in mathmode'''''\n",
      "      MDPL(comp_str(self.listofatoms))\n",
      "\n",
      "   def replace(self,pos,newstr):\n",
      "      '''''Replaces an atom with another atom'''''\n",
      "      MDPL(comp_str(self.colouratoms([pos])))\n",
      "      self.listofatoms[pos] = newstr\n",
      "      MDPL(comp_str(self.colouratoms([pos],True)))\n",
      "\n",
      "   def merge(self,positions):\n",
      "      '''''Merges atoms: the input is a list of positions. The new atom is placed at the position of the foremost of the positions'''''\n",
      "      MDPL(comp_str(self.colouratoms(positions)))\n",
      "      temp = [ self.listofatoms[i] for i in positions ]\n",
      "      positions.sort()\n",
      "      positions.reverse()\n",
      "      for i in positions: del self.listofatoms[i]\n",
      "      self.listofatoms.insert(positions[-1],comp_str(temp))\n",
      "      MDPL(comp_str(self.colouratoms([positions[-1]],True)))\n",
      "\n",
      "   def split(self,pos,newatoms):\n",
      "      '''''Splits atoms: replaces an atom in place with multiple sub atoms'''''\n",
      "      MDPL(comp_str(self.colouratoms([pos])))\n",
      "      del self.listofatoms[pos]\n",
      "      templen = len(newatoms)\n",
      "      while len(newatoms) > 0:\n",
      "         self.listofatoms.insert(pos,newatoms.pop())\n",
      "      MDPL(comp_str(self.colouratoms(range(pos, pos+templen),True)))\n",
      "\n",
      "   def cancel(self,positions):\n",
      "      '''''Cancels a bunch of terms: input a list of positions'''''\n",
      "      MDPL(comp_str(self.colouratoms(positions)))\n",
      "      positions.sort()\n",
      "      positions.reverse()\n",
      "      for i in positions: del self.listofatoms[i]\n",
      "      self.fullshow()\n",
      "\n",
      "   def move(self,posini,posfin):\n",
      "      '''''Move atom at posini to posfin, pushing all others back'''''\n",
      "      MDPL(comp_str(self.colouratoms([posini])))\n",
      "      temp = self.listofatoms.pop(posini)\n",
      "      self.listofatoms.insert(posfin if posfin < posini else posfin-1, temp)\n",
      "      MDPL(comp_str(self.colouratoms([posfin if posfin < posini else posfin-1],True)))\n",
      "\n",
      "   def colouratoms(self,positions,labelled=False):\n",
      "      '''''Returns the list of atoms, but with selected terms coloured'''''\n",
      "      temp = list(self.listofatoms)\n",
      "      if labelled:\n",
      "         self.labelatoms()\n",
      "         temp = list(self.labeledatoms)\n",
      "      for i in positions: temp[i] = \"\\color{red}{\"+temp[i]+\"}\"\n",
      "      return temp\n",
      "\n",
      "   def labelatoms(self):\n",
      "      '''''Label atoms by adding underbraces'''''\n",
      "      self.labeledatoms = [ \"\\underbrace{\" + self.listofatoms[i] + \"}_{\" + str(i) + \"}\" for i in range(len(self.listofatoms)) ]\n",
      "\n",
      "   def fullshow(self):\n",
      "      '''''Shows the content whilst labeling positions'''''\n",
      "      self.labelatoms()\n",
      "      MDPL(comp_str(self.labeledatoms))"
     ],
     "language": "python",
     "metadata": {},
     "outputs": [],
     "prompt_number": 2
    },
    {
     "cell_type": "code",
     "collapsed": false,
     "input": [
      "pprint=MDPL\n",
      "#from IPython.core.display import display_latex as pprint\n",
      "\n",
      "pprint(\"\"\"\\begin{tabular}{ l | c || r }\n",
      "  1 & 2 & 3 \\\\\n",
      "  4 & 5 & 6 \\\\\n",
      "  7 & 8 & 9 \\\\\n",
      "\\end{tabular}\"\"\")"
     ],
     "language": "python",
     "metadata": {},
     "outputs": [
      {
       "latex": [
        "$$\begin{tabular}{ l | c || r }\n",
        "  1 & 2 & 3 \\\n",
        "  4 & 5 & 6 \\\n",
        "  7 & 8 & 9 \\\n",
        "\\end{tabular}$$"
       ],
       "output_type": "display_data",
       "text": [
        "<IPython.core.display.Math at 0x104384e90>"
       ]
      }
     ],
     "prompt_number": 3
    },
    {
     "cell_type": "code",
     "collapsed": false,
     "input": [
      "#(Extended) Euclid Algorithm\n",
      "#\n",
      "def Euclid(a,b,ans=0,pt=0,retA=0):\n",
      "    Temp=Euc([1,0,a],[0,1,b],[[['A1','A2','A3'],['B1','B2','B3']],[[1,0,a],[0,1,b]]])\n",
      "    T=Temp[0]\n",
      "    if ans:\n",
      "        print '\\n({0})({1})+({2})({3})={4}'.format(a,T[0],b,T[1],T[2])\n",
      "    if pt: \n",
      "        for x in Temp[1]: print '{0}\\t{1}\\t{2}\\t{3}\\t{4}\\t{5}'.format(x[0][0],x[0][1],x[0][2],x[1][0],x[1][1],x[1][2])\n",
      "        print\n",
      "    if retA:\n",
      "        return [a,T[0],b,T[1],T[2]]\n",
      "def Euc(a,b,s):\n",
      "    #Main recursive loop\n",
      "    if b[2]==0: return [b[0],b[1],a[2]],s\n",
      "    if b[2]==1: return b,s\n",
      "    else:\n",
      "        Q=a[2]/b[2]\n",
      "        t=[a[n]-Q*b[n] for n in range(3)]\n",
      "        a=b\n",
      "        b=t\n",
      "        return Euc(a,b,s+[[a,b]])\n",
      "def MI(a,b):\n",
      "    \"\"\"Returns the inverse of a mod b\"\"\"\n",
      "    temp = Euclid(a,b,ans=0,pt=0,retA=1)[1]\n",
      "    if temp<0:temp+=b\n",
      "    return temp"
     ],
     "language": "python",
     "metadata": {},
     "outputs": [],
     "prompt_number": 168
    },
    {
     "cell_type": "code",
     "collapsed": false,
     "input": [
      "#Example Runs\n",
      "Euclid(139,91,ans=1,pt=1,retA=1)\n",
      "#Euclid(4,9,pt=1)\n",
      "#Euclid(26,3)\n",
      "#Euclid(1000,800,pt=1)\n",
      "#Euclid(5423,76357,pt=1)"
     ],
     "language": "python",
     "metadata": {},
     "outputs": [
      {
       "output_type": "stream",
       "stream": "stdout",
       "text": [
        "\n",
        "(139)(-36)+(91)(55)=1\n",
        "A1\tA2\tA3\tB1\tB2\tB3\n",
        "1\t0\t139\t0\t1\t91\n",
        "0\t1\t91\t1\t-1\t48\n",
        "1\t-1\t48\t-1\t2\t43\n",
        "-1\t2\t43\t2\t-3\t5\n",
        "2\t-3\t5\t-17\t26\t3\n",
        "-17\t26\t3\t19\t-29\t2\n",
        "19\t-29\t2\t-36\t55\t1\n",
        "\n"
       ]
      },
      {
       "output_type": "pyout",
       "prompt_number": 5,
       "text": [
        "[139, -36, 91, 55, 1]"
       ]
      }
     ],
     "prompt_number": 5
    },
    {
     "cell_type": "code",
     "collapsed": false,
     "input": [
      "#Chinese Remainder Theorum\n",
      "#Done, but only has LaTeX visual output so far\n",
      "pprint=MDPL\n",
      "def CRT(A,ptable=0):\n",
      "    \"\"\"A is a list of lists such that [[a1,a2],[b1,b2],...] is equivalent to \n",
      "    x = a1 mod a2, x = b1 mod b2,... where a,b,... are integers\"\"\"\n",
      "    M=reduce(lambda x,y:x*y,[i[1] for i in A])\n",
      "    if ptable: pprint( 'M={0}'.format(M))\n",
      "    count=1;Ans=[];outS='';sumS=0\n",
      "    for i in A:\n",
      "        Ans=Ans+[[count,i[0],i[1],M/i[1],Euclid(M/i[1],i[1],retA=1)[1]%i[1]]]\n",
      "        #print 'a({0})={1} m({0})={2} M/M({0})={3} c({0})={4}'.format(Ans[count-1][0],Ans[count-1][1],Ans[count-1][2],Ans[count-1][3],Ans[count-1][4])\n",
      "        if ptable: pprint('a_{{{0}}}={1},\\ m_{{{0}}}={2},\\ \\\\frac{{M}}{{M_{{{0}}}}}={3},\\ c_{{{0}}}={4}'.format(Ans[count-1][0],Ans[count-1][1],Ans[count-1][2],Ans[count-1][3],Ans[count-1][4]))\n",
      "        outS=outS+'({0}*{1}*{2})+'.format(Ans[count-1][3],Ans[count-1][4],Ans[count-1][1])\n",
      "        sumS=sumS+(Ans[count-1][3]*Ans[count-1][4]*Ans[count-1][1])\n",
      "        count=count+1\n",
      "    if ptable: \n",
      "        pprint( outS[:-1] + ' = {0}'.format(sumS) )\n",
      "        pprint( '= {0}\\ mod\\ {1}'.format(sumS%M,M) )\n",
      "    return sumS%M\n",
      "#ChRem([[5,7],[7,11],[3,13]]);print\n",
      "CRT([[5,8],[3,5]],ptable=1);print\n",
      "#ChRem([[7,11],[9,7],[2,3],[1,2]])"
     ],
     "language": "python",
     "metadata": {},
     "outputs": [
      {
       "latex": [
        "$$M=40$$"
       ],
       "output_type": "display_data",
       "text": [
        "<IPython.core.display.Math at 0x104389e10>"
       ]
      },
      {
       "latex": [
        "$$a_{1}=5,\\ m_{1}=8,\\ \\frac{M}{M_{1}}=5,\\ c_{1}=5$$"
       ],
       "output_type": "display_data",
       "text": [
        "<IPython.core.display.Math at 0x1042a2590>"
       ]
      },
      {
       "latex": [
        "$$a_{2}=3,\\ m_{2}=5,\\ \\frac{M}{M_{2}}=8,\\ c_{2}=2$$"
       ],
       "output_type": "display_data",
       "text": [
        "<IPython.core.display.Math at 0x1042a2590>"
       ]
      },
      {
       "latex": [
        "$$(5*5*5)+(8*2*3) = 173$$"
       ],
       "output_type": "display_data",
       "text": [
        "<IPython.core.display.Math at 0x1042a2590>"
       ]
      },
      {
       "latex": [
        "$$= 13\\ mod\\ 40$$"
       ],
       "output_type": "display_data",
       "text": [
        "<IPython.core.display.Math at 0x1041a4b50>"
       ]
      },
      {
       "output_type": "stream",
       "stream": "stdout",
       "text": [
        "\n"
       ]
      }
     ],
     "prompt_number": 6
    },
    {
     "cell_type": "code",
     "collapsed": false,
     "input": [
      "#Basic Encryption/Decryption Algorithms\n",
      "from binascii import *        #Hex conversion\n",
      "from collections import deque #Queue\n",
      "from collections import defaultdict as dd #Dynamic Dictionary\n",
      "from string import Template   #Output formatting\n",
      "from heapq import heappush, heappop #Minheap\n",
      "import re\n",
      "\n",
      "def type2(a):\n",
      "    try:\n",
      "        b=type(a)\n",
      "    except:\n",
      "        b='NULL'\n",
      "    return b\n",
      "\n",
      "def remDups(seq):\n",
      "    seen = set()\n",
      "    seen_add = seen.add\n",
      "    return reduce(lambda x,y:x+y,[ x for x in seq if x not in seen and not seen_add(x)])\n",
      "\n",
      "class Cipher:\n",
      "    def __init__(self):\n",
      "        pass\n",
      "    def enc(self,s):\n",
      "        print \"No Encryption Algorithm Added\"\n",
      "    def dec(self,s):\n",
      "        print \"No Decryption Algorithm Added\"\n",
      "\n",
      "class MAS(Cipher):\n",
      "    \"\"\"Monoalphabetic (Affine) Substitution Cipher\"\"\"\n",
      "    def __init__(self,a,b):\n",
      "        self.a=a\n",
      "        self.b=b\n",
      "        self.an=Euclid(a,26,retA=1)[1]\n",
      "    def enc(self,s):\n",
      "        return reduce(lambda x,y:x+y,[chr(((ord(p)-97)*self.a+self.b)%26+97) if (ord(p)>=97 and ord(p)<=122) else p for p in s])\n",
      "    def dec(self,s):\n",
      "        return reduce(lambda x,y:x+y,[chr((((ord(p)-97)-self.b)*self.an)%26+97) if (ord(p)>=97 and ord(p)<=122) else p for p in s])\n",
      "    \n",
      "class PF(Cipher):\n",
      "    \"\"\"Playfair Cipher\"\"\"\n",
      "    def __init__(self,s):\n",
      "        Temp=remDups(s.replace('q','')+'abcdefghijklmnoprstuvwxyz')\n",
      "        Temp2=[]\n",
      "        for i in range(5):\n",
      "            Temp2=Temp2+[Temp[i*5:(i+1)*5]]\n",
      "        self.Table=Temp2\n",
      "    def printTable(self):\n",
      "        for i in self.Table:\n",
      "            print '{0}'.format(str(i))\n",
      "\n"
     ],
     "language": "python",
     "metadata": {},
     "outputs": [],
     "prompt_number": 7
    },
    {
     "cell_type": "markdown",
     "metadata": {},
     "source": [
      "#Primality Tests\n",
      "They become rare as numbers get bigger\n",
      "##Trial Division\n",
      "Requires $\\sqrt{n}$ test divisions\n",
      "\n",
      "For $1024$ bit prime, requires $2^{512}$ tests...\n",
      "##Fermat\n",
      "Remember: $\\gcd(a,p)=1 \\Rightarrow a^{p-1}\\equiv 1 \\mod p$\n",
      "\n",
      "Test it for a bunch of $a$ values\n",
      "\n",
      "If any are not equal to $1$, output COMPOSITE\n",
      "\n",
      "If all are equal to $1$, output (PROBABLY) PRIME\n",
      "##Carmichael\n",
      "Carmichael number  pass the Fermat test, but are composite. \n",
      "\n",
      "They become rare as numbers get bigger\n",
      "##Miller Rabin\n",
      "Very efficient, popular, effective\n",
      "\n",
      "Gives positive proof of composite\n",
      "\n",
      "Gives (adjustable) probability of primality\n",
      "\n",
      "Based on fact that in $\\mathbb{Z}_p$, $1$ only has $\\pm 1$ as\n",
      "    square roots\n",
      "\n",
      "Let $n$ be odd - testing for primality\n",
      "\n",
      "Write $n-1$ as $2^km$ where $m$ is odd\n",
      "\n",
      "Why? If $n$ is odd, $n=2x+1$, so $n-1=2x$.  Keep dividing until\n",
      "    $x$ is odd\n",
      "\n",
      "Important fact: \n",
      "\n",
      "Let $p$ be a prime $>2$\n",
      "\n",
      "Let $p-1 = 2^sr$ where $r$ is odd\n",
      "\n",
      "Let $a$ be any integer s.t. $\\gcd(a,p)=1$\n",
      "\n",
      "Then one of the following is true:\n",
      "\n",
      "$a^r\\equiv 1 \\mod p$\n",
      "\n",
      "$a^{2^jr}\\equiv -1 \\mod p$ for some $j$, ~~ $0\\leq j \\leq s-1$\n",
      "###Proof\n",
      "Fermat says that $a^{p-1}\\equiv 1 \\mod p$.  Since $p-1=2^sr$,\n",
      "  then $a^{2^sr}\\equiv 1 \\mod p$\n",
      "\n",
      "Consider sequence $a^r, a^{2r}, a^{2^2r}, \\dots, a^{2^{s-1}r},\n",
      "  a^{2^sr}$\n",
      "\n",
      "The last item is $\\equiv 1 \\mod p$ by Fermat.  Also, each item\n",
      "  in the sequence is the square of the previous\n",
      "\n",
      "We have two possibilities:\n",
      "\n",
      "$a^r\\equiv 1 \\mod p$ (and thus all subsequent are also $1$)\n",
      "\n",
      "Some number in the sequence is not $1$ but squares to $1$.\n",
      "  i.e. it is $-1 \\mod p \\equiv p-1 \\mod p$\n",
      "\n",
      "This suggests an algorithm for primality testing\n",
      "###Miller Rabin Primality Test\n",
      "Given $n$\n",
      "\n",
      "Find: $k,q,k>0, q$ odd such that $n-1=2^kq$\n",
      "\n",
      "Select random base $a$ between $1$ and $n-1$\n",
      "\n",
      "If $a^q \\equiv 1 \\mod n$ reteurn ``Probably Prime''\n",
      "\n",
      "For $j=0$ to $k-1$\n",
      "\n",
      "~~~~~~ If $a^{2^jq} \\equiv n-1 \\mod  n$ return ``Probably\n",
      "  Prime''\n",
      "\n",
      "Return ``Composite''\n",
      "\n",
      "If ``Composite'' returned, $n$ is definitely composite\n",
      "\n",
      "If $n$ is a prime, it will never return ``Composite''\n",
      "\n",
      "For composite $n$, MR will return ``Probably Prime'' with\n",
      "  probability $<\\frac{1}{4}$\n",
      "\n",
      "i.e. about $\\frac{1}{4}$ of the possibilities for $a$ are MR\n",
      "  liars\n",
      "\n",
      "Solution?  Run MR $t$ times.  Composite $n$ will get verdict of\n",
      "  ``Composite'' with probability $1-(\\frac{1}{4})^t$\n",
      "\n",
      "For more certainty, run it more iterations\n",
      "\n",
      "Used by OpenSSL\n",
      "\n",
      "Other tests include Solovay Strassen (uses number theory we\n",
      "  didn't cover).\n",
      "###Interesting Observation\n",
      "If composite $n$ and there are an intermediate pair of values\n",
      "  $b_i=a^{2^iq}, b_{i+1}=a^{2^{i+1}q}$\n",
      "such that $b_{i+1}\\equiv 1\n",
      "  \\mod n$ but $b_i \\not\\equiv \\pm 1 \\mod n$\n",
      "\n",
      "Then $\\gcd(b_i-1,n) = $ a nontrivial factor of $n$\n",
      "\n",
      "Remember square roots $\\mod n$? \n",
      "\n",
      "If $x^2\\equiv y^2 \\mod n$ but $x\\not\\equiv \\pm y\\mod n$ then\n",
      "  $\\gcd(x-y,n)$ is a nontrivial factor of $n$\n",
      "\n",
      "Recall: $x^2\\equiv y^2 \\mod n \\Rightarrow x^2-y^2\\equiv 0 \\mod n\n",
      "  \\Rightarrow (x+y)(x-y) \\equiv 0 \\mod n \\rightarrow n|(x+y)(x-y)$\n",
      "###Example\n",
      "$n=561$, $n-1 = 560 = 16*35 = 2^4*35$\n",
      "\n",
      "$a=2 , q=35, k=4$\n",
      "\n",
      "$2^{35} \\equiv 263 \\mod 561$\n",
      "\n",
      "$263^2 \\equiv 166 \\mod 561$\n",
      "\n",
      "$166^2 \\equiv 67  \\mod 561$\n",
      "\n",
      "$67^2  \\equiv 1   \\mod 561$\n",
      "\n",
      "$67^2 \\equiv 1^2 \\mod 561$\n",
      "\n",
      "$\\gcd(67-1, 561) = 33$  \n",
      "###Miller Rabin Primality Test Example\n",
      "$n=221, n-1 = 220 = 2^2*55$\n",
      "\n",
      "Randomly select $a=174$\n",
      "\n",
      "$174^{55} \\equiv 47 \\mod 221$\n",
      "\n",
      "$47^2    \\equiv 220 \\mod 221 \\equiv -1 \\mod 221$ - Probably\n",
      "  Prime!\n",
      "\n",
      "Randomly select $a=137$\n",
      "\n",
      "$137^{55} \\equiv 188 \\mod 221$\n",
      "\n",
      "$188^2   \\equiv 205 \\not\\equiv -1 \\mod 221$ - Composite!"
     ]
    },
    {
     "cell_type": "code",
     "collapsed": false,
     "input": [
      "#Primality Tests\n",
      "##Definition Block\n",
      "ppt=MDPL\n",
      "class PTest:\n",
      "    def __init__(self):\n",
      "        pass\n",
      "    def TryDiv(self,a):\n",
      "        return [(i,a/i) for i in range(2,int(a**.5)) if a%i==0]\n",
      "    def Fermat(self,a):\n",
      "        pass\n",
      "    def Carmic(self,a):\n",
      "        pass\n",
      "    def MilRab(self,a):\n",
      "        if a<=3: return 1\n",
      "        if a%2==0: return 0\n",
      "        q=(a-1)\n",
      "        k=0\n",
      "        while q%2==0:\n",
      "            q=(q)/2\n",
      "            k+=1\n",
      "        c=pow(2,q,a)\n",
      "        #ppt(\"{2}-1 = 2^{0} {1}\".format(k,q,a))\n",
      "        if q==1: return 1\n",
      "        while c!=1:\n",
      "            if c==a-1: return 1\n",
      "            c=pow(c,2,a)\n",
      "        return 0\n",
      "    def Univ(self,a):\n",
      "        pass"
     ],
     "language": "python",
     "metadata": {},
     "outputs": [],
     "prompt_number": 29
    },
    {
     "cell_type": "code",
     "collapsed": false,
     "input": [
      "#Primality Tests\n",
      "##Test Block\n",
      "TEST=PTest()\n",
      "print TEST.MilRab(257) , \"\\n\\n\\n\"\n",
      "Timer=0\n",
      "a=42\n",
      "for i in [[\"Trial Division\",TEST.TryDiv],[\"Fermat\",TEST.Fermat],[\"Carmichael\",TEST.Carmic],[\"Miller-Rabin\",TEST.MilRab],[\"Universal Exponent Factorization\",TEST.Univ]]:\n",
      "    print i[0]+\": \",i[1](a)\n",
      "    if Timer:\n",
      "        %timeit TEST.TryDiv(a)\n"
     ],
     "language": "python",
     "metadata": {},
     "outputs": [
      {
       "output_type": "stream",
       "stream": "stdout",
       "text": [
        "1 \n",
        "\n",
        "\n",
        "\n",
        "Trial Division:  [(2, 21), (3, 14)]\n",
        "Fermat:  None\n",
        "Carmichael:  None\n",
        "Miller-Rabin:  0\n",
        "Universal Exponent Factorization:  None\n"
       ]
      }
     ],
     "prompt_number": 30
    },
    {
     "cell_type": "markdown",
     "metadata": {},
     "source": [
      "#Factorization\n",
      "##Trial Division\n",
      "Trial Division - try all primes $<\\sqrt{n}$ - SLOW!\n",
      "##Fermat Factorization\n",
      "Express $n$ as a difference of squares\n",
      "\n",
      "$n=x^2-y^2 = (x+y)(x-y) \\Rightarrow x+y$ is a factor, $x-y$ is a\n",
      "  factor\n",
      "\n",
      "Example: factor $n=295927$\n",
      "\n",
      "Compute $n+1^2, n+2^2, n+3^2, \\dots$ until we find a square\n",
      "\n",
      "In this case, $295927+3^2 = 295936 = 544^2$\n",
      "\n",
      "Thus  $n = (544-3)(544+3) = 541*547$\n",
      "\n",
      "Example: Factor $n=56$\n",
      "\n",
      "$n+1^2 = 57$\n",
      "\n",
      "$n+2^2=60$\n",
      "\n",
      "$n+3^3 = 65$\n",
      "\n",
      "$n+4^2 = 72$\n",
      "\n",
      "$n+5^2 = 81 = 9^2$\n",
      "\n",
      "$56=(9+5)(9-5)$\n",
      "\n",
      "Works very well for $n=pq$ when $p$ and $q$ are very close to\n",
      "  each other\n",
      "\n",
      "Security: In RSA pick $p$ and $q$ of slightly different sizes\n",
      "  ($p$ of 513 bits and $q$ of 511 bits) - whats the complexity to factor?\n",
      "##Pollard $p-1$\n",
      "Works when $p-1$ has only small prime factors\n",
      "\n",
      "Find prime factors $p$ of $n$ when $p-1$ is $B$-smooth (i.e. all\n",
      "  prime factors are $<B$)\n",
      "\n",
      "Lots of variances in descriptions/explanantions\n",
      "\n",
      "Basic Idea: If $p|n$ then $a^{K(p-1)}\\equiv 1 \\mod p$ (if\n",
      "  $\\gcd(a,n)=1$).\n",
      "\n",
      "If $x\\equiv 1 \\mod p$ then $\\gcd(x-1,n)=d$ is a factor of $n$\n",
      "\n",
      "Why? $x-1\\equiv 0 \\mod p$, so $x-1$ is a multiple of $p$\n",
      "\n",
      "Intuition: Compute $a^Q$ where $Q$ is a multiple of $p-1$\n",
      "\n",
      "If $p-1$ is $B$-smooth, make it a product of powers of all small\n",
      "  primes $< B$\n",
      "\\[ Q = \\prod_{\\text{primes~} q<B} q^{\\log_q n} \\]\n",
      "\n",
      "Select a random $a$, ~ $2\\leq a\\leq n-1$ where $\\gcd(a,n)=1$\n",
      "\n",
      "What to do if $\\gcd(a,n) \\neq 1$?  \n",
      "\n",
      "Compute $gcd(a^Q-1,n)=d$.  If $d>1$ yay!\n",
      "\n",
      "Else, increase $B$, add to $Q$ and retry\n",
      "\n",
      "Repeat until you factor, or until you get bored and give up\n",
      "\n",
      "Strong Primes! $n$ should be product of strong primes:\n",
      "\n",
      "$p$ is large\n",
      "\n",
      "$p-1$ has large factors: $p=a_1q_1+1$ for some integer $a_1$ and\n",
      "  a large prime $q_1$\n",
      "\n",
      "$q_1$ has large prime factors: $q_1=a_2q_2+1$ for some integer\n",
      "  $a_2$ and large prime $q_2$\n",
      "\n",
      "$p+1$ has large prime factors: $p=a_3q_3-1$ for some integer\n",
      "  $a_3$ and large prime $q_3$\n",
      "\n",
      "Caveat: strong prime do not protect against new, faster\n",
      "  factorization methods, so often strong prime rules are not\n",
      "  enforced. (Large size is most important)\n",
      "##Quadratic Sieve\n",
      "Basis for modern factorization methods:\n",
      "\n",
      "If $x^2\\equiv y^2 \\mod n$ and $x \\not\\equiv \\pm y\\mod n$\n",
      "  then $n$ is composite and $\\gcd(x-y,n)=d$ is a non-trivial factor of\n",
      "  $n$\n",
      "\n",
      "Motivating example: $n=3837523$\n",
      "\n",
      "Observe:\n",
      "\n",
      "$ 9398^2 \\equiv 5^5*19 \\mod n\\\\ $\n",
      "\n",
      "$ 19095^2 \\equiv 2^2*5*11*13*19 \\mod n\\\\ $\n",
      "\n",
      "$ 1964^2 \\equiv 3^2*13^3 \\mod n\\\\ $\n",
      "\n",
      "$ 17078^2 \\equiv 2^6*3^2*11 \\mod n $\n",
      "\n",
      "Multiply all together\n",
      "\n",
      "$ \\[9398*19095*1964*17078 \\equiv (2^4*3^2*5^3*11*13^2*19)^2 \\mod n\\] $\n",
      "\n",
      "$ \\[2230387^2 \\equiv 2586705^2 \\mod n\\] $\n",
      "\n",
      "Can factor by taking $\\gcd(2586705-2230387, 3837523) = 1093$\n",
      "###What Did We Just Do?\n",
      "Took a bunch of numbers that, when squared, were relatively\n",
      "  small when reduced $\\mod n$ and thus can be written as a product of\n",
      "  small primes\n",
      "\n",
      "Need to multiply together to get even powers of our small primes\n",
      "  (called factor base)\n",
      "\n",
      "Selecting factor base requires material we skipped...\n",
      "###How To Do?\n",
      " This Is The Quadratic Sieve Part\n",
      "\n",
      "Generate numbers of the form $\\lceil \\sqrt{in}+j \\rceil$ for\n",
      "  small $j$ and various $i$\n",
      "\n",
      "When squared, $in+2j\\sqrt{in}+j^2 \\equiv 2j\\sqrt{in}+j^2 \\mod n$\n",
      "\n",
      "For small $i,j$, this number is small and likely to be the\n",
      "  product of small primes\n",
      "\n",
      "Factor this small number using trial division and factor base\n",
      "\n",
      "Interpret prime powers as rows in a matrix\n",
      "\n",
      "$2^2 * 3 * 5^3 \\Rightarrow (2,0,3) = (0,0,1) \\mod 2$\n",
      "\n",
      "Generate several lines and look for lines that add up to all\n",
      "  zeros (Linear Algebra stuff)\n",
      "\n",
      "If $x^2\\equiv y^2\\ mod\\ n$ and $x\\equiv \u00b1y\\ mod\\ n$ then n is composite and $gcd(x-y,n)=d$ is a non-trivial factor of n"
     ]
    },
    {
     "cell_type": "code",
     "collapsed": false,
     "input": [
      "#Factorization\n",
      "class Factorizer:\n",
      "    def __init__(self):\n",
      "        pass\n",
      "    def TryDiv(self,a):\n",
      "        return [(i,a/i) for i in range(2,int(a**.5)) if a%i==0]\n",
      "    def Fermat(self,a):\n",
      "        ret=[]\n",
      "        for i in range(1,100):\n",
      "            temp=(a+i**2)**.5\n",
      "            if temp==int(temp):\n",
      "                temp=int(temp)\n",
      "                ret+=[[temp+i,temp-i]]\n",
      "        return ret\n",
      "    def Pollard(self,a):\n",
      "        pass\n",
      "    def QuadSieve(self,a):\n",
      "        pass"
     ],
     "language": "python",
     "metadata": {},
     "outputs": [],
     "prompt_number": 10
    },
    {
     "cell_type": "code",
     "collapsed": false,
     "input": [
      "#Factorization Tests\n",
      "##Test Block\n",
      "TEST=Factorizer()\n",
      "Timer=0\n",
      "a=56\n",
      "for i in [[\"Trial Division\",TEST.TryDiv],[\"Fermat\",TEST.Fermat],[\"Pollard p-1\",TEST.Pollard],[\"Quadratic Sieve\",TEST.QuadSieve]]:\n",
      "    print i[0]+\": \",i[1](a)\n",
      "    if Timer:\n",
      "        %timeit TEST.TryDiv(a)\n"
     ],
     "language": "python",
     "metadata": {},
     "outputs": [
      {
       "output_type": "stream",
       "stream": "stdout",
       "text": [
        "Trial Division:  [(2, 28), (4, 14)]\n",
        "Fermat:  [[14, 4], [28, 2]]\n",
        "Pollard p-1:  None\n",
        "Quadratic Sieve:  None\n"
       ]
      }
     ],
     "prompt_number": 11
    },
    {
     "cell_type": "markdown",
     "metadata": {},
     "source": [
      "#Discrete Logarithms\n",
      "##Intro\n",
      "One more major topic related to public key\n",
      "\n",
      "A Number Theory reference problem - Discrete Logarithms\n",
      "\n",
      "Given prime $p$, $\\alpha, \\beta$ non zero integers in\n",
      "  $\\mathbb{Z}_p^*$ where $\\beta \\equiv \\alpha^x \\mod p$\n",
      "\n",
      "Find $x$  (Book notation: $x=L_{\\alpha}(\\beta)$\n",
      "\n",
      "e.g. $p=11, \\alpha = 2, \\beta = 9$, then $x=6$ since $2^6 \\equiv\n",
      "  9 \\mod 11$, or $L_2(9)=6$\n",
      "\n",
      "In crypto protocols, usually $\\alpha$ is a primitive root (or\n",
      "  generator) $g$\n",
      "\n",
      "This makes $L_g(\\beta)$ defined for all $\\beta \\in\n",
      "  \\mathbb{Z}_p^*$\n",
      "\n",
      "Believed to be hard (about as hard as factoring)\n",
      "\n",
      "How to compute?\n",
      "\n",
      "My notation for DLP: $y=g^x \\mod p$\n",
      "##$x \\mod 2$\n",
      "Its easy to determine $x \\mod 2$ (even/odd)\n",
      "\n",
      "Note: $(g^{\\frac{p-1}{2}})^2 \\equiv g^{p-1} \\equiv 1 \\mod p$\n",
      "\n",
      "So $g^{\\frac{p-1}{2}} \\equiv \\pm 1 \\mod p$\n",
      "\n",
      "Since $p$ prime, no other exponent less than $p-1$ results in $1$, so $g^{\\frac{p-1}{2}} \\not\\equiv 1 \\mod p$\n",
      "\n",
      "So $g^{\\frac{p-1}{2}} \\equiv -1 \\mod p$\n",
      "\n",
      "So $y^{\\frac{p-1}{2}} \\equiv (g^x)^{\\frac{p-1}{2}} \\equiv (g^{\\frac{p-1}{2}})^x \\equiv -1^x \\mod p$\n",
      "\n",
      "So if $y^{\\frac{p-1}{2}} \\equiv 1 \\mod p$ then $x$ is even ($x \\equiv 0 \\mod 2$)\n",
      "\n",
      "If $y^{\\frac{p-1}{2}} \\equiv -1 \\mod p$ then $x$ is odd ($x \\equiv 1 \\mod 2$)\n",
      "###Example\n",
      "$2^x \\equiv 9 \\mod 11$\n",
      "\n",
      "$9^{\\frac{11-1}{2}} \\equiv 9^5 \\equiv 1 \\mod 11 \\Rightarrow x$\n",
      "  is even\n",
      "\n",
      "Recall: $x=6$\n",
      "##Pohlig Hellman\n",
      "Extend that idea to get a way to compute DL when $p-1$ only has small factors.\n",
      "\n",
      "Suppose $p-1 = \\prod_i q_i^{r_i}$ where each $q_i$ is a prime\n",
      "\n",
      "Compute $L_g(y) \\mod q_i^{r_i}$ for all $i$ and recombine with CRT!\n",
      "\n",
      "How to solve $L_g(y) \\mod q^r$?\n",
      "\n",
      "Write $x=x_0 + x_1q + x_2q^2 + \\dots + x_{r-1}q^{r-1}$ with each $0 \\leq x_i \\leq q-1$\n",
      "\n",
      "i.e. write $x$ in base $q$\n",
      "\n",
      "Determine each $x_i$ successively to get $x\\mod q^r$\n",
      "\n",
      "Note that $x(\\frac{p-1}{q}) = x_0(\\frac{p-1}{q}) + (p-1)(x_1+x_2q+\\dots x_{r-1}q^{r-2}) = x_0(\\frac{p-1}{q}) + (p-1)n$ for some $n \\in \\mathbb{Z}$\n",
      "\n",
      "Since $y\\equiv g^x \\mod p$ then \n",
      "\n",
      "$ \\[y^{\\frac{p-1}{q}} \\equiv g^{(x_0\\frac{p-1}{q})}\\underbrace{g^{n(p-1)} \\equiv g^{x_0(\\frac{p-1}{q})}}_{\\text{By Fermat}} \\mod p  \\] $\n",
      "\n",
      "Find $x_0$ by looking at $g^{k\\frac{p-1}{q}} \\mod p$ for $k=0$\n",
      "\n",
      "  to $q-1$ until one matches $y^{\\frac{p-1}{q}}$\n",
      "\n",
      "##Running Example"
     ]
    },
    {
     "cell_type": "code",
     "collapsed": false,
     "input": [
      "#Pohlig Hellman Discrete Log\n",
      "#Source: http://www-math.ucdenver.edu/~wcherowi/courses/m5410/phexam.html\n",
      "from sympy import factorint as fc\n",
      "ppt=MDPL\n",
      "def DLog(g,p,y,ShowWork=0):\n",
      "    \"\"\"Prompt for a generator g, prime p, and y=g^x value.\n",
      "    Essentially finds x\n",
      "    Compute x using the Pohlig Hellman algorithm.\"\"\"\n",
      "    pf=fc(p-1) #Factor p-1\n",
      "    if ShowWork: \n",
      "        ppt(\"Pollig-Hellman\\ Discrete\\ Log\\ Example\")\n",
      "        ppt(\"Given\\ p={0},g={1},\\ and\\ y={2}\\ such\\ that\\ {1}^x\\equiv {2}\\mod {0} \\equiv {3}\\mod {0},\\ find\\ x:\".format(p,g,y,y%p))\n",
      "        ppt(\"$p-1={0}-1={1}$\".format(p,\"\".join([str(i[0])+\"^\"+str(i[1])+\" * \" for i in pf.iteritems()]))[:-3])\n",
      "        ppt(\"Now\\ we\\ need\\ to\\ find\\ a\\ congruency\\ for\\ each\\ factor:\")\n",
      "    x=[]\n",
      "    for i in pf.iteritems(): #For each factor\n",
      "        q=i[0] #Factor\n",
      "        r=i[1] #Power\n",
      "        if ShowWork: \n",
      "            print\n",
      "            ppt(\"Find\\ x_{{{0}}} \\mod {1}\\ [x_{{{0}}}={2}]:\".format(q,q**r,\"\".join([\"c_{{{0}}}*({{{1}}})+\".format(ii,q**ii) for ii in range(r)])[:-1]))\n",
      "        yy=y #Initially set base to y for each factor\n",
      "        NewCLast=dict((pow(g,ii*(p-1)/q,p),ii%q) for ii in range(1,q+1)) #Dictionary of possible values for c_? to hit\n",
      "        if ShowWork: ppt(\"y^{{ k \\\\frac{{p-1}}{{q^{{c_0}}}} }}\\ must\\ be\\ one\\ of\\ these:\\ {0}\".format(\"\".join([\"{2}^{{{0}}} \\equiv {1},\\ \".format(NewCLast[ii],ii,g) for ii in NewCLast.keys()])[:-3] ) )\n",
      "        xTemp=0 #Using cumulative sum for finding each c_?\n",
      "        for k in range(r): #For each c_?\n",
      "            for j in range(1,q+1): #Try values until temp is in the NewCLast dictionary\n",
      "                j=j%q #Since it would normally start with 0, making 0 last by wrapping with mod\n",
      "                trypow=j*(p-1)/(q**(k+1)) #Generate power to raise yy by\n",
      "                temp=pow(yy,trypow,p) \n",
      "                if temp in NewCLast.keys():\n",
      "                    j=NewCLast[temp] #Find the power of yy that makes temp\n",
      "                    xTemp+=(q**k)*j #Add the cumulating sum for x\n",
      "                    if ShowWork: ppt(\"$ y^{{ k \\\\frac{{p-1}}{{q^{{{9}}}}} }} \\equiv {0}^{{ {7} \\\\frac{{{1}}}{{{2}}} }} \\equiv {0}^{{{3}}} \\equiv {4} \\mod {6},\\ so\\ c_{{{8}}} = {7} $\".format(yy,p-1,q**(k+1),trypow,temp,temp-p,p,j,k,k+1))\n",
      "                    #cLast=[j]\n",
      "                    if k<r-1: #Skip division if unneccessary\n",
      "                        if ShowWork: ppt(\"We found\\ c_{{{1}}},\\ so\\ divide\\ {0}\\ by\\ {3}^{{{2}*c_{{{1}}} }}\\ ({3}^{{ -{5}*{4} }} \\equiv {6})\".format(yy,k,q**k,g,j,q**k, (MI(g,p)**(q**j))%p ) )\n",
      "                        yy=( yy*MI(g,p)**( q**(k)*(j) ) )%p\n",
      "                    break\n",
      "        if ShowWork: ppt(\"So,\\ x_{{{0}}}={1} \\mod {2}\".format(q,xTemp,q**r))\n",
      "        x+=[[xTemp,q**r]] #Add equivalence to list for CRT\n",
      "    if ShowWork: \n",
      "        print\n",
      "        ppt(\"Now\\ use\\ the\\ Chinese\\ Remainder\\ Theorum:\")\n",
      "    return CRT(x,ptable=ShowWork)\n"
     ],
     "language": "python",
     "metadata": {},
     "outputs": [],
     "prompt_number": 434
    },
    {
     "cell_type": "code",
     "collapsed": false,
     "input": [
      "#Pohlig Hellman\n",
      "#Test Block\n",
      "#g is a\n",
      "#p is p\n",
      "#y is a^x\n",
      "#DLog(g,p,y) \n",
      "DLog(6,8101,7531,1)#(7,41,12)"
     ],
     "language": "python",
     "metadata": {},
     "outputs": [
      {
       "latex": [
        "$$Pollig-Hellman\\ Discrete\\ Log\\ Example$$"
       ],
       "output_type": "display_data",
       "text": [
        "<IPython.core.display.Math at 0x104dfa0d0>"
       ]
      },
      {
       "latex": [
        "$$Given\\ p=8101,g=6,\\ and\\ y=7531\\ such\\ that\\ 6^x\\equiv 7531\\mod 8101 \\equiv 7531\\mod 8101,\\ find\\ x:$$"
       ],
       "output_type": "display_data",
       "text": [
        "<IPython.core.display.Math at 0x104d80390>"
       ]
      },
      {
       "latex": [
        "$$p-1=8101-1=2^2 * 3^4 * 5^2 $$"
       ],
       "output_type": "display_data",
       "text": [
        "<IPython.core.display.Math at 0x104d80390>"
       ]
      },
      {
       "latex": [
        "$$Now\\ we\\ need\\ to\\ find\\ a\\ congruency\\ for\\ each\\ factor:$$"
       ],
       "output_type": "display_data",
       "text": [
        "<IPython.core.display.Math at 0x104d80390>"
       ]
      },
      {
       "output_type": "stream",
       "stream": "stdout",
       "text": [
        "\n"
       ]
      },
      {
       "latex": [
        "$$Find\\ x_{2} \\mod 4\\ [x_{2}=c_{0}*({1})+c_{1}*({2})]:$$"
       ],
       "output_type": "display_data",
       "text": [
        "<IPython.core.display.Math at 0x104dfdf50>"
       ]
      },
      {
       "latex": [
        "$$y^{ k \\frac{p-1}{q^{c_0}} }\\ must\\ be\\ one\\ of\\ these:\\ 6^{0} \\equiv 1,\\ 6^{1} \\equiv 8100$$"
       ],
       "output_type": "display_data",
       "text": [
        "<IPython.core.display.Math at 0x104da77d0>"
       ]
      },
      {
       "latex": [
        "$$ y^{ k \\frac{p-1}{q^{1}} } \\equiv 7531^{ 1 \\frac{8100}{2} } \\equiv 7531^{4050} \\equiv 8100 \\mod 8101,\\ so\\ c_{0} = 1 $$"
       ],
       "output_type": "display_data",
       "text": [
        "<IPython.core.display.Math at 0x104dfdf50>"
       ]
      },
      {
       "latex": [
        "$$We found\\ c_{0},\\ so\\ divide\\ 7531\\ by\\ 6^{1*c_{0} }\\ (6^{ -1*1 } \\equiv 7876)$$"
       ],
       "output_type": "display_data",
       "text": [
        "<IPython.core.display.Math at 0x104dfdf50>"
       ]
      },
      {
       "latex": [
        "$$ y^{ k \\frac{p-1}{q^{2}} } \\equiv 8006^{ 0 \\frac{8100}{4} } \\equiv 8006^{2025} \\equiv 1 \\mod 8101,\\ so\\ c_{1} = 0 $$"
       ],
       "output_type": "display_data",
       "text": [
        "<IPython.core.display.Math at 0x104dfdf50>"
       ]
      },
      {
       "latex": [
        "$$So,\\ x_{2}=1 \\mod 4$$"
       ],
       "output_type": "display_data",
       "text": [
        "<IPython.core.display.Math at 0x104d35b10>"
       ]
      },
      {
       "output_type": "stream",
       "stream": "stdout",
       "text": [
        "\n"
       ]
      },
      {
       "latex": [
        "$$Find\\ x_{3} \\mod 81\\ [x_{3}=c_{0}*({1})+c_{1}*({3})+c_{2}*({9})+c_{3}*({27})]:$$"
       ],
       "output_type": "display_data",
       "text": [
        "<IPython.core.display.Math at 0x104d35b10>"
       ]
      },
      {
       "latex": [
        "$$y^{ k \\frac{p-1}{q^{c_0}} }\\ must\\ be\\ one\\ of\\ these:\\ 6^{2} \\equiv 2217,\\ 6^{1} \\equiv 5883,\\ 6^{0} \\equiv 1$$"
       ],
       "output_type": "display_data",
       "text": [
        "<IPython.core.display.Math at 0x104dfdf50>"
       ]
      },
      {
       "latex": [
        "$$ y^{ k \\frac{p-1}{q^{1}} } \\equiv 7531^{ 2 \\frac{8100}{3} } \\equiv 7531^{2700} \\equiv 2217 \\mod 8101,\\ so\\ c_{0} = 2 $$"
       ],
       "output_type": "display_data",
       "text": [
        "<IPython.core.display.Math at 0x104d35b10>"
       ]
      },
      {
       "latex": [
        "$$We found\\ c_{0},\\ so\\ divide\\ 7531\\ by\\ 6^{1*c_{0} }\\ (6^{ -1*2 } \\equiv 2960)$$"
       ],
       "output_type": "display_data",
       "text": [
        "<IPython.core.display.Math at 0x104d35b10>"
       ]
      },
      {
       "latex": [
        "$$ y^{ k \\frac{p-1}{q^{2}} } \\equiv 6735^{ 0 \\frac{8100}{9} } \\equiv 6735^{900} \\equiv 1 \\mod 8101,\\ so\\ c_{1} = 0 $$"
       ],
       "output_type": "display_data",
       "text": [
        "<IPython.core.display.Math at 0x104d35b10>"
       ]
      },
      {
       "latex": [
        "$$We found\\ c_{1},\\ so\\ divide\\ 6735\\ by\\ 6^{3*c_{1} }\\ (6^{ -3*0 } \\equiv 6751)$$"
       ],
       "output_type": "display_data",
       "text": [
        "<IPython.core.display.Math at 0x104d35b10>"
       ]
      },
      {
       "latex": [
        "$$ y^{ k \\frac{p-1}{q^{3}} } \\equiv 6735^{ 2 \\frac{8100}{27} } \\equiv 6735^{300} \\equiv 2217 \\mod 8101,\\ so\\ c_{2} = 2 $$"
       ],
       "output_type": "display_data",
       "text": [
        "<IPython.core.display.Math at 0x104d35b10>"
       ]
      },
      {
       "latex": [
        "$$We found\\ c_{2},\\ so\\ divide\\ 6735\\ by\\ 6^{9*c_{2} }\\ (6^{ -9*2 } \\equiv 2960)$$"
       ],
       "output_type": "display_data",
       "text": [
        "<IPython.core.display.Math at 0x104d35b10>"
       ]
      },
      {
       "latex": [
        "$$ y^{ k \\frac{p-1}{q^{4}} } \\equiv 6992^{ 1 \\frac{8100}{81} } \\equiv 6992^{100} \\equiv 5883 \\mod 8101,\\ so\\ c_{3} = 1 $$"
       ],
       "output_type": "display_data",
       "text": [
        "<IPython.core.display.Math at 0x104d35b10>"
       ]
      },
      {
       "latex": [
        "$$So,\\ x_{3}=47 \\mod 81$$"
       ],
       "output_type": "display_data",
       "text": [
        "<IPython.core.display.Math at 0x104da77d0>"
       ]
      },
      {
       "output_type": "stream",
       "stream": "stdout",
       "text": [
        "\n"
       ]
      },
      {
       "latex": [
        "$$Find\\ x_{5} \\mod 25\\ [x_{5}=c_{0}*({1})+c_{1}*({5})]:$$"
       ],
       "output_type": "display_data",
       "text": [
        "<IPython.core.display.Math at 0x104d35b10>"
       ]
      },
      {
       "latex": [
        "$$y^{ k \\frac{p-1}{q^{c_0}} }\\ must\\ be\\ one\\ of\\ these:\\ 6^{0} \\equiv 1,\\ 6^{1} \\equiv 3547,\\ 6^{2} \\equiv 356,\\ 6^{3} \\equiv 7077,\\ 6^{4} \\equiv 5221$$"
       ],
       "output_type": "display_data",
       "text": [
        "<IPython.core.display.Math at 0x104da77d0>"
       ]
      },
      {
       "latex": [
        "$$ y^{ k \\frac{p-1}{q^{1}} } \\equiv 7531^{ 4 \\frac{8100}{5} } \\equiv 7531^{1620} \\equiv 5221 \\mod 8101,\\ so\\ c_{0} = 4 $$"
       ],
       "output_type": "display_data",
       "text": [
        "<IPython.core.display.Math at 0x104dfdf50>"
       ]
      },
      {
       "latex": [
        "$$We found\\ c_{0},\\ so\\ divide\\ 7531\\ by\\ 6^{1*c_{0} }\\ (6^{ -1*4 } \\equiv 1124)$$"
       ],
       "output_type": "display_data",
       "text": [
        "<IPython.core.display.Math at 0x104d35b10>"
       ]
      },
      {
       "latex": [
        "$$ y^{ k \\frac{p-1}{q^{2}} } \\equiv 7613^{ 2 \\frac{8100}{25} } \\equiv 7613^{324} \\equiv 356 \\mod 8101,\\ so\\ c_{1} = 2 $$"
       ],
       "output_type": "display_data",
       "text": [
        "<IPython.core.display.Math at 0x104d35b10>"
       ]
      },
      {
       "latex": [
        "$$So,\\ x_{5}=14 \\mod 25$$"
       ],
       "output_type": "display_data",
       "text": [
        "<IPython.core.display.Math at 0x104d80390>"
       ]
      },
      {
       "output_type": "stream",
       "stream": "stdout",
       "text": [
        "\n"
       ]
      },
      {
       "latex": [
        "$$Now\\ use\\ the\\ Chinese\\ Remainder\\ Theorum:$$"
       ],
       "output_type": "display_data",
       "text": [
        "<IPython.core.display.Math at 0x104d80390>"
       ]
      },
      {
       "latex": [
        "$$M=8100$$"
       ],
       "output_type": "display_data",
       "text": [
        "<IPython.core.display.Math at 0x104d80390>"
       ]
      },
      {
       "latex": [
        "$$a_{1}=1,\\ m_{1}=4,\\ \\frac{M}{M_{1}}=2025,\\ c_{1}=1$$"
       ],
       "output_type": "display_data",
       "text": [
        "<IPython.core.display.Math at 0x104d35b10>"
       ]
      },
      {
       "latex": [
        "$$a_{2}=47,\\ m_{2}=81,\\ \\frac{M}{M_{2}}=100,\\ c_{2}=64$$"
       ],
       "output_type": "display_data",
       "text": [
        "<IPython.core.display.Math at 0x104d35b10>"
       ]
      },
      {
       "latex": [
        "$$a_{3}=14,\\ m_{3}=25,\\ \\frac{M}{M_{3}}=324,\\ c_{3}=24$$"
       ],
       "output_type": "display_data",
       "text": [
        "<IPython.core.display.Math at 0x104da77d0>"
       ]
      },
      {
       "latex": [
        "$$(2025*1*1)+(100*64*47)+(324*24*14) = 411689$$"
       ],
       "output_type": "display_data",
       "text": [
        "<IPython.core.display.Math at 0x104d80390>"
       ]
      },
      {
       "latex": [
        "$$= 6689\\ mod\\ 8100$$"
       ],
       "output_type": "display_data",
       "text": [
        "<IPython.core.display.Math at 0x104d35b10>"
       ]
      },
      {
       "output_type": "pyout",
       "prompt_number": 435,
       "text": [
        "6689"
       ]
      }
     ],
     "prompt_number": 435
    },
    {
     "cell_type": "markdown",
     "metadata": {},
     "source": [
      "#Project 3\n",
      "For this assignment you will develop a number theory/public key encryption toolkit that implements several of the functions that we have discussed. You will need to provide an interface that allows me to choose which function to run and input the relevant parameters. The interface can be as simple or as complex as you like (from text based to GUI). It just needs to let me test your functions. You may use either any language. The programs should support arbitrarily large numbers so you will need to make use of appropriate libraries (e.g. gmp for C++ [hHp://gmplib.org/], or the BigInteger class in Java). Many of the functions that I ask you to write are provided already by the respective libraries, you may not use them, but rather you should implement them yourselves. You are of course free to use the low-level functions (add, mod, etc). The functions to be implemented are listed below. For each the user should be able to input the appropriate parameters.\n",
      "\n",
      "1. isProbablyPrime \u2013 allow the user to input a number and run the miller rabin test. Should ask for a number of repetitions.\n",
      "\n",
      "2. getProbablePrime \u2013 allow the user to input a bit length and number of repetitions and your program should generate a random number of appropriate bit length that is probably prime (using your function 1).\n",
      "\n",
      "3. Gcd \u2013 allow user to input two numbers and your program will implement the Euclidean algorithm to find the gcd.\n",
      "\n",
      "4. Multiplicative inverse \u2013 your program will allow the user to input a number and a modulus and it will implement the extended Euclidean algorithm to find the multiplicative inverse for the modulus.\n",
      "\n",
      "5. Generate RSA key pair \u2013 generate large (probable) primes p and q, and appropriate e and d and print them to the screen. It would be helpful to allow interaction with a file (put the public key information into one file and private key information into another file for input into later functions).\n",
      "\n",
      "6. RSA encrypt \u2013 prompt for a message and public key information (file I/O for faster input of large key) and should encrypt using underlying fast exponention from the respective libraries\n",
      "\n",
      "7. RSA decrypt \u2013 prompt for ciphertext and private key info and should decrypt using underlying exponentiation library functions. Print the decrypted message to the screen.\n",
      "\n",
      "8. Pohlig Hellman Discrete Logarithm \u2013 prompt for a generator g, prime p, and y=$g^x$ value, compute x using the Pohlig Hellman algorithm.\n",
      "\n",
      "Extra Credit: (10 points) Implement CRT speedup for RSA decryption"
     ]
    },
    {
     "cell_type": "code",
     "collapsed": false,
     "input": [
      "#P3\n",
      "def isProbablyPrime(a,b):\n",
      "    \"\"\"Uses Miller-Rabin to return if a is prime using b repititions\"\"\"\n",
      "    pass\n",
      "def getProbablePrime():\n",
      "    \"\"\"Return a prime of bit length a using b repititions of Miller-Rabin\"\"\"\n",
      "    pass\n",
      "def Gcd(a,b):\n",
      "    \"\"\"Returns gcd of integers a and b\"\"\"\n",
      "    return Euclid(a,b,ans=0,pt=0,retA=1)[4]\n",
      "def MultiplicativeInverse(a,b):\n",
      "    \"\"\"Returns the inverse of a mod b\"\"\"\n",
      "    temp = Euclid(a,b,ans=0,pt=0,retA=1)[1]\n",
      "    if temp<0:temp+=b\n",
      "    return temp\n",
      "def GenerateRSAKeyPair():\n",
      "    \"\"\"generate large (probable) primes p and q,\n",
      "    and appropriate e and d and print them to the screen.\n",
      "    It would be helpful to allow interaction with a file\n",
      "    (put the public key information into one file and\n",
      "    private key information into another file for input\n",
      "    into later functions).\"\"\"\n",
      "    pass\n",
      "def RSAEncrypt():\n",
      "    pass\n",
      "def RSADecrypt():\n",
      "    pass\n",
      "def PohligHellmanDiscreteLogarithm(g,p,y):\n",
      "    \"\"\"Prompt for a generator g, prime p, and y=g^x value.\n",
      "    Essentially finds x\n",
      "    Compute x using the Pohlig Hellman algorithm.\"\"\"\n",
      "    return DLog(g,p,y)\n",
      "    \n"
     ],
     "language": "python",
     "metadata": {},
     "outputs": [],
     "prompt_number": 430
    },
    {
     "cell_type": "code",
     "collapsed": false,
     "input": [
      "#P3\n",
      "#Test Block\n",
      "print \"Gcd (5,89)\\n\",Gcd(5,89)\n",
      "print \"Multiplicative Inverse (5,89)\\n\",MultiplicativeInverse(5,89)\n",
      "\n",
      "print \"Pohlig-Hellman Discrete Logarithm (6,8101,7531)\\n\",PohligHellmanDiscreteLogarithm(6,8101,7531)"
     ],
     "language": "python",
     "metadata": {},
     "outputs": [
      {
       "output_type": "stream",
       "stream": "stdout",
       "text": [
        "Gcd (5,89)\n",
        "1\n",
        "Multiplicative Inverse (5,89)\n",
        "18\n",
        "Pohlig-Hellman Discrete Logarithm (6,8101,7531)\n",
        "6689\n"
       ]
      }
     ],
     "prompt_number": 431
    },
    {
     "cell_type": "markdown",
     "metadata": {},
     "source": [
      "https://comeoncodeon.wordpress.com/2010/09/18/pollard-rho-brent-integer-factorization/\n",
      "http://stackoverflow.com/questions/4643647/fast-prime-factorization-module\n",
      "http://userpages.umbc.edu/~rcampbel/Computers/Python/numbthy.html"
     ]
    }
   ],
   "metadata": {}
  }
 ]
}