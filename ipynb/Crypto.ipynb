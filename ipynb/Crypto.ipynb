{
 "metadata": {
  "name": "Crypto"
 },
 "nbformat": 3,
 "nbformat_minor": 0,
 "worksheets": [
  {
   "cells": [
    {
     "cell_type": "markdown",
     "metadata": {},
     "source": [
      "#HowTo's\n",
      "\n",
      "##Graphs\n",
      "x = numpy.arange(0,2 * math.pi, 0.1)\n",
      "f1=map(lambda x: 5 * math.sin(x), x)\n",
      "f2=map(lambda x: 2 * math.sin(2*x), x)\n",
      "f3=map(lambda x: 1 * math.sin(3*x), x)\n",
      "pylab.plot(x,f1)\n",
      "pylab.plot(x,f2,'ro')\n",
      "pylab.plot(x,f3,'g--')\n",
      "pylab.show()\n",
      "\n",
      "LaTeX: $e^{i \\omega t}$\n",
      "\n",
      "##Ideas:\n",
      "Cython integration: http://nbviewer.ipython.org/urls/raw.github.com/ipython/ipython/3607712653c66d63e0d7f13f073bde8c0f209ba8/docs/examples/notebooks/cython_extension.ipynb\n",
      "\n"
     ]
    },
    {
     "cell_type": "code",
     "collapsed": false,
     "input": [
      "from IPython.core.display import *\n",
      "\n",
      "global MathJax \n",
      "MathJax = True\n",
      "def MDPL(string): display(Math(string)) if MathJax else display(Latex(string))\n",
      "\n",
      "def add(x,y): return x+y\n",
      "\n",
      "def comp_str(listofstrings): return reduce(add,listofstrings)\n",
      "\n",
      "class math_expr(object):\n",
      "   '''''Math Expression object'''''\n",
      "\n",
      "   def __init__(self,arg1):\n",
      "      '''''init takes arg: list of atoms, each atom being a compilable chunck of LaTeX expression'''''\n",
      "      self.listofatoms = arg1\n",
      "\n",
      "   def show(self):\n",
      "      '''''Displays the content of the expression in mathmode'''''\n",
      "      MDPL(comp_str(self.listofatoms))\n",
      "\n",
      "   def replace(self,pos,newstr):\n",
      "      '''''Replaces an atom with another atom'''''\n",
      "      MDPL(comp_str(self.colouratoms([pos])))\n",
      "      self.listofatoms[pos] = newstr\n",
      "      MDPL(comp_str(self.colouratoms([pos],True)))\n",
      "\n",
      "   def merge(self,positions):\n",
      "      '''''Merges atoms: the input is a list of positions. The new atom is placed at the position of the foremost of the positions'''''\n",
      "      MDPL(comp_str(self.colouratoms(positions)))\n",
      "      temp = [ self.listofatoms[i] for i in positions ]\n",
      "      positions.sort()\n",
      "      positions.reverse()\n",
      "      for i in positions: del self.listofatoms[i]\n",
      "      self.listofatoms.insert(positions[-1],comp_str(temp))\n",
      "      MDPL(comp_str(self.colouratoms([positions[-1]],True)))\n",
      "\n",
      "   def split(self,pos,newatoms):\n",
      "      '''''Splits atoms: replaces an atom in place with multiple sub atoms'''''\n",
      "      MDPL(comp_str(self.colouratoms([pos])))\n",
      "      del self.listofatoms[pos]\n",
      "      templen = len(newatoms)\n",
      "      while len(newatoms) > 0:\n",
      "         self.listofatoms.insert(pos,newatoms.pop())\n",
      "      MDPL(comp_str(self.colouratoms(range(pos, pos+templen),True)))\n",
      "\n",
      "   def cancel(self,positions):\n",
      "      '''''Cancels a bunch of terms: input a list of positions'''''\n",
      "      MDPL(comp_str(self.colouratoms(positions)))\n",
      "      positions.sort()\n",
      "      positions.reverse()\n",
      "      for i in positions: del self.listofatoms[i]\n",
      "      self.fullshow()\n",
      "\n",
      "   def move(self,posini,posfin):\n",
      "      '''''Move atom at posini to posfin, pushing all others back'''''\n",
      "      MDPL(comp_str(self.colouratoms([posini])))\n",
      "      temp = self.listofatoms.pop(posini)\n",
      "      self.listofatoms.insert(posfin if posfin < posini else posfin-1, temp)\n",
      "      MDPL(comp_str(self.colouratoms([posfin if posfin < posini else posfin-1],True)))\n",
      "\n",
      "   def colouratoms(self,positions,labelled=False):\n",
      "      '''''Returns the list of atoms, but with selected terms coloured'''''\n",
      "      temp = list(self.listofatoms)\n",
      "      if labelled:\n",
      "         self.labelatoms()\n",
      "         temp = list(self.labeledatoms)\n",
      "      for i in positions: temp[i] = \"\\color{red}{\"+temp[i]+\"}\"\n",
      "      return temp\n",
      "\n",
      "   def labelatoms(self):\n",
      "      '''''Label atoms by adding underbraces'''''\n",
      "      self.labeledatoms = [ \"\\underbrace{\" + self.listofatoms[i] + \"}_{\" + str(i) + \"}\" for i in range(len(self.listofatoms)) ]\n",
      "\n",
      "   def fullshow(self):\n",
      "      '''''Shows the content whilst labeling positions'''''\n",
      "      self.labelatoms()\n",
      "      MDPL(comp_str(self.labeledatoms))"
     ],
     "language": "python",
     "metadata": {},
     "outputs": [],
     "prompt_number": 1
    },
    {
     "cell_type": "code",
     "collapsed": false,
     "input": [
      "pprint=MDPL\n",
      "#from IPython.core.display import display_latex as pprint\n",
      "\n",
      "pprint(\"\"\"\\begin{tabular}{ l | c || r }\n",
      "  1 & 2 & 3 \\\\\n",
      "  4 & 5 & 6 \\\\\n",
      "  7 & 8 & 9 \\\\\n",
      "\\end{tabular}\"\"\")"
     ],
     "language": "python",
     "metadata": {},
     "outputs": [
      {
       "latex": [
        "$$\begin{tabular}{ l | c || r }\n",
        "  1 & 2 & 3 \\\n",
        "  4 & 5 & 6 \\\n",
        "  7 & 8 & 9 \\\n",
        "\\end{tabular}$$"
       ],
       "output_type": "display_data",
       "text": [
        "<IPython.core.display.Math at 0x106ddd310>"
       ]
      }
     ],
     "prompt_number": 2
    },
    {
     "cell_type": "code",
     "collapsed": false,
     "input": [
      "#(Extended) Euclid Algorithm\n",
      "#\n",
      "def Euclid(a,b,ans=0,pt=0,retA=0):\n",
      "    Temp=Euc([1,0,a],[0,1,b],[[['A1','A2','A3'],['B1','B2','B3']],[[1,0,a],[0,1,b]]])\n",
      "    T=Temp[0]\n",
      "    if ans:\n",
      "        print '\\n({0})({1})+({2})({3})={4}'.format(a,T[0],b,T[1],T[2])\n",
      "    if pt: \n",
      "        for x in Temp[1]: print '{0}\\t{1}\\t{2}\\t{3}\\t{4}\\t{5}'.format(x[0][0],x[0][1],x[0][2],x[1][0],x[1][1],x[1][2])\n",
      "        print\n",
      "    if retA:\n",
      "        return [a,T[0],b,T[1],T[2]]\n",
      "def Euc(a,b,s):\n",
      "    #Main recursive loop\n",
      "    if b[2]==0: return [b[0],b[1],a[2]],s\n",
      "    if b[2]==1: return b,s\n",
      "    else:\n",
      "        Q=a[2]/b[2]\n",
      "        t=[a[n]-Q*b[n] for n in range(3)]\n",
      "        a=b\n",
      "        b=t\n",
      "        return Euc(a,b,s+[[a,b]])\n",
      "#Example Runs\n",
      "Euclid(3,59,ans=1,pt=1,retA=1)\n",
      "#Euclid(4,9,pt=1)\n",
      "#Euclid(26,3)\n",
      "#Euclid(1000,800,pt=1)\n",
      "#Euclid(5423,76357,pt=1)"
     ],
     "language": "python",
     "metadata": {},
     "outputs": [
      {
       "output_type": "stream",
       "stream": "stdout",
       "text": [
        "\n",
        "(3)(20)+(59)(-1)=1\n",
        "A1\tA2\tA3\tB1\tB2\tB3\n",
        "1\t0\t3\t0\t1\t59\n",
        "0\t1\t59\t1\t0\t3\n",
        "1\t0\t3\t-19\t1\t2\n",
        "-19\t1\t2\t20\t-1\t1\n",
        "\n"
       ]
      },
      {
       "output_type": "pyout",
       "prompt_number": 3,
       "text": [
        "[3, 20, 59, -1, 1]"
       ]
      }
     ],
     "prompt_number": 3
    },
    {
     "cell_type": "code",
     "collapsed": false,
     "input": [
      "#Chinese Remainder Theorum\n",
      "#Done, but only has LaTeX visual output so far\n",
      "pprint=MDPL\n",
      "def ChRem(A):\n",
      "    M=reduce(lambda x,y:x*y,[i[1] for i in A])\n",
      "    pprint( 'M={0}'.format(M))\n",
      "    count=1;Ans=[];outS='';sumS=0\n",
      "    for i in A:\n",
      "        Ans=Ans+[[count,i[0],i[1],M/i[1],Euclid(M/i[1],i[1],retA=1)[1]%i[1]]]\n",
      "        #print 'a({0})={1} m({0})={2} M/M({0})={3} c({0})={4}'.format(Ans[count-1][0],Ans[count-1][1],Ans[count-1][2],Ans[count-1][3],Ans[count-1][4])\n",
      "        pprint('a_{{{0}}}={1},\\ m_{{{0}}}={2},\\ \\\\frac{{M}}{{M_{{{0}}}}}={3},\\ c_{{{0}}}={4}'.format(Ans[count-1][0],Ans[count-1][1],Ans[count-1][2],Ans[count-1][3],Ans[count-1][4]))\n",
      "        outS=outS+'({0}*{1}*{2})+'.format(Ans[count-1][3],Ans[count-1][4],Ans[count-1][1])\n",
      "        sumS=sumS+(Ans[count-1][3]*Ans[count-1][4]*Ans[count-1][1])\n",
      "        count=count+1\n",
      "    pprint( outS[:-1] + ' = {0}'.format(sumS) )\n",
      "    pprint( '= {0}\\ mod\\ {1}'.format(sumS%M,M) )\n",
      "ChRem([[5,7],[7,11],[3,13]]);print\n",
      "#ChRem([[2,4],[3,59]]);print\n",
      "ChRem([[7,11],[9,7],[2,3],[1,2]])"
     ],
     "language": "python",
     "metadata": {},
     "outputs": [
      {
       "latex": [
        "$$M=1001$$"
       ],
       "output_type": "display_data",
       "text": [
        "<IPython.core.display.Math at 0x1075b54d0>"
       ]
      },
      {
       "latex": [
        "$$a_{1}=5,\\ m_{1}=7,\\ \\frac{M}{M_{1}}=143,\\ c_{1}=5$$"
       ],
       "output_type": "display_data",
       "text": [
        "<IPython.core.display.Math at 0x1075b5510>"
       ]
      },
      {
       "latex": [
        "$$a_{2}=7,\\ m_{2}=11,\\ \\frac{M}{M_{2}}=91,\\ c_{2}=4$$"
       ],
       "output_type": "display_data",
       "text": [
        "<IPython.core.display.Math at 0x105c18a90>"
       ]
      },
      {
       "latex": [
        "$$a_{3}=3,\\ m_{3}=13,\\ \\frac{M}{M_{3}}=77,\\ c_{3}=12$$"
       ],
       "output_type": "display_data",
       "text": [
        "<IPython.core.display.Math at 0x1075b5510>"
       ]
      },
      {
       "latex": [
        "$$(143*5*5)+(91*4*7)+(77*12*3) = 8895$$"
       ],
       "output_type": "display_data",
       "text": [
        "<IPython.core.display.Math at 0x105c18a90>"
       ]
      },
      {
       "latex": [
        "$$= 887\\ mod\\ 1001$$"
       ],
       "output_type": "display_data",
       "text": [
        "<IPython.core.display.Math at 0x105c18a90>"
       ]
      },
      {
       "output_type": "stream",
       "stream": "stdout",
       "text": [
        "\n"
       ]
      },
      {
       "latex": [
        "$$M=462$$"
       ],
       "output_type": "display_data",
       "text": [
        "<IPython.core.display.Math at 0x105c18a90>"
       ]
      },
      {
       "latex": [
        "$$a_{1}=7,\\ m_{1}=11,\\ \\frac{M}{M_{1}}=42,\\ c_{1}=5$$"
       ],
       "output_type": "display_data",
       "text": [
        "<IPython.core.display.Math at 0x1075b34d0>"
       ]
      },
      {
       "latex": [
        "$$a_{2}=9,\\ m_{2}=7,\\ \\frac{M}{M_{2}}=66,\\ c_{2}=5$$"
       ],
       "output_type": "display_data",
       "text": [
        "<IPython.core.display.Math at 0x1075b34d0>"
       ]
      },
      {
       "latex": [
        "$$a_{3}=2,\\ m_{3}=3,\\ \\frac{M}{M_{3}}=154,\\ c_{3}=1$$"
       ],
       "output_type": "display_data",
       "text": [
        "<IPython.core.display.Math at 0x1075b54d0>"
       ]
      },
      {
       "latex": [
        "$$a_{4}=1,\\ m_{4}=2,\\ \\frac{M}{M_{4}}=231,\\ c_{4}=1$$"
       ],
       "output_type": "display_data",
       "text": [
        "<IPython.core.display.Math at 0x1075b34d0>"
       ]
      },
      {
       "latex": [
        "$$(42*5*7)+(66*5*9)+(154*1*2)+(231*1*1) = 4979$$"
       ],
       "output_type": "display_data",
       "text": [
        "<IPython.core.display.Math at 0x105c18a90>"
       ]
      },
      {
       "latex": [
        "$$= 359\\ mod\\ 462$$"
       ],
       "output_type": "display_data",
       "text": [
        "<IPython.core.display.Math at 0x105c18a90>"
       ]
      }
     ],
     "prompt_number": 20
    },
    {
     "cell_type": "code",
     "collapsed": false,
     "input": [
      "#P1 Encryption/Decryption/Frequency Analysis\n",
      "from binascii import *        #Hex conversion\n",
      "from collections import deque #Queue\n",
      "from collections import defaultdict as dd #Dynamic Dictionary\n",
      "from string import Template   #Output formatting\n",
      "from heapq import heappush, heappop #Minheap\n",
      "import re\n",
      "\n",
      "def type2(a):\n",
      "    try:\n",
      "        b=type(a)\n",
      "    except:\n",
      "        b='NULL'\n",
      "    return b\n",
      "\n",
      "def remDups(seq):\n",
      "    seen = set()\n",
      "    seen_add = seen.add\n",
      "    return reduce(lambda x,y:x+y,[ x for x in seq if x not in seen and not seen_add(x)])\n",
      "\n",
      "class Cipher:\n",
      "    def __init__(self):\n",
      "        pass\n",
      "    def enc(self,s):\n",
      "        print \"No Encryption Algorithm Added\"\n",
      "    def dec(self,s):\n",
      "        print \"No Decryption Algorithm Added\"\n",
      "\n",
      "class MAS(Cipher):\n",
      "    \"\"\"Monoalphabetic Substitution Cipher\"\"\"\n",
      "    def __init__(self,a,b):\n",
      "        self.a=a\n",
      "        self.b=b\n",
      "        self.an=Euclid(a,26,retA=1)[1]\n",
      "    def enc(self,s):\n",
      "        return reduce(lambda x,y:x+y,[chr(((ord(p)-97)*self.a+self.b)%26+97) if (ord(p)>=97 and ord(p)<=122) else p for p in s])\n",
      "    def dec(self,s):\n",
      "        return reduce(lambda x,y:x+y,[chr((((ord(p)-97)-self.b)*self.an)%26+97) if (ord(p)>=97 and ord(p)<=122) else p for p in s])\n",
      "    \n",
      "class PF(Cipher):\n",
      "    \"\"\"Playfair Cipher\"\"\"\n",
      "    def __init__(self,s):\n",
      "        Temp=remDups(s.replace('q','')+'abcdefghijklmnoprstuvwxyz')\n",
      "        Temp2=[]\n",
      "        for i in range(5):\n",
      "            Temp2=Temp2+[Temp[i*5:(i+1)*5]]\n",
      "        self.Table=Temp2\n",
      "    def printTable(self):\n",
      "        for i in self.Table:\n",
      "            print '{0}'.format(str(i))\n",
      "\n",
      "#English frequency data:\n",
      "#http://jnicholl.org/Cryptanalysis/Data/EnglishData.php\n",
      "\n",
      "class Cgram:\n",
      "    def __init__(self,mono=4,di=3,tri=2,wlist=1,tol=10):\n",
      "        self.Weights={'Mono':mono,'Di':di,'Tri':tri,'List':wlist}\n",
      "        Monograms=self.loadgram('monogram.dat')\n",
      "        Digram=self.loadgram('digram.dat')\n",
      "        Trigram=self.loadgram('trigram.dat')\n",
      "        Polygram={}#Not implemented yet\n",
      "        self.WList=self.loadWList('pword.txt')\n",
      "        self.grams=[Monograms,Digram,Trigram,Polygram]\n",
      "        self.cipstr=\"\"\n",
      "        self.plnstr=\"\"\n",
      "        self.letters='abcdefghijklmnopqrstuvwxyz'\n",
      "        self.tolerance=float(tol)/100.00\n",
      "        self.decodex=dd(dd)\n",
      "    def loadWList(self,path):\n",
      "        temp=dd()\n",
      "        with open(path) as f:\n",
      "            for i in f:\n",
      "                #res=i.split()\n",
      "                #temp[res[0]]=res[1:]\n",
      "                j=i.find(' ')\n",
      "                temp[i[:j]]=i[j:].split()\n",
      "        return temp\n",
      "    def loadgram(self,path):\n",
      "        temp=dd(int)\n",
      "        with open(path) as f:\n",
      "            for i in f:\n",
      "                j=i.find(' ')\n",
      "                temp[i[:j].lower()]=-int(i[j:])\n",
      "                #res=i.split()\n",
      "                #temp[res[-1]]=res[:-1]\n",
      "        return temp\n",
      "    def search(self,s):\n",
      "        '''<<Meta-function>> Do a subsearch for each type of implemented gram'''\n",
      "        self.rep=[]#dd(int) #rep = \"Report\"\n",
      "        for i in range(3):\n",
      "            self.rep+=[self.subsearch(s,i+1)]\n",
      "        self.cipstr=s\n",
      "        self.plnstr=s.upper()\n",
      "        #print self.rep\n",
      "    def mapper(self):\n",
      "        #Throw the found grams into a maxheap and pair them with their correponding highest\n",
      "        #freq contender for each size. for each char in each gram, raise the confidence of\n",
      "        #a mapping by one\n",
      "        #e.g. 'ABC' matches 'CRE' and 'AB' matches 'TE': {'A':[['C',1]['T',1]],'B':[[R,1],[E,1]],etc...}\n",
      "        #When mapping is complete, look for highest confidences and create a decoder dict to run the\n",
      "        #ciphertext through\n",
      "        decodex=dd(dd) #Dictionary of dictionaries of char:confidence parings\n",
      "        dictkeys=['Mono','Di','Tri']\n",
      "        #NEED to sort everything largest to smallest frequency\n",
      "        for i in range(3): #i+1 is the generated {mono,di,tri}graph set\n",
      "            j2=self.dictToHeap(self.grams[i])#;print \"\\nGiven {0}-Gram: \".format(i+1),j2\n",
      "            j=self.dictToHeap(self.rep[i])#;print \"\\nReported {0}-Gram: \".format(i+1),j\n",
      "            while (j and j2):\n",
      "                k2=heappop(j)[1]\n",
      "                k=heappop(j2)[1]\n",
      "                for l in range(i):\n",
      "                    try:\n",
      "                        decodex[k[l]][k2[l]]+=self.Weights[dictkeys[i]]\n",
      "                    except:\n",
      "                        decodex[k[l]][k2[l]]=self.Weights[dictkeys[i]]\n",
      "                    try:\n",
      "                        decodex[k[l]]['Total']+=self.Weights[dictkeys[i]]\n",
      "                    except:\n",
      "                        decodex[k[l]]['Total']=self.Weights[dictkeys[i]]\n",
      "        #By the end of this function, there should be character mappings based on frequency comparisons\n",
      "        self.decodex=decodex\n",
      "    def mapper2(self):\n",
      "        s=self.cipstr\n",
      "        t1=re.sub(r'[\\W_]+',' ',s.lower()).split() #Extract all words\n",
      "        for s in t1: #For each word in cipher\n",
      "            try:\n",
      "                for itera in self.WList[self.pata(s)]: #For each possibility for s pattern\n",
      "                    j2=itera #Potential Word\n",
      "                    j=s #Ciphered word\n",
      "                    for k in range(len(j)): \n",
      "                        #If the likelihood of the a letter corresponding based on frequencies is high enough\n",
      "                        #add to its likelihood for each possible matching word\n",
      "                        if float(self.decodex[j[k]][j2[k]])/float(self.decodex[j[k]]['Total'])>self.tolerance:\n",
      "                            try:\n",
      "                                self.decodex[j[k]][j2[k]]+=self.Weights['List']\n",
      "                            except:\n",
      "                                self.decodex[j[k]][j2[k]]=self.Weights['List']\n",
      "                            try:\n",
      "                                self.decodex[j[k]]['Total']+=self.Weights['List']\n",
      "                            except:\n",
      "                                self.decodex[j[k]]['Total']=self.Weights['List']\n",
      "            except:\n",
      "                pass\n",
      "        return self.decodex\n",
      "    def makeMap(self):\n",
      "        #for i in Temp.keys():\n",
      "        #print i\n",
      "        #for j in Temp[i].keys():\n",
      "        #    print '{0}={1}: {2}'.format(i,j,Temp[i][j])\n",
      "        pass\n",
      "    def dictToHeap(self,dic):\n",
      "        temp=[]\n",
      "        for i in dic.keys():\n",
      "            heappush(temp,[dic[i],i])\n",
      "        return temp\n",
      "    def subsearch(self,s,n):\n",
      "        '''Enumerate all n-grams within s using a dynamic dictionary'''\n",
      "        '''Something tricky here to use the heapq module as a maxheap:\n",
      "        instead of adding 1 for each occurence of a gram, subtracting 1'''\n",
      "        rep=dd(int)\n",
      "        #t1=s.lower().split(' ')\n",
      "        t1=re.sub(r'[\\W_]+',' ',s.lower()).split() #Extract all words\n",
      "        for s in t1: #For each word\n",
      "            for iter in range(n): \n",
      "                for i in [(s[iter+i:iter+i+n]) for i in xrange(0, len(s), n) ]:\n",
      "                    if len(i)==n: rep[i]-=1\n",
      "        return rep\n",
      "    def solve(self,s):\n",
      "        self.search(s)\n",
      "        self.mapper()\n",
      "        self.mapper2()\n",
      "        temp=[]\n",
      "        for i in self.decodex.keys():\n",
      "            for j in self.decodex[i]:\n",
      "                if j!='Total': temp+=[[-self.decodex[i][j],i,j]]\n",
      "        temp.sort()\n",
      "        mapp=dd()\n",
      "        buff=self.letters\n",
      "        for i in temp:\n",
      "            if (i[1] in buff):\n",
      "                mapp[i[1]]=i[2]\n",
      "                buff.replace(i[1],'')\n",
      "        #print temp\n",
      "        print \"Frequency analysis maps the following: \",mapp\n",
      "        self.failsafe()\n",
      "    def pata(self,inS): #Pattern Analyzer\n",
      "        '''Return a string yielding the character pattern of inS\n",
      "        e.g. \"racecar\" would yield \"ABCDCBA\"'''\n",
      "        temp=inS.lower()\n",
      "        count=0\n",
      "        for j in range(len(temp)):\n",
      "            i=temp[j]\n",
      "            if (ord(i)>=97 and ord(i)<=122):\n",
      "                temp=temp.replace(i,chr(65+count))\n",
      "                count+=1\n",
      "        return temp\n",
      "    def failsafe(self):\n",
      "        '''If at first you don't succeed...'''\n",
      "        maybes=set()\n",
      "        for i in [1,3,5,7,9,11,13,17,19,21,23,25]:\n",
      "            for j in range(25):\n",
      "                temp=MAS(i,j).dec(ct)\n",
      "                t1=re.sub(r'[\\W_]+',' ',temp.lower()).split()\n",
      "                good=0\n",
      "                if len(t1)>10:\n",
      "                    tries=10\n",
      "                else:\n",
      "                    tries=len(t1)\n",
      "                for k in range(tries):\n",
      "                    #if (i==9 and j==17): print t1[k]\n",
      "                    try:\n",
      "                        for l in self.WList[self.pata(t1[k])]:\n",
      "                            if t1[k]==l:\n",
      "                                good+=1\n",
      "                    except:\n",
      "                        pass\n",
      "                if good>=5: maybes.add(temp)\n",
      "        print \"Possible Decryptions: \",maybes\n"
     ],
     "language": "python",
     "metadata": {},
     "outputs": [],
     "prompt_number": 287
    },
    {
     "cell_type": "code",
     "collapsed": false,
     "input": [
      "#print \"Testing MAS\"\n",
      "TEST = MAS(9,17)\n",
      "#print TEST.dec(\"crwwz\")\n",
      "#print TEST.enc(\"happy\")\n",
      "#Blah=unhexlify(hexlify(\"Test\"))\n",
      "#print \"\\nTesting PF\"\n",
      "#TEST = PF('testerstesting')\n",
      "#TEST.printTable()\n",
      "#print TEST.dec(\"blahblahtesttest\")\n",
      "#print TEST.enc(\"happy\")\n",
      "print \"\\nTesting Freq:\\n\"\n",
      "#pt='Episode four, A NEW HOPE It is a period of civil war. Rebel spaceships, striking from a hidden base, have won their first victory against the evil Galactic Empire. During the battle, Rebel spies managed to steal secret plans to the Empire\u2019s ultimate weapon, the DEATH STAR, an armored space station with enough power to destroy an entire planet. Pursued by the Empire\u2019s sinister agents, the Princess races home aboard her starship, custodian of the stolen plans that can save her people and restore freedom to the galaxy\u2026.'\n",
      "pt='For God so loved the world, that he gave his only Son, that whoever believes in him should not perish but have eternal life.'+'Hebrews 4:14: Since then we have a great high priest who has passed through the heavens, Jesus, the Son of God, let us hold fast our confession. Hebrews 4:15: For we do not have a high priest who is unable to sympathize with our weaknesses, but one who in every respect has been tempted as we are, yet without sin. Hebrews 4:16: Let us then with confidence draw near to the throne of grace, that we may receive mercy and find grace to help in time of need.'\n",
      "pt=pt.lower()#re.sub('[^a-z]','',pt.lower())\n",
      "ct=TEST.enc(pt)\n",
      "tt=TEST.dec(ct)\n",
      "#print 'Plaintext:',pt\n",
      "#print '\\nCiphertext:',ct\n",
      "#print '\\nUnCiphered:',tt\n",
      "Anyl=Cgram(mono=3,di=2,tri=1,wlist=1,tol=5) #Test Cgram instance\n",
      "\n",
      "print \"\\n\\nCiphertext gram analysis:\"#;Anyl.search(ct)\n",
      "\n",
      "#testdict=calcf(temp,3)\n",
      "#temp=[]\n",
      "#for i in testdict.keys():\n",
      "#    temp+=[[testdict[i],i]]\n",
      "#temp.sort()\n",
      "#print temp\n",
      "\n",
      "#print \"\\n\\nGiven Grams:\";print [Anyl.dictToHeap(x) for x in Anyl.grams]\n",
      "#print \"\\n\\nGiven Wordlist:\";print [re.sub(r'[A-Z]','',x) for x in Anyl.WList.keys()]\n",
      "#print Anyl.WList[Anyl.pata('racecar')]\n",
      "print 'Actual Values:'\n",
      "print 'abcdefghijklmnopqrstuvwxyz'\n",
      "print TEST.enc('abcdefghijklmnopqrstuvwxyz')\n",
      "print \"\\n\\nConfidence Values:\";\n",
      "Anyl.solve(ct)\n",
      "Temp=Anyl.decodex\n",
      "#MAS Bruteforce:\n",
      "#for i in Temp.keys():\n",
      "#    print i\n",
      "#    for j in Temp[i].keys():\n",
      "#        print '{0}={1}: {2}'.format(i,j,Temp[i][j])\n",
      "        \n",
      "\n"
     ],
     "language": "python",
     "metadata": {},
     "outputs": [
      {
       "output_type": "stream",
       "stream": "stdout",
       "text": [
        "\n",
        "Testing Freq:\n",
        "\n",
        "\n",
        "\n",
        "Ciphertext gram analysis:"
       ]
      },
      {
       "output_type": "stream",
       "stream": "stdout",
       "text": [
        "\n",
        "Actual Values:\n",
        "abcdefghijklmnopqrstuvwxyz\n",
        "rajsbktcludmvenwfoxgpyhqzi\n",
        "\n",
        "\n",
        "Confidence Values:\n",
        "Frequency analysis maps the following:  defaultdict(None, {'a': 'y', 'c': 'r', 'b': 'o', 'e': 'w', 'd': 'x', 'g': 'l', 'f': 'b', 'i': 'y', 'h': 'v', 'm': 'b', 'l': 'j', 'o': 'n', 'n': 'y', 'p': 't', 's': 'j', 'r': 'o', 'u': 'm', 't': 'n', 'w': 'o', 'v': 'e'})\n",
        "Possible Decryptions: "
       ]
      },
      {
       "output_type": "stream",
       "stream": "stdout",
       "text": [
        " set(['for god so loved the world, that he gave his only son, that whoever believes in him should not perish but have eternal life.hebrews 4:14: since then we have a great high priest who has passed through the heavens, jesus, the son of god, let us hold fast our confession. hebrews 4:15: for we do not have a high priest who is unable to sympathize with our weaknesses, but one who in every respect has been tempted as we are, yet without sin. hebrews 4:16: let us then with confidence draw near to the throne of grace, that we may receive mercy and find grace to help in time of need.'])\n"
       ]
      }
     ],
     "prompt_number": 289
    },
    {
     "cell_type": "code",
     "collapsed": false,
     "input": [
      "\n",
      "#import scipy\n",
      "#Euclid(5,7,retA=1)"
     ],
     "language": "python",
     "metadata": {},
     "outputs": [],
     "prompt_number": 88
    },
    {
     "cell_type": "markdown",
     "metadata": {},
     "source": [
      "$$ if\\ x_1 = x_2 + (26/d),\\ then\\ \u03b1x_1\\ |\\ \u03b2 \u2261 \u03b1x_2 + \u03b2\\ mod\\ 26 $$\n",
      "$$ \u03b1x_1*k = \u03b2 $$\n",
      "$$ \u03b2 = \u03b1x_2\\ mod\\ 26$$\n",
      "$$ \u03b1x_1*k = \u03b1x_2\\ mod\\ 26$$\n",
      "$$ \u03b1x_2 + \u03b1*26/d*k = \u03b1x_2\\ mod\\ 26$$\n",
      "$$ x_2 + 26/d*k = x_2\\ mod\\ 26$$"
     ]
    },
    {
     "cell_type": "code",
     "collapsed": false,
     "input": [],
     "language": "python",
     "metadata": {},
     "outputs": []
    }
   ],
   "metadata": {}
  }
 ]
}