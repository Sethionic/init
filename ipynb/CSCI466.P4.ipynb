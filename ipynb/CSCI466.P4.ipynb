{
 "metadata": {
  "name": "CSCI466.P4"
 },
 "nbformat": 3,
 "nbformat_minor": 0,
 "worksheets": [
  {
   "cells": [
    {
     "cell_type": "code",
     "collapsed": false,
     "input": [
      "from hashlib import md5\n",
      "from collections import defaultdict as dd\n",
      "import networkx as nx\n",
      "import time\n",
      "\n",
      "DG=nx.DiGraph() #Main DiGraph\n",
      "CE=[] #Cycle Elements\n",
      "CL=[] #Cycle Lengths\n",
      "TL=[]\n",
      "#RevMap=dd()\n",
      "def get_hash(name,size): #Hash function\n",
      "    temp=bin(int(md5(name).hexdigest(),16)%2**size)[2:]\n",
      "    temp='0'*(size-len(temp))+temp\n",
      "    return temp\n",
      "\n",
      "def trymap(size): #Create Graph\n",
      "    for i in range(2**size):\n",
      "        name=bin(i)[2:]\n",
      "        temp=get_hash(name,size)\n",
      "        name=\"0\"*(size-len(name))+name\n",
      "        DG.add_edge(int(name,2),int(temp,2))\n",
      "\n",
      "#Return a path from start to the\n",
      "#Beginning of a cycle if 0\n",
      "#End of a cycle if 1\n",
      "def findpath(start):\n",
      "    templist=[start]\n",
      "    temp=start\n",
      "    while not(DG.successors(temp)[0] in templist):\n",
      "        if (DG.successors(temp)[0] in CE):\n",
      "            return (templist,0)\n",
      "        temp=DG.successors(temp)[0]\n",
      "        templist+=[temp]\n",
      "    return (templist,1) #templist[-1] is the start of a cycle\n",
      "\n",
      "def taillen(tailpath): \n",
      "    global CE\n",
      "    global CL\n",
      "    global TL\n",
      "    cycle=findpath(tailpath[-1])[0]\n",
      "    CE+=cycle #Add to Cycle Watchlist\n",
      "    CL+= [len(cycle)] #Add cycle length to \n",
      "    TL+= [len(tailpath)-len(cycle)]\n",
      "\n",
      "def pathrunner(start):\n",
      "    global TL\n",
      "    temp=findpath(start)\n",
      "    if temp[1]:\n",
      "        taillen(temp[0])\n",
      "    else:\n",
      "        TL+=[len(temp[0])]\n",
      "    \n",
      "complexity=10\n",
      "timer=time.time()\n",
      "trymap(complexity)\n",
      "nx.draw(DG)\n",
      "pylab.show()\n",
      "tails=[i for i in DG.pred.keys() if len(DG.pred[i])==0] #Nodes with no predeccesors\n",
      "q=[pathrunner(start) for start in tails]\n",
      "#print \"Cycle Elements: \",CE\n",
      "print \"Cycle Lengths: \",CL\n",
      "#print \"Tail Lengths: \",TL\n",
      "print \"Cycle Lengths: Max: {0}, Avg: {1}, Min: {2}, Count: {3}\".format(max(CL),average(CL),min(CL),len(CL))\n",
      "print \"Tail Lengths: Max: {0}, Avg: {1}, Min: {2}, Count: {3}\".format(max(TL),average(TL),min(TL),len(TL))\n",
      "timer2=time.time()-timer\n",
      "print \"Time: {0} for {1} hashes, {2} hashes per second\".format(timer2,2**complexity,(2**complexity)/timer2)\n"
     ],
     "language": "python",
     "metadata": {},
     "outputs": [
      {
       "output_type": "display_data",
       "png": "[encoded data removed]"
      },
      {
       "output_type": "stream",
       "stream": "stdout",
       "text": [
        "Cycle Lengths:  [18, 8, 12, 14, 6]\n",
        "Cycle Lengths: Max: 18, Avg: 11.6, Min: 6, Count: 5\n",
        "Tail Lengths: Max: 41, Avg: 13.7718832891, Min: 1, Count: 377\n",
        "Time: 18.8521449566 for 1024 hashes, 54.3174266036 hashes per second\n"
       ]
      }
     ],
     "prompt_number": 17
    },
    {
     "cell_type": "code",
     "collapsed": false,
     "input": [],
     "language": "python",
     "metadata": {},
     "outputs": [],
     "prompt_number": 11
    },
    {
     "cell_type": "code",
     "collapsed": false,
     "input": [],
     "language": "python",
     "metadata": {},
     "outputs": []
    }
   ],
   "metadata": {}
  }
 ]
}