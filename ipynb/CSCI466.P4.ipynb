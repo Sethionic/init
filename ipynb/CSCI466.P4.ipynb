{
 "metadata": {
  "name": "CSCI466.P4"
 },
 "nbformat": 3,
 "nbformat_minor": 0,
 "worksheets": [
  {
   "cells": [
    {
     "cell_type": "code",
     "collapsed": false,
     "input": [
      "\n",
      "from hashlib import md5\n",
      "from collections import defaultdict as dd\n",
      "import networkx as nx\n",
      "import time\n",
      "from multiprocessing import Pool\n",
      "\n",
      "DG=nx.DiGraph() #Main DiGraph\n",
      "CE=[] #Cycle Elements\n",
      "CL=[] #Cycle Lengths\n",
      "TL=[] #Tail Lengths\n",
      "#RevMap=dd()\n",
      "def get_hash(name,size): #Hash function\n",
      "    temp=bin(int(md5(name).hexdigest(),16)%2**size)[2:]\n",
      "    temp='0'*(size-len(temp))+temp\n",
      "    return temp\n",
      "\n",
      "def trymap(size): #Create Graph\n",
      "    for i in range(2**size):\n",
      "        name=bin(i)[2:]\n",
      "        temp=get_hash(name,size)\n",
      "        name=\"0\"*(size-len(name))+name\n",
      "        DG.add_edge(int(name,2),int(temp,2))\n",
      "\n",
      "#Return a path from start to the\n",
      "#Beginning of a cycle if 0\n",
      "#End of a cycle if 1\n",
      "def findpath(start):\n",
      "    templist=[start]\n",
      "    temp=start\n",
      "    while not(DG.successors(temp)[0] in templist):\n",
      "        if (DG.successors(temp)[0] in CE):\n",
      "            return (templist,0)\n",
      "        temp=DG.successors(temp)[0]\n",
      "        templist+=[temp]\n",
      "    return (templist,1) #templist[-1] is the start of a cycle\n",
      "\n",
      "def taillen(tailpath): \n",
      "    global CE\n",
      "    global CL\n",
      "    global TL\n",
      "    cycle=findpath(tailpath[-1])[0]\n",
      "    CE+=cycle #Add to Cycle Watchlist\n",
      "    CL+= [len(cycle)] #Add cycle length to \n",
      "    TL+= [len(tailpath)-len(cycle)]\n",
      "\n",
      "def pathrunner(start):\n",
      "    global TL\n",
      "    temp=findpath(start)\n",
      "    if temp[1]:\n",
      "        taillen(temp[0])\n",
      "    else:\n",
      "        TL+=[len(temp[0])]\n",
      "    \n",
      "complexity=14\n",
      "#pool = Pool(processes=(complexity/2))\n",
      "timer=time.time()\n",
      "trymap(complexity)\n",
      "if complexity<=8: \n",
      "    nx.draw(DG)\n",
      "    pylab.show()\n",
      "tails=[i for i in DG.pred.keys() if len(DG.pred[i])==0] #Nodes with no predeccesors\n",
      "timer1=time.time()-timer\n",
      "print \"Tail-enumeration time: {0:.2}s\".format(timer1)\n",
      "#pool.map(pathrunner,tails)\n",
      "q=[pathrunner(start) for start in tails]\n",
      "\n",
      "#print \"Cycle Elements: \",CE\n",
      "print \"Cycle Lengths: \",CL\n",
      "#print \"Tail Lengths: \",TL\n",
      "print \"Cycle Lengths: Max: {0}, Avg: {1:.3}, Min: {2}, Count: {3}\".format(max(CL),average(CL),min(CL),len(CL))\n",
      "print \"Tail Lengths: Max: {0}, Avg: {1:.3}, Min: {2}, Count: {3}\".format(max(TL),average(TL),min(TL),len(TL))\n",
      "timer2=time.time()-timer1-timer\n",
      "print \"Time: {0:.2}s for {1} hashes, {2:.6} hashes per second\".format(timer2,2**complexity,(2**complexity)/timer2)\n",
      "\n",
      "#Clean memory\n",
      "DG=nx.DiGraph() #Main DiGraph\n",
      "CE=[] #Cycle Elements\n",
      "CL=[] #Cycle Lengths\n",
      "TL=[] #Tail Lengths"
     ],
     "language": "python",
     "metadata": {},
     "outputs": [
      {
       "output_type": "stream",
       "stream": "stdout",
       "text": [
        "Tail-enumeration time: 0.25s\n",
        "Cycle Lengths: "
       ]
      },
      {
       "output_type": "stream",
       "stream": "stdout",
       "text": [
        " [2, 20, 1, 12, 5, 3, 4]\n",
        "Cycle Lengths: Max: 20, Avg: 6.71, Min: 1, Count: 7\n",
        "Tail Lengths: Max: 355, Avg: 118.0, Min: 1, Count: 6026\n",
        "Time: 11.0s for 16384 hashes, 1490.33 hashes per second\n"
       ]
      }
     ],
     "prompt_number": 53
    },
    {
     "cell_type": "code",
     "collapsed": false,
     "input": [],
     "language": "python",
     "metadata": {},
     "outputs": [],
     "prompt_number": 34
    },
    {
     "cell_type": "code",
     "collapsed": false,
     "input": [],
     "language": "python",
     "metadata": {},
     "outputs": []
    }
   ],
   "metadata": {}
  }
 ]
}