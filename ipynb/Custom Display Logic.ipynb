<html>
<head>
<style type="text/css">
/**
 * HTML5 ✰ Boilerplate
 *
 * style.css contains a reset, font normalization and some base styles.
 *
 * Credit is left where credit is due.
 * Much inspiration was taken from these projects:
 * - yui.yahooapis.com/2.8.1/build/base/base.css
 * - camendesign.com/design/
 * - praegnanz.de/weblog/htmlcssjs-kickstart
 */


/**
 * html5doctor.com Reset Stylesheet (Eric Meyer's Reset Reloaded + HTML5 baseline)
 * v1.6.1 2010-09-17 | Authors: Eric Meyer & Richard Clark
 * html5doctor.com/html-5-reset-stylesheet/
 */

html, body, div, span, object, iframe,
h1, h2, h3, h4, h5, h6, p, blockquote, pre,
abbr, address, cite, code, del, dfn, em, img, ins, kbd, q, samp,
small, strong, sub, sup, var, b, i, dl, dt, dd, ol, ul, li,
fieldset, form, label, legend,
table, caption, tbody, tfoot, thead, tr, th, td,
article, aside, canvas, details, figcaption, figure,
footer, header, hgroup, menu, nav, section, summary,
time, mark, audio, video {
  margin: 0;
  padding: 0;
  border: 0;
  font-size: 100%;
  font: inherit;
  vertical-align: baseline;
}

sup { vertical-align: super; }
sub { vertical-align: sub; }

article, aside, details, figcaption, figure,
footer, header, hgroup, menu, nav, section {
  display: block;
}

blockquote, q { quotes: none; }

blockquote:before, blockquote:after,
q:before, q:after { content: ""; content: none; }

ins { background-color: #ff9; color: #000; text-decoration: none; }

mark { background-color: #ff9; color: #000; font-style: italic; font-weight: bold; }

del { text-decoration: line-through; }

abbr[title], dfn[title] { border-bottom: 1px dotted; cursor: help; }

table { border-collapse: collapse; border-spacing: 0; }

hr { display: block; height: 1px; border: 0; border-top: 1px solid #ccc; margin: 1em 0; padding: 0; }

input, select { vertical-align: middle; }


/**
 * Font normalization inspired by YUI Library's fonts.css: developer.yahoo.com/yui/
 */

body { font:13px/1.231 sans-serif; *font-size:small; } /* Hack retained to preserve specificity */
select, input, textarea, button { font:99% sans-serif; }

/* Normalize monospace sizing:
   en.wikipedia.org/wiki/MediaWiki_talk:Common.css/Archive_11#Teletype_style_fix_for_Chrome */
pre, code, kbd, samp { font-family: monospace, sans-serif; }

em,i { font-style: italic; }
b,strong { font-weight: bold; }

</style>
<style type="text/css">

/* Flexible box model classes */
/* Taken from Alex Russell http://infrequently.org/2009/08/css-3-progress/ */
 
.hbox {
	display: -webkit-box;
	-webkit-box-orient: horizontal;
	-webkit-box-align: stretch;
 
	display: -moz-box;
	-moz-box-orient: horizontal;
	-moz-box-align: stretch;
 
	display: box;
	box-orient: horizontal;
	box-align: stretch;
}
 
.hbox > * {
	-webkit-box-flex: 0;
	-moz-box-flex: 0;
	box-flex: 0;
}
 
.vbox {
	display: -webkit-box;
	-webkit-box-orient: vertical;
	-webkit-box-align: stretch;
 
	display: -moz-box;
	-moz-box-orient: vertical;
	-moz-box-align: stretch;
 
	display: box;
	box-orient: vertical;
	box-align: stretch;
}
 
.vbox > * {
	-webkit-box-flex: 0;
	-moz-box-flex: 0;
	box-flex: 0;
}
  
.reverse {
	-webkit-box-direction: reverse;
	-moz-box-direction: reverse;
	box-direction: reverse;
}
 
.box-flex0 {
	-webkit-box-flex: 0;
	-moz-box-flex: 0;
	box-flex: 0;
}
 
.box-flex1, .box-flex {
	-webkit-box-flex: 1;
	-moz-box-flex: 1;
	box-flex: 1;
}
 
.box-flex2 {
	-webkit-box-flex: 2;
	-moz-box-flex: 2;
	box-flex: 2;
}
 
.box-group1 {
	-webkit-box-flex-group: 1;
	-moz-box-flex-group: 1;
	box-flex-group: 1;
}
 
.box-group2 {
	-webkit-box-flex-group: 2;
	-moz-box-flex-group: 2;
	box-flex-group: 2;
}
 
.start {
	-webkit-box-pack: start;
	-moz-box-pack: start;
	box-pack: start;
}
 
.end {
	-webkit-box-pack: end;
	-moz-box-pack: end;
	box-pack: end;
}
 
.center {
	-webkit-box-pack: center;
	-moz-box-pack: center;
	box-pack: center;
}

</style>
<style type="text/css">
/**
 * Primary styles
 *
 * Author: IPython Development Team
 */


body {
    overflow: hidden;
}

span#save_widget {
    padding: 5px;
    margin: 0px 0px 0px 300px;
    display:inline-block;
}

span#notebook_name {
    height: 1em;
    line-height: 1em;
    padding: 3px;
    border: none;
    font-size: 146.5%;
}

.ui-menubar-item .ui-button .ui-button-text {
    padding: 0.4em 1.0em;
    font-size: 100%;
}

.ui-menu {
  -moz-box-shadow:    0px 6px 10px -1px #adadad;
  -webkit-box-shadow: 0px 6px 10px -1px #adadad;
  box-shadow:         0px 6px 10px -1px #adadad;
}

.ui-menu .ui-menu-item a {
    border: 1px solid transparent;
    padding: 2px 1.6em;
}

.ui-menu .ui-menu-item a.ui-state-focus {
    margin: 0;
}

.ui-menu hr {
    margin: 0.3em 0;
}

#menubar_container {
    position: relative;
}

#notification {
    position: absolute;
    right: 3px;
    top: 3px;
    height: 25px;
    padding: 3px 6px;
    z-index: 10;
}

#toolbar {
    padding: 3px 15px;
}

#cell_type {
    font-size: 85%;
}


div#main_app {
    width: 100%;
    position: relative;
}

span#quick_help_area {
    position: static;
    padding: 5px 0px;
    margin: 0px 0px 0px 0px;
}

.help_string {
    float: right;
    width: 170px;
    padding: 0px 5px;
    text-align: left;
    font-size: 85%;
}

.help_string_label {
    float: right;
    font-size: 85%;
}

div#notebook_panel {
    margin: 0px 0px 0px 0px;
    padding: 0px;
}

div#notebook {
    overflow-y: scroll;
    overflow-x: auto;
    width: 100%;
    /* This spaces the cell away from the edge of the notebook area */
    padding: 5px 5px 15px 5px;
    margin: 0px;
    background-color: white;
}

div#pager_splitter {
    height: 8px;
}

div#pager {
    padding: 15px;
    overflow: auto;
    display: none;
}

div.ui-widget-content {
    border: 1px solid #aaa;
    outline: none;
}

.cell {
    border: 1px solid transparent;
}

div.cell {
    width: 100%;
    padding: 5px 5px 5px 0px;
    /* This acts as a spacer between cells, that is outside the border */
    margin: 2px 0px 2px 0px;
}

div.code_cell {
    background-color: white;
}

/* any special styling for code cells that are currently running goes here */
div.code_cell.running {
}

div.prompt {
    /* This needs to be wide enough for 3 digit prompt numbers: In[100]: */
    width: 11ex;
    /* This 0.4em is tuned to match the padding on the CodeMirror editor. */
    padding: 0.4em;
    margin: 0px;
    font-family: monospace;
    text-align:right;
}

div.input {
    page-break-inside: avoid;
}

/* input_area and input_prompt must match in top border and margin for alignment */
div.input_area {
    color: black;
    border: 1px solid #ddd;
    border-radius: 3px;
    background: #f7f7f7;
}

div.input_prompt {
    color: navy;
    border-top: 1px solid transparent;
}

div.output_wrapper {
    /* This is a spacer between the input and output of each cell */
    margin-top: 5px;
    margin-left: 5px;
    /* FF needs explicit width to stretch */
    width: 100%;
    /* this position must be relative to enable descendents to be absolute within it */
    position: relative;
}

/* class for the output area when it should be height-limited */
div.output_scroll {
  /* ideally, this would be max-height, but FF barfs all over that */
  height: 24em;
  /* FF needs this *and the wrapper* to specify full width, or it will shrinkwrap */
  width: 100%;
  
  overflow: auto;
  border-radius: 3px;
  box-shadow: inset 0 2px 8px rgba(0, 0, 0, .8);
}

/* output div while it is collapsed */
div.output_collapsed {
  margin-right: 5px;
}

div.out_prompt_overlay {
  height: 100%;
  padding: 0px;
  position: absolute;
  border-radius: 3px;
}

div.out_prompt_overlay:hover {
  /* use inner shadow to get border that is computed the same on WebKit/FF */
  box-shadow: inset 0 0 1px #000;
  background: rgba(240, 240, 240, 0.5);
}

div.output_prompt {
    color: darkred;
    /* 5px right shift to account for margin in parent container */
    margin: 0 5px 0 -5px;
}

/* This class is the outer container of all output sections. */
div.output_area {
    padding: 0px;
    page-break-inside: avoid;
}

/* This class is for the output subarea inside the output_area and after
   the prompt div. */
div.output_subarea {
    padding: 0.4em 0.4em 0.4em 0.4em;
}

/* The rest of the output_* classes are for special styling of the different
   output types */

/* all text output has this class: */
div.output_text {
    text-align: left;
    color: black;
    font-family: monospace;
}

/* stdout/stderr are 'text' as well as 'stream', but pyout/pyerr are *not* streams */
div.output_stream {
    padding-top: 0.0em;
    padding-bottom: 0.0em;
}
div.output_stdout {
}
div.output_stderr {
    background: #fdd; /* very light red background for stderr */
}

div.output_latex {
    text-align: left;
    color: black;
}

div.output_html {
}

div.output_png {
}

div.output_jpeg {
}

div.text_cell {
    background-color: white;
    padding: 5px 5px 5px 5px;
}

div.text_cell_input {
    color: black;
    border: 1px solid #ddd;
    border-radius: 3px;
    background: #f7f7f7;
}

div.text_cell_render {
    font-family: "Helvetica Neue", Arial, Helvetica, Geneva, sans-serif;
    outline: none;
    resize: none;
    width:  inherit;
    border-style: none;
    padding: 5px;
    color: black;
}

/* The following gets added to the <head> if it is detected that the user has a
 * monospace font with inconsistent normal/bold/italic height.  See
 * notebookmain.js.  Such fonts will have keywords vertically offset with
 * respect to the rest of the text.  The user should select a better font. 
 * See: https://github.com/ipython/ipython/issues/1503
 *
 * .CodeMirror span {
 *      vertical-align: bottom;
 * }
 */

.CodeMirror {
    line-height: 1.231;  /* Changed from 1em to our global default */
}

.CodeMirror-scroll {
    height: auto;     /* Changed to auto to autogrow */
    /*  The CodeMirror docs are a bit fuzzy on if overflow-y should be hidden or visible.*/
    /*  We have found that if it is visible, vertical scrollbars appear with font size changes.*/
    overflow-y: hidden;
    overflow-x: auto; /* Changed from auto to remove scrollbar */
}

/* CSS font colors for translated ANSI colors. */


.ansiblack {color: black;}
.ansired {color: darkred;}
.ansigreen {color: darkgreen;}
.ansiyellow {color: brown;}
.ansiblue {color: darkblue;}
.ansipurple {color: darkviolet;}
.ansicyan {color: steelblue;}
.ansigrey {color: grey;}
.ansibold {font-weight: bold;}

.completions {
    position: absolute;
    z-index: 10;
    overflow: hidden;
    border: 1px solid grey;
}

.completions select {
    background: white;
    outline: none;
    border: none;
    padding: 0px;
    margin: 0px;
    overflow: auto;
    font-family: monospace;
}

option.context {
  background-color: #DEF7FF;
}
option.introspection {
  background-color: #EBF4EB;
}

/*fixed part of the completion*/
.completions p b {
    font-weight:bold;
}

.completions p {
    background: #DDF;
    /*outline: none;
    padding: 0px;*/
    border-bottom: black solid 1px;
    padding: 1px;
    font-family: monospace;
}

pre.dialog {
    background-color: #f7f7f7;
    border: 1px solid #ddd;
    border-radius: 3px;
    padding: 0.4em;
    padding-left: 2em;
}

p.dialog {
    padding : 0.2em;
}

.shortcut_key {
    display: inline-block;
    width: 15ex;
    text-align: right;
    font-family: monospace;
}

.shortcut_descr {
}

/* Word-wrap output correctly.  This is the CSS3 spelling, though Firefox seems
   to not honor it correctly.  Webkit browsers (Chrome, rekonq, Safari) do.
 */
pre, code, kbd, samp { white-space: pre-wrap; }

#fonttest {
    font-family: monospace;
}

</style>
<style type="text/css">
.rendered_html {color: black;}
.rendered_html em {font-style: italic;}
.rendered_html strong {font-weight: bold;}
.rendered_html u {text-decoration: underline;}
.rendered_html :link { text-decoration: underline }
.rendered_html :visited { text-decoration: underline }
.rendered_html h1 {font-size: 197%; margin: .65em 0; font-weight: bold;}
.rendered_html h2 {font-size: 153.9%; margin: .75em 0; font-weight: bold;}
.rendered_html h3 {font-size: 123.1%; margin: .85em 0; font-weight: bold;}
.rendered_html h4 {font-size: 100% margin: 0.95em 0; font-weight: bold;}
.rendered_html h5 {font-size: 85%; margin: 1.5em 0; font-weight: bold;}
.rendered_html h6 {font-size: 77%; margin: 1.65em 0; font-weight: bold;}
.rendered_html ul {list-style:disc; margin: 1em 2em;}
.rendered_html ul ul {list-style:square; margin: 0em 2em;}
.rendered_html ul ul ul {list-style:circle; margin-left: 0em 2em;}
.rendered_html ol {list-style:upper-roman; margin: 1em 2em;}
.rendered_html ol ol {list-style:upper-alpha; margin: 0em 2em;}
.rendered_html ol ol ol {list-style:decimal; margin: 0em 2em;}
.rendered_html ol ol ol ol {list-style:lower-alpha; margin 0em 2em;}
.rendered_html ol ol ol ol ol {list-style:lower-roman; 0em 2em;}

.rendered_html hr {
    color: black;
    background-color: black;
}

.rendered_html pre {
    margin: 1em 2em;
}

.rendered_html blockquote {
    margin: 1em 2em;
}

.rendered_html table {
    border: 1px solid black;
    border-collapse: collapse;
    margin: 1em 2em;
}

.rendered_html td {
    border: 1px solid black;
    text-align: left;
    vertical-align: middle;
    padding: 4px;
}

.rendered_html th {
    border: 1px solid black;
    text-align: left;
    vertical-align: middle;
    padding: 4px;
    font-weight: bold;
}

.rendered_html tr {
    border: 1px solid black;
}    

.rendered_html p + p {
    margin-top: 1em;
}


</style>
<style type="text/css">
/* Overrides of notebook CSS for static HTML export

*/
body {
  overflow: visible;
  padding: 8px;
}
.input_area {
  padding: 0.4em;
}

</style>
<style type="text/css">
.highlight .hll { background-color: #ffffcc }
.highlight  { background: #f8f8f8; }
.highlight .c { color: #408080; font-style: italic } /* Comment */
.highlight .err { border: 1px solid #FF0000 } /* Error */
.highlight .k { color: #008000; font-weight: bold } /* Keyword */
.highlight .o { color: #666666 } /* Operator */
.highlight .cm { color: #408080; font-style: italic } /* Comment.Multiline */
.highlight .cp { color: #BC7A00 } /* Comment.Preproc */
.highlight .c1 { color: #408080; font-style: italic } /* Comment.Single */
.highlight .cs { color: #408080; font-style: italic } /* Comment.Special */
.highlight .gd { color: #A00000 } /* Generic.Deleted */
.highlight .ge { font-style: italic } /* Generic.Emph */
.highlight .gr { color: #FF0000 } /* Generic.Error */
.highlight .gh { color: #000080; font-weight: bold } /* Generic.Heading */
.highlight .gi { color: #00A000 } /* Generic.Inserted */
.highlight .go { color: #808080 } /* Generic.Output */
.highlight .gp { color: #000080; font-weight: bold } /* Generic.Prompt */
.highlight .gs { font-weight: bold } /* Generic.Strong */
.highlight .gu { color: #800080; font-weight: bold } /* Generic.Subheading */
.highlight .gt { color: #0040D0 } /* Generic.Traceback */
.highlight .kc { color: #008000; font-weight: bold } /* Keyword.Constant */
.highlight .kd { color: #008000; font-weight: bold } /* Keyword.Declaration */
.highlight .kn { color: #008000; font-weight: bold } /* Keyword.Namespace */
.highlight .kp { color: #008000 } /* Keyword.Pseudo */
.highlight .kr { color: #008000; font-weight: bold } /* Keyword.Reserved */
.highlight .kt { color: #B00040 } /* Keyword.Type */
.highlight .m { color: #666666 } /* Literal.Number */
.highlight .s { color: #BA2121 } /* Literal.String */
.highlight .na { color: #7D9029 } /* Name.Attribute */
.highlight .nb { color: #008000 } /* Name.Builtin */
.highlight .nc { color: #0000FF; font-weight: bold } /* Name.Class */
.highlight .no { color: #880000 } /* Name.Constant */
.highlight .nd { color: #AA22FF } /* Name.Decorator */
.highlight .ni { color: #999999; font-weight: bold } /* Name.Entity */
.highlight .ne { color: #D2413A; font-weight: bold } /* Name.Exception */
.highlight .nf { color: #0000FF } /* Name.Function */
.highlight .nl { color: #A0A000 } /* Name.Label */
.highlight .nn { color: #0000FF; font-weight: bold } /* Name.Namespace */
.highlight .nt { color: #008000; font-weight: bold } /* Name.Tag */
.highlight .nv { color: #19177C } /* Name.Variable */
.highlight .ow { color: #AA22FF; font-weight: bold } /* Operator.Word */
.highlight .w { color: #bbbbbb } /* Text.Whitespace */
.highlight .mf { color: #666666 } /* Literal.Number.Float */
.highlight .mh { color: #666666 } /* Literal.Number.Hex */
.highlight .mi { color: #666666 } /* Literal.Number.Integer */
.highlight .mo { color: #666666 } /* Literal.Number.Oct */
.highlight .sb { color: #BA2121 } /* Literal.String.Backtick */
.highlight .sc { color: #BA2121 } /* Literal.String.Char */
.highlight .sd { color: #BA2121; font-style: italic } /* Literal.String.Doc */
.highlight .s2 { color: #BA2121 } /* Literal.String.Double */
.highlight .se { color: #BB6622; font-weight: bold } /* Literal.String.Escape */
.highlight .sh { color: #BA2121 } /* Literal.String.Heredoc */
.highlight .si { color: #BB6688; font-weight: bold } /* Literal.String.Interpol */
.highlight .sx { color: #008000 } /* Literal.String.Other */
.highlight .sr { color: #BB6688 } /* Literal.String.Regex */
.highlight .s1 { color: #BA2121 } /* Literal.String.Single */
.highlight .ss { color: #19177C } /* Literal.String.Symbol */
.highlight .bp { color: #008000 } /* Name.Builtin.Pseudo */
.highlight .vc { color: #19177C } /* Name.Variable.Class */
.highlight .vg { color: #19177C } /* Name.Variable.Global */
.highlight .vi { color: #19177C } /* Name.Variable.Instance */
.highlight .il { color: #666666 } /* Literal.Number.Integer.Long */
</style>
<script type="text/javascript"src="https://c328740.ssl.cf1.rackcdn.com/mathjax/latest/MathJax.js?config=TeX-AMS_HTML">

</script>
<script type="text/javascript">
init_mathjax = function() {
    if (window.MathJax) {
        // MathJax loaded
        MathJax.Hub.Config({
            tex2jax: {
                inlineMath: [ ['$','$'], ["\\(","\\)"] ],
                displayMath: [ ['$$','$$'], ["\\[","\\]"] ]
            },
            displayAlign: 'left', // Change this to 'center' to center equations.
            "HTML-CSS": {
                styles: {'.MathJax_Display': {"margin": 0}}
            }
        });
        MathJax.Hub.Queue(["Typeset",MathJax.Hub]);
    }
}
init_mathjax();
</script>
</head>
<body>
<div style="position:absolute; right:1em; top:1em; padding:0.4em; border:1px dashed black;">
  <a href="http://github.com/ipython/ipython/raw/master/examples/notebooks/Custom Display Logic.ipynb">Download notebook</a>
</div>
<div class="text_cell_render border-box-sizing rendered_html">
<h1>
  Defining Custom Display Logic for Your Own Objects
</h1>
</div>
<div class="text_cell_render border-box-sizing rendered_html">
<h2>
  Overview
</h2>
</div>
<div class="text_cell_render border-box-sizing rendered_html">
<p>In Python, objects can declare their textual representation using the <code>__repr__</code> method.  IPython expands on this idea and allows objects to declare other, richer representations including:</p>
<ul>
<li>HTML</li>
<li>JSON</li>
<li>PNG</li>
<li>JPEG</li>
<li>SVG</li>
<li>LaTeX</li>
</ul>
<p>This Notebook shows how you can add custom display logic to your own classes, so that they can be displayed using these rich representations. There are two ways of accomplishing this:</p>
<ol>
<li>Implementing special display methods such as <code>_repr_html_</code>.</li>
<li>Registering a display function for a particular type.</li>
</ol>
<p>In this Notebook we show how both approaches work.</p>
</div>
<div class="text_cell_render border-box-sizing rendered_html">
<p>Parts of this notebook need the inline matplotlib backend:</p>
</div>
<div class="cell border-box-sizing code_cell vbox">
<div class="input hbox">
<div class="prompt input_prompt">In&nbsp;[1]:</div>
<div class="input_area box-flex1">
<div class="highlight"><pre><span class="o">%</span><span class="k">pylab</span> <span class="n">inline</span>
</pre></div>

</div>
</div>
<div class="vbox output_wrapper">
<div class="output vbox">
<div class="hbox output_area">
<div class="prompt output_prompt"></div>
<div class="box-flex1 output_subarea output_stream output_stdout">
<pre>
Welcome to pylab, a matplotlib-based Python environment [backend: module://IPython.kernel.zmq.pylab.backend_inline].
For more information, type &apos;help(pylab)&apos;.
</pre>
</div>
</div>
</div>
</div>
</div>
<div class="text_cell_render border-box-sizing rendered_html">
<h2>
  Implementing special display methods
</h2>
</div>
<div class="text_cell_render border-box-sizing rendered_html">
<p>The main idea of the first approach is that you have to implement special display methods, one for each representation you want to use. The names of the special methods are self explanatory:</p>
<ul>
<li><em>repr_html</em></li>
<li><em>repr_json</em></li>
<li><em>repr_jpeg</em></li>
<li><em>repr_png</em></li>
<li><em>repr_svg</em></li>
<li><em>repr_latex</em></li>
</ul>
<p>As an illustration, we build a class that holds data generated by sampling a Gaussian distribution with given mean and variance. Each frontend can then decide which representation it will display be default. Further, we show how to display a particular representation.</p>
</div>
<div class="text_cell_render border-box-sizing rendered_html">
<p>The next cell defines the Gaussian class:</p>
</div>
<div class="cell border-box-sizing code_cell vbox">
<div class="input hbox">
<div class="prompt input_prompt">In&nbsp;[2]:</div>
<div class="input_area box-flex1">
<div class="highlight"><pre><span class="kn">from</span> <span class="nn">IPython.core.pylabtools</span> <span class="kn">import</span> <span class="n">print_figure</span>
<span class="kn">from</span> <span class="nn">IPython.display</span> <span class="kn">import</span> <span class="n">Image</span><span class="p">,</span> <span class="n">SVG</span><span class="p">,</span> <span class="n">Math</span>

<span class="k">class</span> <span class="nc">Gaussian</span><span class="p">(</span><span class="nb">object</span><span class="p">):</span>
    <span class="sd">&quot;&quot;&quot;A simple object holding data sampled from a Gaussian distribution.</span>
<span class="sd">    &quot;&quot;&quot;</span>
    <span class="k">def</span> <span class="nf">__init__</span><span class="p">(</span><span class="bp">self</span><span class="p">,</span> <span class="n">mean</span><span class="o">=</span><span class="mi">0</span><span class="p">,</span> <span class="n">std</span><span class="o">=</span><span class="mi">1</span><span class="p">,</span> <span class="n">size</span><span class="o">=</span><span class="mi">1000</span><span class="p">):</span>
        <span class="bp">self</span><span class="o">.</span><span class="n">data</span> <span class="o">=</span> <span class="n">np</span><span class="o">.</span><span class="n">random</span><span class="o">.</span><span class="n">normal</span><span class="p">(</span><span class="n">mean</span><span class="p">,</span> <span class="n">std</span><span class="p">,</span> <span class="n">size</span><span class="p">)</span>
        <span class="bp">self</span><span class="o">.</span><span class="n">mean</span> <span class="o">=</span> <span class="n">mean</span>
        <span class="bp">self</span><span class="o">.</span><span class="n">std</span> <span class="o">=</span> <span class="n">std</span>
        <span class="bp">self</span><span class="o">.</span><span class="n">size</span> <span class="o">=</span> <span class="n">size</span>
        <span class="c"># For caching plots that may be expensive to compute</span>
        <span class="bp">self</span><span class="o">.</span><span class="n">_png_data</span> <span class="o">=</span> <span class="bp">None</span>
        <span class="bp">self</span><span class="o">.</span><span class="n">_svg_data</span> <span class="o">=</span> <span class="bp">None</span>
        
    <span class="k">def</span> <span class="nf">_figure_data</span><span class="p">(</span><span class="bp">self</span><span class="p">,</span> <span class="n">format</span><span class="p">):</span>
        <span class="n">fig</span><span class="p">,</span> <span class="n">ax</span> <span class="o">=</span> <span class="n">plt</span><span class="o">.</span><span class="n">subplots</span><span class="p">()</span>
        <span class="n">ax</span><span class="o">.</span><span class="n">plot</span><span class="p">(</span><span class="bp">self</span><span class="o">.</span><span class="n">data</span><span class="p">,</span> <span class="s">&#39;o&#39;</span><span class="p">)</span>
        <span class="n">ax</span><span class="o">.</span><span class="n">set_title</span><span class="p">(</span><span class="bp">self</span><span class="o">.</span><span class="n">_repr_latex_</span><span class="p">())</span>
        <span class="n">data</span> <span class="o">=</span> <span class="n">print_figure</span><span class="p">(</span><span class="n">fig</span><span class="p">,</span> <span class="n">format</span><span class="p">)</span>
        <span class="c"># We MUST close the figure, otherwise IPython&#39;s display machinery</span>
        <span class="c"># will pick it up and send it as output, resulting in a double display</span>
        <span class="n">plt</span><span class="o">.</span><span class="n">close</span><span class="p">(</span><span class="n">fig</span><span class="p">)</span>
        <span class="k">return</span> <span class="n">data</span>
    
    <span class="c"># Here we define the special repr methods that provide the IPython display protocol</span>
    <span class="c"># Note that for the two figures, we cache the figure data once computed.</span>
    
    <span class="k">def</span> <span class="nf">_repr_png_</span><span class="p">(</span><span class="bp">self</span><span class="p">):</span>
        <span class="k">if</span> <span class="bp">self</span><span class="o">.</span><span class="n">_png_data</span> <span class="ow">is</span> <span class="bp">None</span><span class="p">:</span>
            <span class="bp">self</span><span class="o">.</span><span class="n">_png_data</span> <span class="o">=</span> <span class="bp">self</span><span class="o">.</span><span class="n">_figure_data</span><span class="p">(</span><span class="s">&#39;png&#39;</span><span class="p">)</span>
        <span class="k">return</span> <span class="bp">self</span><span class="o">.</span><span class="n">_png_data</span>


    <span class="k">def</span> <span class="nf">_repr_svg_</span><span class="p">(</span><span class="bp">self</span><span class="p">):</span>
        <span class="k">if</span> <span class="bp">self</span><span class="o">.</span><span class="n">_svg_data</span> <span class="ow">is</span> <span class="bp">None</span><span class="p">:</span>
            <span class="bp">self</span><span class="o">.</span><span class="n">_svg_data</span> <span class="o">=</span> <span class="bp">self</span><span class="o">.</span><span class="n">_figure_data</span><span class="p">(</span><span class="s">&#39;svg&#39;</span><span class="p">)</span><span class="o">.</span><span class="n">decode</span><span class="p">(</span><span class="s">&#39;utf-8&#39;</span><span class="p">)</span>
        <span class="k">return</span> <span class="bp">self</span><span class="o">.</span><span class="n">_svg_data</span>
    
    <span class="k">def</span> <span class="nf">_repr_latex_</span><span class="p">(</span><span class="bp">self</span><span class="p">):</span>
        <span class="k">return</span> <span class="s">r&#39;$\mathcal{N}(\mu=</span><span class="si">%.2g</span><span class="s">, \sigma=</span><span class="si">%.2g</span><span class="s">),\ N=</span><span class="si">%d</span><span class="s">$&#39;</span> <span class="o">%</span> <span class="p">(</span><span class="bp">self</span><span class="o">.</span><span class="n">mean</span><span class="p">,</span>
                                                                 <span class="bp">self</span><span class="o">.</span><span class="n">std</span><span class="p">,</span> <span class="bp">self</span><span class="o">.</span><span class="n">size</span><span class="p">)</span>
    
    <span class="c"># We expose as properties some of the above reprs, so that the user can see them</span>
    <span class="c"># directly (since otherwise the client dictates which one it shows by default)</span>
    <span class="nd">@property</span>
    <span class="k">def</span> <span class="nf">png</span><span class="p">(</span><span class="bp">self</span><span class="p">):</span>
        <span class="k">return</span> <span class="n">Image</span><span class="p">(</span><span class="bp">self</span><span class="o">.</span><span class="n">_repr_png_</span><span class="p">(),</span> <span class="n">embed</span><span class="o">=</span><span class="bp">True</span><span class="p">)</span>
    
    <span class="nd">@property</span>
    <span class="k">def</span> <span class="nf">svg</span><span class="p">(</span><span class="bp">self</span><span class="p">):</span>
        <span class="k">return</span> <span class="n">SVG</span><span class="p">(</span><span class="bp">self</span><span class="o">.</span><span class="n">_repr_svg_</span><span class="p">())</span>
        
    <span class="nd">@property</span>
    <span class="k">def</span> <span class="nf">latex</span><span class="p">(</span><span class="bp">self</span><span class="p">):</span>
        <span class="k">return</span> <span class="n">Math</span><span class="p">(</span><span class="bp">self</span><span class="o">.</span><span class="n">_repr_latex_</span><span class="p">())</span>
    
    <span class="c"># An example of using a property to display rich information, in this case</span>
    <span class="c"># the histogram of the distribution.  We&#39;ve hardcoded the format to be png</span>
    <span class="c"># in this case, but in production code it would be trivial to make it an option</span>
    <span class="nd">@property</span>
    <span class="k">def</span> <span class="nf">hist</span><span class="p">(</span><span class="bp">self</span><span class="p">):</span>
        <span class="n">fig</span><span class="p">,</span> <span class="n">ax</span> <span class="o">=</span> <span class="n">plt</span><span class="o">.</span><span class="n">subplots</span><span class="p">()</span>
        <span class="n">ax</span><span class="o">.</span><span class="n">hist</span><span class="p">(</span><span class="bp">self</span><span class="o">.</span><span class="n">data</span><span class="p">,</span> <span class="n">bins</span><span class="o">=</span><span class="mi">100</span><span class="p">)</span>
        <span class="n">ax</span><span class="o">.</span><span class="n">set_title</span><span class="p">(</span><span class="bp">self</span><span class="o">.</span><span class="n">_repr_latex_</span><span class="p">())</span>
        <span class="n">data</span> <span class="o">=</span> <span class="n">print_figure</span><span class="p">(</span><span class="n">fig</span><span class="p">,</span> <span class="s">&#39;png&#39;</span><span class="p">)</span>
        <span class="n">plt</span><span class="o">.</span><span class="n">close</span><span class="p">(</span><span class="n">fig</span><span class="p">)</span>
        <span class="k">return</span> <span class="n">Image</span><span class="p">(</span><span class="n">data</span><span class="p">,</span> <span class="n">embed</span><span class="o">=</span><span class="bp">True</span><span class="p">)</span>
</pre></div>

</div>
</div>
</div>
<div class="text_cell_render border-box-sizing rendered_html">
<p>Now, we create an instance of the Gaussian distribution, whose default representation will be its LaTeX form:</p>
</div>
<div class="cell border-box-sizing code_cell vbox">
<div class="input hbox">
<div class="prompt input_prompt">In&nbsp;[3]:</div>
<div class="input_area box-flex1">
<div class="highlight"><pre><span class="n">x</span> <span class="o">=</span> <span class="n">Gaussian</span><span class="p">()</span>
<span class="n">x</span>
</pre></div>

</div>
</div>
<div class="vbox output_wrapper">
<div class="output vbox">
<div class="hbox output_area">
<div class="prompt output_prompt">Out[3]:</div>
<div class="box-flex1 output_subarea output_pyout">
$\mathcal{N}(\mu=0, \sigma=1),\ N=1000$
</div>
</div>
</div>
</div>
</div>
<div class="text_cell_render border-box-sizing rendered_html">
<p>We can view the data in png or svg formats:</p>
</div>
<div class="cell border-box-sizing code_cell vbox">
<div class="input hbox">
<div class="prompt input_prompt">In&nbsp;[4]:</div>
<div class="input_area box-flex1">
<div class="highlight"><pre><span class="n">x</span><span class="o">.</span><span class="n">png</span>
</pre></div>

</div>
</div>
<div class="vbox output_wrapper">
<div class="output vbox">
<div class="hbox output_area">
<div class="prompt output_prompt">Out[4]:</div>
<div class="box-flex1 output_subarea output_pyout">
<img src="data:image/png;base64,iVBORw0KGgoAAAANSUhEUgAAAXoAAAELCAYAAADX3k30AAAABHNCSVQICAgIfAhkiAAAAAlwSFlz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"></img>
</div>
</div>
</div>
</div>
</div>
<div class="cell border-box-sizing code_cell vbox">
<div class="input hbox">
<div class="prompt input_prompt">In&nbsp;[5]:</div>
<div class="input_area box-flex1">
<div class="highlight"><pre><span class="n">x</span><span class="o">.</span><span class="n">svg</span>
</pre></div>

</div>
</div>
<div class="vbox output_wrapper">
<div class="output vbox">
<div class="hbox output_area">
<div class="prompt output_prompt">Out[5]:</div>
<div class="box-flex1 output_subarea output_pyout">
<svg height="263pt" version="1.1" viewBox="0 0 378 263" width="378pt" xmlns="http://www.w3.org/2000/svg" xmlns:xlink="http://www.w3.org/1999/xlink">
 <defs>
  <style type="text/css">
*{stroke-linecap:square;stroke-linejoin:round;}
  </style>
 </defs>
 <g id="figure_1">
  <g id="patch_1">
   <path d=" M0 263.524 L378.166 263.524 L378.166 0 L0 0 z " style="fill:#ffffff;"/>
  </g>
  <g id="axes_1">
   <g id="patch_2">
    <path d=" M24.3219 244.76 L359.122 244.76 L359.122 21.56 L24.3219 21.56 z " style="fill:#ffffff;"/>
   </g>
   <g id="line2d_1">
    <defs>
     <path d=" M0 3 C0.795609 3 1.55874 2.6839 2.12132 2.12132 C2.6839 1.55874 3 0.795609 3 0 C3 -0.795609 2.6839 -1.55874 2.12132 -2.12132 C1.55874 -2.6839 0.795609 -3 0 -3 C-0.795609 -3 -1.55874 -2.6839 -2.12132 -2.12132 C-2.6839 -1.55874 -3 -0.795609 -3 0 C-3 0.795609 -2.6839 1.55874 -2.12132 2.12132 C-1.55874 2.6839 -0.795609 3 0 3 z " id="m14f64f4070"/>
    </defs>
    <g clip-path="url(#p3017017e97)">
     <use style="fill:#0000ff;stroke:#000000;stroke-linecap:butt;stroke-width:0.5;" x="24.321875" xlink:href="#m14f64f4070" y="119.572324784"/>
     <use style="fill:#0000ff;stroke:#000000;stroke-linecap:butt;stroke-width:0.5;" x="24.656675" xlink:href="#m14f64f4070" y="106.274119484"/>
     <use style="fill:#0000ff;stroke:#000000;stroke-linecap:butt;stroke-width:0.5;" x="24.991475" xlink:href="#m14f64f4070" y="184.794750107"/>
     <use style="fill:#0000ff;stroke:#000000;stroke-linecap:butt;stroke-width:0.5;" x="25.326275" xlink:href="#m14f64f4070" y="122.112379581"/>
     <use style="fill:#0000ff;stroke:#000000;stroke-linecap:butt;stroke-width:0.5;" x="25.661075" xlink:href="#m14f64f4070" y="102.591922765"/>
     <use style="fill:#0000ff;stroke:#000000;stroke-linecap:butt;stroke-width:0.5;" x="25.995875" xlink:href="#m14f64f4070" y="149.174381999"/>
     <use style="fill:#0000ff;stroke:#000000;stroke-linecap:butt;stroke-width:0.5;" x="26.330675" xlink:href="#m14f64f4070" y="116.598579037"/>
     <use style="fill:#0000ff;stroke:#000000;stroke-linecap:butt;stroke-width:0.5;" x="26.665475" xlink:href="#m14f64f4070" y="137.312609604"/>
     <use style="fill:#0000ff;stroke:#000000;stroke-linecap:butt;stroke-width:0.5;" x="27.000275" xlink:href="#m14f64f4070" y="117.755390524"/>
     <use style="fill:#0000ff;stroke:#000000;stroke-linecap:butt;stroke-width:0.5;" x="27.335075" xlink:href="#m14f64f4070" y="108.772812602"/>
     <use style="fill:#0000ff;stroke:#000000;stroke-linecap:butt;stroke-width:0.5;" x="27.669875" xlink:href="#m14f64f4070" y="163.859374518"/>
     <use style="fill:#0000ff;stroke:#000000;stroke-linecap:butt;stroke-width:0.5;" x="28.004675" xlink:href="#m14f64f4070" y="139.105987231"/>
     <use style="fill:#0000ff;stroke:#000000;stroke-linecap:butt;stroke-width:0.5;" x="28.339475" xlink:href="#m14f64f4070" y="131.385317011"/>
     <use style="fill:#0000ff;stroke:#000000;stroke-linecap:butt;stroke-width:0.5;" x="28.674275" xlink:href="#m14f64f4070" y="210.801930392"/>
     <use style="fill:#0000ff;stroke:#000000;stroke-linecap:butt;stroke-width:0.5;" x="29.009075" xlink:href="#m14f64f4070" y="167.95191591"/>
     <use style="fill:#0000ff;stroke:#000000;stroke-linecap:butt;stroke-width:0.5;" x="29.343875" xlink:href="#m14f64f4070" y="132.354052741"/>
     <use style="fill:#0000ff;stroke:#000000;stroke-linecap:butt;stroke-width:0.5;" x="29.678675" xlink:href="#m14f64f4070" y="104.489588523"/>
     <use style="fill:#0000ff;stroke:#000000;stroke-linecap:butt;stroke-width:0.5;" x="30.013475" xlink:href="#m14f64f4070" y="124.525596741"/>
     <use style="fill:#0000ff;stroke:#000000;stroke-linecap:butt;stroke-width:0.5;" x="30.348275" xlink:href="#m14f64f4070" y="96.7127554573"/>
     <use style="fill:#0000ff;stroke:#000000;stroke-linecap:butt;stroke-width:0.5;" x="30.683075" xlink:href="#m14f64f4070" y="87.6477566191"/>
     <use style="fill:#0000ff;stroke:#000000;stroke-linecap:butt;stroke-width:0.5;" x="31.017875" xlink:href="#m14f64f4070" y="142.979798269"/>
     <use style="fill:#0000ff;stroke:#000000;stroke-linecap:butt;stroke-width:0.5;" x="31.352675" xlink:href="#m14f64f4070" y="109.783125479"/>
     <use style="fill:#0000ff;stroke:#000000;stroke-linecap:butt;stroke-width:0.5;" x="31.687475" xlink:href="#m14f64f4070" y="123.892456335"/>
     <use style="fill:#0000ff;stroke:#000000;stroke-linecap:butt;stroke-width:0.5;" x="32.022275" xlink:href="#m14f64f4070" y="109.968743302"/>
     <use style="fill:#0000ff;stroke:#000000;stroke-linecap:butt;stroke-width:0.5;" x="32.357075" xlink:href="#m14f64f4070" y="125.442020209"/>
     <use style="fill:#0000ff;stroke:#000000;stroke-linecap:butt;stroke-width:0.5;" x="32.691875" xlink:href="#m14f64f4070" y="131.66030143"/>
     <use style="fill:#0000ff;stroke:#000000;stroke-linecap:butt;stroke-width:0.5;" x="33.026675" xlink:href="#m14f64f4070" y="87.7005770354"/>
     <use style="fill:#0000ff;stroke:#000000;stroke-linecap:butt;stroke-width:0.5;" x="33.361475" xlink:href="#m14f64f4070" y="90.656858896"/>
     <use style="fill:#0000ff;stroke:#000000;stroke-linecap:butt;stroke-width:0.5;" x="33.696275" xlink:href="#m14f64f4070" y="144.034749048"/>
     <use style="fill:#0000ff;stroke:#000000;stroke-linecap:butt;stroke-width:0.5;" x="34.031075" xlink:href="#m14f64f4070" y="200.542038238"/>
     <use style="fill:#0000ff;stroke:#000000;stroke-linecap:butt;stroke-width:0.5;" x="34.365875" xlink:href="#m14f64f4070" y="153.458161412"/>
     <use style="fill:#0000ff;stroke:#000000;stroke-linecap:butt;stroke-width:0.5;" x="34.700675" xlink:href="#m14f64f4070" y="125.458670385"/>
     <use style="fill:#0000ff;stroke:#000000;stroke-linecap:butt;stroke-width:0.5;" x="35.035475" xlink:href="#m14f64f4070" y="166.3162809"/>
     <use style="fill:#0000ff;stroke:#000000;stroke-linecap:butt;stroke-width:0.5;" x="35.370275" xlink:href="#m14f64f4070" y="165.434998605"/>
     <use style="fill:#0000ff;stroke:#000000;stroke-linecap:butt;stroke-width:0.5;" x="35.705075" xlink:href="#m14f64f4070" y="137.462956841"/>
     <use style="fill:#0000ff;stroke:#000000;stroke-linecap:butt;stroke-width:0.5;" x="36.039875" xlink:href="#m14f64f4070" y="94.5885801967"/>
     <use style="fill:#0000ff;stroke:#000000;stroke-linecap:butt;stroke-width:0.5;" x="36.374675" xlink:href="#m14f64f4070" y="107.273945987"/>
     <use style="fill:#0000ff;stroke:#000000;stroke-linecap:butt;stroke-width:0.5;" x="36.709475" xlink:href="#m14f64f4070" y="108.775868896"/>
     <use style="fill:#0000ff;stroke:#000000;stroke-linecap:butt;stroke-width:0.5;" x="37.044275" xlink:href="#m14f64f4070" y="120.202848998"/>
     <use style="fill:#0000ff;stroke:#000000;stroke-linecap:butt;stroke-width:0.5;" x="37.379075" xlink:href="#m14f64f4070" y="150.180414221"/>
     <use style="fill:#0000ff;stroke:#000000;stroke-linecap:butt;stroke-width:0.5;" x="37.713875" xlink:href="#m14f64f4070" y="129.631497357"/>
     <use style="fill:#0000ff;stroke:#000000;stroke-linecap:butt;stroke-width:0.5;" x="38.048675" xlink:href="#m14f64f4070" y="99.0141870669"/>
     <use style="fill:#0000ff;stroke:#000000;stroke-linecap:butt;stroke-width:0.5;" x="38.383475" xlink:href="#m14f64f4070" y="125.662883305"/>
     <use style="fill:#0000ff;stroke:#000000;stroke-linecap:butt;stroke-width:0.5;" x="38.718275" xlink:href="#m14f64f4070" y="75.4580491506"/>
     <use style="fill:#0000ff;stroke:#000000;stroke-linecap:butt;stroke-width:0.5;" x="39.053075" xlink:href="#m14f64f4070" y="139.945403563"/>
     <use style="fill:#0000ff;stroke:#000000;stroke-linecap:butt;stroke-width:0.5;" x="39.387875" xlink:href="#m14f64f4070" y="110.412846688"/>
     <use style="fill:#0000ff;stroke:#000000;stroke-linecap:butt;stroke-width:0.5;" x="39.722675" xlink:href="#m14f64f4070" y="207.177657778"/>
     <use style="fill:#0000ff;stroke:#000000;stroke-linecap:butt;stroke-width:0.5;" x="40.057475" xlink:href="#m14f64f4070" y="121.927966872"/>
     <use style="fill:#0000ff;stroke:#000000;stroke-linecap:butt;stroke-width:0.5;" x="40.392275" xlink:href="#m14f64f4070" y="158.063435586"/>
     <use style="fill:#0000ff;stroke:#000000;stroke-linecap:butt;stroke-width:0.5;" x="40.727075" xlink:href="#m14f64f4070" y="112.125293696"/>
     <use style="fill:#0000ff;stroke:#000000;stroke-linecap:butt;stroke-width:0.5;" x="41.061875" xlink:href="#m14f64f4070" y="115.842375503"/>
     <use style="fill:#0000ff;stroke:#000000;stroke-linecap:butt;stroke-width:0.5;" x="41.396675" xlink:href="#m14f64f4070" y="153.037890606"/>
     <use style="fill:#0000ff;stroke:#000000;stroke-linecap:butt;stroke-width:0.5;" x="41.731475" xlink:href="#m14f64f4070" y="136.72543609"/>
     <use style="fill:#0000ff;stroke:#000000;stroke-linecap:butt;stroke-width:0.5;" x="42.066275" xlink:href="#m14f64f4070" y="118.250707066"/>
     <use style="fill:#0000ff;stroke:#000000;stroke-linecap:butt;stroke-width:0.5;" x="42.401075" xlink:href="#m14f64f4070" y="141.448116288"/>
     <use style="fill:#0000ff;stroke:#000000;stroke-linecap:butt;stroke-width:0.5;" x="42.735875" xlink:href="#m14f64f4070" y="136.353475636"/>
     <use style="fill:#0000ff;stroke:#000000;stroke-linecap:butt;stroke-width:0.5;" x="43.070675" xlink:href="#m14f64f4070" y="142.465107276"/>
     <use style="fill:#0000ff;stroke:#000000;stroke-linecap:butt;stroke-width:0.5;" x="43.405475" xlink:href="#m14f64f4070" y="118.539614056"/>
     <use style="fill:#0000ff;stroke:#000000;stroke-linecap:butt;stroke-width:0.5;" x="43.740275" xlink:href="#m14f64f4070" y="112.87302871"/>
     <use style="fill:#0000ff;stroke:#000000;stroke-linecap:butt;stroke-width:0.5;" x="44.075075" xlink:href="#m14f64f4070" y="134.527288301"/>
     <use style="fill:#0000ff;stroke:#000000;stroke-linecap:butt;stroke-width:0.5;" x="44.409875" xlink:href="#m14f64f4070" y="211.727819774"/>
     <use style="fill:#0000ff;stroke:#000000;stroke-linecap:butt;stroke-width:0.5;" x="44.744675" xlink:href="#m14f64f4070" y="151.390661036"/>
     <use style="fill:#0000ff;stroke:#000000;stroke-linecap:butt;stroke-width:0.5;" x="45.079475" xlink:href="#m14f64f4070" y="151.759608939"/>
     <use style="fill:#0000ff;stroke:#000000;stroke-linecap:butt;stroke-width:0.5;" x="45.414275" xlink:href="#m14f64f4070" y="185.815498612"/>
     <use style="fill:#0000ff;stroke:#000000;stroke-linecap:butt;stroke-width:0.5;" x="45.749075" xlink:href="#m14f64f4070" y="156.167144451"/>
     <use style="fill:#0000ff;stroke:#000000;stroke-linecap:butt;stroke-width:0.5;" x="46.083875" xlink:href="#m14f64f4070" y="148.559931506"/>
     <use style="fill:#0000ff;stroke:#000000;stroke-linecap:butt;stroke-width:0.5;" x="46.418675" xlink:href="#m14f64f4070" y="124.014689158"/>
     <use style="fill:#0000ff;stroke:#000000;stroke-linecap:butt;stroke-width:0.5;" x="46.753475" xlink:href="#m14f64f4070" y="105.876325073"/>
     <use style="fill:#0000ff;stroke:#000000;stroke-linecap:butt;stroke-width:0.5;" x="47.088275" xlink:href="#m14f64f4070" y="98.5414908632"/>
     <use style="fill:#0000ff;stroke:#000000;stroke-linecap:butt;stroke-width:0.5;" x="47.423075" xlink:href="#m14f64f4070" y="99.7093385071"/>
     <use style="fill:#0000ff;stroke:#000000;stroke-linecap:butt;stroke-width:0.5;" x="47.757875" xlink:href="#m14f64f4070" y="191.072675158"/>
     <use style="fill:#0000ff;stroke:#000000;stroke-linecap:butt;stroke-width:0.5;" x="48.092675" xlink:href="#m14f64f4070" y="115.043780547"/>
     <use style="fill:#0000ff;stroke:#000000;stroke-linecap:butt;stroke-width:0.5;" x="48.427475" xlink:href="#m14f64f4070" y="94.4146028945"/>
     <use style="fill:#0000ff;stroke:#000000;stroke-linecap:butt;stroke-width:0.5;" x="48.762275" xlink:href="#m14f64f4070" y="120.991353522"/>
     <use style="fill:#0000ff;stroke:#000000;stroke-linecap:butt;stroke-width:0.5;" x="49.097075" xlink:href="#m14f64f4070" y="120.352919173"/>
     <use style="fill:#0000ff;stroke:#000000;stroke-linecap:butt;stroke-width:0.5;" x="49.431875" xlink:href="#m14f64f4070" y="165.602887017"/>
     <use style="fill:#0000ff;stroke:#000000;stroke-linecap:butt;stroke-width:0.5;" x="49.766675" xlink:href="#m14f64f4070" y="129.354528444"/>
     <use style="fill:#0000ff;stroke:#000000;stroke-linecap:butt;stroke-width:0.5;" x="50.101475" xlink:href="#m14f64f4070" y="137.277898943"/>
     <use style="fill:#0000ff;stroke:#000000;stroke-linecap:butt;stroke-width:0.5;" x="50.436275" xlink:href="#m14f64f4070" y="148.448776886"/>
     <use style="fill:#0000ff;stroke:#000000;stroke-linecap:butt;stroke-width:0.5;" x="50.771075" xlink:href="#m14f64f4070" y="130.410400399"/>
     <use style="fill:#0000ff;stroke:#000000;stroke-linecap:butt;stroke-width:0.5;" x="51.105875" xlink:href="#m14f64f4070" y="120.003600903"/>
     <use style="fill:#0000ff;stroke:#000000;stroke-linecap:butt;stroke-width:0.5;" x="51.440675" xlink:href="#m14f64f4070" y="145.603073932"/>
     <use style="fill:#0000ff;stroke:#000000;stroke-linecap:butt;stroke-width:0.5;" x="51.775475" xlink:href="#m14f64f4070" y="159.353998784"/>
     <use style="fill:#0000ff;stroke:#000000;stroke-linecap:butt;stroke-width:0.5;" x="52.110275" xlink:href="#m14f64f4070" y="138.013773667"/>
     <use style="fill:#0000ff;stroke:#000000;stroke-linecap:butt;stroke-width:0.5;" x="52.445075" xlink:href="#m14f64f4070" y="153.144299347"/>
     <use style="fill:#0000ff;stroke:#000000;stroke-linecap:butt;stroke-width:0.5;" x="52.779875" xlink:href="#m14f64f4070" y="155.990269491"/>
     <use style="fill:#0000ff;stroke:#000000;stroke-linecap:butt;stroke-width:0.5;" x="53.114675" xlink:href="#m14f64f4070" y="126.660984059"/>
     <use style="fill:#0000ff;stroke:#000000;stroke-linecap:butt;stroke-width:0.5;" x="53.449475" xlink:href="#m14f64f4070" y="83.7717893869"/>
     <use style="fill:#0000ff;stroke:#000000;stroke-linecap:butt;stroke-width:0.5;" x="53.784275" xlink:href="#m14f64f4070" y="147.185958847"/>
     <use style="fill:#0000ff;stroke:#000000;stroke-linecap:butt;stroke-width:0.5;" x="54.119075" xlink:href="#m14f64f4070" y="129.567608995"/>
     <use style="fill:#0000ff;stroke:#000000;stroke-linecap:butt;stroke-width:0.5;" x="54.453875" xlink:href="#m14f64f4070" y="117.026099672"/>
     <use style="fill:#0000ff;stroke:#000000;stroke-linecap:butt;stroke-width:0.5;" x="54.788675" xlink:href="#m14f64f4070" y="148.176410043"/>
     <use style="fill:#0000ff;stroke:#000000;stroke-linecap:butt;stroke-width:0.5;" x="55.123475" xlink:href="#m14f64f4070" y="142.186460634"/>
     <use style="fill:#0000ff;stroke:#000000;stroke-linecap:butt;stroke-width:0.5;" x="55.458275" xlink:href="#m14f64f4070" y="138.875088398"/>
     <use style="fill:#0000ff;stroke:#000000;stroke-linecap:butt;stroke-width:0.5;" x="55.793075" xlink:href="#m14f64f4070" y="161.74816313"/>
     <use style="fill:#0000ff;stroke:#000000;stroke-linecap:butt;stroke-width:0.5;" x="56.127875" xlink:href="#m14f64f4070" y="112.970428122"/>
     <use style="fill:#0000ff;stroke:#000000;stroke-linecap:butt;stroke-width:0.5;" x="56.462675" xlink:href="#m14f64f4070" y="155.405693256"/>
     <use style="fill:#0000ff;stroke:#000000;stroke-linecap:butt;stroke-width:0.5;" x="56.797475" xlink:href="#m14f64f4070" y="113.565023179"/>
     <use style="fill:#0000ff;stroke:#000000;stroke-linecap:butt;stroke-width:0.5;" x="57.132275" xlink:href="#m14f64f4070" y="140.879538586"/>
     <use style="fill:#0000ff;stroke:#000000;stroke-linecap:butt;stroke-width:0.5;" x="57.467075" xlink:href="#m14f64f4070" y="80.7389741136"/>
     <use style="fill:#0000ff;stroke:#000000;stroke-linecap:butt;stroke-width:0.5;" x="57.801875" xlink:href="#m14f64f4070" y="127.236362453"/>
     <use style="fill:#0000ff;stroke:#000000;stroke-linecap:butt;stroke-width:0.5;" x="58.136675" xlink:href="#m14f64f4070" y="124.33718877"/>
     <use style="fill:#0000ff;stroke:#000000;stroke-linecap:butt;stroke-width:0.5;" x="58.471475" xlink:href="#m14f64f4070" y="142.533427916"/>
     <use style="fill:#0000ff;stroke:#000000;stroke-linecap:butt;stroke-width:0.5;" x="58.806275" xlink:href="#m14f64f4070" y="193.880410647"/>
     <use style="fill:#0000ff;stroke:#000000;stroke-linecap:butt;stroke-width:0.5;" x="59.141075" xlink:href="#m14f64f4070" y="181.427730063"/>
     <use style="fill:#0000ff;stroke:#000000;stroke-linecap:butt;stroke-width:0.5;" x="59.475875" xlink:href="#m14f64f4070" y="118.425651814"/>
     <use style="fill:#0000ff;stroke:#000000;stroke-linecap:butt;stroke-width:0.5;" x="59.810675" xlink:href="#m14f64f4070" y="82.2234920962"/>
     <use style="fill:#0000ff;stroke:#000000;stroke-linecap:butt;stroke-width:0.5;" x="60.145475" xlink:href="#m14f64f4070" y="134.81394194"/>
     <use style="fill:#0000ff;stroke:#000000;stroke-linecap:butt;stroke-width:0.5;" x="60.480275" xlink:href="#m14f64f4070" y="201.472126119"/>
     <use style="fill:#0000ff;stroke:#000000;stroke-linecap:butt;stroke-width:0.5;" x="60.815075" xlink:href="#m14f64f4070" y="162.134716683"/>
     <use style="fill:#0000ff;stroke:#000000;stroke-linecap:butt;stroke-width:0.5;" x="61.149875" xlink:href="#m14f64f4070" y="140.570183873"/>
     <use style="fill:#0000ff;stroke:#000000;stroke-linecap:butt;stroke-width:0.5;" x="61.484675" xlink:href="#m14f64f4070" y="173.607250716"/>
     <use style="fill:#0000ff;stroke:#000000;stroke-linecap:butt;stroke-width:0.5;" x="61.819475" xlink:href="#m14f64f4070" y="140.832045784"/>
     <use style="fill:#0000ff;stroke:#000000;stroke-linecap:butt;stroke-width:0.5;" x="62.154275" xlink:href="#m14f64f4070" y="125.5759309"/>
     <use style="fill:#0000ff;stroke:#000000;stroke-linecap:butt;stroke-width:0.5;" x="62.489075" xlink:href="#m14f64f4070" y="109.020844436"/>
     <use style="fill:#0000ff;stroke:#000000;stroke-linecap:butt;stroke-width:0.5;" x="62.823875" xlink:href="#m14f64f4070" y="144.455868804"/>
     <use style="fill:#0000ff;stroke:#000000;stroke-linecap:butt;stroke-width:0.5;" x="63.158675" xlink:href="#m14f64f4070" y="151.959644847"/>
     <use style="fill:#0000ff;stroke:#000000;stroke-linecap:butt;stroke-width:0.5;" x="63.493475" xlink:href="#m14f64f4070" y="170.053539081"/>
     <use style="fill:#0000ff;stroke:#000000;stroke-linecap:butt;stroke-width:0.5;" x="63.828275" xlink:href="#m14f64f4070" y="131.215585167"/>
     <use style="fill:#0000ff;stroke:#000000;stroke-linecap:butt;stroke-width:0.5;" x="64.163075" xlink:href="#m14f64f4070" y="137.424957264"/>
     <use style="fill:#0000ff;stroke:#000000;stroke-linecap:butt;stroke-width:0.5;" x="64.497875" xlink:href="#m14f64f4070" y="109.383804434"/>
     <use style="fill:#0000ff;stroke:#000000;stroke-linecap:butt;stroke-width:0.5;" x="64.832675" xlink:href="#m14f64f4070" y="140.830979417"/>
     <use style="fill:#0000ff;stroke:#000000;stroke-linecap:butt;stroke-width:0.5;" x="65.167475" xlink:href="#m14f64f4070" y="145.903919141"/>
     <use style="fill:#0000ff;stroke:#000000;stroke-linecap:butt;stroke-width:0.5;" x="65.502275" xlink:href="#m14f64f4070" y="114.387474246"/>
     <use style="fill:#0000ff;stroke:#000000;stroke-linecap:butt;stroke-width:0.5;" x="65.837075" xlink:href="#m14f64f4070" y="156.231100996"/>
     <use style="fill:#0000ff;stroke:#000000;stroke-linecap:butt;stroke-width:0.5;" x="66.171875" xlink:href="#m14f64f4070" y="146.19790056"/>
     <use style="fill:#0000ff;stroke:#000000;stroke-linecap:butt;stroke-width:0.5;" x="66.506675" xlink:href="#m14f64f4070" y="132.083164039"/>
     <use style="fill:#0000ff;stroke:#000000;stroke-linecap:butt;stroke-width:0.5;" x="66.841475" xlink:href="#m14f64f4070" y="96.8416187926"/>
     <use style="fill:#0000ff;stroke:#000000;stroke-linecap:butt;stroke-width:0.5;" x="67.176275" xlink:href="#m14f64f4070" y="137.817033997"/>
     <use style="fill:#0000ff;stroke:#000000;stroke-linecap:butt;stroke-width:0.5;" x="67.511075" xlink:href="#m14f64f4070" y="101.60612188"/>
     <use style="fill:#0000ff;stroke:#000000;stroke-linecap:butt;stroke-width:0.5;" x="67.845875" xlink:href="#m14f64f4070" y="105.987842295"/>
     <use style="fill:#0000ff;stroke:#000000;stroke-linecap:butt;stroke-width:0.5;" x="68.180675" xlink:href="#m14f64f4070" y="216.908453301"/>
     <use style="fill:#0000ff;stroke:#000000;stroke-linecap:butt;stroke-width:0.5;" x="68.515475" xlink:href="#m14f64f4070" y="114.599757989"/>
     <use style="fill:#0000ff;stroke:#000000;stroke-linecap:butt;stroke-width:0.5;" x="68.850275" xlink:href="#m14f64f4070" y="129.367294231"/>
     <use style="fill:#0000ff;stroke:#000000;stroke-linecap:butt;stroke-width:0.5;" x="69.185075" xlink:href="#m14f64f4070" y="134.062482056"/>
     <use style="fill:#0000ff;stroke:#000000;stroke-linecap:butt;stroke-width:0.5;" x="69.519875" xlink:href="#m14f64f4070" y="93.0147485023"/>
     <use style="fill:#0000ff;stroke:#000000;stroke-linecap:butt;stroke-width:0.5;" x="69.854675" xlink:href="#m14f64f4070" y="125.36697989"/>
     <use style="fill:#0000ff;stroke:#000000;stroke-linecap:butt;stroke-width:0.5;" x="70.189475" xlink:href="#m14f64f4070" y="129.99943322"/>
     <use style="fill:#0000ff;stroke:#000000;stroke-linecap:butt;stroke-width:0.5;" x="70.524275" xlink:href="#m14f64f4070" y="150.679719464"/>
     <use style="fill:#0000ff;stroke:#000000;stroke-linecap:butt;stroke-width:0.5;" x="70.859075" xlink:href="#m14f64f4070" y="119.428991065"/>
     <use style="fill:#0000ff;stroke:#000000;stroke-linecap:butt;stroke-width:0.5;" x="71.193875" xlink:href="#m14f64f4070" y="157.118058093"/>
     <use style="fill:#0000ff;stroke:#000000;stroke-linecap:butt;stroke-width:0.5;" x="71.528675" xlink:href="#m14f64f4070" y="124.432477314"/>
     <use style="fill:#0000ff;stroke:#000000;stroke-linecap:butt;stroke-width:0.5;" x="71.863475" xlink:href="#m14f64f4070" y="143.009602435"/>
     <use style="fill:#0000ff;stroke:#000000;stroke-linecap:butt;stroke-width:0.5;" x="72.198275" xlink:href="#m14f64f4070" y="96.3766443516"/>
     <use style="fill:#0000ff;stroke:#000000;stroke-linecap:butt;stroke-width:0.5;" x="72.533075" xlink:href="#m14f64f4070" y="129.526726214"/>
     <use style="fill:#0000ff;stroke:#000000;stroke-linecap:butt;stroke-width:0.5;" x="72.867875" xlink:href="#m14f64f4070" y="127.575620093"/>
     <use style="fill:#0000ff;stroke:#000000;stroke-linecap:butt;stroke-width:0.5;" x="73.202675" xlink:href="#m14f64f4070" y="156.515950939"/>
     <use style="fill:#0000ff;stroke:#000000;stroke-linecap:butt;stroke-width:0.5;" x="73.537475" xlink:href="#m14f64f4070" y="152.166670055"/>
     <use style="fill:#0000ff;stroke:#000000;stroke-linecap:butt;stroke-width:0.5;" x="73.872275" xlink:href="#m14f64f4070" y="139.373870796"/>
     <use style="fill:#0000ff;stroke:#000000;stroke-linecap:butt;stroke-width:0.5;" x="74.207075" xlink:href="#m14f64f4070" y="123.408166379"/>
     <use style="fill:#0000ff;stroke:#000000;stroke-linecap:butt;stroke-width:0.5;" x="74.541875" xlink:href="#m14f64f4070" y="105.353111852"/>
     <use style="fill:#0000ff;stroke:#000000;stroke-linecap:butt;stroke-width:0.5;" x="74.876675" xlink:href="#m14f64f4070" y="108.720023312"/>
     <use style="fill:#0000ff;stroke:#000000;stroke-linecap:butt;stroke-width:0.5;" x="75.211475" xlink:href="#m14f64f4070" y="73.2901916585"/>
     <use style="fill:#0000ff;stroke:#000000;stroke-linecap:butt;stroke-width:0.5;" x="75.546275" xlink:href="#m14f64f4070" y="114.525882755"/>
     <use style="fill:#0000ff;stroke:#000000;stroke-linecap:butt;stroke-width:0.5;" x="75.881075" xlink:href="#m14f64f4070" y="139.203164848"/>
     <use style="fill:#0000ff;stroke:#000000;stroke-linecap:butt;stroke-width:0.5;" x="76.215875" xlink:href="#m14f64f4070" y="103.635581933"/>
     <use style="fill:#0000ff;stroke:#000000;stroke-linecap:butt;stroke-width:0.5;" x="76.550675" xlink:href="#m14f64f4070" y="88.6530083672"/>
     <use style="fill:#0000ff;stroke:#000000;stroke-linecap:butt;stroke-width:0.5;" x="76.885475" xlink:href="#m14f64f4070" y="132.666361201"/>
     <use style="fill:#0000ff;stroke:#000000;stroke-linecap:butt;stroke-width:0.5;" x="77.220275" xlink:href="#m14f64f4070" y="128.928123029"/>
     <use style="fill:#0000ff;stroke:#000000;stroke-linecap:butt;stroke-width:0.5;" x="77.555075" xlink:href="#m14f64f4070" y="150.880578508"/>
     <use style="fill:#0000ff;stroke:#000000;stroke-linecap:butt;stroke-width:0.5;" x="77.889875" xlink:href="#m14f64f4070" y="160.744580332"/>
     <use style="fill:#0000ff;stroke:#000000;stroke-linecap:butt;stroke-width:0.5;" x="78.224675" xlink:href="#m14f64f4070" y="133.003908856"/>
     <use style="fill:#0000ff;stroke:#000000;stroke-linecap:butt;stroke-width:0.5;" x="78.559475" xlink:href="#m14f64f4070" y="154.242674786"/>
     <use style="fill:#0000ff;stroke:#000000;stroke-linecap:butt;stroke-width:0.5;" x="78.894275" xlink:href="#m14f64f4070" y="123.554898825"/>
     <use style="fill:#0000ff;stroke:#000000;stroke-linecap:butt;stroke-width:0.5;" x="79.229075" xlink:href="#m14f64f4070" y="122.205235028"/>
     <use style="fill:#0000ff;stroke:#000000;stroke-linecap:butt;stroke-width:0.5;" x="79.563875" xlink:href="#m14f64f4070" y="130.700101261"/>
     <use style="fill:#0000ff;stroke:#000000;stroke-linecap:butt;stroke-width:0.5;" x="79.898675" xlink:href="#m14f64f4070" y="141.769231104"/>
     <use style="fill:#0000ff;stroke:#000000;stroke-linecap:butt;stroke-width:0.5;" x="80.233475" xlink:href="#m14f64f4070" y="108.556551499"/>
     <use style="fill:#0000ff;stroke:#000000;stroke-linecap:butt;stroke-width:0.5;" x="80.568275" xlink:href="#m14f64f4070" y="71.4898635695"/>
     <use style="fill:#0000ff;stroke:#000000;stroke-linecap:butt;stroke-width:0.5;" x="80.903075" xlink:href="#m14f64f4070" y="127.93616546"/>
     <use style="fill:#0000ff;stroke:#000000;stroke-linecap:butt;stroke-width:0.5;" x="81.237875" xlink:href="#m14f64f4070" y="143.864538513"/>
     <use style="fill:#0000ff;stroke:#000000;stroke-linecap:butt;stroke-width:0.5;" x="81.572675" xlink:href="#m14f64f4070" y="104.782289017"/>
     <use style="fill:#0000ff;stroke:#000000;stroke-linecap:butt;stroke-width:0.5;" x="81.907475" xlink:href="#m14f64f4070" y="144.448530825"/>
     <use style="fill:#0000ff;stroke:#000000;stroke-linecap:butt;stroke-width:0.5;" x="82.242275" xlink:href="#m14f64f4070" y="190.964927996"/>
     <use style="fill:#0000ff;stroke:#000000;stroke-linecap:butt;stroke-width:0.5;" x="82.577075" xlink:href="#m14f64f4070" y="147.741379851"/>
     <use style="fill:#0000ff;stroke:#000000;stroke-linecap:butt;stroke-width:0.5;" x="82.911875" xlink:href="#m14f64f4070" y="97.7037600618"/>
     <use style="fill:#0000ff;stroke:#000000;stroke-linecap:butt;stroke-width:0.5;" x="83.246675" xlink:href="#m14f64f4070" y="136.737381525"/>
     <use style="fill:#0000ff;stroke:#000000;stroke-linecap:butt;stroke-width:0.5;" x="83.581475" xlink:href="#m14f64f4070" y="133.419604301"/>
     <use style="fill:#0000ff;stroke:#000000;stroke-linecap:butt;stroke-width:0.5;" x="83.916275" xlink:href="#m14f64f4070" y="95.5113461734"/>
     <use style="fill:#0000ff;stroke:#000000;stroke-linecap:butt;stroke-width:0.5;" x="84.251075" xlink:href="#m14f64f4070" y="122.973588942"/>
     <use style="fill:#0000ff;stroke:#000000;stroke-linecap:butt;stroke-width:0.5;" x="84.585875" xlink:href="#m14f64f4070" y="154.710566169"/>
     <use style="fill:#0000ff;stroke:#000000;stroke-linecap:butt;stroke-width:0.5;" x="84.920675" xlink:href="#m14f64f4070" y="153.855702866"/>
     <use style="fill:#0000ff;stroke:#000000;stroke-linecap:butt;stroke-width:0.5;" x="85.255475" xlink:href="#m14f64f4070" y="86.5341285467"/>
     <use style="fill:#0000ff;stroke:#000000;stroke-linecap:butt;stroke-width:0.5;" x="85.590275" xlink:href="#m14f64f4070" y="125.430243776"/>
     <use style="fill:#0000ff;stroke:#000000;stroke-linecap:butt;stroke-width:0.5;" x="85.925075" xlink:href="#m14f64f4070" y="154.83292272"/>
     <use style="fill:#0000ff;stroke:#000000;stroke-linecap:butt;stroke-width:0.5;" x="86.259875" xlink:href="#m14f64f4070" y="98.0050230031"/>
     <use style="fill:#0000ff;stroke:#000000;stroke-linecap:butt;stroke-width:0.5;" x="86.594675" xlink:href="#m14f64f4070" y="113.916169769"/>
     <use style="fill:#0000ff;stroke:#000000;stroke-linecap:butt;stroke-width:0.5;" x="86.929475" xlink:href="#m14f64f4070" y="147.514504048"/>
     <use style="fill:#0000ff;stroke:#000000;stroke-linecap:butt;stroke-width:0.5;" x="87.264275" xlink:href="#m14f64f4070" y="140.080349907"/>
     <use style="fill:#0000ff;stroke:#000000;stroke-linecap:butt;stroke-width:0.5;" x="87.599075" xlink:href="#m14f64f4070" y="173.277266579"/>
     <use style="fill:#0000ff;stroke:#000000;stroke-linecap:butt;stroke-width:0.5;" x="87.933875" xlink:href="#m14f64f4070" y="145.673956361"/>
     <use style="fill:#0000ff;stroke:#000000;stroke-linecap:butt;stroke-width:0.5;" x="88.268675" xlink:href="#m14f64f4070" y="122.784939089"/>
     <use style="fill:#0000ff;stroke:#000000;stroke-linecap:butt;stroke-width:0.5;" x="88.603475" xlink:href="#m14f64f4070" y="118.912967654"/>
     <use style="fill:#0000ff;stroke:#000000;stroke-linecap:butt;stroke-width:0.5;" x="88.938275" xlink:href="#m14f64f4070" y="123.885876447"/>
     <use style="fill:#0000ff;stroke:#000000;stroke-linecap:butt;stroke-width:0.5;" x="89.273075" xlink:href="#m14f64f4070" y="134.420151297"/>
     <use style="fill:#0000ff;stroke:#000000;stroke-linecap:butt;stroke-width:0.5;" x="89.607875" xlink:href="#m14f64f4070" y="191.491880741"/>
     <use style="fill:#0000ff;stroke:#000000;stroke-linecap:butt;stroke-width:0.5;" x="89.942675" xlink:href="#m14f64f4070" y="117.201204488"/>
     <use style="fill:#0000ff;stroke:#000000;stroke-linecap:butt;stroke-width:0.5;" x="90.277475" xlink:href="#m14f64f4070" y="126.116259361"/>
     <use style="fill:#0000ff;stroke:#000000;stroke-linecap:butt;stroke-width:0.5;" x="90.612275" xlink:href="#m14f64f4070" y="104.086149374"/>
     <use style="fill:#0000ff;stroke:#000000;stroke-linecap:butt;stroke-width:0.5;" x="90.947075" xlink:href="#m14f64f4070" y="113.073856171"/>
     <use style="fill:#0000ff;stroke:#000000;stroke-linecap:butt;stroke-width:0.5;" x="91.281875" xlink:href="#m14f64f4070" y="112.070232627"/>
     <use style="fill:#0000ff;stroke:#000000;stroke-linecap:butt;stroke-width:0.5;" x="91.616675" xlink:href="#m14f64f4070" y="95.216112237"/>
     <use style="fill:#0000ff;stroke:#000000;stroke-linecap:butt;stroke-width:0.5;" x="91.951475" xlink:href="#m14f64f4070" y="153.682469682"/>
     <use style="fill:#0000ff;stroke:#000000;stroke-linecap:butt;stroke-width:0.5;" x="92.286275" xlink:href="#m14f64f4070" y="136.754616229"/>
     <use style="fill:#0000ff;stroke:#000000;stroke-linecap:butt;stroke-width:0.5;" x="92.621075" xlink:href="#m14f64f4070" y="134.329545759"/>
     <use style="fill:#0000ff;stroke:#000000;stroke-linecap:butt;stroke-width:0.5;" x="92.955875" xlink:href="#m14f64f4070" y="144.045707855"/>
     <use style="fill:#0000ff;stroke:#000000;stroke-linecap:butt;stroke-width:0.5;" x="93.290675" xlink:href="#m14f64f4070" y="194.248878767"/>
     <use style="fill:#0000ff;stroke:#000000;stroke-linecap:butt;stroke-width:0.5;" x="93.625475" xlink:href="#m14f64f4070" y="93.4867164895"/>
     <use style="fill:#0000ff;stroke:#000000;stroke-linecap:butt;stroke-width:0.5;" x="93.960275" xlink:href="#m14f64f4070" y="131.65705889"/>
     <use style="fill:#0000ff;stroke:#000000;stroke-linecap:butt;stroke-width:0.5;" x="94.295075" xlink:href="#m14f64f4070" y="139.513902176"/>
     <use style="fill:#0000ff;stroke:#000000;stroke-linecap:butt;stroke-width:0.5;" x="94.629875" xlink:href="#m14f64f4070" y="178.359303417"/>
     <use style="fill:#0000ff;stroke:#000000;stroke-linecap:butt;stroke-width:0.5;" x="94.964675" xlink:href="#m14f64f4070" y="132.590998237"/>
     <use style="fill:#0000ff;stroke:#000000;stroke-linecap:butt;stroke-width:0.5;" x="95.299475" xlink:href="#m14f64f4070" y="71.5799129284"/>
     <use style="fill:#0000ff;stroke:#000000;stroke-linecap:butt;stroke-width:0.5;" x="95.634275" xlink:href="#m14f64f4070" y="113.893266854"/>
     <use style="fill:#0000ff;stroke:#000000;stroke-linecap:butt;stroke-width:0.5;" x="95.969075" xlink:href="#m14f64f4070" y="145.435112501"/>
     <use style="fill:#0000ff;stroke:#000000;stroke-linecap:butt;stroke-width:0.5;" x="96.303875" xlink:href="#m14f64f4070" y="135.922960769"/>
     <use style="fill:#0000ff;stroke:#000000;stroke-linecap:butt;stroke-width:0.5;" x="96.638675" xlink:href="#m14f64f4070" y="131.622769562"/>
     <use style="fill:#0000ff;stroke:#000000;stroke-linecap:butt;stroke-width:0.5;" x="96.973475" xlink:href="#m14f64f4070" y="155.89137058"/>
     <use style="fill:#0000ff;stroke:#000000;stroke-linecap:butt;stroke-width:0.5;" x="97.308275" xlink:href="#m14f64f4070" y="115.480620579"/>
     <use style="fill:#0000ff;stroke:#000000;stroke-linecap:butt;stroke-width:0.5;" x="97.643075" xlink:href="#m14f64f4070" y="129.945148161"/>
     <use style="fill:#0000ff;stroke:#000000;stroke-linecap:butt;stroke-width:0.5;" x="97.977875" xlink:href="#m14f64f4070" y="202.903780755"/>
     <use style="fill:#0000ff;stroke:#000000;stroke-linecap:butt;stroke-width:0.5;" x="98.312675" xlink:href="#m14f64f4070" y="91.539333652"/>
     <use style="fill:#0000ff;stroke:#000000;stroke-linecap:butt;stroke-width:0.5;" x="98.647475" xlink:href="#m14f64f4070" y="125.07262711"/>
     <use style="fill:#0000ff;stroke:#000000;stroke-linecap:butt;stroke-width:0.5;" x="98.982275" xlink:href="#m14f64f4070" y="92.9939137132"/>
     <use style="fill:#0000ff;stroke:#000000;stroke-linecap:butt;stroke-width:0.5;" x="99.317075" xlink:href="#m14f64f4070" y="136.534606286"/>
     <use style="fill:#0000ff;stroke:#000000;stroke-linecap:butt;stroke-width:0.5;" x="99.651875" xlink:href="#m14f64f4070" y="152.763594016"/>
     <use style="fill:#0000ff;stroke:#000000;stroke-linecap:butt;stroke-width:0.5;" x="99.986675" xlink:href="#m14f64f4070" y="148.21103749"/>
     <use style="fill:#0000ff;stroke:#000000;stroke-linecap:butt;stroke-width:0.5;" x="100.321475" xlink:href="#m14f64f4070" y="104.306348199"/>
     <use style="fill:#0000ff;stroke:#000000;stroke-linecap:butt;stroke-width:0.5;" x="100.656275" xlink:href="#m14f64f4070" y="160.738041032"/>
     <use style="fill:#0000ff;stroke:#000000;stroke-linecap:butt;stroke-width:0.5;" x="100.991075" xlink:href="#m14f64f4070" y="131.242523687"/>
     <use style="fill:#0000ff;stroke:#000000;stroke-linecap:butt;stroke-width:0.5;" x="101.325875" xlink:href="#m14f64f4070" y="83.7950992998"/>
     <use style="fill:#0000ff;stroke:#000000;stroke-linecap:butt;stroke-width:0.5;" x="101.660675" xlink:href="#m14f64f4070" y="110.401525285"/>
     <use style="fill:#0000ff;stroke:#000000;stroke-linecap:butt;stroke-width:0.5;" x="101.995475" xlink:href="#m14f64f4070" y="153.281712377"/>
     <use style="fill:#0000ff;stroke:#000000;stroke-linecap:butt;stroke-width:0.5;" x="102.330275" xlink:href="#m14f64f4070" y="137.334053489"/>
     <use style="fill:#0000ff;stroke:#000000;stroke-linecap:butt;stroke-width:0.5;" x="102.665075" xlink:href="#m14f64f4070" y="129.080955229"/>
     <use style="fill:#0000ff;stroke:#000000;stroke-linecap:butt;stroke-width:0.5;" x="102.999875" xlink:href="#m14f64f4070" y="117.356156895"/>
     <use style="fill:#0000ff;stroke:#000000;stroke-linecap:butt;stroke-width:0.5;" x="103.334675" xlink:href="#m14f64f4070" y="113.705672398"/>
     <use style="fill:#0000ff;stroke:#000000;stroke-linecap:butt;stroke-width:0.5;" x="103.669475" xlink:href="#m14f64f4070" y="113.206446068"/>
     <use style="fill:#0000ff;stroke:#000000;stroke-linecap:butt;stroke-width:0.5;" x="104.004275" xlink:href="#m14f64f4070" y="159.41972506"/>
     <use style="fill:#0000ff;stroke:#000000;stroke-linecap:butt;stroke-width:0.5;" x="104.339075" xlink:href="#m14f64f4070" y="118.041360643"/>
     <use style="fill:#0000ff;stroke:#000000;stroke-linecap:butt;stroke-width:0.5;" x="104.673875" xlink:href="#m14f64f4070" y="123.171499706"/>
     <use style="fill:#0000ff;stroke:#000000;stroke-linecap:butt;stroke-width:0.5;" x="105.008675" xlink:href="#m14f64f4070" y="152.555998573"/>
     <use style="fill:#0000ff;stroke:#000000;stroke-linecap:butt;stroke-width:0.5;" x="105.343475" xlink:href="#m14f64f4070" y="52.6551210108"/>
     <use style="fill:#0000ff;stroke:#000000;stroke-linecap:butt;stroke-width:0.5;" x="105.678275" xlink:href="#m14f64f4070" y="136.678696862"/>
     <use style="fill:#0000ff;stroke:#000000;stroke-linecap:butt;stroke-width:0.5;" x="106.013075" xlink:href="#m14f64f4070" y="157.015500233"/>
     <use style="fill:#0000ff;stroke:#000000;stroke-linecap:butt;stroke-width:0.5;" x="106.347875" xlink:href="#m14f64f4070" y="156.331361402"/>
     <use style="fill:#0000ff;stroke:#000000;stroke-linecap:butt;stroke-width:0.5;" x="106.682675" xlink:href="#m14f64f4070" y="174.971852133"/>
     <use style="fill:#0000ff;stroke:#000000;stroke-linecap:butt;stroke-width:0.5;" x="107.017475" xlink:href="#m14f64f4070" y="128.810854582"/>
     <use style="fill:#0000ff;stroke:#000000;stroke-linecap:butt;stroke-width:0.5;" x="107.352275" xlink:href="#m14f64f4070" y="117.498531176"/>
     <use style="fill:#0000ff;stroke:#000000;stroke-linecap:butt;stroke-width:0.5;" x="107.687075" xlink:href="#m14f64f4070" y="156.949426405"/>
     <use style="fill:#0000ff;stroke:#000000;stroke-linecap:butt;stroke-width:0.5;" x="108.021875" xlink:href="#m14f64f4070" y="149.677465356"/>
     <use style="fill:#0000ff;stroke:#000000;stroke-linecap:butt;stroke-width:0.5;" x="108.356675" xlink:href="#m14f64f4070" y="141.091003844"/>
     <use style="fill:#0000ff;stroke:#000000;stroke-linecap:butt;stroke-width:0.5;" x="108.691475" xlink:href="#m14f64f4070" y="73.9915797726"/>
     <use style="fill:#0000ff;stroke:#000000;stroke-linecap:butt;stroke-width:0.5;" x="109.026275" xlink:href="#m14f64f4070" y="152.648866042"/>
     <use style="fill:#0000ff;stroke:#000000;stroke-linecap:butt;stroke-width:0.5;" x="109.361075" xlink:href="#m14f64f4070" y="126.298954726"/>
     <use style="fill:#0000ff;stroke:#000000;stroke-linecap:butt;stroke-width:0.5;" x="109.695875" xlink:href="#m14f64f4070" y="103.295229017"/>
     <use style="fill:#0000ff;stroke:#000000;stroke-linecap:butt;stroke-width:0.5;" x="110.030675" xlink:href="#m14f64f4070" y="93.7842134941"/>
     <use style="fill:#0000ff;stroke:#000000;stroke-linecap:butt;stroke-width:0.5;" x="110.365475" xlink:href="#m14f64f4070" y="128.349953081"/>
     <use style="fill:#0000ff;stroke:#000000;stroke-linecap:butt;stroke-width:0.5;" x="110.700275" xlink:href="#m14f64f4070" y="116.746155055"/>
     <use style="fill:#0000ff;stroke:#000000;stroke-linecap:butt;stroke-width:0.5;" x="111.035075" xlink:href="#m14f64f4070" y="127.64441491"/>
     <use style="fill:#0000ff;stroke:#000000;stroke-linecap:butt;stroke-width:0.5;" x="111.369875" xlink:href="#m14f64f4070" y="101.709086646"/>
     <use style="fill:#0000ff;stroke:#000000;stroke-linecap:butt;stroke-width:0.5;" x="111.704675" xlink:href="#m14f64f4070" y="104.002893933"/>
     <use style="fill:#0000ff;stroke:#000000;stroke-linecap:butt;stroke-width:0.5;" x="112.039475" xlink:href="#m14f64f4070" y="82.2820224099"/>
     <use style="fill:#0000ff;stroke:#000000;stroke-linecap:butt;stroke-width:0.5;" x="112.374275" xlink:href="#m14f64f4070" y="110.600312946"/>
     <use style="fill:#0000ff;stroke:#000000;stroke-linecap:butt;stroke-width:0.5;" x="112.709075" xlink:href="#m14f64f4070" y="108.441071258"/>
     <use style="fill:#0000ff;stroke:#000000;stroke-linecap:butt;stroke-width:0.5;" x="113.043875" xlink:href="#m14f64f4070" y="117.443146551"/>
     <use style="fill:#0000ff;stroke:#000000;stroke-linecap:butt;stroke-width:0.5;" x="113.378675" xlink:href="#m14f64f4070" y="120.437325152"/>
     <use style="fill:#0000ff;stroke:#000000;stroke-linecap:butt;stroke-width:0.5;" x="113.713475" xlink:href="#m14f64f4070" y="149.904254701"/>
     <use style="fill:#0000ff;stroke:#000000;stroke-linecap:butt;stroke-width:0.5;" x="114.048275" xlink:href="#m14f64f4070" y="123.093542852"/>
     <use style="fill:#0000ff;stroke:#000000;stroke-linecap:butt;stroke-width:0.5;" x="114.383075" xlink:href="#m14f64f4070" y="183.814216228"/>
     <use style="fill:#0000ff;stroke:#000000;stroke-linecap:butt;stroke-width:0.5;" x="114.717875" xlink:href="#m14f64f4070" y="136.41454757"/>
     <use style="fill:#0000ff;stroke:#000000;stroke-linecap:butt;stroke-width:0.5;" x="115.052675" xlink:href="#m14f64f4070" y="128.716735309"/>
     <use style="fill:#0000ff;stroke:#000000;stroke-linecap:butt;stroke-width:0.5;" x="115.387475" xlink:href="#m14f64f4070" y="129.547613094"/>
     <use style="fill:#0000ff;stroke:#000000;stroke-linecap:butt;stroke-width:0.5;" x="115.722275" xlink:href="#m14f64f4070" y="203.915939353"/>
     <use style="fill:#0000ff;stroke:#000000;stroke-linecap:butt;stroke-width:0.5;" x="116.057075" xlink:href="#m14f64f4070" y="93.6039509941"/>
     <use style="fill:#0000ff;stroke:#000000;stroke-linecap:butt;stroke-width:0.5;" x="116.391875" xlink:href="#m14f64f4070" y="132.495471713"/>
     <use style="fill:#0000ff;stroke:#000000;stroke-linecap:butt;stroke-width:0.5;" x="116.726675" xlink:href="#m14f64f4070" y="147.335051834"/>
     <use style="fill:#0000ff;stroke:#000000;stroke-linecap:butt;stroke-width:0.5;" x="117.061475" xlink:href="#m14f64f4070" y="93.6227529973"/>
     <use style="fill:#0000ff;stroke:#000000;stroke-linecap:butt;stroke-width:0.5;" x="117.396275" xlink:href="#m14f64f4070" y="124.023859426"/>
     <use style="fill:#0000ff;stroke:#000000;stroke-linecap:butt;stroke-width:0.5;" x="117.731075" xlink:href="#m14f64f4070" y="145.75049203"/>
     <use style="fill:#0000ff;stroke:#000000;stroke-linecap:butt;stroke-width:0.5;" x="118.065875" xlink:href="#m14f64f4070" y="115.239335513"/>
     <use style="fill:#0000ff;stroke:#000000;stroke-linecap:butt;stroke-width:0.5;" x="118.400675" xlink:href="#m14f64f4070" y="144.211497896"/>
     <use style="fill:#0000ff;stroke:#000000;stroke-linecap:butt;stroke-width:0.5;" x="118.735475" xlink:href="#m14f64f4070" y="106.587068643"/>
     <use style="fill:#0000ff;stroke:#000000;stroke-linecap:butt;stroke-width:0.5;" x="119.070275" xlink:href="#m14f64f4070" y="93.8970703164"/>
     <use style="fill:#0000ff;stroke:#000000;stroke-linecap:butt;stroke-width:0.5;" x="119.405075" xlink:href="#m14f64f4070" y="133.931685516"/>
     <use style="fill:#0000ff;stroke:#000000;stroke-linecap:butt;stroke-width:0.5;" x="119.739875" xlink:href="#m14f64f4070" y="134.251850471"/>
     <use style="fill:#0000ff;stroke:#000000;stroke-linecap:butt;stroke-width:0.5;" x="120.074675" xlink:href="#m14f64f4070" y="116.680693471"/>
     <use style="fill:#0000ff;stroke:#000000;stroke-linecap:butt;stroke-width:0.5;" x="120.409475" xlink:href="#m14f64f4070" y="134.475210473"/>
     <use style="fill:#0000ff;stroke:#000000;stroke-linecap:butt;stroke-width:0.5;" x="120.744275" xlink:href="#m14f64f4070" y="138.695816899"/>
     <use style="fill:#0000ff;stroke:#000000;stroke-linecap:butt;stroke-width:0.5;" x="121.079075" xlink:href="#m14f64f4070" y="177.133113683"/>
     <use style="fill:#0000ff;stroke:#000000;stroke-linecap:butt;stroke-width:0.5;" x="121.413875" xlink:href="#m14f64f4070" y="163.591322186"/>
     <use style="fill:#0000ff;stroke:#000000;stroke-linecap:butt;stroke-width:0.5;" x="121.748675" xlink:href="#m14f64f4070" y="165.746893974"/>
     <use style="fill:#0000ff;stroke:#000000;stroke-linecap:butt;stroke-width:0.5;" x="122.083475" xlink:href="#m14f64f4070" y="100.854066182"/>
     <use style="fill:#0000ff;stroke:#000000;stroke-linecap:butt;stroke-width:0.5;" x="122.418275" xlink:href="#m14f64f4070" y="163.847927472"/>
     <use style="fill:#0000ff;stroke:#000000;stroke-linecap:butt;stroke-width:0.5;" x="122.753075" xlink:href="#m14f64f4070" y="177.444351346"/>
     <use style="fill:#0000ff;stroke:#000000;stroke-linecap:butt;stroke-width:0.5;" x="123.087875" xlink:href="#m14f64f4070" y="153.393444363"/>
     <use style="fill:#0000ff;stroke:#000000;stroke-linecap:butt;stroke-width:0.5;" x="123.422675" xlink:href="#m14f64f4070" y="144.887645373"/>
     <use style="fill:#0000ff;stroke:#000000;stroke-linecap:butt;stroke-width:0.5;" x="123.757475" xlink:href="#m14f64f4070" y="173.862826571"/>
     <use style="fill:#0000ff;stroke:#000000;stroke-linecap:butt;stroke-width:0.5;" x="124.092275" xlink:href="#m14f64f4070" y="169.995651823"/>
     <use style="fill:#0000ff;stroke:#000000;stroke-linecap:butt;stroke-width:0.5;" x="124.427075" xlink:href="#m14f64f4070" y="140.44556737"/>
     <use style="fill:#0000ff;stroke:#000000;stroke-linecap:butt;stroke-width:0.5;" x="124.761875" xlink:href="#m14f64f4070" y="153.71424126"/>
     <use style="fill:#0000ff;stroke:#000000;stroke-linecap:butt;stroke-width:0.5;" x="125.096675" xlink:href="#m14f64f4070" y="87.8759054458"/>
     <use style="fill:#0000ff;stroke:#000000;stroke-linecap:butt;stroke-width:0.5;" x="125.431475" xlink:href="#m14f64f4070" y="154.221272906"/>
     <use style="fill:#0000ff;stroke:#000000;stroke-linecap:butt;stroke-width:0.5;" x="125.766275" xlink:href="#m14f64f4070" y="136.753868956"/>
     <use style="fill:#0000ff;stroke:#000000;stroke-linecap:butt;stroke-width:0.5;" x="126.101075" xlink:href="#m14f64f4070" y="146.603567394"/>
     <use style="fill:#0000ff;stroke:#000000;stroke-linecap:butt;stroke-width:0.5;" x="126.435875" xlink:href="#m14f64f4070" y="146.352789087"/>
     <use style="fill:#0000ff;stroke:#000000;stroke-linecap:butt;stroke-width:0.5;" x="126.770675" xlink:href="#m14f64f4070" y="160.463024508"/>
     <use style="fill:#0000ff;stroke:#000000;stroke-linecap:butt;stroke-width:0.5;" x="127.105475" xlink:href="#m14f64f4070" y="78.7001367287"/>
     <use style="fill:#0000ff;stroke:#000000;stroke-linecap:butt;stroke-width:0.5;" x="127.440275" xlink:href="#m14f64f4070" y="149.626723034"/>
     <use style="fill:#0000ff;stroke:#000000;stroke-linecap:butt;stroke-width:0.5;" x="127.775075" xlink:href="#m14f64f4070" y="118.808645124"/>
     <use style="fill:#0000ff;stroke:#000000;stroke-linecap:butt;stroke-width:0.5;" x="128.109875" xlink:href="#m14f64f4070" y="128.039164427"/>
     <use style="fill:#0000ff;stroke:#000000;stroke-linecap:butt;stroke-width:0.5;" x="128.444675" xlink:href="#m14f64f4070" y="180.502907399"/>
     <use style="fill:#0000ff;stroke:#000000;stroke-linecap:butt;stroke-width:0.5;" x="128.779475" xlink:href="#m14f64f4070" y="167.319950457"/>
     <use style="fill:#0000ff;stroke:#000000;stroke-linecap:butt;stroke-width:0.5;" x="129.114275" xlink:href="#m14f64f4070" y="157.079393322"/>
     <use style="fill:#0000ff;stroke:#000000;stroke-linecap:butt;stroke-width:0.5;" x="129.449075" xlink:href="#m14f64f4070" y="101.350613201"/>
     <use style="fill:#0000ff;stroke:#000000;stroke-linecap:butt;stroke-width:0.5;" x="129.783875" xlink:href="#m14f64f4070" y="143.666203875"/>
     <use style="fill:#0000ff;stroke:#000000;stroke-linecap:butt;stroke-width:0.5;" x="130.118675" xlink:href="#m14f64f4070" y="92.6714866191"/>
     <use style="fill:#0000ff;stroke:#000000;stroke-linecap:butt;stroke-width:0.5;" x="130.453475" xlink:href="#m14f64f4070" y="123.974256426"/>
     <use style="fill:#0000ff;stroke:#000000;stroke-linecap:butt;stroke-width:0.5;" x="130.788275" xlink:href="#m14f64f4070" y="143.31537016"/>
     <use style="fill:#0000ff;stroke:#000000;stroke-linecap:butt;stroke-width:0.5;" x="131.123075" xlink:href="#m14f64f4070" y="91.7666191048"/>
     <use style="fill:#0000ff;stroke:#000000;stroke-linecap:butt;stroke-width:0.5;" x="131.457875" xlink:href="#m14f64f4070" y="139.821901022"/>
     <use style="fill:#0000ff;stroke:#000000;stroke-linecap:butt;stroke-width:0.5;" x="131.792675" xlink:href="#m14f64f4070" y="137.612127427"/>
     <use style="fill:#0000ff;stroke:#000000;stroke-linecap:butt;stroke-width:0.5;" x="132.127475" xlink:href="#m14f64f4070" y="153.868515943"/>
     <use style="fill:#0000ff;stroke:#000000;stroke-linecap:butt;stroke-width:0.5;" x="132.462275" xlink:href="#m14f64f4070" y="114.024991994"/>
     <use style="fill:#0000ff;stroke:#000000;stroke-linecap:butt;stroke-width:0.5;" x="132.797075" xlink:href="#m14f64f4070" y="131.919888162"/>
     <use style="fill:#0000ff;stroke:#000000;stroke-linecap:butt;stroke-width:0.5;" x="133.131875" xlink:href="#m14f64f4070" y="163.101282397"/>
     <use style="fill:#0000ff;stroke:#000000;stroke-linecap:butt;stroke-width:0.5;" x="133.466675" xlink:href="#m14f64f4070" y="91.8476023353"/>
     <use style="fill:#0000ff;stroke:#000000;stroke-linecap:butt;stroke-width:0.5;" x="133.801475" xlink:href="#m14f64f4070" y="106.750628014"/>
     <use style="fill:#0000ff;stroke:#000000;stroke-linecap:butt;stroke-width:0.5;" x="134.136275" xlink:href="#m14f64f4070" y="85.3293673736"/>
     <use style="fill:#0000ff;stroke:#000000;stroke-linecap:butt;stroke-width:0.5;" x="134.471075" xlink:href="#m14f64f4070" y="118.215861963"/>
     <use style="fill:#0000ff;stroke:#000000;stroke-linecap:butt;stroke-width:0.5;" x="134.805875" xlink:href="#m14f64f4070" y="132.304145928"/>
     <use style="fill:#0000ff;stroke:#000000;stroke-linecap:butt;stroke-width:0.5;" x="135.140675" xlink:href="#m14f64f4070" y="104.433093249"/>
     <use style="fill:#0000ff;stroke:#000000;stroke-linecap:butt;stroke-width:0.5;" x="135.475475" xlink:href="#m14f64f4070" y="156.936225414"/>
     <use style="fill:#0000ff;stroke:#000000;stroke-linecap:butt;stroke-width:0.5;" x="135.810275" xlink:href="#m14f64f4070" y="153.426089545"/>
     <use style="fill:#0000ff;stroke:#000000;stroke-linecap:butt;stroke-width:0.5;" x="136.145075" xlink:href="#m14f64f4070" y="122.854816577"/>
     <use style="fill:#0000ff;stroke:#000000;stroke-linecap:butt;stroke-width:0.5;" x="136.479875" xlink:href="#m14f64f4070" y="107.975604836"/>
     <use style="fill:#0000ff;stroke:#000000;stroke-linecap:butt;stroke-width:0.5;" x="136.814675" xlink:href="#m14f64f4070" y="121.539346297"/>
     <use style="fill:#0000ff;stroke:#000000;stroke-linecap:butt;stroke-width:0.5;" x="137.149475" xlink:href="#m14f64f4070" y="181.905343923"/>
     <use style="fill:#0000ff;stroke:#000000;stroke-linecap:butt;stroke-width:0.5;" x="137.484275" xlink:href="#m14f64f4070" y="130.918896204"/>
     <use style="fill:#0000ff;stroke:#000000;stroke-linecap:butt;stroke-width:0.5;" x="137.819075" xlink:href="#m14f64f4070" y="165.516202548"/>
     <use style="fill:#0000ff;stroke:#000000;stroke-linecap:butt;stroke-width:0.5;" x="138.153875" xlink:href="#m14f64f4070" y="112.640040981"/>
     <use style="fill:#0000ff;stroke:#000000;stroke-linecap:butt;stroke-width:0.5;" x="138.488675" xlink:href="#m14f64f4070" y="150.489972538"/>
     <use style="fill:#0000ff;stroke:#000000;stroke-linecap:butt;stroke-width:0.5;" x="138.823475" xlink:href="#m14f64f4070" y="138.594906234"/>
     <use style="fill:#0000ff;stroke:#000000;stroke-linecap:butt;stroke-width:0.5;" x="139.158275" xlink:href="#m14f64f4070" y="85.8479074285"/>
     <use style="fill:#0000ff;stroke:#000000;stroke-linecap:butt;stroke-width:0.5;" x="139.493075" xlink:href="#m14f64f4070" y="179.303135123"/>
     <use style="fill:#0000ff;stroke:#000000;stroke-linecap:butt;stroke-width:0.5;" x="139.827875" xlink:href="#m14f64f4070" y="156.898451143"/>
     <use style="fill:#0000ff;stroke:#000000;stroke-linecap:butt;stroke-width:0.5;" x="140.162675" xlink:href="#m14f64f4070" y="117.26615529"/>
     <use style="fill:#0000ff;stroke:#000000;stroke-linecap:butt;stroke-width:0.5;" x="140.497475" xlink:href="#m14f64f4070" y="167.023454781"/>
     <use style="fill:#0000ff;stroke:#000000;stroke-linecap:butt;stroke-width:0.5;" x="140.832275" xlink:href="#m14f64f4070" y="101.067761661"/>
     <use style="fill:#0000ff;stroke:#000000;stroke-linecap:butt;stroke-width:0.5;" x="141.167075" xlink:href="#m14f64f4070" y="90.5289219234"/>
     <use style="fill:#0000ff;stroke:#000000;stroke-linecap:butt;stroke-width:0.5;" x="141.501875" xlink:href="#m14f64f4070" y="137.688853832"/>
     <use style="fill:#0000ff;stroke:#000000;stroke-linecap:butt;stroke-width:0.5;" x="141.836675" xlink:href="#m14f64f4070" y="141.836688557"/>
     <use style="fill:#0000ff;stroke:#000000;stroke-linecap:butt;stroke-width:0.5;" x="142.171475" xlink:href="#m14f64f4070" y="174.968990066"/>
     <use style="fill:#0000ff;stroke:#000000;stroke-linecap:butt;stroke-width:0.5;" x="142.506275" xlink:href="#m14f64f4070" y="100.601087879"/>
     <use style="fill:#0000ff;stroke:#000000;stroke-linecap:butt;stroke-width:0.5;" x="142.841075" xlink:href="#m14f64f4070" y="159.594026246"/>
     <use style="fill:#0000ff;stroke:#000000;stroke-linecap:butt;stroke-width:0.5;" x="143.175875" xlink:href="#m14f64f4070" y="141.951165293"/>
     <use style="fill:#0000ff;stroke:#000000;stroke-linecap:butt;stroke-width:0.5;" x="143.510675" xlink:href="#m14f64f4070" y="181.620526229"/>
     <use style="fill:#0000ff;stroke:#000000;stroke-linecap:butt;stroke-width:0.5;" x="143.845475" xlink:href="#m14f64f4070" y="151.186588304"/>
     <use style="fill:#0000ff;stroke:#000000;stroke-linecap:butt;stroke-width:0.5;" x="144.180275" xlink:href="#m14f64f4070" y="115.917277232"/>
     <use style="fill:#0000ff;stroke:#000000;stroke-linecap:butt;stroke-width:0.5;" x="144.515075" xlink:href="#m14f64f4070" y="141.946364943"/>
     <use style="fill:#0000ff;stroke:#000000;stroke-linecap:butt;stroke-width:0.5;" x="144.849875" xlink:href="#m14f64f4070" y="139.106964223"/>
     <use style="fill:#0000ff;stroke:#000000;stroke-linecap:butt;stroke-width:0.5;" x="145.184675" xlink:href="#m14f64f4070" y="170.589213464"/>
     <use style="fill:#0000ff;stroke:#000000;stroke-linecap:butt;stroke-width:0.5;" x="145.519475" xlink:href="#m14f64f4070" y="99.905557098"/>
     <use style="fill:#0000ff;stroke:#000000;stroke-linecap:butt;stroke-width:0.5;" x="145.854275" xlink:href="#m14f64f4070" y="188.679432023"/>
     <use style="fill:#0000ff;stroke:#000000;stroke-linecap:butt;stroke-width:0.5;" x="146.189075" xlink:href="#m14f64f4070" y="127.849897943"/>
     <use style="fill:#0000ff;stroke:#000000;stroke-linecap:butt;stroke-width:0.5;" x="146.523875" xlink:href="#m14f64f4070" y="129.391895792"/>
     <use style="fill:#0000ff;stroke:#000000;stroke-linecap:butt;stroke-width:0.5;" x="146.858675" xlink:href="#m14f64f4070" y="155.031729801"/>
     <use style="fill:#0000ff;stroke:#000000;stroke-linecap:butt;stroke-width:0.5;" x="147.193475" xlink:href="#m14f64f4070" y="127.332701966"/>
     <use style="fill:#0000ff;stroke:#000000;stroke-linecap:butt;stroke-width:0.5;" x="147.528275" xlink:href="#m14f64f4070" y="166.8013288"/>
     <use style="fill:#0000ff;stroke:#000000;stroke-linecap:butt;stroke-width:0.5;" x="147.863075" xlink:href="#m14f64f4070" y="131.533671915"/>
     <use style="fill:#0000ff;stroke:#000000;stroke-linecap:butt;stroke-width:0.5;" x="148.197875" xlink:href="#m14f64f4070" y="117.802551622"/>
     <use style="fill:#0000ff;stroke:#000000;stroke-linecap:butt;stroke-width:0.5;" x="148.532675" xlink:href="#m14f64f4070" y="128.79262233"/>
     <use style="fill:#0000ff;stroke:#000000;stroke-linecap:butt;stroke-width:0.5;" x="148.867475" xlink:href="#m14f64f4070" y="170.759728063"/>
     <use style="fill:#0000ff;stroke:#000000;stroke-linecap:butt;stroke-width:0.5;" x="149.202275" xlink:href="#m14f64f4070" y="169.649978134"/>
     <use style="fill:#0000ff;stroke:#000000;stroke-linecap:butt;stroke-width:0.5;" x="149.537075" xlink:href="#m14f64f4070" y="152.555741424"/>
     <use style="fill:#0000ff;stroke:#000000;stroke-linecap:butt;stroke-width:0.5;" x="149.871875" xlink:href="#m14f64f4070" y="148.092993179"/>
     <use style="fill:#0000ff;stroke:#000000;stroke-linecap:butt;stroke-width:0.5;" x="150.206675" xlink:href="#m14f64f4070" y="125.495725981"/>
     <use style="fill:#0000ff;stroke:#000000;stroke-linecap:butt;stroke-width:0.5;" x="150.541475" xlink:href="#m14f64f4070" y="126.712430658"/>
     <use style="fill:#0000ff;stroke:#000000;stroke-linecap:butt;stroke-width:0.5;" x="150.876275" xlink:href="#m14f64f4070" y="80.0810372584"/>
     <use style="fill:#0000ff;stroke:#000000;stroke-linecap:butt;stroke-width:0.5;" x="151.211075" xlink:href="#m14f64f4070" y="97.3772179046"/>
     <use style="fill:#0000ff;stroke:#000000;stroke-linecap:butt;stroke-width:0.5;" x="151.545875" xlink:href="#m14f64f4070" y="169.928095157"/>
     <use style="fill:#0000ff;stroke:#000000;stroke-linecap:butt;stroke-width:0.5;" x="151.880675" xlink:href="#m14f64f4070" y="144.30051175"/>
     <use style="fill:#0000ff;stroke:#000000;stroke-linecap:butt;stroke-width:0.5;" x="152.215475" xlink:href="#m14f64f4070" y="154.810595508"/>
     <use style="fill:#0000ff;stroke:#000000;stroke-linecap:butt;stroke-width:0.5;" x="152.550275" xlink:href="#m14f64f4070" y="177.470329265"/>
     <use style="fill:#0000ff;stroke:#000000;stroke-linecap:butt;stroke-width:0.5;" x="152.885075" xlink:href="#m14f64f4070" y="213.147766821"/>
     <use style="fill:#0000ff;stroke:#000000;stroke-linecap:butt;stroke-width:0.5;" x="153.219875" xlink:href="#m14f64f4070" y="126.067779109"/>
     <use style="fill:#0000ff;stroke:#000000;stroke-linecap:butt;stroke-width:0.5;" x="153.554675" xlink:href="#m14f64f4070" y="171.125997487"/>
     <use style="fill:#0000ff;stroke:#000000;stroke-linecap:butt;stroke-width:0.5;" x="153.889475" xlink:href="#m14f64f4070" y="155.517038792"/>
     <use style="fill:#0000ff;stroke:#000000;stroke-linecap:butt;stroke-width:0.5;" x="154.224275" xlink:href="#m14f64f4070" y="101.175951367"/>
     <use style="fill:#0000ff;stroke:#000000;stroke-linecap:butt;stroke-width:0.5;" x="154.559075" xlink:href="#m14f64f4070" y="119.885793318"/>
     <use style="fill:#0000ff;stroke:#000000;stroke-linecap:butt;stroke-width:0.5;" x="154.893875" xlink:href="#m14f64f4070" y="129.751861981"/>
     <use style="fill:#0000ff;stroke:#000000;stroke-linecap:butt;stroke-width:0.5;" x="155.228675" xlink:href="#m14f64f4070" y="141.258694473"/>
     <use style="fill:#0000ff;stroke:#000000;stroke-linecap:butt;stroke-width:0.5;" x="155.563475" xlink:href="#m14f64f4070" y="65.2108785592"/>
     <use style="fill:#0000ff;stroke:#000000;stroke-linecap:butt;stroke-width:0.5;" x="155.898275" xlink:href="#m14f64f4070" y="124.37027915"/>
     <use style="fill:#0000ff;stroke:#000000;stroke-linecap:butt;stroke-width:0.5;" x="156.233075" xlink:href="#m14f64f4070" y="115.611883289"/>
     <use style="fill:#0000ff;stroke:#000000;stroke-linecap:butt;stroke-width:0.5;" x="156.567875" xlink:href="#m14f64f4070" y="186.755851248"/>
     <use style="fill:#0000ff;stroke:#000000;stroke-linecap:butt;stroke-width:0.5;" x="156.902675" xlink:href="#m14f64f4070" y="161.623155495"/>
     <use style="fill:#0000ff;stroke:#000000;stroke-linecap:butt;stroke-width:0.5;" x="157.237475" xlink:href="#m14f64f4070" y="154.100659993"/>
     <use style="fill:#0000ff;stroke:#000000;stroke-linecap:butt;stroke-width:0.5;" x="157.572275" xlink:href="#m14f64f4070" y="181.591577864"/>
     <use style="fill:#0000ff;stroke:#000000;stroke-linecap:butt;stroke-width:0.5;" x="157.907075" xlink:href="#m14f64f4070" y="172.207148341"/>
     <use style="fill:#0000ff;stroke:#000000;stroke-linecap:butt;stroke-width:0.5;" x="158.241875" xlink:href="#m14f64f4070" y="134.81810564"/>
     <use style="fill:#0000ff;stroke:#000000;stroke-linecap:butt;stroke-width:0.5;" x="158.576675" xlink:href="#m14f64f4070" y="151.077892848"/>
     <use style="fill:#0000ff;stroke:#000000;stroke-linecap:butt;stroke-width:0.5;" x="158.911475" xlink:href="#m14f64f4070" y="183.311398469"/>
     <use style="fill:#0000ff;stroke:#000000;stroke-linecap:butt;stroke-width:0.5;" x="159.246275" xlink:href="#m14f64f4070" y="128.91642475"/>
     <use style="fill:#0000ff;stroke:#000000;stroke-linecap:butt;stroke-width:0.5;" x="159.581075" xlink:href="#m14f64f4070" y="160.794808715"/>
     <use style="fill:#0000ff;stroke:#000000;stroke-linecap:butt;stroke-width:0.5;" x="159.915875" xlink:href="#m14f64f4070" y="131.307313149"/>
     <use style="fill:#0000ff;stroke:#000000;stroke-linecap:butt;stroke-width:0.5;" x="160.250675" xlink:href="#m14f64f4070" y="151.308412613"/>
     <use style="fill:#0000ff;stroke:#000000;stroke-linecap:butt;stroke-width:0.5;" x="160.585475" xlink:href="#m14f64f4070" y="154.996220412"/>
     <use style="fill:#0000ff;stroke:#000000;stroke-linecap:butt;stroke-width:0.5;" x="160.920275" xlink:href="#m14f64f4070" y="82.2718422186"/>
     <use style="fill:#0000ff;stroke:#000000;stroke-linecap:butt;stroke-width:0.5;" x="161.255075" xlink:href="#m14f64f4070" y="114.562460727"/>
     <use style="fill:#0000ff;stroke:#000000;stroke-linecap:butt;stroke-width:0.5;" x="161.589875" xlink:href="#m14f64f4070" y="174.565780225"/>
     <use style="fill:#0000ff;stroke:#000000;stroke-linecap:butt;stroke-width:0.5;" x="161.924675" xlink:href="#m14f64f4070" y="160.668614279"/>
     <use style="fill:#0000ff;stroke:#000000;stroke-linecap:butt;stroke-width:0.5;" x="162.259475" xlink:href="#m14f64f4070" y="125.317723988"/>
     <use style="fill:#0000ff;stroke:#000000;stroke-linecap:butt;stroke-width:0.5;" x="162.594275" xlink:href="#m14f64f4070" y="92.4096164002"/>
     <use style="fill:#0000ff;stroke:#000000;stroke-linecap:butt;stroke-width:0.5;" x="162.929075" xlink:href="#m14f64f4070" y="92.893238073"/>
     <use style="fill:#0000ff;stroke:#000000;stroke-linecap:butt;stroke-width:0.5;" x="163.263875" xlink:href="#m14f64f4070" y="122.259589044"/>
     <use style="fill:#0000ff;stroke:#000000;stroke-linecap:butt;stroke-width:0.5;" x="163.598675" xlink:href="#m14f64f4070" y="157.165846325"/>
     <use style="fill:#0000ff;stroke:#000000;stroke-linecap:butt;stroke-width:0.5;" x="163.933475" xlink:href="#m14f64f4070" y="153.680274444"/>
     <use style="fill:#0000ff;stroke:#000000;stroke-linecap:butt;stroke-width:0.5;" x="164.268275" xlink:href="#m14f64f4070" y="145.300073172"/>
     <use style="fill:#0000ff;stroke:#000000;stroke-linecap:butt;stroke-width:0.5;" x="164.603075" xlink:href="#m14f64f4070" y="116.537379083"/>
     <use style="fill:#0000ff;stroke:#000000;stroke-linecap:butt;stroke-width:0.5;" x="164.937875" xlink:href="#m14f64f4070" y="194.344216562"/>
     <use style="fill:#0000ff;stroke:#000000;stroke-linecap:butt;stroke-width:0.5;" x="165.272675" xlink:href="#m14f64f4070" y="104.602325983"/>
     <use style="fill:#0000ff;stroke:#000000;stroke-linecap:butt;stroke-width:0.5;" x="165.607475" xlink:href="#m14f64f4070" y="126.883553285"/>
     <use style="fill:#0000ff;stroke:#000000;stroke-linecap:butt;stroke-width:0.5;" x="165.942275" xlink:href="#m14f64f4070" y="74.7543546666"/>
     <use style="fill:#0000ff;stroke:#000000;stroke-linecap:butt;stroke-width:0.5;" x="166.277075" xlink:href="#m14f64f4070" y="119.546520556"/>
     <use style="fill:#0000ff;stroke:#000000;stroke-linecap:butt;stroke-width:0.5;" x="166.611875" xlink:href="#m14f64f4070" y="95.7240863793"/>
     <use style="fill:#0000ff;stroke:#000000;stroke-linecap:butt;stroke-width:0.5;" x="166.946675" xlink:href="#m14f64f4070" y="145.32335011"/>
     <use style="fill:#0000ff;stroke:#000000;stroke-linecap:butt;stroke-width:0.5;" x="167.281475" xlink:href="#m14f64f4070" y="127.486623486"/>
     <use style="fill:#0000ff;stroke:#000000;stroke-linecap:butt;stroke-width:0.5;" x="167.616275" xlink:href="#m14f64f4070" y="74.2738610268"/>
     <use style="fill:#0000ff;stroke:#000000;stroke-linecap:butt;stroke-width:0.5;" x="167.951075" xlink:href="#m14f64f4070" y="131.866848201"/>
     <use style="fill:#0000ff;stroke:#000000;stroke-linecap:butt;stroke-width:0.5;" x="168.285875" xlink:href="#m14f64f4070" y="137.030694837"/>
     <use style="fill:#0000ff;stroke:#000000;stroke-linecap:butt;stroke-width:0.5;" x="168.620675" xlink:href="#m14f64f4070" y="109.701226031"/>
     <use style="fill:#0000ff;stroke:#000000;stroke-linecap:butt;stroke-width:0.5;" x="168.955475" xlink:href="#m14f64f4070" y="142.56433295"/>
     <use style="fill:#0000ff;stroke:#000000;stroke-linecap:butt;stroke-width:0.5;" x="169.290275" xlink:href="#m14f64f4070" y="114.061749881"/>
     <use style="fill:#0000ff;stroke:#000000;stroke-linecap:butt;stroke-width:0.5;" x="169.625075" xlink:href="#m14f64f4070" y="144.994951097"/>
     <use style="fill:#0000ff;stroke:#000000;stroke-linecap:butt;stroke-width:0.5;" x="169.959875" xlink:href="#m14f64f4070" y="103.083758158"/>
     <use style="fill:#0000ff;stroke:#000000;stroke-linecap:butt;stroke-width:0.5;" x="170.294675" xlink:href="#m14f64f4070" y="143.331488376"/>
     <use style="fill:#0000ff;stroke:#000000;stroke-linecap:butt;stroke-width:0.5;" x="170.629475" xlink:href="#m14f64f4070" y="81.8760379834"/>
     <use style="fill:#0000ff;stroke:#000000;stroke-linecap:butt;stroke-width:0.5;" x="170.964275" xlink:href="#m14f64f4070" y="125.879861651"/>
     <use style="fill:#0000ff;stroke:#000000;stroke-linecap:butt;stroke-width:0.5;" x="171.299075" xlink:href="#m14f64f4070" y="128.847097202"/>
     <use style="fill:#0000ff;stroke:#000000;stroke-linecap:butt;stroke-width:0.5;" x="171.633875" xlink:href="#m14f64f4070" y="119.493930501"/>
     <use style="fill:#0000ff;stroke:#000000;stroke-linecap:butt;stroke-width:0.5;" x="171.968675" xlink:href="#m14f64f4070" y="138.570477381"/>
     <use style="fill:#0000ff;stroke:#000000;stroke-linecap:butt;stroke-width:0.5;" x="172.303475" xlink:href="#m14f64f4070" y="158.690583219"/>
     <use style="fill:#0000ff;stroke:#000000;stroke-linecap:butt;stroke-width:0.5;" x="172.638275" xlink:href="#m14f64f4070" y="114.872338074"/>
     <use style="fill:#0000ff;stroke:#000000;stroke-linecap:butt;stroke-width:0.5;" x="172.973075" xlink:href="#m14f64f4070" y="108.923221164"/>
     <use style="fill:#0000ff;stroke:#000000;stroke-linecap:butt;stroke-width:0.5;" x="173.307875" xlink:href="#m14f64f4070" y="145.152330749"/>
     <use style="fill:#0000ff;stroke:#000000;stroke-linecap:butt;stroke-width:0.5;" x="173.642675" xlink:href="#m14f64f4070" y="171.320404717"/>
     <use style="fill:#0000ff;stroke:#000000;stroke-linecap:butt;stroke-width:0.5;" x="173.977475" xlink:href="#m14f64f4070" y="158.456330672"/>
     <use style="fill:#0000ff;stroke:#000000;stroke-linecap:butt;stroke-width:0.5;" x="174.312275" xlink:href="#m14f64f4070" y="146.460667454"/>
     <use style="fill:#0000ff;stroke:#000000;stroke-linecap:butt;stroke-width:0.5;" x="174.647075" xlink:href="#m14f64f4070" y="150.839543475"/>
     <use style="fill:#0000ff;stroke:#000000;stroke-linecap:butt;stroke-width:0.5;" x="174.981875" xlink:href="#m14f64f4070" y="110.828075849"/>
     <use style="fill:#0000ff;stroke:#000000;stroke-linecap:butt;stroke-width:0.5;" x="175.316675" xlink:href="#m14f64f4070" y="128.668912056"/>
     <use style="fill:#0000ff;stroke:#000000;stroke-linecap:butt;stroke-width:0.5;" x="175.651475" xlink:href="#m14f64f4070" y="131.483055095"/>
     <use style="fill:#0000ff;stroke:#000000;stroke-linecap:butt;stroke-width:0.5;" x="175.986275" xlink:href="#m14f64f4070" y="151.918206027"/>
     <use style="fill:#0000ff;stroke:#000000;stroke-linecap:butt;stroke-width:0.5;" x="176.321075" xlink:href="#m14f64f4070" y="179.776166502"/>
     <use style="fill:#0000ff;stroke:#000000;stroke-linecap:butt;stroke-width:0.5;" x="176.655875" xlink:href="#m14f64f4070" y="101.782992848"/>
     <use style="fill:#0000ff;stroke:#000000;stroke-linecap:butt;stroke-width:0.5;" x="176.990675" xlink:href="#m14f64f4070" y="141.479082206"/>
     <use style="fill:#0000ff;stroke:#000000;stroke-linecap:butt;stroke-width:0.5;" x="177.325475" xlink:href="#m14f64f4070" y="107.171315607"/>
     <use style="fill:#0000ff;stroke:#000000;stroke-linecap:butt;stroke-width:0.5;" x="177.660275" xlink:href="#m14f64f4070" y="108.052857371"/>
     <use style="fill:#0000ff;stroke:#000000;stroke-linecap:butt;stroke-width:0.5;" x="177.995075" xlink:href="#m14f64f4070" y="110.542275802"/>
     <use style="fill:#0000ff;stroke:#000000;stroke-linecap:butt;stroke-width:0.5;" x="178.329875" xlink:href="#m14f64f4070" y="92.4975106828"/>
     <use style="fill:#0000ff;stroke:#000000;stroke-linecap:butt;stroke-width:0.5;" x="178.664675" xlink:href="#m14f64f4070" y="141.162439799"/>
     <use style="fill:#0000ff;stroke:#000000;stroke-linecap:butt;stroke-width:0.5;" x="178.999475" xlink:href="#m14f64f4070" y="142.030680196"/>
     <use style="fill:#0000ff;stroke:#000000;stroke-linecap:butt;stroke-width:0.5;" x="179.334275" xlink:href="#m14f64f4070" y="189.41727959"/>
     <use style="fill:#0000ff;stroke:#000000;stroke-linecap:butt;stroke-width:0.5;" x="179.669075" xlink:href="#m14f64f4070" y="155.824736547"/>
     <use style="fill:#0000ff;stroke:#000000;stroke-linecap:butt;stroke-width:0.5;" x="180.003875" xlink:href="#m14f64f4070" y="154.54862928"/>
     <use style="fill:#0000ff;stroke:#000000;stroke-linecap:butt;stroke-width:0.5;" x="180.338675" xlink:href="#m14f64f4070" y="160.627165832"/>
     <use style="fill:#0000ff;stroke:#000000;stroke-linecap:butt;stroke-width:0.5;" x="180.673475" xlink:href="#m14f64f4070" y="120.124591903"/>
     <use style="fill:#0000ff;stroke:#000000;stroke-linecap:butt;stroke-width:0.5;" x="181.008275" xlink:href="#m14f64f4070" y="113.162777781"/>
     <use style="fill:#0000ff;stroke:#000000;stroke-linecap:butt;stroke-width:0.5;" x="181.343075" xlink:href="#m14f64f4070" y="145.725923202"/>
     <use style="fill:#0000ff;stroke:#000000;stroke-linecap:butt;stroke-width:0.5;" x="181.677875" xlink:href="#m14f64f4070" y="122.05656618"/>
     <use style="fill:#0000ff;stroke:#000000;stroke-linecap:butt;stroke-width:0.5;" x="182.012675" xlink:href="#m14f64f4070" y="119.571067831"/>
     <use style="fill:#0000ff;stroke:#000000;stroke-linecap:butt;stroke-width:0.5;" x="182.347475" xlink:href="#m14f64f4070" y="123.172884942"/>
     <use style="fill:#0000ff;stroke:#000000;stroke-linecap:butt;stroke-width:0.5;" x="182.682275" xlink:href="#m14f64f4070" y="169.804523838"/>
     <use style="fill:#0000ff;stroke:#000000;stroke-linecap:butt;stroke-width:0.5;" x="183.017075" xlink:href="#m14f64f4070" y="122.270170783"/>
     <use style="fill:#0000ff;stroke:#000000;stroke-linecap:butt;stroke-width:0.5;" x="183.351875" xlink:href="#m14f64f4070" y="149.869216447"/>
     <use style="fill:#0000ff;stroke:#000000;stroke-linecap:butt;stroke-width:0.5;" x="183.686675" xlink:href="#m14f64f4070" y="130.347805161"/>
     <use style="fill:#0000ff;stroke:#000000;stroke-linecap:butt;stroke-width:0.5;" x="184.021475" xlink:href="#m14f64f4070" y="109.263680314"/>
     <use style="fill:#0000ff;stroke:#000000;stroke-linecap:butt;stroke-width:0.5;" x="184.356275" xlink:href="#m14f64f4070" y="164.389108349"/>
     <use style="fill:#0000ff;stroke:#000000;stroke-linecap:butt;stroke-width:0.5;" x="184.691075" xlink:href="#m14f64f4070" y="153.382119354"/>
     <use style="fill:#0000ff;stroke:#000000;stroke-linecap:butt;stroke-width:0.5;" x="185.025875" xlink:href="#m14f64f4070" y="133.476094863"/>
     <use style="fill:#0000ff;stroke:#000000;stroke-linecap:butt;stroke-width:0.5;" x="185.360675" xlink:href="#m14f64f4070" y="148.507515504"/>
     <use style="fill:#0000ff;stroke:#000000;stroke-linecap:butt;stroke-width:0.5;" x="185.695475" xlink:href="#m14f64f4070" y="159.522757887"/>
     <use style="fill:#0000ff;stroke:#000000;stroke-linecap:butt;stroke-width:0.5;" x="186.030275" xlink:href="#m14f64f4070" y="117.315678776"/>
     <use style="fill:#0000ff;stroke:#000000;stroke-linecap:butt;stroke-width:0.5;" x="186.365075" xlink:href="#m14f64f4070" y="152.460950326"/>
     <use style="fill:#0000ff;stroke:#000000;stroke-linecap:butt;stroke-width:0.5;" x="186.699875" xlink:href="#m14f64f4070" y="165.473744911"/>
     <use style="fill:#0000ff;stroke:#000000;stroke-linecap:butt;stroke-width:0.5;" x="187.034675" xlink:href="#m14f64f4070" y="122.176057166"/>
     <use style="fill:#0000ff;stroke:#000000;stroke-linecap:butt;stroke-width:0.5;" x="187.369475" xlink:href="#m14f64f4070" y="126.13858017"/>
     <use style="fill:#0000ff;stroke:#000000;stroke-linecap:butt;stroke-width:0.5;" x="187.704275" xlink:href="#m14f64f4070" y="136.580220215"/>
     <use style="fill:#0000ff;stroke:#000000;stroke-linecap:butt;stroke-width:0.5;" x="188.039075" xlink:href="#m14f64f4070" y="155.970576569"/>
     <use style="fill:#0000ff;stroke:#000000;stroke-linecap:butt;stroke-width:0.5;" x="188.373875" xlink:href="#m14f64f4070" y="160.167687575"/>
     <use style="fill:#0000ff;stroke:#000000;stroke-linecap:butt;stroke-width:0.5;" x="188.708675" xlink:href="#m14f64f4070" y="163.378218649"/>
     <use style="fill:#0000ff;stroke:#000000;stroke-linecap:butt;stroke-width:0.5;" x="189.043475" xlink:href="#m14f64f4070" y="171.90734446"/>
     <use style="fill:#0000ff;stroke:#000000;stroke-linecap:butt;stroke-width:0.5;" x="189.378275" xlink:href="#m14f64f4070" y="145.791802742"/>
     <use style="fill:#0000ff;stroke:#000000;stroke-linecap:butt;stroke-width:0.5;" x="189.713075" xlink:href="#m14f64f4070" y="125.869095749"/>
     <use style="fill:#0000ff;stroke:#000000;stroke-linecap:butt;stroke-width:0.5;" x="190.047875" xlink:href="#m14f64f4070" y="113.321339193"/>
     <use style="fill:#0000ff;stroke:#000000;stroke-linecap:butt;stroke-width:0.5;" x="190.382675" xlink:href="#m14f64f4070" y="179.851269792"/>
     <use style="fill:#0000ff;stroke:#000000;stroke-linecap:butt;stroke-width:0.5;" x="190.717475" xlink:href="#m14f64f4070" y="96.17294066"/>
     <use style="fill:#0000ff;stroke:#000000;stroke-linecap:butt;stroke-width:0.5;" x="191.052275" xlink:href="#m14f64f4070" y="148.76532746"/>
     <use style="fill:#0000ff;stroke:#000000;stroke-linecap:butt;stroke-width:0.5;" x="191.387075" xlink:href="#m14f64f4070" y="115.837043129"/>
     <use style="fill:#0000ff;stroke:#000000;stroke-linecap:butt;stroke-width:0.5;" x="191.721875" xlink:href="#m14f64f4070" y="129.48474359"/>
     <use style="fill:#0000ff;stroke:#000000;stroke-linecap:butt;stroke-width:0.5;" x="192.056675" xlink:href="#m14f64f4070" y="173.574344383"/>
     <use style="fill:#0000ff;stroke:#000000;stroke-linecap:butt;stroke-width:0.5;" x="192.391475" xlink:href="#m14f64f4070" y="199.283462644"/>
     <use style="fill:#0000ff;stroke:#000000;stroke-linecap:butt;stroke-width:0.5;" x="192.726275" xlink:href="#m14f64f4070" y="179.554919086"/>
     <use style="fill:#0000ff;stroke:#000000;stroke-linecap:butt;stroke-width:0.5;" x="193.061075" xlink:href="#m14f64f4070" y="118.277291073"/>
     <use style="fill:#0000ff;stroke:#000000;stroke-linecap:butt;stroke-width:0.5;" x="193.395875" xlink:href="#m14f64f4070" y="182.954049225"/>
     <use style="fill:#0000ff;stroke:#000000;stroke-linecap:butt;stroke-width:0.5;" x="193.730675" xlink:href="#m14f64f4070" y="111.795137465"/>
     <use style="fill:#0000ff;stroke:#000000;stroke-linecap:butt;stroke-width:0.5;" x="194.065475" xlink:href="#m14f64f4070" y="100.566591923"/>
     <use style="fill:#0000ff;stroke:#000000;stroke-linecap:butt;stroke-width:0.5;" x="194.400275" xlink:href="#m14f64f4070" y="169.664365902"/>
     <use style="fill:#0000ff;stroke:#000000;stroke-linecap:butt;stroke-width:0.5;" x="194.735075" xlink:href="#m14f64f4070" y="95.6039610362"/>
     <use style="fill:#0000ff;stroke:#000000;stroke-linecap:butt;stroke-width:0.5;" x="195.069875" xlink:href="#m14f64f4070" y="112.931599844"/>
     <use style="fill:#0000ff;stroke:#000000;stroke-linecap:butt;stroke-width:0.5;" x="195.404675" xlink:href="#m14f64f4070" y="123.951950691"/>
     <use style="fill:#0000ff;stroke:#000000;stroke-linecap:butt;stroke-width:0.5;" x="195.739475" xlink:href="#m14f64f4070" y="152.135161827"/>
     <use style="fill:#0000ff;stroke:#000000;stroke-linecap:butt;stroke-width:0.5;" x="196.074275" xlink:href="#m14f64f4070" y="145.03738738"/>
     <use style="fill:#0000ff;stroke:#000000;stroke-linecap:butt;stroke-width:0.5;" x="196.409075" xlink:href="#m14f64f4070" y="147.22295591"/>
     <use style="fill:#0000ff;stroke:#000000;stroke-linecap:butt;stroke-width:0.5;" x="196.743875" xlink:href="#m14f64f4070" y="172.099366847"/>
     <use style="fill:#0000ff;stroke:#000000;stroke-linecap:butt;stroke-width:0.5;" x="197.078675" xlink:href="#m14f64f4070" y="145.645123094"/>
     <use style="fill:#0000ff;stroke:#000000;stroke-linecap:butt;stroke-width:0.5;" x="197.413475" xlink:href="#m14f64f4070" y="138.566023169"/>
     <use style="fill:#0000ff;stroke:#000000;stroke-linecap:butt;stroke-width:0.5;" x="197.748275" xlink:href="#m14f64f4070" y="180.735937341"/>
     <use style="fill:#0000ff;stroke:#000000;stroke-linecap:butt;stroke-width:0.5;" x="198.083075" xlink:href="#m14f64f4070" y="127.370684714"/>
     <use style="fill:#0000ff;stroke:#000000;stroke-linecap:butt;stroke-width:0.5;" x="198.417875" xlink:href="#m14f64f4070" y="94.8973938527"/>
     <use style="fill:#0000ff;stroke:#000000;stroke-linecap:butt;stroke-width:0.5;" x="198.752675" xlink:href="#m14f64f4070" y="123.440589678"/>
     <use style="fill:#0000ff;stroke:#000000;stroke-linecap:butt;stroke-width:0.5;" x="199.087475" xlink:href="#m14f64f4070" y="120.82668193"/>
     <use style="fill:#0000ff;stroke:#000000;stroke-linecap:butt;stroke-width:0.5;" x="199.422275" xlink:href="#m14f64f4070" y="111.723334881"/>
     <use style="fill:#0000ff;stroke:#000000;stroke-linecap:butt;stroke-width:0.5;" x="199.757075" xlink:href="#m14f64f4070" y="125.298343595"/>
     <use style="fill:#0000ff;stroke:#000000;stroke-linecap:butt;stroke-width:0.5;" x="200.091875" xlink:href="#m14f64f4070" y="153.001747425"/>
     <use style="fill:#0000ff;stroke:#000000;stroke-linecap:butt;stroke-width:0.5;" x="200.426675" xlink:href="#m14f64f4070" y="104.309858546"/>
     <use style="fill:#0000ff;stroke:#000000;stroke-linecap:butt;stroke-width:0.5;" x="200.761475" xlink:href="#m14f64f4070" y="110.15247357"/>
     <use style="fill:#0000ff;stroke:#000000;stroke-linecap:butt;stroke-width:0.5;" x="201.096275" xlink:href="#m14f64f4070" y="138.364957978"/>
     <use style="fill:#0000ff;stroke:#000000;stroke-linecap:butt;stroke-width:0.5;" x="201.431075" xlink:href="#m14f64f4070" y="121.581261664"/>
     <use style="fill:#0000ff;stroke:#000000;stroke-linecap:butt;stroke-width:0.5;" x="201.765875" xlink:href="#m14f64f4070" y="96.3537175962"/>
     <use style="fill:#0000ff;stroke:#000000;stroke-linecap:butt;stroke-width:0.5;" x="202.100675" xlink:href="#m14f64f4070" y="143.803973604"/>
     <use style="fill:#0000ff;stroke:#000000;stroke-linecap:butt;stroke-width:0.5;" x="202.435475" xlink:href="#m14f64f4070" y="113.933512011"/>
     <use style="fill:#0000ff;stroke:#000000;stroke-linecap:butt;stroke-width:0.5;" x="202.770275" xlink:href="#m14f64f4070" y="188.467843308"/>
     <use style="fill:#0000ff;stroke:#000000;stroke-linecap:butt;stroke-width:0.5;" x="203.105075" xlink:href="#m14f64f4070" y="153.012982805"/>
     <use style="fill:#0000ff;stroke:#000000;stroke-linecap:butt;stroke-width:0.5;" x="203.439875" xlink:href="#m14f64f4070" y="144.419741788"/>
     <use style="fill:#0000ff;stroke:#000000;stroke-linecap:butt;stroke-width:0.5;" x="203.774675" xlink:href="#m14f64f4070" y="151.528189013"/>
     <use style="fill:#0000ff;stroke:#000000;stroke-linecap:butt;stroke-width:0.5;" x="204.109475" xlink:href="#m14f64f4070" y="154.292441472"/>
     <use style="fill:#0000ff;stroke:#000000;stroke-linecap:butt;stroke-width:0.5;" x="204.444275" xlink:href="#m14f64f4070" y="144.107630583"/>
     <use style="fill:#0000ff;stroke:#000000;stroke-linecap:butt;stroke-width:0.5;" x="204.779075" xlink:href="#m14f64f4070" y="175.939762255"/>
     <use style="fill:#0000ff;stroke:#000000;stroke-linecap:butt;stroke-width:0.5;" x="205.113875" xlink:href="#m14f64f4070" y="104.951114856"/>
     <use style="fill:#0000ff;stroke:#000000;stroke-linecap:butt;stroke-width:0.5;" x="205.448675" xlink:href="#m14f64f4070" y="124.502360382"/>
     <use style="fill:#0000ff;stroke:#000000;stroke-linecap:butt;stroke-width:0.5;" x="205.783475" xlink:href="#m14f64f4070" y="154.448943222"/>
     <use style="fill:#0000ff;stroke:#000000;stroke-linecap:butt;stroke-width:0.5;" x="206.118275" xlink:href="#m14f64f4070" y="160.810138863"/>
     <use style="fill:#0000ff;stroke:#000000;stroke-linecap:butt;stroke-width:0.5;" x="206.453075" xlink:href="#m14f64f4070" y="168.996660904"/>
     <use style="fill:#0000ff;stroke:#000000;stroke-linecap:butt;stroke-width:0.5;" x="206.787875" xlink:href="#m14f64f4070" y="124.135970222"/>
     <use style="fill:#0000ff;stroke:#000000;stroke-linecap:butt;stroke-width:0.5;" x="207.122675" xlink:href="#m14f64f4070" y="101.128491312"/>
     <use style="fill:#0000ff;stroke:#000000;stroke-linecap:butt;stroke-width:0.5;" x="207.457475" xlink:href="#m14f64f4070" y="106.122135735"/>
     <use style="fill:#0000ff;stroke:#000000;stroke-linecap:butt;stroke-width:0.5;" x="207.792275" xlink:href="#m14f64f4070" y="164.468077639"/>
     <use style="fill:#0000ff;stroke:#000000;stroke-linecap:butt;stroke-width:0.5;" x="208.127075" xlink:href="#m14f64f4070" y="143.498551725"/>
     <use style="fill:#0000ff;stroke:#000000;stroke-linecap:butt;stroke-width:0.5;" x="208.461875" xlink:href="#m14f64f4070" y="164.974724851"/>
     <use style="fill:#0000ff;stroke:#000000;stroke-linecap:butt;stroke-width:0.5;" x="208.796675" xlink:href="#m14f64f4070" y="133.34719576"/>
     <use style="fill:#0000ff;stroke:#000000;stroke-linecap:butt;stroke-width:0.5;" x="209.131475" xlink:href="#m14f64f4070" y="122.880212701"/>
     <use style="fill:#0000ff;stroke:#000000;stroke-linecap:butt;stroke-width:0.5;" x="209.466275" xlink:href="#m14f64f4070" y="112.880656879"/>
     <use style="fill:#0000ff;stroke:#000000;stroke-linecap:butt;stroke-width:0.5;" x="209.801075" xlink:href="#m14f64f4070" y="125.108019451"/>
     <use style="fill:#0000ff;stroke:#000000;stroke-linecap:butt;stroke-width:0.5;" x="210.135875" xlink:href="#m14f64f4070" y="153.040982107"/>
     <use style="fill:#0000ff;stroke:#000000;stroke-linecap:butt;stroke-width:0.5;" x="210.470675" xlink:href="#m14f64f4070" y="171.090744626"/>
     <use style="fill:#0000ff;stroke:#000000;stroke-linecap:butt;stroke-width:0.5;" x="210.805475" xlink:href="#m14f64f4070" y="117.391548952"/>
     <use style="fill:#0000ff;stroke:#000000;stroke-linecap:butt;stroke-width:0.5;" x="211.140275" xlink:href="#m14f64f4070" y="154.477317259"/>
     <use style="fill:#0000ff;stroke:#000000;stroke-linecap:butt;stroke-width:0.5;" x="211.475075" xlink:href="#m14f64f4070" y="166.97075535"/>
     <use style="fill:#0000ff;stroke:#000000;stroke-linecap:butt;stroke-width:0.5;" x="211.809875" xlink:href="#m14f64f4070" y="170.707405033"/>
     <use style="fill:#0000ff;stroke:#000000;stroke-linecap:butt;stroke-width:0.5;" x="212.144675" xlink:href="#m14f64f4070" y="104.802045914"/>
     <use style="fill:#0000ff;stroke:#000000;stroke-linecap:butt;stroke-width:0.5;" x="212.479475" xlink:href="#m14f64f4070" y="184.961117979"/>
     <use style="fill:#0000ff;stroke:#000000;stroke-linecap:butt;stroke-width:0.5;" x="212.814275" xlink:href="#m14f64f4070" y="137.183879974"/>
     <use style="fill:#0000ff;stroke:#000000;stroke-linecap:butt;stroke-width:0.5;" x="213.149075" xlink:href="#m14f64f4070" y="123.915340949"/>
     <use style="fill:#0000ff;stroke:#000000;stroke-linecap:butt;stroke-width:0.5;" x="213.483875" xlink:href="#m14f64f4070" y="115.923469371"/>
     <use style="fill:#0000ff;stroke:#000000;stroke-linecap:butt;stroke-width:0.5;" x="213.818675" xlink:href="#m14f64f4070" y="164.854216106"/>
     <use style="fill:#0000ff;stroke:#000000;stroke-linecap:butt;stroke-width:0.5;" x="214.153475" xlink:href="#m14f64f4070" y="114.222007549"/>
     <use style="fill:#0000ff;stroke:#000000;stroke-linecap:butt;stroke-width:0.5;" x="214.488275" xlink:href="#m14f64f4070" y="140.788506791"/>
     <use style="fill:#0000ff;stroke:#000000;stroke-linecap:butt;stroke-width:0.5;" x="214.823075" xlink:href="#m14f64f4070" y="143.831141762"/>
     <use style="fill:#0000ff;stroke:#000000;stroke-linecap:butt;stroke-width:0.5;" x="215.157875" xlink:href="#m14f64f4070" y="116.389827408"/>
     <use style="fill:#0000ff;stroke:#000000;stroke-linecap:butt;stroke-width:0.5;" x="215.492675" xlink:href="#m14f64f4070" y="103.988063422"/>
     <use style="fill:#0000ff;stroke:#000000;stroke-linecap:butt;stroke-width:0.5;" x="215.827475" xlink:href="#m14f64f4070" y="134.51819265"/>
     <use style="fill:#0000ff;stroke:#000000;stroke-linecap:butt;stroke-width:0.5;" x="216.162275" xlink:href="#m14f64f4070" y="153.590584227"/>
     <use style="fill:#0000ff;stroke:#000000;stroke-linecap:butt;stroke-width:0.5;" x="216.497075" xlink:href="#m14f64f4070" y="180.385336899"/>
     <use style="fill:#0000ff;stroke:#000000;stroke-linecap:butt;stroke-width:0.5;" x="216.831875" xlink:href="#m14f64f4070" y="146.067586463"/>
     <use style="fill:#0000ff;stroke:#000000;stroke-linecap:butt;stroke-width:0.5;" x="217.166675" xlink:href="#m14f64f4070" y="126.778846282"/>
     <use style="fill:#0000ff;stroke:#000000;stroke-linecap:butt;stroke-width:0.5;" x="217.501475" xlink:href="#m14f64f4070" y="125.613669964"/>
     <use style="fill:#0000ff;stroke:#000000;stroke-linecap:butt;stroke-width:0.5;" x="217.836275" xlink:href="#m14f64f4070" y="66.950379915"/>
     <use style="fill:#0000ff;stroke:#000000;stroke-linecap:butt;stroke-width:0.5;" x="218.171075" xlink:href="#m14f64f4070" y="87.5127212247"/>
     <use style="fill:#0000ff;stroke:#000000;stroke-linecap:butt;stroke-width:0.5;" x="218.505875" xlink:href="#m14f64f4070" y="123.245056422"/>
     <use style="fill:#0000ff;stroke:#000000;stroke-linecap:butt;stroke-width:0.5;" x="218.840675" xlink:href="#m14f64f4070" y="182.732578675"/>
     <use style="fill:#0000ff;stroke:#000000;stroke-linecap:butt;stroke-width:0.5;" x="219.175475" xlink:href="#m14f64f4070" y="141.622954119"/>
     <use style="fill:#0000ff;stroke:#000000;stroke-linecap:butt;stroke-width:0.5;" x="219.510275" xlink:href="#m14f64f4070" y="164.743660026"/>
     <use style="fill:#0000ff;stroke:#000000;stroke-linecap:butt;stroke-width:0.5;" x="219.845075" xlink:href="#m14f64f4070" y="149.548880291"/>
     <use style="fill:#0000ff;stroke:#000000;stroke-linecap:butt;stroke-width:0.5;" x="220.179875" xlink:href="#m14f64f4070" y="106.232982691"/>
     <use style="fill:#0000ff;stroke:#000000;stroke-linecap:butt;stroke-width:0.5;" x="220.514675" xlink:href="#m14f64f4070" y="166.560961843"/>
     <use style="fill:#0000ff;stroke:#000000;stroke-linecap:butt;stroke-width:0.5;" x="220.849475" xlink:href="#m14f64f4070" y="110.459739967"/>
     <use style="fill:#0000ff;stroke:#000000;stroke-linecap:butt;stroke-width:0.5;" x="221.184275" xlink:href="#m14f64f4070" y="106.581097781"/>
     <use style="fill:#0000ff;stroke:#000000;stroke-linecap:butt;stroke-width:0.5;" x="221.519075" xlink:href="#m14f64f4070" y="122.716449396"/>
     <use style="fill:#0000ff;stroke:#000000;stroke-linecap:butt;stroke-width:0.5;" x="221.853875" xlink:href="#m14f64f4070" y="154.308410464"/>
     <use style="fill:#0000ff;stroke:#000000;stroke-linecap:butt;stroke-width:0.5;" x="222.188675" xlink:href="#m14f64f4070" y="169.710069788"/>
     <use style="fill:#0000ff;stroke:#000000;stroke-linecap:butt;stroke-width:0.5;" x="222.523475" xlink:href="#m14f64f4070" y="82.4391963313"/>
     <use style="fill:#0000ff;stroke:#000000;stroke-linecap:butt;stroke-width:0.5;" x="222.858275" xlink:href="#m14f64f4070" y="154.69229602"/>
     <use style="fill:#0000ff;stroke:#000000;stroke-linecap:butt;stroke-width:0.5;" x="223.193075" xlink:href="#m14f64f4070" y="157.688086224"/>
     <use style="fill:#0000ff;stroke:#000000;stroke-linecap:butt;stroke-width:0.5;" x="223.527875" xlink:href="#m14f64f4070" y="80.7529699145"/>
     <use style="fill:#0000ff;stroke:#000000;stroke-linecap:butt;stroke-width:0.5;" x="223.862675" xlink:href="#m14f64f4070" y="130.896977463"/>
     <use style="fill:#0000ff;stroke:#000000;stroke-linecap:butt;stroke-width:0.5;" x="224.197475" xlink:href="#m14f64f4070" y="101.178753769"/>
     <use style="fill:#0000ff;stroke:#000000;stroke-linecap:butt;stroke-width:0.5;" x="224.532275" xlink:href="#m14f64f4070" y="126.889137484"/>
     <use style="fill:#0000ff;stroke:#000000;stroke-linecap:butt;stroke-width:0.5;" x="224.867075" xlink:href="#m14f64f4070" y="158.764763395"/>
     <use style="fill:#0000ff;stroke:#000000;stroke-linecap:butt;stroke-width:0.5;" x="225.201875" xlink:href="#m14f64f4070" y="101.047333676"/>
     <use style="fill:#0000ff;stroke:#000000;stroke-linecap:butt;stroke-width:0.5;" x="225.536675" xlink:href="#m14f64f4070" y="172.299592285"/>
     <use style="fill:#0000ff;stroke:#000000;stroke-linecap:butt;stroke-width:0.5;" x="225.871475" xlink:href="#m14f64f4070" y="102.298566974"/>
     <use style="fill:#0000ff;stroke:#000000;stroke-linecap:butt;stroke-width:0.5;" x="226.206275" xlink:href="#m14f64f4070" y="106.07947136"/>
     <use style="fill:#0000ff;stroke:#000000;stroke-linecap:butt;stroke-width:0.5;" x="226.541075" xlink:href="#m14f64f4070" y="110.993627705"/>
     <use style="fill:#0000ff;stroke:#000000;stroke-linecap:butt;stroke-width:0.5;" x="226.875875" xlink:href="#m14f64f4070" y="113.153123211"/>
     <use style="fill:#0000ff;stroke:#000000;stroke-linecap:butt;stroke-width:0.5;" x="227.210675" xlink:href="#m14f64f4070" y="142.402589772"/>
     <use style="fill:#0000ff;stroke:#000000;stroke-linecap:butt;stroke-width:0.5;" x="227.545475" xlink:href="#m14f64f4070" y="126.790257283"/>
     <use style="fill:#0000ff;stroke:#000000;stroke-linecap:butt;stroke-width:0.5;" x="227.880275" xlink:href="#m14f64f4070" y="103.835932209"/>
     <use style="fill:#0000ff;stroke:#000000;stroke-linecap:butt;stroke-width:0.5;" x="228.215075" xlink:href="#m14f64f4070" y="87.6641652843"/>
     <use style="fill:#0000ff;stroke:#000000;stroke-linecap:butt;stroke-width:0.5;" x="228.549875" xlink:href="#m14f64f4070" y="116.234117777"/>
     <use style="fill:#0000ff;stroke:#000000;stroke-linecap:butt;stroke-width:0.5;" x="228.884675" xlink:href="#m14f64f4070" y="92.3235767272"/>
     <use style="fill:#0000ff;stroke:#000000;stroke-linecap:butt;stroke-width:0.5;" x="229.219475" xlink:href="#m14f64f4070" y="87.4710364941"/>
     <use style="fill:#0000ff;stroke:#000000;stroke-linecap:butt;stroke-width:0.5;" x="229.554275" xlink:href="#m14f64f4070" y="95.2919514327"/>
     <use style="fill:#0000ff;stroke:#000000;stroke-linecap:butt;stroke-width:0.5;" x="229.889075" xlink:href="#m14f64f4070" y="120.43063921"/>
     <use style="fill:#0000ff;stroke:#000000;stroke-linecap:butt;stroke-width:0.5;" x="230.223875" xlink:href="#m14f64f4070" y="129.589131116"/>
     <use style="fill:#0000ff;stroke:#000000;stroke-linecap:butt;stroke-width:0.5;" x="230.558675" xlink:href="#m14f64f4070" y="100.90363768"/>
     <use style="fill:#0000ff;stroke:#000000;stroke-linecap:butt;stroke-width:0.5;" x="230.893475" xlink:href="#m14f64f4070" y="154.117112911"/>
     <use style="fill:#0000ff;stroke:#000000;stroke-linecap:butt;stroke-width:0.5;" x="231.228275" xlink:href="#m14f64f4070" y="141.126398854"/>
     <use style="fill:#0000ff;stroke:#000000;stroke-linecap:butt;stroke-width:0.5;" x="231.563075" xlink:href="#m14f64f4070" y="99.3533321881"/>
     <use style="fill:#0000ff;stroke:#000000;stroke-linecap:butt;stroke-width:0.5;" x="231.897875" xlink:href="#m14f64f4070" y="160.20741904"/>
     <use style="fill:#0000ff;stroke:#000000;stroke-linecap:butt;stroke-width:0.5;" x="232.232675" xlink:href="#m14f64f4070" y="126.455328796"/>
     <use style="fill:#0000ff;stroke:#000000;stroke-linecap:butt;stroke-width:0.5;" x="232.567475" xlink:href="#m14f64f4070" y="145.508286192"/>
     <use style="fill:#0000ff;stroke:#000000;stroke-linecap:butt;stroke-width:0.5;" x="232.902275" xlink:href="#m14f64f4070" y="123.830830018"/>
     <use style="fill:#0000ff;stroke:#000000;stroke-linecap:butt;stroke-width:0.5;" x="233.237075" xlink:href="#m14f64f4070" y="199.218045827"/>
     <use style="fill:#0000ff;stroke:#000000;stroke-linecap:butt;stroke-width:0.5;" x="233.571875" xlink:href="#m14f64f4070" y="122.441978369"/>
     <use style="fill:#0000ff;stroke:#000000;stroke-linecap:butt;stroke-width:0.5;" x="233.906675" xlink:href="#m14f64f4070" y="121.594313129"/>
     <use style="fill:#0000ff;stroke:#000000;stroke-linecap:butt;stroke-width:0.5;" x="234.241475" xlink:href="#m14f64f4070" y="119.893123145"/>
     <use style="fill:#0000ff;stroke:#000000;stroke-linecap:butt;stroke-width:0.5;" x="234.576275" xlink:href="#m14f64f4070" y="145.827945277"/>
     <use style="fill:#0000ff;stroke:#000000;stroke-linecap:butt;stroke-width:0.5;" x="234.911075" xlink:href="#m14f64f4070" y="113.364543138"/>
     <use style="fill:#0000ff;stroke:#000000;stroke-linecap:butt;stroke-width:0.5;" x="235.245875" xlink:href="#m14f64f4070" y="192.534775117"/>
     <use style="fill:#0000ff;stroke:#000000;stroke-linecap:butt;stroke-width:0.5;" x="235.580675" xlink:href="#m14f64f4070" y="183.123083015"/>
     <use style="fill:#0000ff;stroke:#000000;stroke-linecap:butt;stroke-width:0.5;" x="235.915475" xlink:href="#m14f64f4070" y="104.319372593"/>
     <use style="fill:#0000ff;stroke:#000000;stroke-linecap:butt;stroke-width:0.5;" x="236.250275" xlink:href="#m14f64f4070" y="121.353574969"/>
     <use style="fill:#0000ff;stroke:#000000;stroke-linecap:butt;stroke-width:0.5;" x="236.585075" xlink:href="#m14f64f4070" y="130.283925515"/>
     <use style="fill:#0000ff;stroke:#000000;stroke-linecap:butt;stroke-width:0.5;" x="236.919875" xlink:href="#m14f64f4070" y="181.902476622"/>
     <use style="fill:#0000ff;stroke:#000000;stroke-linecap:butt;stroke-width:0.5;" x="237.254675" xlink:href="#m14f64f4070" y="128.057362119"/>
     <use style="fill:#0000ff;stroke:#000000;stroke-linecap:butt;stroke-width:0.5;" x="237.589475" xlink:href="#m14f64f4070" y="149.52647732"/>
     <use style="fill:#0000ff;stroke:#000000;stroke-linecap:butt;stroke-width:0.5;" x="237.924275" xlink:href="#m14f64f4070" y="108.351979012"/>
     <use style="fill:#0000ff;stroke:#000000;stroke-linecap:butt;stroke-width:0.5;" x="238.259075" xlink:href="#m14f64f4070" y="154.449820563"/>
     <use style="fill:#0000ff;stroke:#000000;stroke-linecap:butt;stroke-width:0.5;" x="238.593875" xlink:href="#m14f64f4070" y="89.0219646569"/>
     <use style="fill:#0000ff;stroke:#000000;stroke-linecap:butt;stroke-width:0.5;" x="238.928675" xlink:href="#m14f64f4070" y="115.543016026"/>
     <use style="fill:#0000ff;stroke:#000000;stroke-linecap:butt;stroke-width:0.5;" x="239.263475" xlink:href="#m14f64f4070" y="124.45606295"/>
     <use style="fill:#0000ff;stroke:#000000;stroke-linecap:butt;stroke-width:0.5;" x="239.598275" xlink:href="#m14f64f4070" y="134.227502273"/>
     <use style="fill:#0000ff;stroke:#000000;stroke-linecap:butt;stroke-width:0.5;" x="239.933075" xlink:href="#m14f64f4070" y="162.113300134"/>
     <use style="fill:#0000ff;stroke:#000000;stroke-linecap:butt;stroke-width:0.5;" x="240.267875" xlink:href="#m14f64f4070" y="121.314872268"/>
     <use style="fill:#0000ff;stroke:#000000;stroke-linecap:butt;stroke-width:0.5;" x="240.602675" xlink:href="#m14f64f4070" y="156.796862739"/>
     <use style="fill:#0000ff;stroke:#000000;stroke-linecap:butt;stroke-width:0.5;" x="240.937475" xlink:href="#m14f64f4070" y="142.369991255"/>
     <use style="fill:#0000ff;stroke:#000000;stroke-linecap:butt;stroke-width:0.5;" x="241.272275" xlink:href="#m14f64f4070" y="189.114579022"/>
     <use style="fill:#0000ff;stroke:#000000;stroke-linecap:butt;stroke-width:0.5;" x="241.607075" xlink:href="#m14f64f4070" y="141.886991257"/>
     <use style="fill:#0000ff;stroke:#000000;stroke-linecap:butt;stroke-width:0.5;" x="241.941875" xlink:href="#m14f64f4070" y="140.018713064"/>
     <use style="fill:#0000ff;stroke:#000000;stroke-linecap:butt;stroke-width:0.5;" x="242.276675" xlink:href="#m14f64f4070" y="105.42148925"/>
     <use style="fill:#0000ff;stroke:#000000;stroke-linecap:butt;stroke-width:0.5;" x="242.611475" xlink:href="#m14f64f4070" y="108.983010005"/>
     <use style="fill:#0000ff;stroke:#000000;stroke-linecap:butt;stroke-width:0.5;" x="242.946275" xlink:href="#m14f64f4070" y="76.6761898781"/>
     <use style="fill:#0000ff;stroke:#000000;stroke-linecap:butt;stroke-width:0.5;" x="243.281075" xlink:href="#m14f64f4070" y="151.594865325"/>
     <use style="fill:#0000ff;stroke:#000000;stroke-linecap:butt;stroke-width:0.5;" x="243.615875" xlink:href="#m14f64f4070" y="129.331224837"/>
     <use style="fill:#0000ff;stroke:#000000;stroke-linecap:butt;stroke-width:0.5;" x="243.950675" xlink:href="#m14f64f4070" y="149.58392339"/>
     <use style="fill:#0000ff;stroke:#000000;stroke-linecap:butt;stroke-width:0.5;" x="244.285475" xlink:href="#m14f64f4070" y="144.283233232"/>
     <use style="fill:#0000ff;stroke:#000000;stroke-linecap:butt;stroke-width:0.5;" x="244.620275" xlink:href="#m14f64f4070" y="145.918749145"/>
     <use style="fill:#0000ff;stroke:#000000;stroke-linecap:butt;stroke-width:0.5;" x="244.955075" xlink:href="#m14f64f4070" y="107.33021031"/>
     <use style="fill:#0000ff;stroke:#000000;stroke-linecap:butt;stroke-width:0.5;" x="245.289875" xlink:href="#m14f64f4070" y="126.101133918"/>
     <use style="fill:#0000ff;stroke:#000000;stroke-linecap:butt;stroke-width:0.5;" x="245.624675" xlink:href="#m14f64f4070" y="145.705831955"/>
     <use style="fill:#0000ff;stroke:#000000;stroke-linecap:butt;stroke-width:0.5;" x="245.959475" xlink:href="#m14f64f4070" y="139.581813215"/>
     <use style="fill:#0000ff;stroke:#000000;stroke-linecap:butt;stroke-width:0.5;" x="246.294275" xlink:href="#m14f64f4070" y="132.273472866"/>
     <use style="fill:#0000ff;stroke:#000000;stroke-linecap:butt;stroke-width:0.5;" x="246.629075" xlink:href="#m14f64f4070" y="154.342093379"/>
     <use style="fill:#0000ff;stroke:#000000;stroke-linecap:butt;stroke-width:0.5;" x="246.963875" xlink:href="#m14f64f4070" y="91.9651477593"/>
     <use style="fill:#0000ff;stroke:#000000;stroke-linecap:butt;stroke-width:0.5;" x="247.298675" xlink:href="#m14f64f4070" y="118.781441461"/>
     <use style="fill:#0000ff;stroke:#000000;stroke-linecap:butt;stroke-width:0.5;" x="247.633475" xlink:href="#m14f64f4070" y="145.394254895"/>
     <use style="fill:#0000ff;stroke:#000000;stroke-linecap:butt;stroke-width:0.5;" x="247.968275" xlink:href="#m14f64f4070" y="108.768620649"/>
     <use style="fill:#0000ff;stroke:#000000;stroke-linecap:butt;stroke-width:0.5;" x="248.303075" xlink:href="#m14f64f4070" y="140.74217801"/>
     <use style="fill:#0000ff;stroke:#000000;stroke-linecap:butt;stroke-width:0.5;" x="248.637875" xlink:href="#m14f64f4070" y="135.879478098"/>
     <use style="fill:#0000ff;stroke:#000000;stroke-linecap:butt;stroke-width:0.5;" x="248.972675" xlink:href="#m14f64f4070" y="166.346077413"/>
     <use style="fill:#0000ff;stroke:#000000;stroke-linecap:butt;stroke-width:0.5;" x="249.307475" xlink:href="#m14f64f4070" y="91.870050375"/>
     <use style="fill:#0000ff;stroke:#000000;stroke-linecap:butt;stroke-width:0.5;" x="249.642275" xlink:href="#m14f64f4070" y="123.409254739"/>
     <use style="fill:#0000ff;stroke:#000000;stroke-linecap:butt;stroke-width:0.5;" x="249.977075" xlink:href="#m14f64f4070" y="86.73375859"/>
     <use style="fill:#0000ff;stroke:#000000;stroke-linecap:butt;stroke-width:0.5;" x="250.311875" xlink:href="#m14f64f4070" y="117.436613011"/>
     <use style="fill:#0000ff;stroke:#000000;stroke-linecap:butt;stroke-width:0.5;" x="250.646675" xlink:href="#m14f64f4070" y="111.161972527"/>
     <use style="fill:#0000ff;stroke:#000000;stroke-linecap:butt;stroke-width:0.5;" x="250.981475" xlink:href="#m14f64f4070" y="90.6860650161"/>
     <use style="fill:#0000ff;stroke:#000000;stroke-linecap:butt;stroke-width:0.5;" x="251.316275" xlink:href="#m14f64f4070" y="103.13602203"/>
     <use style="fill:#0000ff;stroke:#000000;stroke-linecap:butt;stroke-width:0.5;" x="251.651075" xlink:href="#m14f64f4070" y="107.337474289"/>
     <use style="fill:#0000ff;stroke:#000000;stroke-linecap:butt;stroke-width:0.5;" x="251.985875" xlink:href="#m14f64f4070" y="156.422957284"/>
     <use style="fill:#0000ff;stroke:#000000;stroke-linecap:butt;stroke-width:0.5;" x="252.320675" xlink:href="#m14f64f4070" y="188.656662333"/>
     <use style="fill:#0000ff;stroke:#000000;stroke-linecap:butt;stroke-width:0.5;" x="252.655475" xlink:href="#m14f64f4070" y="156.409147648"/>
     <use style="fill:#0000ff;stroke:#000000;stroke-linecap:butt;stroke-width:0.5;" x="252.990275" xlink:href="#m14f64f4070" y="147.287900276"/>
     <use style="fill:#0000ff;stroke:#000000;stroke-linecap:butt;stroke-width:0.5;" x="253.325075" xlink:href="#m14f64f4070" y="202.999805162"/>
     <use style="fill:#0000ff;stroke:#000000;stroke-linecap:butt;stroke-width:0.5;" x="253.659875" xlink:href="#m14f64f4070" y="132.384900904"/>
     <use style="fill:#0000ff;stroke:#000000;stroke-linecap:butt;stroke-width:0.5;" x="253.994675" xlink:href="#m14f64f4070" y="144.667451581"/>
     <use style="fill:#0000ff;stroke:#000000;stroke-linecap:butt;stroke-width:0.5;" x="254.329475" xlink:href="#m14f64f4070" y="107.210964103"/>
     <use style="fill:#0000ff;stroke:#000000;stroke-linecap:butt;stroke-width:0.5;" x="254.664275" xlink:href="#m14f64f4070" y="163.889514112"/>
     <use style="fill:#0000ff;stroke:#000000;stroke-linecap:butt;stroke-width:0.5;" x="254.999075" xlink:href="#m14f64f4070" y="114.33558315"/>
     <use style="fill:#0000ff;stroke:#000000;stroke-linecap:butt;stroke-width:0.5;" x="255.333875" xlink:href="#m14f64f4070" y="134.308059646"/>
     <use style="fill:#0000ff;stroke:#000000;stroke-linecap:butt;stroke-width:0.5;" x="255.668675" xlink:href="#m14f64f4070" y="109.639623146"/>
     <use style="fill:#0000ff;stroke:#000000;stroke-linecap:butt;stroke-width:0.5;" x="256.003475" xlink:href="#m14f64f4070" y="166.141415741"/>
     <use style="fill:#0000ff;stroke:#000000;stroke-linecap:butt;stroke-width:0.5;" x="256.338275" xlink:href="#m14f64f4070" y="98.4652599372"/>
     <use style="fill:#0000ff;stroke:#000000;stroke-linecap:butt;stroke-width:0.5;" x="256.673075" xlink:href="#m14f64f4070" y="119.798267128"/>
     <use style="fill:#0000ff;stroke:#000000;stroke-linecap:butt;stroke-width:0.5;" x="257.007875" xlink:href="#m14f64f4070" y="148.753996929"/>
     <use style="fill:#0000ff;stroke:#000000;stroke-linecap:butt;stroke-width:0.5;" x="257.342675" xlink:href="#m14f64f4070" y="163.366318222"/>
     <use style="fill:#0000ff;stroke:#000000;stroke-linecap:butt;stroke-width:0.5;" x="257.677475" xlink:href="#m14f64f4070" y="132.177102842"/>
     <use style="fill:#0000ff;stroke:#000000;stroke-linecap:butt;stroke-width:0.5;" x="258.012275" xlink:href="#m14f64f4070" y="123.966838574"/>
     <use style="fill:#0000ff;stroke:#000000;stroke-linecap:butt;stroke-width:0.5;" x="258.347075" xlink:href="#m14f64f4070" y="167.316621863"/>
     <use style="fill:#0000ff;stroke:#000000;stroke-linecap:butt;stroke-width:0.5;" x="258.681875" xlink:href="#m14f64f4070" y="124.336092137"/>
     <use style="fill:#0000ff;stroke:#000000;stroke-linecap:butt;stroke-width:0.5;" x="259.016675" xlink:href="#m14f64f4070" y="125.339418685"/>
     <use style="fill:#0000ff;stroke:#000000;stroke-linecap:butt;stroke-width:0.5;" x="259.351475" xlink:href="#m14f64f4070" y="164.48531487"/>
     <use style="fill:#0000ff;stroke:#000000;stroke-linecap:butt;stroke-width:0.5;" x="259.686275" xlink:href="#m14f64f4070" y="147.372460924"/>
     <use style="fill:#0000ff;stroke:#000000;stroke-linecap:butt;stroke-width:0.5;" x="260.021075" xlink:href="#m14f64f4070" y="118.599954078"/>
     <use style="fill:#0000ff;stroke:#000000;stroke-linecap:butt;stroke-width:0.5;" x="260.355875" xlink:href="#m14f64f4070" y="177.803527632"/>
     <use style="fill:#0000ff;stroke:#000000;stroke-linecap:butt;stroke-width:0.5;" x="260.690675" xlink:href="#m14f64f4070" y="122.460845877"/>
     <use style="fill:#0000ff;stroke:#000000;stroke-linecap:butt;stroke-width:0.5;" x="261.025475" xlink:href="#m14f64f4070" y="133.200036567"/>
     <use style="fill:#0000ff;stroke:#000000;stroke-linecap:butt;stroke-width:0.5;" x="261.360275" xlink:href="#m14f64f4070" y="165.474740074"/>
     <use style="fill:#0000ff;stroke:#000000;stroke-linecap:butt;stroke-width:0.5;" x="261.695075" xlink:href="#m14f64f4070" y="87.9421600116"/>
     <use style="fill:#0000ff;stroke:#000000;stroke-linecap:butt;stroke-width:0.5;" x="262.029875" xlink:href="#m14f64f4070" y="118.022564431"/>
     <use style="fill:#0000ff;stroke:#000000;stroke-linecap:butt;stroke-width:0.5;" x="262.364675" xlink:href="#m14f64f4070" y="173.577599301"/>
     <use style="fill:#0000ff;stroke:#000000;stroke-linecap:butt;stroke-width:0.5;" x="262.699475" xlink:href="#m14f64f4070" y="132.752633947"/>
     <use style="fill:#0000ff;stroke:#000000;stroke-linecap:butt;stroke-width:0.5;" x="263.034275" xlink:href="#m14f64f4070" y="78.7239559124"/>
     <use style="fill:#0000ff;stroke:#000000;stroke-linecap:butt;stroke-width:0.5;" x="263.369075" xlink:href="#m14f64f4070" y="121.083630922"/>
     <use style="fill:#0000ff;stroke:#000000;stroke-linecap:butt;stroke-width:0.5;" x="263.703875" xlink:href="#m14f64f4070" y="119.648335821"/>
     <use style="fill:#0000ff;stroke:#000000;stroke-linecap:butt;stroke-width:0.5;" x="264.038675" xlink:href="#m14f64f4070" y="150.970417386"/>
     <use style="fill:#0000ff;stroke:#000000;stroke-linecap:butt;stroke-width:0.5;" x="264.373475" xlink:href="#m14f64f4070" y="166.687914862"/>
     <use style="fill:#0000ff;stroke:#000000;stroke-linecap:butt;stroke-width:0.5;" x="264.708275" xlink:href="#m14f64f4070" y="149.18900422"/>
     <use style="fill:#0000ff;stroke:#000000;stroke-linecap:butt;stroke-width:0.5;" x="265.043075" xlink:href="#m14f64f4070" y="127.922522315"/>
     <use style="fill:#0000ff;stroke:#000000;stroke-linecap:butt;stroke-width:0.5;" x="265.377875" xlink:href="#m14f64f4070" y="128.517381247"/>
     <use style="fill:#0000ff;stroke:#000000;stroke-linecap:butt;stroke-width:0.5;" x="265.712675" xlink:href="#m14f64f4070" y="141.831677324"/>
     <use style="fill:#0000ff;stroke:#000000;stroke-linecap:butt;stroke-width:0.5;" x="266.047475" xlink:href="#m14f64f4070" y="137.242193077"/>
     <use style="fill:#0000ff;stroke:#000000;stroke-linecap:butt;stroke-width:0.5;" x="266.382275" xlink:href="#m14f64f4070" y="139.008168155"/>
     <use style="fill:#0000ff;stroke:#000000;stroke-linecap:butt;stroke-width:0.5;" x="266.717075" xlink:href="#m14f64f4070" y="191.329564662"/>
     <use style="fill:#0000ff;stroke:#000000;stroke-linecap:butt;stroke-width:0.5;" x="267.051875" xlink:href="#m14f64f4070" y="146.228023402"/>
     <use style="fill:#0000ff;stroke:#000000;stroke-linecap:butt;stroke-width:0.5;" x="267.386675" xlink:href="#m14f64f4070" y="80.5086798458"/>
     <use style="fill:#0000ff;stroke:#000000;stroke-linecap:butt;stroke-width:0.5;" x="267.721475" xlink:href="#m14f64f4070" y="133.927176159"/>
     <use style="fill:#0000ff;stroke:#000000;stroke-linecap:butt;stroke-width:0.5;" x="268.056275" xlink:href="#m14f64f4070" y="89.4067207255"/>
     <use style="fill:#0000ff;stroke:#000000;stroke-linecap:butt;stroke-width:0.5;" x="268.391075" xlink:href="#m14f64f4070" y="164.112261358"/>
     <use style="fill:#0000ff;stroke:#000000;stroke-linecap:butt;stroke-width:0.5;" x="268.725875" xlink:href="#m14f64f4070" y="175.004573196"/>
     <use style="fill:#0000ff;stroke:#000000;stroke-linecap:butt;stroke-width:0.5;" x="269.060675" xlink:href="#m14f64f4070" y="114.557404295"/>
     <use style="fill:#0000ff;stroke:#000000;stroke-linecap:butt;stroke-width:0.5;" x="269.395475" xlink:href="#m14f64f4070" y="125.265506539"/>
     <use style="fill:#0000ff;stroke:#000000;stroke-linecap:butt;stroke-width:0.5;" x="269.730275" xlink:href="#m14f64f4070" y="152.748673785"/>
     <use style="fill:#0000ff;stroke:#000000;stroke-linecap:butt;stroke-width:0.5;" x="270.065075" xlink:href="#m14f64f4070" y="106.251774041"/>
     <use style="fill:#0000ff;stroke:#000000;stroke-linecap:butt;stroke-width:0.5;" x="270.399875" xlink:href="#m14f64f4070" y="148.224978631"/>
     <use style="fill:#0000ff;stroke:#000000;stroke-linecap:butt;stroke-width:0.5;" x="270.734675" xlink:href="#m14f64f4070" y="170.695629089"/>
     <use style="fill:#0000ff;stroke:#000000;stroke-linecap:butt;stroke-width:0.5;" x="271.069475" xlink:href="#m14f64f4070" y="151.948238939"/>
     <use style="fill:#0000ff;stroke:#000000;stroke-linecap:butt;stroke-width:0.5;" x="271.404275" xlink:href="#m14f64f4070" y="164.937610243"/>
     <use style="fill:#0000ff;stroke:#000000;stroke-linecap:butt;stroke-width:0.5;" x="271.739075" xlink:href="#m14f64f4070" y="149.056404882"/>
     <use style="fill:#0000ff;stroke:#000000;stroke-linecap:butt;stroke-width:0.5;" x="272.073875" xlink:href="#m14f64f4070" y="116.012990989"/>
     <use style="fill:#0000ff;stroke:#000000;stroke-linecap:butt;stroke-width:0.5;" x="272.408675" xlink:href="#m14f64f4070" y="149.169029562"/>
     <use style="fill:#0000ff;stroke:#000000;stroke-linecap:butt;stroke-width:0.5;" x="272.743475" xlink:href="#m14f64f4070" y="78.2747738101"/>
     <use style="fill:#0000ff;stroke:#000000;stroke-linecap:butt;stroke-width:0.5;" x="273.078275" xlink:href="#m14f64f4070" y="199.532353347"/>
     <use style="fill:#0000ff;stroke:#000000;stroke-linecap:butt;stroke-width:0.5;" x="273.413075" xlink:href="#m14f64f4070" y="91.2943100673"/>
     <use style="fill:#0000ff;stroke:#000000;stroke-linecap:butt;stroke-width:0.5;" x="273.747875" xlink:href="#m14f64f4070" y="130.462270628"/>
     <use style="fill:#0000ff;stroke:#000000;stroke-linecap:butt;stroke-width:0.5;" x="274.082675" xlink:href="#m14f64f4070" y="149.838888648"/>
     <use style="fill:#0000ff;stroke:#000000;stroke-linecap:butt;stroke-width:0.5;" x="274.417475" xlink:href="#m14f64f4070" y="129.830249333"/>
     <use style="fill:#0000ff;stroke:#000000;stroke-linecap:butt;stroke-width:0.5;" x="274.752275" xlink:href="#m14f64f4070" y="123.956596645"/>
     <use style="fill:#0000ff;stroke:#000000;stroke-linecap:butt;stroke-width:0.5;" x="275.087075" xlink:href="#m14f64f4070" y="107.331745069"/>
     <use style="fill:#0000ff;stroke:#000000;stroke-linecap:butt;stroke-width:0.5;" x="275.421875" xlink:href="#m14f64f4070" y="140.262003038"/>
     <use style="fill:#0000ff;stroke:#000000;stroke-linecap:butt;stroke-width:0.5;" x="275.756675" xlink:href="#m14f64f4070" y="115.728761804"/>
     <use style="fill:#0000ff;stroke:#000000;stroke-linecap:butt;stroke-width:0.5;" x="276.091475" xlink:href="#m14f64f4070" y="150.914141536"/>
     <use style="fill:#0000ff;stroke:#000000;stroke-linecap:butt;stroke-width:0.5;" x="276.426275" xlink:href="#m14f64f4070" y="137.577015722"/>
     <use style="fill:#0000ff;stroke:#000000;stroke-linecap:butt;stroke-width:0.5;" x="276.761075" xlink:href="#m14f64f4070" y="92.5710571022"/>
     <use style="fill:#0000ff;stroke:#000000;stroke-linecap:butt;stroke-width:0.5;" x="277.095875" xlink:href="#m14f64f4070" y="112.328914312"/>
     <use style="fill:#0000ff;stroke:#000000;stroke-linecap:butt;stroke-width:0.5;" x="277.430675" xlink:href="#m14f64f4070" y="142.582214156"/>
     <use style="fill:#0000ff;stroke:#000000;stroke-linecap:butt;stroke-width:0.5;" x="277.765475" xlink:href="#m14f64f4070" y="43.8886485826"/>
     <use style="fill:#0000ff;stroke:#000000;stroke-linecap:butt;stroke-width:0.5;" x="278.100275" xlink:href="#m14f64f4070" y="149.284816992"/>
     <use style="fill:#0000ff;stroke:#000000;stroke-linecap:butt;stroke-width:0.5;" x="278.435075" xlink:href="#m14f64f4070" y="125.803166297"/>
     <use style="fill:#0000ff;stroke:#000000;stroke-linecap:butt;stroke-width:0.5;" x="278.769875" xlink:href="#m14f64f4070" y="126.780121182"/>
     <use style="fill:#0000ff;stroke:#000000;stroke-linecap:butt;stroke-width:0.5;" x="279.104675" xlink:href="#m14f64f4070" y="80.1953119523"/>
     <use style="fill:#0000ff;stroke:#000000;stroke-linecap:butt;stroke-width:0.5;" x="279.439475" xlink:href="#m14f64f4070" y="113.330740067"/>
     <use style="fill:#0000ff;stroke:#000000;stroke-linecap:butt;stroke-width:0.5;" x="279.774275" xlink:href="#m14f64f4070" y="121.001770355"/>
     <use style="fill:#0000ff;stroke:#000000;stroke-linecap:butt;stroke-width:0.5;" x="280.109075" xlink:href="#m14f64f4070" y="102.735615267"/>
     <use style="fill:#0000ff;stroke:#000000;stroke-linecap:butt;stroke-width:0.5;" x="280.443875" xlink:href="#m14f64f4070" y="141.422535499"/>
     <use style="fill:#0000ff;stroke:#000000;stroke-linecap:butt;stroke-width:0.5;" x="280.778675" xlink:href="#m14f64f4070" y="128.226576596"/>
     <use style="fill:#0000ff;stroke:#000000;stroke-linecap:butt;stroke-width:0.5;" x="281.113475" xlink:href="#m14f64f4070" y="167.070280905"/>
     <use style="fill:#0000ff;stroke:#000000;stroke-linecap:butt;stroke-width:0.5;" x="281.448275" xlink:href="#m14f64f4070" y="150.485697617"/>
     <use style="fill:#0000ff;stroke:#000000;stroke-linecap:butt;stroke-width:0.5;" x="281.783075" xlink:href="#m14f64f4070" y="218.383428901"/>
     <use style="fill:#0000ff;stroke:#000000;stroke-linecap:butt;stroke-width:0.5;" x="282.117875" xlink:href="#m14f64f4070" y="137.539519583"/>
     <use style="fill:#0000ff;stroke:#000000;stroke-linecap:butt;stroke-width:0.5;" x="282.452675" xlink:href="#m14f64f4070" y="144.488372137"/>
     <use style="fill:#0000ff;stroke:#000000;stroke-linecap:butt;stroke-width:0.5;" x="282.787475" xlink:href="#m14f64f4070" y="167.643736438"/>
     <use style="fill:#0000ff;stroke:#000000;stroke-linecap:butt;stroke-width:0.5;" x="283.122275" xlink:href="#m14f64f4070" y="169.824995244"/>
     <use style="fill:#0000ff;stroke:#000000;stroke-linecap:butt;stroke-width:0.5;" x="283.457075" xlink:href="#m14f64f4070" y="164.233800158"/>
     <use style="fill:#0000ff;stroke:#000000;stroke-linecap:butt;stroke-width:0.5;" x="283.791875" xlink:href="#m14f64f4070" y="172.55700305"/>
     <use style="fill:#0000ff;stroke:#000000;stroke-linecap:butt;stroke-width:0.5;" x="284.126675" xlink:href="#m14f64f4070" y="88.6885884111"/>
     <use style="fill:#0000ff;stroke:#000000;stroke-linecap:butt;stroke-width:0.5;" x="284.461475" xlink:href="#m14f64f4070" y="96.8686394107"/>
     <use style="fill:#0000ff;stroke:#000000;stroke-linecap:butt;stroke-width:0.5;" x="284.796275" xlink:href="#m14f64f4070" y="127.402110434"/>
     <use style="fill:#0000ff;stroke:#000000;stroke-linecap:butt;stroke-width:0.5;" x="285.131075" xlink:href="#m14f64f4070" y="145.011189704"/>
     <use style="fill:#0000ff;stroke:#000000;stroke-linecap:butt;stroke-width:0.5;" x="285.465875" xlink:href="#m14f64f4070" y="111.863941445"/>
     <use style="fill:#0000ff;stroke:#000000;stroke-linecap:butt;stroke-width:0.5;" x="285.800675" xlink:href="#m14f64f4070" y="122.145370225"/>
     <use style="fill:#0000ff;stroke:#000000;stroke-linecap:butt;stroke-width:0.5;" x="286.135475" xlink:href="#m14f64f4070" y="123.071773536"/>
     <use style="fill:#0000ff;stroke:#000000;stroke-linecap:butt;stroke-width:0.5;" x="286.470275" xlink:href="#m14f64f4070" y="92.5251444902"/>
     <use style="fill:#0000ff;stroke:#000000;stroke-linecap:butt;stroke-width:0.5;" x="286.805075" xlink:href="#m14f64f4070" y="88.4813974472"/>
     <use style="fill:#0000ff;stroke:#000000;stroke-linecap:butt;stroke-width:0.5;" x="287.139875" xlink:href="#m14f64f4070" y="166.635952617"/>
     <use style="fill:#0000ff;stroke:#000000;stroke-linecap:butt;stroke-width:0.5;" x="287.474675" xlink:href="#m14f64f4070" y="140.968549222"/>
     <use style="fill:#0000ff;stroke:#000000;stroke-linecap:butt;stroke-width:0.5;" x="287.809475" xlink:href="#m14f64f4070" y="64.0652922819"/>
     <use style="fill:#0000ff;stroke:#000000;stroke-linecap:butt;stroke-width:0.5;" x="288.144275" xlink:href="#m14f64f4070" y="105.504146874"/>
     <use style="fill:#0000ff;stroke:#000000;stroke-linecap:butt;stroke-width:0.5;" x="288.479075" xlink:href="#m14f64f4070" y="174.215679675"/>
     <use style="fill:#0000ff;stroke:#000000;stroke-linecap:butt;stroke-width:0.5;" x="288.813875" xlink:href="#m14f64f4070" y="155.75602605"/>
     <use style="fill:#0000ff;stroke:#000000;stroke-linecap:butt;stroke-width:0.5;" x="289.148675" xlink:href="#m14f64f4070" y="116.126937806"/>
     <use style="fill:#0000ff;stroke:#000000;stroke-linecap:butt;stroke-width:0.5;" x="289.483475" xlink:href="#m14f64f4070" y="192.031568132"/>
     <use style="fill:#0000ff;stroke:#000000;stroke-linecap:butt;stroke-width:0.5;" x="289.818275" xlink:href="#m14f64f4070" y="132.479642388"/>
     <use style="fill:#0000ff;stroke:#000000;stroke-linecap:butt;stroke-width:0.5;" x="290.153075" xlink:href="#m14f64f4070" y="94.266013122"/>
     <use style="fill:#0000ff;stroke:#000000;stroke-linecap:butt;stroke-width:0.5;" x="290.487875" xlink:href="#m14f64f4070" y="130.864230226"/>
     <use style="fill:#0000ff;stroke:#000000;stroke-linecap:butt;stroke-width:0.5;" x="290.822675" xlink:href="#m14f64f4070" y="93.4877021155"/>
     <use style="fill:#0000ff;stroke:#000000;stroke-linecap:butt;stroke-width:0.5;" x="291.157475" xlink:href="#m14f64f4070" y="86.1755251543"/>
     <use style="fill:#0000ff;stroke:#000000;stroke-linecap:butt;stroke-width:0.5;" x="291.492275" xlink:href="#m14f64f4070" y="108.652460029"/>
     <use style="fill:#0000ff;stroke:#000000;stroke-linecap:butt;stroke-width:0.5;" x="291.827075" xlink:href="#m14f64f4070" y="142.663784029"/>
     <use style="fill:#0000ff;stroke:#000000;stroke-linecap:butt;stroke-width:0.5;" x="292.161875" xlink:href="#m14f64f4070" y="116.817289583"/>
     <use style="fill:#0000ff;stroke:#000000;stroke-linecap:butt;stroke-width:0.5;" x="292.496675" xlink:href="#m14f64f4070" y="127.742816407"/>
     <use style="fill:#0000ff;stroke:#000000;stroke-linecap:butt;stroke-width:0.5;" x="292.831475" xlink:href="#m14f64f4070" y="157.709246049"/>
     <use style="fill:#0000ff;stroke:#000000;stroke-linecap:butt;stroke-width:0.5;" x="293.166275" xlink:href="#m14f64f4070" y="124.763435458"/>
     <use style="fill:#0000ff;stroke:#000000;stroke-linecap:butt;stroke-width:0.5;" x="293.501075" xlink:href="#m14f64f4070" y="194.660019485"/>
     <use style="fill:#0000ff;stroke:#000000;stroke-linecap:butt;stroke-width:0.5;" x="293.835875" xlink:href="#m14f64f4070" y="161.501260352"/>
     <use style="fill:#0000ff;stroke:#000000;stroke-linecap:butt;stroke-width:0.5;" x="294.170675" xlink:href="#m14f64f4070" y="107.466395828"/>
     <use style="fill:#0000ff;stroke:#000000;stroke-linecap:butt;stroke-width:0.5;" x="294.505475" xlink:href="#m14f64f4070" y="121.04084253"/>
     <use style="fill:#0000ff;stroke:#000000;stroke-linecap:butt;stroke-width:0.5;" x="294.840275" xlink:href="#m14f64f4070" y="105.699130506"/>
     <use style="fill:#0000ff;stroke:#000000;stroke-linecap:butt;stroke-width:0.5;" x="295.175075" xlink:href="#m14f64f4070" y="186.342734468"/>
     <use style="fill:#0000ff;stroke:#000000;stroke-linecap:butt;stroke-width:0.5;" x="295.509875" xlink:href="#m14f64f4070" y="150.856619003"/>
     <use style="fill:#0000ff;stroke:#000000;stroke-linecap:butt;stroke-width:0.5;" x="295.844675" xlink:href="#m14f64f4070" y="136.65728245"/>
     <use style="fill:#0000ff;stroke:#000000;stroke-linecap:butt;stroke-width:0.5;" x="296.179475" xlink:href="#m14f64f4070" y="107.154668104"/>
     <use style="fill:#0000ff;stroke:#000000;stroke-linecap:butt;stroke-width:0.5;" x="296.514275" xlink:href="#m14f64f4070" y="90.526578905"/>
     <use style="fill:#0000ff;stroke:#000000;stroke-linecap:butt;stroke-width:0.5;" x="296.849075" xlink:href="#m14f64f4070" y="91.453285216"/>
     <use style="fill:#0000ff;stroke:#000000;stroke-linecap:butt;stroke-width:0.5;" x="297.183875" xlink:href="#m14f64f4070" y="71.1977458208"/>
     <use style="fill:#0000ff;stroke:#000000;stroke-linecap:butt;stroke-width:0.5;" x="297.518675" xlink:href="#m14f64f4070" y="127.482896445"/>
     <use style="fill:#0000ff;stroke:#000000;stroke-linecap:butt;stroke-width:0.5;" x="297.853475" xlink:href="#m14f64f4070" y="51.9593142718"/>
     <use style="fill:#0000ff;stroke:#000000;stroke-linecap:butt;stroke-width:0.5;" x="298.188275" xlink:href="#m14f64f4070" y="93.8591597846"/>
     <use style="fill:#0000ff;stroke:#000000;stroke-linecap:butt;stroke-width:0.5;" x="298.523075" xlink:href="#m14f64f4070" y="135.506856948"/>
     <use style="fill:#0000ff;stroke:#000000;stroke-linecap:butt;stroke-width:0.5;" x="298.857875" xlink:href="#m14f64f4070" y="142.22172024"/>
     <use style="fill:#0000ff;stroke:#000000;stroke-linecap:butt;stroke-width:0.5;" x="299.192675" xlink:href="#m14f64f4070" y="131.946706535"/>
     <use style="fill:#0000ff;stroke:#000000;stroke-linecap:butt;stroke-width:0.5;" x="299.527475" xlink:href="#m14f64f4070" y="110.529494601"/>
     <use style="fill:#0000ff;stroke:#000000;stroke-linecap:butt;stroke-width:0.5;" x="299.862275" xlink:href="#m14f64f4070" y="159.755963767"/>
     <use style="fill:#0000ff;stroke:#000000;stroke-linecap:butt;stroke-width:0.5;" x="300.197075" xlink:href="#m14f64f4070" y="142.72978222"/>
     <use style="fill:#0000ff;stroke:#000000;stroke-linecap:butt;stroke-width:0.5;" x="300.531875" xlink:href="#m14f64f4070" y="136.636779776"/>
     <use style="fill:#0000ff;stroke:#000000;stroke-linecap:butt;stroke-width:0.5;" x="300.866675" xlink:href="#m14f64f4070" y="86.4939435699"/>
     <use style="fill:#0000ff;stroke:#000000;stroke-linecap:butt;stroke-width:0.5;" x="301.201475" xlink:href="#m14f64f4070" y="138.20967309"/>
     <use style="fill:#0000ff;stroke:#000000;stroke-linecap:butt;stroke-width:0.5;" x="301.536275" xlink:href="#m14f64f4070" y="106.627255642"/>
     <use style="fill:#0000ff;stroke:#000000;stroke-linecap:butt;stroke-width:0.5;" x="301.871075" xlink:href="#m14f64f4070" y="188.345050049"/>
     <use style="fill:#0000ff;stroke:#000000;stroke-linecap:butt;stroke-width:0.5;" x="302.205875" xlink:href="#m14f64f4070" y="111.350347407"/>
     <use style="fill:#0000ff;stroke:#000000;stroke-linecap:butt;stroke-width:0.5;" x="302.540675" xlink:href="#m14f64f4070" y="127.680709931"/>
     <use style="fill:#0000ff;stroke:#000000;stroke-linecap:butt;stroke-width:0.5;" x="302.875475" xlink:href="#m14f64f4070" y="97.1784924149"/>
     <use style="fill:#0000ff;stroke:#000000;stroke-linecap:butt;stroke-width:0.5;" x="303.210275" xlink:href="#m14f64f4070" y="154.449380125"/>
     <use style="fill:#0000ff;stroke:#000000;stroke-linecap:butt;stroke-width:0.5;" x="303.545075" xlink:href="#m14f64f4070" y="116.159081471"/>
     <use style="fill:#0000ff;stroke:#000000;stroke-linecap:butt;stroke-width:0.5;" x="303.879875" xlink:href="#m14f64f4070" y="176.047079874"/>
     <use style="fill:#0000ff;stroke:#000000;stroke-linecap:butt;stroke-width:0.5;" x="304.214675" xlink:href="#m14f64f4070" y="130.11413455"/>
     <use style="fill:#0000ff;stroke:#000000;stroke-linecap:butt;stroke-width:0.5;" x="304.549475" xlink:href="#m14f64f4070" y="125.245267997"/>
     <use style="fill:#0000ff;stroke:#000000;stroke-linecap:butt;stroke-width:0.5;" x="304.884275" xlink:href="#m14f64f4070" y="168.118574761"/>
     <use style="fill:#0000ff;stroke:#000000;stroke-linecap:butt;stroke-width:0.5;" x="305.219075" xlink:href="#m14f64f4070" y="147.541642439"/>
     <use style="fill:#0000ff;stroke:#000000;stroke-linecap:butt;stroke-width:0.5;" x="305.553875" xlink:href="#m14f64f4070" y="76.6822759623"/>
     <use style="fill:#0000ff;stroke:#000000;stroke-linecap:butt;stroke-width:0.5;" x="305.888675" xlink:href="#m14f64f4070" y="107.647667465"/>
     <use style="fill:#0000ff;stroke:#000000;stroke-linecap:butt;stroke-width:0.5;" x="306.223475" xlink:href="#m14f64f4070" y="79.3152113117"/>
     <use style="fill:#0000ff;stroke:#000000;stroke-linecap:butt;stroke-width:0.5;" x="306.558275" xlink:href="#m14f64f4070" y="153.745000001"/>
     <use style="fill:#0000ff;stroke:#000000;stroke-linecap:butt;stroke-width:0.5;" x="306.893075" xlink:href="#m14f64f4070" y="126.942758219"/>
     <use style="fill:#0000ff;stroke:#000000;stroke-linecap:butt;stroke-width:0.5;" x="307.227875" xlink:href="#m14f64f4070" y="152.586189035"/>
     <use style="fill:#0000ff;stroke:#000000;stroke-linecap:butt;stroke-width:0.5;" x="307.562675" xlink:href="#m14f64f4070" y="126.460497673"/>
     <use style="fill:#0000ff;stroke:#000000;stroke-linecap:butt;stroke-width:0.5;" x="307.897475" xlink:href="#m14f64f4070" y="133.776837635"/>
     <use style="fill:#0000ff;stroke:#000000;stroke-linecap:butt;stroke-width:0.5;" x="308.232275" xlink:href="#m14f64f4070" y="170.377767683"/>
     <use style="fill:#0000ff;stroke:#000000;stroke-linecap:butt;stroke-width:0.5;" x="308.567075" xlink:href="#m14f64f4070" y="87.9530708023"/>
     <use style="fill:#0000ff;stroke:#000000;stroke-linecap:butt;stroke-width:0.5;" x="308.901875" xlink:href="#m14f64f4070" y="128.77717521"/>
     <use style="fill:#0000ff;stroke:#000000;stroke-linecap:butt;stroke-width:0.5;" x="309.236675" xlink:href="#m14f64f4070" y="132.802239278"/>
     <use style="fill:#0000ff;stroke:#000000;stroke-linecap:butt;stroke-width:0.5;" x="309.571475" xlink:href="#m14f64f4070" y="116.997616748"/>
     <use style="fill:#0000ff;stroke:#000000;stroke-linecap:butt;stroke-width:0.5;" x="309.906275" xlink:href="#m14f64f4070" y="81.2047145136"/>
     <use style="fill:#0000ff;stroke:#000000;stroke-linecap:butt;stroke-width:0.5;" x="310.241075" xlink:href="#m14f64f4070" y="124.350180326"/>
     <use style="fill:#0000ff;stroke:#000000;stroke-linecap:butt;stroke-width:0.5;" x="310.575875" xlink:href="#m14f64f4070" y="140.944999174"/>
     <use style="fill:#0000ff;stroke:#000000;stroke-linecap:butt;stroke-width:0.5;" x="310.910675" xlink:href="#m14f64f4070" y="145.04949357"/>
     <use style="fill:#0000ff;stroke:#000000;stroke-linecap:butt;stroke-width:0.5;" x="311.245475" xlink:href="#m14f64f4070" y="135.812900174"/>
     <use style="fill:#0000ff;stroke:#000000;stroke-linecap:butt;stroke-width:0.5;" x="311.580275" xlink:href="#m14f64f4070" y="150.61371863"/>
     <use style="fill:#0000ff;stroke:#000000;stroke-linecap:butt;stroke-width:0.5;" x="311.915075" xlink:href="#m14f64f4070" y="123.522916451"/>
     <use style="fill:#0000ff;stroke:#000000;stroke-linecap:butt;stroke-width:0.5;" x="312.249875" xlink:href="#m14f64f4070" y="131.538415472"/>
     <use style="fill:#0000ff;stroke:#000000;stroke-linecap:butt;stroke-width:0.5;" x="312.584675" xlink:href="#m14f64f4070" y="124.633900344"/>
     <use style="fill:#0000ff;stroke:#000000;stroke-linecap:butt;stroke-width:0.5;" x="312.919475" xlink:href="#m14f64f4070" y="124.469349663"/>
     <use style="fill:#0000ff;stroke:#000000;stroke-linecap:butt;stroke-width:0.5;" x="313.254275" xlink:href="#m14f64f4070" y="131.299670456"/>
     <use style="fill:#0000ff;stroke:#000000;stroke-linecap:butt;stroke-width:0.5;" x="313.589075" xlink:href="#m14f64f4070" y="77.2939227139"/>
     <use style="fill:#0000ff;stroke:#000000;stroke-linecap:butt;stroke-width:0.5;" x="313.923875" xlink:href="#m14f64f4070" y="133.297742135"/>
     <use style="fill:#0000ff;stroke:#000000;stroke-linecap:butt;stroke-width:0.5;" x="314.258675" xlink:href="#m14f64f4070" y="164.897916953"/>
     <use style="fill:#0000ff;stroke:#000000;stroke-linecap:butt;stroke-width:0.5;" x="314.593475" xlink:href="#m14f64f4070" y="203.469776966"/>
     <use style="fill:#0000ff;stroke:#000000;stroke-linecap:butt;stroke-width:0.5;" x="314.928275" xlink:href="#m14f64f4070" y="136.304434021"/>
     <use style="fill:#0000ff;stroke:#000000;stroke-linecap:butt;stroke-width:0.5;" x="315.263075" xlink:href="#m14f64f4070" y="149.724666454"/>
     <use style="fill:#0000ff;stroke:#000000;stroke-linecap:butt;stroke-width:0.5;" x="315.597875" xlink:href="#m14f64f4070" y="137.162643965"/>
     <use style="fill:#0000ff;stroke:#000000;stroke-linecap:butt;stroke-width:0.5;" x="315.932675" xlink:href="#m14f64f4070" y="105.121619052"/>
     <use style="fill:#0000ff;stroke:#000000;stroke-linecap:butt;stroke-width:0.5;" x="316.267475" xlink:href="#m14f64f4070" y="153.191938918"/>
     <use style="fill:#0000ff;stroke:#000000;stroke-linecap:butt;stroke-width:0.5;" x="316.602275" xlink:href="#m14f64f4070" y="162.633488821"/>
     <use style="fill:#0000ff;stroke:#000000;stroke-linecap:butt;stroke-width:0.5;" x="316.937075" xlink:href="#m14f64f4070" y="130.895192478"/>
     <use style="fill:#0000ff;stroke:#000000;stroke-linecap:butt;stroke-width:0.5;" x="317.271875" xlink:href="#m14f64f4070" y="117.701209236"/>
     <use style="fill:#0000ff;stroke:#000000;stroke-linecap:butt;stroke-width:0.5;" x="317.606675" xlink:href="#m14f64f4070" y="114.370670318"/>
     <use style="fill:#0000ff;stroke:#000000;stroke-linecap:butt;stroke-width:0.5;" x="317.941475" xlink:href="#m14f64f4070" y="163.216771723"/>
     <use style="fill:#0000ff;stroke:#000000;stroke-linecap:butt;stroke-width:0.5;" x="318.276275" xlink:href="#m14f64f4070" y="161.025119345"/>
     <use style="fill:#0000ff;stroke:#000000;stroke-linecap:butt;stroke-width:0.5;" x="318.611075" xlink:href="#m14f64f4070" y="122.50775562"/>
     <use style="fill:#0000ff;stroke:#000000;stroke-linecap:butt;stroke-width:0.5;" x="318.945875" xlink:href="#m14f64f4070" y="157.458947577"/>
     <use style="fill:#0000ff;stroke:#000000;stroke-linecap:butt;stroke-width:0.5;" x="319.280675" xlink:href="#m14f64f4070" y="149.977412149"/>
     <use style="fill:#0000ff;stroke:#000000;stroke-linecap:butt;stroke-width:0.5;" x="319.615475" xlink:href="#m14f64f4070" y="72.5317381305"/>
     <use style="fill:#0000ff;stroke:#000000;stroke-linecap:butt;stroke-width:0.5;" x="319.950275" xlink:href="#m14f64f4070" y="99.035301774"/>
     <use style="fill:#0000ff;stroke:#000000;stroke-linecap:butt;stroke-width:0.5;" x="320.285075" xlink:href="#m14f64f4070" y="143.41652944"/>
     <use style="fill:#0000ff;stroke:#000000;stroke-linecap:butt;stroke-width:0.5;" x="320.619875" xlink:href="#m14f64f4070" y="117.608015582"/>
     <use style="fill:#0000ff;stroke:#000000;stroke-linecap:butt;stroke-width:0.5;" x="320.954675" xlink:href="#m14f64f4070" y="140.850171633"/>
     <use style="fill:#0000ff;stroke:#000000;stroke-linecap:butt;stroke-width:0.5;" x="321.289475" xlink:href="#m14f64f4070" y="101.413050337"/>
     <use style="fill:#0000ff;stroke:#000000;stroke-linecap:butt;stroke-width:0.5;" x="321.624275" xlink:href="#m14f64f4070" y="100.778481917"/>
     <use style="fill:#0000ff;stroke:#000000;stroke-linecap:butt;stroke-width:0.5;" x="321.959075" xlink:href="#m14f64f4070" y="132.290157659"/>
     <use style="fill:#0000ff;stroke:#000000;stroke-linecap:butt;stroke-width:0.5;" x="322.293875" xlink:href="#m14f64f4070" y="148.117363927"/>
     <use style="fill:#0000ff;stroke:#000000;stroke-linecap:butt;stroke-width:0.5;" x="322.628675" xlink:href="#m14f64f4070" y="92.6125156683"/>
     <use style="fill:#0000ff;stroke:#000000;stroke-linecap:butt;stroke-width:0.5;" x="322.963475" xlink:href="#m14f64f4070" y="123.646662442"/>
     <use style="fill:#0000ff;stroke:#000000;stroke-linecap:butt;stroke-width:0.5;" x="323.298275" xlink:href="#m14f64f4070" y="139.295679888"/>
     <use style="fill:#0000ff;stroke:#000000;stroke-linecap:butt;stroke-width:0.5;" x="323.633075" xlink:href="#m14f64f4070" y="106.242929441"/>
     <use style="fill:#0000ff;stroke:#000000;stroke-linecap:butt;stroke-width:0.5;" x="323.967875" xlink:href="#m14f64f4070" y="138.867422697"/>
     <use style="fill:#0000ff;stroke:#000000;stroke-linecap:butt;stroke-width:0.5;" x="324.302675" xlink:href="#m14f64f4070" y="130.923486412"/>
     <use style="fill:#0000ff;stroke:#000000;stroke-linecap:butt;stroke-width:0.5;" x="324.637475" xlink:href="#m14f64f4070" y="164.778094054"/>
     <use style="fill:#0000ff;stroke:#000000;stroke-linecap:butt;stroke-width:0.5;" x="324.972275" xlink:href="#m14f64f4070" y="102.430387328"/>
     <use style="fill:#0000ff;stroke:#000000;stroke-linecap:butt;stroke-width:0.5;" x="325.307075" xlink:href="#m14f64f4070" y="170.310660617"/>
     <use style="fill:#0000ff;stroke:#000000;stroke-linecap:butt;stroke-width:0.5;" x="325.641875" xlink:href="#m14f64f4070" y="78.9051831122"/>
     <use style="fill:#0000ff;stroke:#000000;stroke-linecap:butt;stroke-width:0.5;" x="325.976675" xlink:href="#m14f64f4070" y="171.691983741"/>
     <use style="fill:#0000ff;stroke:#000000;stroke-linecap:butt;stroke-width:0.5;" x="326.311475" xlink:href="#m14f64f4070" y="137.829021703"/>
     <use style="fill:#0000ff;stroke:#000000;stroke-linecap:butt;stroke-width:0.5;" x="326.646275" xlink:href="#m14f64f4070" y="145.225923377"/>
     <use style="fill:#0000ff;stroke:#000000;stroke-linecap:butt;stroke-width:0.5;" x="326.981075" xlink:href="#m14f64f4070" y="154.585872209"/>
     <use style="fill:#0000ff;stroke:#000000;stroke-linecap:butt;stroke-width:0.5;" x="327.315875" xlink:href="#m14f64f4070" y="115.215970233"/>
     <use style="fill:#0000ff;stroke:#000000;stroke-linecap:butt;stroke-width:0.5;" x="327.650675" xlink:href="#m14f64f4070" y="177.585048016"/>
     <use style="fill:#0000ff;stroke:#000000;stroke-linecap:butt;stroke-width:0.5;" x="327.985475" xlink:href="#m14f64f4070" y="114.212233482"/>
     <use style="fill:#0000ff;stroke:#000000;stroke-linecap:butt;stroke-width:0.5;" x="328.320275" xlink:href="#m14f64f4070" y="151.742206073"/>
     <use style="fill:#0000ff;stroke:#000000;stroke-linecap:butt;stroke-width:0.5;" x="328.655075" xlink:href="#m14f64f4070" y="122.975467245"/>
     <use style="fill:#0000ff;stroke:#000000;stroke-linecap:butt;stroke-width:0.5;" x="328.989875" xlink:href="#m14f64f4070" y="179.336909895"/>
     <use style="fill:#0000ff;stroke:#000000;stroke-linecap:butt;stroke-width:0.5;" x="329.324675" xlink:href="#m14f64f4070" y="116.129286865"/>
     <use style="fill:#0000ff;stroke:#000000;stroke-linecap:butt;stroke-width:0.5;" x="329.659475" xlink:href="#m14f64f4070" y="120.495498332"/>
     <use style="fill:#0000ff;stroke:#000000;stroke-linecap:butt;stroke-width:0.5;" x="329.994275" xlink:href="#m14f64f4070" y="152.227085966"/>
     <use style="fill:#0000ff;stroke:#000000;stroke-linecap:butt;stroke-width:0.5;" x="330.329075" xlink:href="#m14f64f4070" y="154.400131805"/>
     <use style="fill:#0000ff;stroke:#000000;stroke-linecap:butt;stroke-width:0.5;" x="330.663875" xlink:href="#m14f64f4070" y="118.087521936"/>
     <use style="fill:#0000ff;stroke:#000000;stroke-linecap:butt;stroke-width:0.5;" x="330.998675" xlink:href="#m14f64f4070" y="115.863159042"/>
     <use style="fill:#0000ff;stroke:#000000;stroke-linecap:butt;stroke-width:0.5;" x="331.333475" xlink:href="#m14f64f4070" y="185.542292158"/>
     <use style="fill:#0000ff;stroke:#000000;stroke-linecap:butt;stroke-width:0.5;" x="331.668275" xlink:href="#m14f64f4070" y="139.185687423"/>
     <use style="fill:#0000ff;stroke:#000000;stroke-linecap:butt;stroke-width:0.5;" x="332.003075" xlink:href="#m14f64f4070" y="166.492185255"/>
     <use style="fill:#0000ff;stroke:#000000;stroke-linecap:butt;stroke-width:0.5;" x="332.337875" xlink:href="#m14f64f4070" y="165.983849653"/>
     <use style="fill:#0000ff;stroke:#000000;stroke-linecap:butt;stroke-width:0.5;" x="332.672675" xlink:href="#m14f64f4070" y="117.74762811"/>
     <use style="fill:#0000ff;stroke:#000000;stroke-linecap:butt;stroke-width:0.5;" x="333.007475" xlink:href="#m14f64f4070" y="183.124639178"/>
     <use style="fill:#0000ff;stroke:#000000;stroke-linecap:butt;stroke-width:0.5;" x="333.342275" xlink:href="#m14f64f4070" y="128.37443686"/>
     <use style="fill:#0000ff;stroke:#000000;stroke-linecap:butt;stroke-width:0.5;" x="333.677075" xlink:href="#m14f64f4070" y="126.303773922"/>
     <use style="fill:#0000ff;stroke:#000000;stroke-linecap:butt;stroke-width:0.5;" x="334.011875" xlink:href="#m14f64f4070" y="172.81272923"/>
     <use style="fill:#0000ff;stroke:#000000;stroke-linecap:butt;stroke-width:0.5;" x="334.346675" xlink:href="#m14f64f4070" y="154.999103903"/>
     <use style="fill:#0000ff;stroke:#000000;stroke-linecap:butt;stroke-width:0.5;" x="334.681475" xlink:href="#m14f64f4070" y="111.685486796"/>
     <use style="fill:#0000ff;stroke:#000000;stroke-linecap:butt;stroke-width:0.5;" x="335.016275" xlink:href="#m14f64f4070" y="99.592124573"/>
     <use style="fill:#0000ff;stroke:#000000;stroke-linecap:butt;stroke-width:0.5;" x="335.351075" xlink:href="#m14f64f4070" y="108.977202164"/>
     <use style="fill:#0000ff;stroke:#000000;stroke-linecap:butt;stroke-width:0.5;" x="335.685875" xlink:href="#m14f64f4070" y="108.85629319"/>
     <use style="fill:#0000ff;stroke:#000000;stroke-linecap:butt;stroke-width:0.5;" x="336.020675" xlink:href="#m14f64f4070" y="157.905564522"/>
     <use style="fill:#0000ff;stroke:#000000;stroke-linecap:butt;stroke-width:0.5;" x="336.355475" xlink:href="#m14f64f4070" y="192.306888183"/>
     <use style="fill:#0000ff;stroke:#000000;stroke-linecap:butt;stroke-width:0.5;" x="336.690275" xlink:href="#m14f64f4070" y="122.4700438"/>
     <use style="fill:#0000ff;stroke:#000000;stroke-linecap:butt;stroke-width:0.5;" x="337.025075" xlink:href="#m14f64f4070" y="175.36659112"/>
     <use style="fill:#0000ff;stroke:#000000;stroke-linecap:butt;stroke-width:0.5;" x="337.359875" xlink:href="#m14f64f4070" y="195.437714104"/>
     <use style="fill:#0000ff;stroke:#000000;stroke-linecap:butt;stroke-width:0.5;" x="337.694675" xlink:href="#m14f64f4070" y="111.684763605"/>
     <use style="fill:#0000ff;stroke:#000000;stroke-linecap:butt;stroke-width:0.5;" x="338.029475" xlink:href="#m14f64f4070" y="120.242320148"/>
     <use style="fill:#0000ff;stroke:#000000;stroke-linecap:butt;stroke-width:0.5;" x="338.364275" xlink:href="#m14f64f4070" y="113.798720996"/>
     <use style="fill:#0000ff;stroke:#000000;stroke-linecap:butt;stroke-width:0.5;" x="338.699075" xlink:href="#m14f64f4070" y="110.609700748"/>
     <use style="fill:#0000ff;stroke:#000000;stroke-linecap:butt;stroke-width:0.5;" x="339.033875" xlink:href="#m14f64f4070" y="106.13830199"/>
     <use style="fill:#0000ff;stroke:#000000;stroke-linecap:butt;stroke-width:0.5;" x="339.368675" xlink:href="#m14f64f4070" y="122.801012401"/>
     <use style="fill:#0000ff;stroke:#000000;stroke-linecap:butt;stroke-width:0.5;" x="339.703475" xlink:href="#m14f64f4070" y="131.050048367"/>
     <use style="fill:#0000ff;stroke:#000000;stroke-linecap:butt;stroke-width:0.5;" x="340.038275" xlink:href="#m14f64f4070" y="139.319046928"/>
     <use style="fill:#0000ff;stroke:#000000;stroke-linecap:butt;stroke-width:0.5;" x="340.373075" xlink:href="#m14f64f4070" y="182.172285942"/>
     <use style="fill:#0000ff;stroke:#000000;stroke-linecap:butt;stroke-width:0.5;" x="340.707875" xlink:href="#m14f64f4070" y="148.996437904"/>
     <use style="fill:#0000ff;stroke:#000000;stroke-linecap:butt;stroke-width:0.5;" x="341.042675" xlink:href="#m14f64f4070" y="187.082174207"/>
     <use style="fill:#0000ff;stroke:#000000;stroke-linecap:butt;stroke-width:0.5;" x="341.377475" xlink:href="#m14f64f4070" y="93.4814321319"/>
     <use style="fill:#0000ff;stroke:#000000;stroke-linecap:butt;stroke-width:0.5;" x="341.712275" xlink:href="#m14f64f4070" y="120.814086001"/>
     <use style="fill:#0000ff;stroke:#000000;stroke-linecap:butt;stroke-width:0.5;" x="342.047075" xlink:href="#m14f64f4070" y="173.79250817"/>
     <use style="fill:#0000ff;stroke:#000000;stroke-linecap:butt;stroke-width:0.5;" x="342.381875" xlink:href="#m14f64f4070" y="193.819131365"/>
     <use style="fill:#0000ff;stroke:#000000;stroke-linecap:butt;stroke-width:0.5;" x="342.716675" xlink:href="#m14f64f4070" y="110.206418816"/>
     <use style="fill:#0000ff;stroke:#000000;stroke-linecap:butt;stroke-width:0.5;" x="343.051475" xlink:href="#m14f64f4070" y="118.538925157"/>
     <use style="fill:#0000ff;stroke:#000000;stroke-linecap:butt;stroke-width:0.5;" x="343.386275" xlink:href="#m14f64f4070" y="70.5797274045"/>
     <use style="fill:#0000ff;stroke:#000000;stroke-linecap:butt;stroke-width:0.5;" x="343.721075" xlink:href="#m14f64f4070" y="102.266293899"/>
     <use style="fill:#0000ff;stroke:#000000;stroke-linecap:butt;stroke-width:0.5;" x="344.055875" xlink:href="#m14f64f4070" y="127.865052366"/>
     <use style="fill:#0000ff;stroke:#000000;stroke-linecap:butt;stroke-width:0.5;" x="344.390675" xlink:href="#m14f64f4070" y="120.567520066"/>
     <use style="fill:#0000ff;stroke:#000000;stroke-linecap:butt;stroke-width:0.5;" x="344.725475" xlink:href="#m14f64f4070" y="114.831158296"/>
     <use style="fill:#0000ff;stroke:#000000;stroke-linecap:butt;stroke-width:0.5;" x="345.060275" xlink:href="#m14f64f4070" y="103.760994026"/>
     <use style="fill:#0000ff;stroke:#000000;stroke-linecap:butt;stroke-width:0.5;" x="345.395075" xlink:href="#m14f64f4070" y="187.061742947"/>
     <use style="fill:#0000ff;stroke:#000000;stroke-linecap:butt;stroke-width:0.5;" x="345.729875" xlink:href="#m14f64f4070" y="122.090607782"/>
     <use style="fill:#0000ff;stroke:#000000;stroke-linecap:butt;stroke-width:0.5;" x="346.064675" xlink:href="#m14f64f4070" y="113.359063822"/>
     <use style="fill:#0000ff;stroke:#000000;stroke-linecap:butt;stroke-width:0.5;" x="346.399475" xlink:href="#m14f64f4070" y="134.804118623"/>
     <use style="fill:#0000ff;stroke:#000000;stroke-linecap:butt;stroke-width:0.5;" x="346.734275" xlink:href="#m14f64f4070" y="152.929495455"/>
     <use style="fill:#0000ff;stroke:#000000;stroke-linecap:butt;stroke-width:0.5;" x="347.069075" xlink:href="#m14f64f4070" y="146.770690713"/>
     <use style="fill:#0000ff;stroke:#000000;stroke-linecap:butt;stroke-width:0.5;" x="347.403875" xlink:href="#m14f64f4070" y="129.141025177"/>
     <use style="fill:#0000ff;stroke:#000000;stroke-linecap:butt;stroke-width:0.5;" x="347.738675" xlink:href="#m14f64f4070" y="122.919248369"/>
     <use style="fill:#0000ff;stroke:#000000;stroke-linecap:butt;stroke-width:0.5;" x="348.073475" xlink:href="#m14f64f4070" y="213.661885416"/>
     <use style="fill:#0000ff;stroke:#000000;stroke-linecap:butt;stroke-width:0.5;" x="348.408275" xlink:href="#m14f64f4070" y="163.315323408"/>
     <use style="fill:#0000ff;stroke:#000000;stroke-linecap:butt;stroke-width:0.5;" x="348.743075" xlink:href="#m14f64f4070" y="106.435364917"/>
     <use style="fill:#0000ff;stroke:#000000;stroke-linecap:butt;stroke-width:0.5;" x="349.077875" xlink:href="#m14f64f4070" y="87.3485173592"/>
     <use style="fill:#0000ff;stroke:#000000;stroke-linecap:butt;stroke-width:0.5;" x="349.412675" xlink:href="#m14f64f4070" y="80.4672078694"/>
     <use style="fill:#0000ff;stroke:#000000;stroke-linecap:butt;stroke-width:0.5;" x="349.747475" xlink:href="#m14f64f4070" y="151.174587995"/>
     <use style="fill:#0000ff;stroke:#000000;stroke-linecap:butt;stroke-width:0.5;" x="350.082275" xlink:href="#m14f64f4070" y="152.518332567"/>
     <use style="fill:#0000ff;stroke:#000000;stroke-linecap:butt;stroke-width:0.5;" x="350.417075" xlink:href="#m14f64f4070" y="157.712295148"/>
     <use style="fill:#0000ff;stroke:#000000;stroke-linecap:butt;stroke-width:0.5;" x="350.751875" xlink:href="#m14f64f4070" y="122.324323664"/>
     <use style="fill:#0000ff;stroke:#000000;stroke-linecap:butt;stroke-width:0.5;" x="351.086675" xlink:href="#m14f64f4070" y="150.872232243"/>
     <use style="fill:#0000ff;stroke:#000000;stroke-linecap:butt;stroke-width:0.5;" x="351.421475" xlink:href="#m14f64f4070" y="149.473082676"/>
     <use style="fill:#0000ff;stroke:#000000;stroke-linecap:butt;stroke-width:0.5;" x="351.756275" xlink:href="#m14f64f4070" y="100.804256757"/>
     <use style="fill:#0000ff;stroke:#000000;stroke-linecap:butt;stroke-width:0.5;" x="352.091075" xlink:href="#m14f64f4070" y="137.773575621"/>
     <use style="fill:#0000ff;stroke:#000000;stroke-linecap:butt;stroke-width:0.5;" x="352.425875" xlink:href="#m14f64f4070" y="135.624403498"/>
     <use style="fill:#0000ff;stroke:#000000;stroke-linecap:butt;stroke-width:0.5;" x="352.760675" xlink:href="#m14f64f4070" y="123.432153128"/>
     <use style="fill:#0000ff;stroke:#000000;stroke-linecap:butt;stroke-width:0.5;" x="353.095475" xlink:href="#m14f64f4070" y="124.270891519"/>
     <use style="fill:#0000ff;stroke:#000000;stroke-linecap:butt;stroke-width:0.5;" x="353.430275" xlink:href="#m14f64f4070" y="88.279754273"/>
     <use style="fill:#0000ff;stroke:#000000;stroke-linecap:butt;stroke-width:0.5;" x="353.765075" xlink:href="#m14f64f4070" y="105.021619639"/>
     <use style="fill:#0000ff;stroke:#000000;stroke-linecap:butt;stroke-width:0.5;" x="354.099875" xlink:href="#m14f64f4070" y="102.680247305"/>
     <use style="fill:#0000ff;stroke:#000000;stroke-linecap:butt;stroke-width:0.5;" x="354.434675" xlink:href="#m14f64f4070" y="183.816799782"/>
     <use style="fill:#0000ff;stroke:#000000;stroke-linecap:butt;stroke-width:0.5;" x="354.769475" xlink:href="#m14f64f4070" y="115.657171893"/>
     <use style="fill:#0000ff;stroke:#000000;stroke-linecap:butt;stroke-width:0.5;" x="355.104275" xlink:href="#m14f64f4070" y="127.20383605"/>
     <use style="fill:#0000ff;stroke:#000000;stroke-linecap:butt;stroke-width:0.5;" x="355.439075" xlink:href="#m14f64f4070" y="149.950210576"/>
     <use style="fill:#0000ff;stroke:#000000;stroke-linecap:butt;stroke-width:0.5;" x="355.773875" xlink:href="#m14f64f4070" y="133.757689119"/>
     <use style="fill:#0000ff;stroke:#000000;stroke-linecap:butt;stroke-width:0.5;" x="356.108675" xlink:href="#m14f64f4070" y="187.263602386"/>
     <use style="fill:#0000ff;stroke:#000000;stroke-linecap:butt;stroke-width:0.5;" x="356.443475" xlink:href="#m14f64f4070" y="93.9135736386"/>
     <use style="fill:#0000ff;stroke:#000000;stroke-linecap:butt;stroke-width:0.5;" x="356.778275" xlink:href="#m14f64f4070" y="166.744627386"/>
     <use style="fill:#0000ff;stroke:#000000;stroke-linecap:butt;stroke-width:0.5;" x="357.113075" xlink:href="#m14f64f4070" y="117.3196918"/>
     <use style="fill:#0000ff;stroke:#000000;stroke-linecap:butt;stroke-width:0.5;" x="357.447875" xlink:href="#m14f64f4070" y="179.400514956"/>
     <use style="fill:#0000ff;stroke:#000000;stroke-linecap:butt;stroke-width:0.5;" x="357.782675" xlink:href="#m14f64f4070" y="157.51811661"/>
     <use style="fill:#0000ff;stroke:#000000;stroke-linecap:butt;stroke-width:0.5;" x="358.117475" xlink:href="#m14f64f4070" y="91.2325650267"/>
     <use style="fill:#0000ff;stroke:#000000;stroke-linecap:butt;stroke-width:0.5;" x="358.452275" xlink:href="#m14f64f4070" y="153.077592703"/>
     <use style="fill:#0000ff;stroke:#000000;stroke-linecap:butt;stroke-width:0.5;" x="358.787075" xlink:href="#m14f64f4070" y="110.881233717"/>
    </g>
   </g>
   <g id="matplotlib.axis_1">
    <g id="xtick_1">
     <g id="line2d_2">
      <defs>
       <path d=" M0 0 L0 -4" id="m996995e743"/>
      </defs>
      <g>
       <use style="stroke:#000000;stroke-linecap:butt;stroke-width:0.5;" x="24.321875" xlink:href="#m996995e743" y="244.76"/>
      </g>
     </g>
     <g id="line2d_3">
      <defs>
       <path d=" M0 0 L0 4" id="m72bed0fe63"/>
      </defs>
      <g>
       <use style="stroke:#000000;stroke-linecap:butt;stroke-width:0.5;" x="24.321875" xlink:href="#m72bed0fe63" y="21.56"/>
      </g>
     </g>
     <g id="text_1">
      <!-- 0 -->
      <defs>
       <path d=" M31.7812 66.4062 Q24.1719 66.4062 20.3281 58.9062 Q16.5 51.4219 16.5 36.375 Q16.5 21.3906 20.3281 13.8906 Q24.1719 6.39062 31.7812 6.39062 Q39.4531 6.39062 43.2812 13.8906 Q47.125 21.3906 47.125 36.375 Q47.125 51.4219 43.2812 58.9062 Q39.4531 66.4062 31.7812 66.4062 M31.7812 74.2188 Q44.0469 74.2188 50.5156 64.5156 Q56.9844 54.8281 56.9844 36.375 Q56.9844 17.9688 50.5156 8.26562 Q44.0469 -1.42188 31.7812 -1.42188 Q19.5312 -1.42188 13.0625 8.26562 Q6.59375 17.9688 6.59375 36.375 Q6.59375 54.8281 13.0625 64.5156 Q19.5312 74.2188 31.7812 74.2188" id="BitstreamVeraSans-Roman-30"/>
      </defs>
      <g transform="translate(21.80234375 256.181875)scale(0.1 -0.1)">
       <use xlink:href="#BitstreamVeraSans-Roman-30"/>
      </g>
     </g>
    </g>
    <g id="xtick_2">
     <g id="line2d_4">
      <defs>
       <path d=" M0 0 L0 -4" id="m996995e743"/>
      </defs>
      <g>
       <use style="stroke:#000000;stroke-linecap:butt;stroke-width:0.5;" x="91.281875" xlink:href="#m996995e743" y="244.76"/>
      </g>
     </g>
     <g id="line2d_5">
      <defs>
       <path d=" M0 0 L0 4" id="m72bed0fe63"/>
      </defs>
      <g>
       <use style="stroke:#000000;stroke-linecap:butt;stroke-width:0.5;" x="91.281875" xlink:href="#m72bed0fe63" y="21.56"/>
      </g>
     </g>
     <g id="text_2">
      <!-- 200 -->
      <defs>
       <path d=" M19.1875 8.29688 L53.6094 8.29688 L53.6094 0 L7.32812 0 L7.32812 8.29688 Q12.9375 14.1094 22.625 23.8906 Q32.3281 33.6875 34.8125 36.5312 Q39.5469 41.8438 41.4219 45.5312 Q43.3125 49.2188 43.3125 52.7812 Q43.3125 58.5938 39.2344 62.25 Q35.1562 65.9219 28.6094 65.9219 Q23.9688 65.9219 18.8125 64.3125 Q13.6719 62.7031 7.8125 59.4219 L7.8125 69.3906 Q13.7656 71.7812 18.9375 73 Q24.125 74.2188 28.4219 74.2188 Q39.75 74.2188 46.4844 68.5469 Q53.2188 62.8906 53.2188 53.4219 Q53.2188 48.9219 51.5312 44.8906 Q49.8594 40.875 45.4062 35.4062 Q44.1875 33.9844 37.6406 27.2188 Q31.1094 20.4531 19.1875 8.29688" id="BitstreamVeraSans-Roman-32"/>
      </defs>
      <g transform="translate(82.4365625 256.181875)scale(0.1 -0.1)">
       <use xlink:href="#BitstreamVeraSans-Roman-32"/>
       <use x="63.623046875" xlink:href="#BitstreamVeraSans-Roman-30"/>
       <use x="127.24609375" xlink:href="#BitstreamVeraSans-Roman-30"/>
      </g>
     </g>
    </g>
    <g id="xtick_3">
     <g id="line2d_6">
      <defs>
       <path d=" M0 0 L0 -4" id="m996995e743"/>
      </defs>
      <g>
       <use style="stroke:#000000;stroke-linecap:butt;stroke-width:0.5;" x="158.241875" xlink:href="#m996995e743" y="244.76"/>
      </g>
     </g>
     <g id="line2d_7">
      <defs>
       <path d=" M0 0 L0 4" id="m72bed0fe63"/>
      </defs>
      <g>
       <use style="stroke:#000000;stroke-linecap:butt;stroke-width:0.5;" x="158.241875" xlink:href="#m72bed0fe63" y="21.56"/>
      </g>
     </g>
     <g id="text_3">
      <!-- 400 -->
      <defs>
       <path d=" M37.7969 64.3125 L12.8906 25.3906 L37.7969 25.3906 z  M35.2031 72.9062 L47.6094 72.9062 L47.6094 25.3906 L58.0156 25.3906 L58.0156 17.1875 L47.6094 17.1875 L47.6094 0 L37.7969 0 L37.7969 17.1875 L4.89062 17.1875 L4.89062 26.7031 z " id="BitstreamVeraSans-Roman-34"/>
      </defs>
      <g transform="translate(149.2746875 256.181875)scale(0.1 -0.1)">
       <use xlink:href="#BitstreamVeraSans-Roman-34"/>
       <use x="63.623046875" xlink:href="#BitstreamVeraSans-Roman-30"/>
       <use x="127.24609375" xlink:href="#BitstreamVeraSans-Roman-30"/>
      </g>
     </g>
    </g>
    <g id="xtick_4">
     <g id="line2d_8">
      <defs>
       <path d=" M0 0 L0 -4" id="m996995e743"/>
      </defs>
      <g>
       <use style="stroke:#000000;stroke-linecap:butt;stroke-width:0.5;" x="225.201875" xlink:href="#m996995e743" y="244.76"/>
      </g>
     </g>
     <g id="line2d_9">
      <defs>
       <path d=" M0 0 L0 4" id="m72bed0fe63"/>
      </defs>
      <g>
       <use style="stroke:#000000;stroke-linecap:butt;stroke-width:0.5;" x="225.201875" xlink:href="#m72bed0fe63" y="21.56"/>
      </g>
     </g>
     <g id="text_4">
      <!-- 600 -->
      <defs>
       <path d=" M33.0156 40.375 Q26.375 40.375 22.4844 35.8281 Q18.6094 31.2969 18.6094 23.3906 Q18.6094 15.5312 22.4844 10.9531 Q26.375 6.39062 33.0156 6.39062 Q39.6562 6.39062 43.5312 10.9531 Q47.4062 15.5312 47.4062 23.3906 Q47.4062 31.2969 43.5312 35.8281 Q39.6562 40.375 33.0156 40.375 M52.5938 71.2969 L52.5938 62.3125 Q48.875 64.0625 45.0938 64.9844 Q41.3125 65.9219 37.5938 65.9219 Q27.8281 65.9219 22.6719 59.3281 Q17.5312 52.7344 16.7969 39.4062 Q19.6719 43.6562 24.0156 45.9219 Q28.375 48.1875 33.5938 48.1875 Q44.5781 48.1875 50.9531 41.5156 Q57.3281 34.8594 57.3281 23.3906 Q57.3281 12.1562 50.6875 5.35938 Q44.0469 -1.42188 33.0156 -1.42188 Q20.3594 -1.42188 13.6719 8.26562 Q6.98438 17.9688 6.98438 36.375 Q6.98438 53.6562 15.1875 63.9375 Q23.3906 74.2188 37.2031 74.2188 Q40.9219 74.2188 44.7031 73.4844 Q48.4844 72.75 52.5938 71.2969" id="BitstreamVeraSans-Roman-36"/>
      </defs>
      <g transform="translate(216.339375 256.181875)scale(0.1 -0.1)">
       <use xlink:href="#BitstreamVeraSans-Roman-36"/>
       <use x="63.623046875" xlink:href="#BitstreamVeraSans-Roman-30"/>
       <use x="127.24609375" xlink:href="#BitstreamVeraSans-Roman-30"/>
      </g>
     </g>
    </g>
    <g id="xtick_5">
     <g id="line2d_10">
      <defs>
       <path d=" M0 0 L0 -4" id="m996995e743"/>
      </defs>
      <g>
       <use style="stroke:#000000;stroke-linecap:butt;stroke-width:0.5;" x="292.161875" xlink:href="#m996995e743" y="244.76"/>
      </g>
     </g>
     <g id="line2d_11">
      <defs>
       <path d=" M0 0 L0 4" id="m72bed0fe63"/>
      </defs>
      <g>
       <use style="stroke:#000000;stroke-linecap:butt;stroke-width:0.5;" x="292.161875" xlink:href="#m72bed0fe63" y="21.56"/>
      </g>
     </g>
     <g id="text_5">
      <!-- 800 -->
      <defs>
       <path d=" M31.7812 34.625 Q24.75 34.625 20.7188 30.8594 Q16.7031 27.0938 16.7031 20.5156 Q16.7031 13.9219 20.7188 10.1562 Q24.75 6.39062 31.7812 6.39062 Q38.8125 6.39062 42.8594 10.1719 Q46.9219 13.9688 46.9219 20.5156 Q46.9219 27.0938 42.8906 30.8594 Q38.875 34.625 31.7812 34.625 M21.9219 38.8125 Q15.5781 40.375 12.0312 44.7188 Q8.5 49.0781 8.5 55.3281 Q8.5 64.0625 14.7188 69.1406 Q20.9531 74.2188 31.7812 74.2188 Q42.6719 74.2188 48.875 69.1406 Q55.0781 64.0625 55.0781 55.3281 Q55.0781 49.0781 51.5312 44.7188 Q48 40.375 41.7031 38.8125 Q48.8281 37.1562 52.7969 32.3125 Q56.7812 27.4844 56.7812 20.5156 Q56.7812 9.90625 50.3125 4.23438 Q43.8438 -1.42188 31.7812 -1.42188 Q19.7344 -1.42188 13.25 4.23438 Q6.78125 9.90625 6.78125 20.5156 Q6.78125 27.4844 10.7812 32.3125 Q14.7969 37.1562 21.9219 38.8125 M18.3125 54.3906 Q18.3125 48.7344 21.8438 45.5625 Q25.3906 42.3906 31.7812 42.3906 Q38.1406 42.3906 41.7188 45.5625 Q45.3125 48.7344 45.3125 54.3906 Q45.3125 60.0625 41.7188 63.2344 Q38.1406 66.4062 31.7812 66.4062 Q25.3906 66.4062 21.8438 63.2344 Q18.3125 60.0625 18.3125 54.3906" id="BitstreamVeraSans-Roman-38"/>
      </defs>
      <g transform="translate(283.28921875 256.181875)scale(0.1 -0.1)">
       <use xlink:href="#BitstreamVeraSans-Roman-38"/>
       <use x="63.623046875" xlink:href="#BitstreamVeraSans-Roman-30"/>
       <use x="127.24609375" xlink:href="#BitstreamVeraSans-Roman-30"/>
      </g>
     </g>
    </g>
    <g id="xtick_6">
     <g id="line2d_12">
      <defs>
       <path d=" M0 0 L0 -4" id="m996995e743"/>
      </defs>
      <g>
       <use style="stroke:#000000;stroke-linecap:butt;stroke-width:0.5;" x="359.121875" xlink:href="#m996995e743" y="244.76"/>
      </g>
     </g>
     <g id="line2d_13">
      <defs>
       <path d=" M0 0 L0 4" id="m72bed0fe63"/>
      </defs>
      <g>
       <use style="stroke:#000000;stroke-linecap:butt;stroke-width:0.5;" x="359.121875" xlink:href="#m72bed0fe63" y="21.56"/>
      </g>
     </g>
     <g id="text_6">
      <!-- 1000 -->
      <defs>
       <path d=" M12.4062 8.29688 L28.5156 8.29688 L28.5156 63.9219 L10.9844 60.4062 L10.9844 69.3906 L28.4219 72.9062 L38.2812 72.9062 L38.2812 8.29688 L54.3906 8.29688 L54.3906 0 L12.4062 0 z " id="BitstreamVeraSans-Roman-31"/>
      </defs>
      <g transform="translate(347.278125 256.181875)scale(0.1 -0.1)">
       <use xlink:href="#BitstreamVeraSans-Roman-31"/>
       <use x="63.623046875" xlink:href="#BitstreamVeraSans-Roman-30"/>
       <use x="127.24609375" xlink:href="#BitstreamVeraSans-Roman-30"/>
       <use x="190.869140625" xlink:href="#BitstreamVeraSans-Roman-30"/>
      </g>
     </g>
    </g>
   </g>
   <g id="matplotlib.axis_2">
    <g id="ytick_1">
     <g id="line2d_14">
      <defs>
       <path d=" M0 0 L4 0" id="maff58bf311"/>
      </defs>
      <g>
       <use style="stroke:#000000;stroke-linecap:butt;stroke-width:0.5;" x="24.321875" xlink:href="#maff58bf311" y="244.76"/>
      </g>
     </g>
     <g id="line2d_15">
      <defs>
       <path d=" M0 0 L-4 0" id="mb8da78deed"/>
      </defs>
      <g>
       <use style="stroke:#000000;stroke-linecap:butt;stroke-width:0.5;" x="359.121875" xlink:href="#mb8da78deed" y="244.76"/>
      </g>
     </g>
     <g id="text_7">
      <!-- −4 -->
      <defs>
       <path d=" M10.5938 35.5 L73.1875 35.5 L73.1875 27.2031 L10.5938 27.2031 z " id="BitstreamVeraSans-Roman-2212"/>
      </defs>
      <g transform="translate(7.2 248.4053125)scale(0.1 -0.1)">
       <use xlink:href="#BitstreamVeraSans-Roman-2212"/>
       <use x="83.7890625" xlink:href="#BitstreamVeraSans-Roman-34"/>
      </g>
     </g>
    </g>
    <g id="ytick_2">
     <g id="line2d_16">
      <defs>
       <path d=" M0 0 L4 0" id="maff58bf311"/>
      </defs>
      <g>
       <use style="stroke:#000000;stroke-linecap:butt;stroke-width:0.5;" x="24.321875" xlink:href="#maff58bf311" y="216.86"/>
      </g>
     </g>
     <g id="line2d_17">
      <defs>
       <path d=" M0 0 L-4 0" id="mb8da78deed"/>
      </defs>
      <g>
       <use style="stroke:#000000;stroke-linecap:butt;stroke-width:0.5;" x="359.121875" xlink:href="#mb8da78deed" y="216.86"/>
      </g>
     </g>
     <g id="text_8">
      <!-- −3 -->
      <defs>
       <path d=" M40.5781 39.3125 Q47.6562 37.7969 51.625 33 Q55.6094 28.2188 55.6094 21.1875 Q55.6094 10.4062 48.1875 4.48438 Q40.7656 -1.42188 27.0938 -1.42188 Q22.5156 -1.42188 17.6562 -0.515625 Q12.7969 0.390625 7.625 2.20312 L7.625 11.7188 Q11.7188 9.32812 16.5938 8.10938 Q21.4844 6.89062 26.8125 6.89062 Q36.0781 6.89062 40.9375 10.5469 Q45.7969 14.2031 45.7969 21.1875 Q45.7969 27.6406 41.2812 31.2656 Q36.7656 34.9062 28.7188 34.9062 L20.2188 34.9062 L20.2188 43.0156 L29.1094 43.0156 Q36.375 43.0156 40.2344 45.9219 Q44.0938 48.8281 44.0938 54.2969 Q44.0938 59.9062 40.1094 62.9062 Q36.1406 65.9219 28.7188 65.9219 Q24.6562 65.9219 20.0156 65.0312 Q15.375 64.1562 9.8125 62.3125 L9.8125 71.0938 Q15.4375 72.6562 20.3438 73.4375 Q25.25 74.2188 29.5938 74.2188 Q40.8281 74.2188 47.3594 69.1094 Q53.9062 64.0156 53.9062 55.3281 Q53.9062 49.2656 50.4375 45.0938 Q46.9688 40.9219 40.5781 39.3125" id="BitstreamVeraSans-Roman-33"/>
      </defs>
      <g transform="translate(7.440625 220.49984375)scale(0.1 -0.1)">
       <use xlink:href="#BitstreamVeraSans-Roman-2212"/>
       <use x="83.7890625" xlink:href="#BitstreamVeraSans-Roman-33"/>
      </g>
     </g>
    </g>
    <g id="ytick_3">
     <g id="line2d_18">
      <defs>
       <path d=" M0 0 L4 0" id="maff58bf311"/>
      </defs>
      <g>
       <use style="stroke:#000000;stroke-linecap:butt;stroke-width:0.5;" x="24.321875" xlink:href="#maff58bf311" y="188.96"/>
      </g>
     </g>
     <g id="line2d_19">
      <defs>
       <path d=" M0 0 L-4 0" id="mb8da78deed"/>
      </defs>
      <g>
       <use style="stroke:#000000;stroke-linecap:butt;stroke-width:0.5;" x="359.121875" xlink:href="#mb8da78deed" y="188.96"/>
      </g>
     </g>
     <g id="text_9">
      <!-- −2 -->
      <g transform="translate(7.640625 192.6709375)scale(0.1 -0.1)">
       <use xlink:href="#BitstreamVeraSans-Roman-2212"/>
       <use x="83.7890625" xlink:href="#BitstreamVeraSans-Roman-32"/>
      </g>
     </g>
    </g>
    <g id="ytick_4">
     <g id="line2d_20">
      <defs>
       <path d=" M0 0 L4 0" id="maff58bf311"/>
      </defs>
      <g>
       <use style="stroke:#000000;stroke-linecap:butt;stroke-width:0.5;" x="24.321875" xlink:href="#maff58bf311" y="161.06"/>
      </g>
     </g>
     <g id="line2d_21">
      <defs>
       <path d=" M0 0 L-4 0" id="mb8da78deed"/>
      </defs>
      <g>
       <use style="stroke:#000000;stroke-linecap:butt;stroke-width:0.5;" x="359.121875" xlink:href="#mb8da78deed" y="161.06"/>
      </g>
     </g>
     <g id="text_10">
      <!-- −1 -->
      <g transform="translate(7.5625 164.7053125)scale(0.1 -0.1)">
       <use xlink:href="#BitstreamVeraSans-Roman-2212"/>
       <use x="83.7890625" xlink:href="#BitstreamVeraSans-Roman-31"/>
      </g>
     </g>
    </g>
    <g id="ytick_5">
     <g id="line2d_22">
      <defs>
       <path d=" M0 0 L4 0" id="maff58bf311"/>
      </defs>
      <g>
       <use style="stroke:#000000;stroke-linecap:butt;stroke-width:0.5;" x="24.321875" xlink:href="#maff58bf311" y="133.16"/>
      </g>
     </g>
     <g id="line2d_23">
      <defs>
       <path d=" M0 0 L-4 0" id="mb8da78deed"/>
      </defs>
      <g>
       <use style="stroke:#000000;stroke-linecap:butt;stroke-width:0.5;" x="359.121875" xlink:href="#mb8da78deed" y="133.16"/>
      </g>
     </g>
     <g id="text_11">
      <!-- 0 -->
      <g transform="translate(15.2828125 136.79984375)scale(0.1 -0.1)">
       <use xlink:href="#BitstreamVeraSans-Roman-30"/>
      </g>
     </g>
    </g>
    <g id="ytick_6">
     <g id="line2d_24">
      <defs>
       <path d=" M0 0 L4 0" id="maff58bf311"/>
      </defs>
      <g>
       <use style="stroke:#000000;stroke-linecap:butt;stroke-width:0.5;" x="24.321875" xlink:href="#maff58bf311" y="105.26"/>
      </g>
     </g>
     <g id="line2d_25">
      <defs>
       <path d=" M0 0 L-4 0" id="mb8da78deed"/>
      </defs>
      <g>
       <use style="stroke:#000000;stroke-linecap:butt;stroke-width:0.5;" x="359.121875" xlink:href="#mb8da78deed" y="105.26"/>
      </g>
     </g>
     <g id="text_12">
      <!-- 1 -->
      <g transform="translate(15.98125 108.9053125)scale(0.1 -0.1)">
       <use xlink:href="#BitstreamVeraSans-Roman-31"/>
      </g>
     </g>
    </g>
    <g id="ytick_7">
     <g id="line2d_26">
      <defs>
       <path d=" M0 0 L4 0" id="maff58bf311"/>
      </defs>
      <g>
       <use style="stroke:#000000;stroke-linecap:butt;stroke-width:0.5;" x="24.321875" xlink:href="#maff58bf311" y="77.36"/>
      </g>
     </g>
     <g id="line2d_27">
      <defs>
       <path d=" M0 0 L-4 0" id="mb8da78deed"/>
      </defs>
      <g>
       <use style="stroke:#000000;stroke-linecap:butt;stroke-width:0.5;" x="359.121875" xlink:href="#mb8da78deed" y="77.36"/>
      </g>
     </g>
     <g id="text_13">
      <!-- 2 -->
      <g transform="translate(15.69375 81.0709375)scale(0.1 -0.1)">
       <use xlink:href="#BitstreamVeraSans-Roman-32"/>
      </g>
     </g>
    </g>
    <g id="ytick_8">
     <g id="line2d_28">
      <defs>
       <path d=" M0 0 L4 0" id="maff58bf311"/>
      </defs>
      <g>
       <use style="stroke:#000000;stroke-linecap:butt;stroke-width:0.5;" x="24.321875" xlink:href="#maff58bf311" y="49.46"/>
      </g>
     </g>
     <g id="line2d_29">
      <defs>
       <path d=" M0 0 L-4 0" id="mb8da78deed"/>
      </defs>
      <g>
       <use style="stroke:#000000;stroke-linecap:butt;stroke-width:0.5;" x="359.121875" xlink:href="#mb8da78deed" y="49.46"/>
      </g>
     </g>
     <g id="text_14">
      <!-- 3 -->
      <g transform="translate(15.5234375 53.09984375)scale(0.1 -0.1)">
       <use xlink:href="#BitstreamVeraSans-Roman-33"/>
      </g>
     </g>
    </g>
    <g id="ytick_9">
     <g id="line2d_30">
      <defs>
       <path d=" M0 0 L4 0" id="maff58bf311"/>
      </defs>
      <g>
       <use style="stroke:#000000;stroke-linecap:butt;stroke-width:0.5;" x="24.321875" xlink:href="#maff58bf311" y="21.56"/>
      </g>
     </g>
     <g id="line2d_31">
      <defs>
       <path d=" M0 0 L-4 0" id="mb8da78deed"/>
      </defs>
      <g>
       <use style="stroke:#000000;stroke-linecap:butt;stroke-width:0.5;" x="359.121875" xlink:href="#mb8da78deed" y="21.56"/>
      </g>
     </g>
     <g id="text_15">
      <!-- 4 -->
      <g transform="translate(15.009375 25.2053125)scale(0.1 -0.1)">
       <use xlink:href="#BitstreamVeraSans-Roman-34"/>
      </g>
     </g>
    </g>
   </g>
   <g id="patch_3">
    <path d=" M24.3219 21.56 L359.122 21.56" style="fill:none;stroke:#000000;"/>
   </g>
   <g id="patch_4">
    <path d=" M359.122 244.76 L359.122 21.56" style="fill:none;stroke:#000000;"/>
   </g>
   <g id="patch_5">
    <path d=" M24.3219 244.76 L359.122 244.76" style="fill:none;stroke:#000000;"/>
   </g>
   <g id="patch_6">
    <path d=" M24.3219 244.76 L24.3219 21.56" style="fill:none;stroke:#000000;"/>
   </g>
   <g id="text_16">
    <!-- $\mathcal{N}(\mu=0, \sigma=1),\ N=1000$ -->
    <defs>
     <path d=" M9.28125 0 L9.28125 3.51562 Q21.7812 3.51562 21.7812 6.6875 L21.7812 59.1875 Q16.6094 56.6875 8.6875 56.6875 L8.6875 60.2031 Q20.9531 60.2031 27.2031 66.6094 L28.6094 66.6094 Q28.9531 66.6094 29.2656 66.3281 Q29.5938 66.0625 29.5938 65.7188 L29.5938 6.6875 Q29.5938 3.51562 42.0938 3.51562 L42.0938 0 z " id="Cmr10-31"/>
     <path d=" M25 -2.20312 Q12.75 -2.20312 8.32812 7.875 Q3.90625 17.9688 3.90625 31.8906 Q3.90625 40.5781 5.48438 48.2344 Q7.07812 55.9062 11.7812 61.25 Q16.5 66.6094 25 66.6094 Q31.5938 66.6094 35.7812 63.375 Q39.9844 60.1562 42.1875 55.0469 Q44.3906 49.9531 45.1875 44.1094 Q46 38.2812 46 31.8906 Q46 23.2969 44.4062 15.7969 Q42.8281 8.29688 38.1875 3.04688 Q33.5469 -2.20312 25 -2.20312 M25 0.390625 Q30.5625 0.390625 33.2969 6.09375 Q36.0312 11.8125 36.6719 18.75 Q37.3125 25.6875 37.3125 33.5 Q37.3125 41.0156 36.6719 47.3594 Q36.0312 53.7188 33.3125 58.8594 Q30.6094 64.0156 25 64.0156 Q19.3438 64.0156 16.6094 58.8281 Q13.875 53.6562 13.2344 47.3281 Q12.5938 41.0156 12.5938 33.5 Q12.5938 27.9375 12.8594 23 Q13.1406 18.0625 14.3125 12.8125 Q15.4844 7.5625 18.0938 3.96875 Q20.7031 0.390625 25 0.390625" id="Cmr10-30"/>
     <path d=" M31 -24.8125 Q25.4375 -20.4062 21.4062 -14.7188 Q17.3906 -9.03125 14.8125 -2.57812 Q12.25 3.85938 10.9844 10.8906 Q9.71875 17.9219 9.71875 25 Q9.71875 32.1719 10.9844 39.2031 Q12.25 46.2344 14.8594 52.7344 Q17.4844 59.2344 21.5312 64.8906 Q25.5938 70.5625 31 74.8125 Q31 75 31.5 75 L32.4219 75 Q32.7188 75 32.9531 74.7344 Q33.2031 74.4688 33.2031 74.125 Q33.2031 73.6875 33.0156 73.4844 Q28.125 68.7031 24.875 63.2344 Q21.625 57.7656 19.6406 51.5781 Q17.6719 45.4062 16.7969 38.7812 Q15.9219 32.1719 15.9219 25 Q15.9219 -6.78125 32.9062 -23.2969 Q33.2031 -23.5781 33.2031 -24.125 Q33.2031 -24.3594 32.9375 -24.6719 Q32.6719 -25 32.4219 -25 L31.5 -25 Q31 -25 31 -24.8125" id="Cmr10-28"/>
     <path d=" M6.5 -25 Q5.60938 -25 5.60938 -24.125 Q5.60938 -23.6875 5.8125 -23.4844 Q22.9062 -6.78125 22.9062 25 Q22.9062 56.7812 6 73.2969 Q5.60938 73.5312 5.60938 74.125 Q5.60938 74.4688 5.875 74.7344 Q6.15625 75 6.5 75 L7.42188 75 Q7.71875 75 7.90625 74.8125 Q15.0938 69.1406 19.875 61.0312 Q24.6562 52.9375 26.875 43.75 Q29.1094 34.5781 29.1094 25 Q29.1094 17.9219 27.9062 11.0625 Q26.7031 4.20312 24.0938 -2.45312 Q21.4844 -9.125 17.4844 -14.7656 Q13.4844 -20.4062 7.90625 -24.8125 Q7.71875 -25 7.42188 -25 z " id="Cmr10-29"/>
     <path d=" M4.6875 0 Q3.71875 0 3.71875 1.3125 Q3.76562 1.5625 3.90625 2.17188 Q4.04688 2.78125 4.3125 3.14062 Q4.59375 3.51562 4.98438 3.51562 Q14.5469 3.51562 16.1094 9.625 L29.6875 64.3125 Q26.9062 64.7969 20.9062 64.7969 Q19.9219 64.7969 19.9219 66.1094 Q19.9688 66.3594 20.1094 66.9688 Q20.2656 67.5781 20.5312 67.9375 Q20.7969 68.3125 21.1875 68.3125 L38.4844 68.3125 Q39.2031 68.3125 39.4062 67.6719 L61.625 14.7969 L72.7031 59.0781 Q72.9062 60.1562 72.9062 60.5938 Q72.9062 64.7969 65.1875 64.7969 Q64.2031 64.7969 64.2031 66.1094 Q64.5469 67.3906 64.7344 67.8438 Q64.9375 68.3125 65.9219 68.3125 L87.3125 68.3125 Q88.2812 68.3125 88.2812 67 Q88.2344 66.75 88.0781 66.1406 Q87.9375 65.5312 87.6719 65.1562 Q87.4062 64.7969 87.0156 64.7969 Q77.4375 64.7969 75.875 58.6875 L61.5312 0.875 Q61.1875 0 60.5 0 L59.2812 0 Q58.5938 0 58.4062 0.6875 L32.9062 61.1875 L32.7188 61.8125 Q32.5156 62.0156 32.5156 62.1094 L19.2812 9.1875 Q19.1875 8.9375 19.1406 8.5625 Q19.0938 8.20312 19 7.71875 Q19 5.125 21.2344 4.3125 Q23.4844 3.51562 26.8125 3.51562 Q27.7812 3.51562 27.7812 2.20312 Q27.4375 0.828125 27.1875 0.40625 Q26.9531 0 26.125 0 z " id="Cmmi10-4e"/>
     <path d=" M18.7031 -1.125 Q14.2656 -1.125 10.8125 1 Q7.375 3.125 5.48438 6.73438 Q3.60938 10.3594 3.60938 14.7031 Q3.60938 19.3438 5.70312 24.4688 Q7.8125 29.5938 11.4531 33.8438 Q15.0938 38.0938 19.6719 40.5938 Q24.2656 43.1094 29.1094 43.1094 L54.2969 43.1094 Q55.3281 43.1094 56.0469 42.4219 Q56.7812 41.75 56.7812 40.5781 Q56.7812 39.1094 55.7344 38.0156 Q54.6875 36.9219 53.2188 36.9219 L41.0156 36.9219 Q43.8906 32.625 43.8906 26.5156 Q43.8906 21.4844 41.9375 16.5938 Q39.9844 11.7188 36.5156 7.6875 Q33.0625 3.65625 28.4375 1.26562 Q23.8281 -1.125 18.7031 -1.125 M18.7969 1.51562 Q24.2656 1.51562 28.4844 5.78125 Q32.7188 10.0625 34.9531 16.2344 Q37.2031 22.4062 37.2031 27.6875 Q37.2031 31.9844 34.8281 34.4531 Q32.4688 36.9219 28.2188 36.9219 Q22.4062 36.9219 18.3281 33.0156 Q14.2656 29.1094 12.2344 23.1875 Q10.2031 17.2812 10.2031 11.8125 Q10.2031 7.51562 12.4688 4.51562 Q14.75 1.51562 18.7969 1.51562" id="Cmmi10-be"/>
     <path d=" M2.78125 -18.7969 Q2.78125 -18.2188 2.875 -18.0156 L17.5781 41.0156 Q18.0156 42.4375 19.1562 43.3125 Q20.3125 44.1875 21.7812 44.1875 Q23.0469 44.1875 23.9219 43.4219 Q24.8125 42.6719 24.8125 41.4062 Q24.8125 41.1094 24.7812 40.9375 Q24.75 40.7656 24.7031 40.5781 L18.7969 17.1875 Q17.8281 13.0312 17.8281 10.0156 Q17.8281 6.29688 19.5781 3.90625 Q21.3438 1.51562 24.9062 1.51562 Q32.1719 1.51562 37.7031 10.5938 Q37.75 10.6875 37.7656 10.7344 Q37.7969 10.7969 37.7969 10.8906 L45.0156 39.8906 Q45.3594 41.2188 46.5781 42.1562 Q47.7969 43.1094 49.2188 43.1094 Q50.3906 43.1094 51.2969 42.3281 Q52.2031 41.5469 52.2031 40.2812 Q52.2031 39.7031 52.0938 39.5 L44.9219 10.6875 Q44.1875 7.85938 44.1875 5.8125 Q44.1875 1.51562 47.125 1.51562 Q50.25 1.51562 51.8281 5.375 Q53.4219 9.23438 54.5938 14.7031 Q54.7812 15.2812 55.4219 15.2812 L56.5938 15.2812 Q56.9844 15.2812 57.25 14.9688 Q57.5156 14.6562 57.5156 14.3125 Q55.7656 7.32812 53.6875 3.09375 Q51.6094 -1.125 46.9219 -1.125 Q43.6094 -1.125 41.0469 0.78125 Q38.4844 2.6875 37.7031 5.90625 Q35.2031 2.78125 31.8594 0.828125 Q28.5156 -1.125 24.8125 -1.125 Q18.5625 -1.125 14.9844 1.8125 L9.90625 -18.4062 Q9.625 -19.8281 8.45312 -20.7031 Q7.28125 -21.5781 5.8125 -21.5781 Q4.59375 -21.5781 3.6875 -20.8125 Q2.78125 -20.0625 2.78125 -18.7969" id="Cmmi10-b9"/>
     <path d=" M7.51562 13.2812 Q6.6875 13.2812 6.14062 13.9062 Q5.60938 14.5469 5.60938 15.2812 Q5.60938 16.1094 6.14062 16.6875 Q6.6875 17.2812 7.51562 17.2812 L70.3125 17.2812 Q71.0469 17.2812 71.5781 16.6875 Q72.125 16.1094 72.125 15.2812 Q72.125 14.5469 71.5781 13.9062 Q71.0469 13.2812 70.3125 13.2812 z  M7.51562 32.7188 Q6.6875 32.7188 6.14062 33.2969 Q5.60938 33.8906 5.60938 34.7188 Q5.60938 35.4531 6.14062 36.0781 Q6.6875 36.7188 7.51562 36.7188 L70.3125 36.7188 Q71.0469 36.7188 71.5781 36.0781 Q72.125 35.4531 72.125 34.7188 Q72.125 33.8906 71.5781 33.2969 Q71.0469 32.7188 70.3125 32.7188 z " id="Cmr10-3d"/>
     <path d=" M-2.875 0.203125 Q-2.875 2.04688 -1.60938 5.03125 Q-0.34375 8.01562 1.125 8.01562 Q1.3125 8.01562 1.42188 7.90625 Q4.59375 4.59375 9.28125 4.59375 Q11.9219 4.59375 13.9375 9.34375 Q15.9688 14.1094 17.9219 20.4062 Q18.9531 23.5781 20.4375 28.7031 Q21.9219 33.8438 22.7031 37.0156 Q23.3906 39.6562 24.3438 44.1719 Q25.2969 48.6875 25.9062 52.0469 Q26.5156 55.4219 27 58.9375 Q27.4844 62.4531 27.875 66.3125 Q27.875 66.8438 28.6094 67.5781 Q29.6875 68.7031 31.2031 69.5781 Q32.625 70.2188 34.0781 70.5156 L34.9062 70.5156 Q35.5 70.2188 35.5938 69.8281 Q38.0938 61.0781 41.7969 50 Q45.1719 39.75 47.5625 33.2031 Q49.9531 26.6562 53.2031 19.4062 Q56.4531 12.1562 60.2969 6 Q65.5312 28.4219 70.7031 46.6875 L72.0156 51.3125 Q74.1719 58.8906 75.5625 63.1094 Q76.9531 67.3281 79.1094 70.7031 Q80.8594 73.4375 83.6875 75 Q86.5312 76.5625 89.8906 77.2188 Q93.2656 77.875 96.9219 77.875 Q97.7969 77.875 97.7969 76.2188 Q97.7969 75.0469 97.2812 73.2188 Q96.7812 71.3906 95.8906 69.9688 Q95.0156 68.5625 93.8906 68.3125 Q89.9375 68.3125 86.8281 67.6719 Q83.7344 67.0469 81.2031 65.375 Q79.9375 64.4531 79.7188 63.9688 Q79.5 63.4844 78.7188 61.0781 Q77.4375 57.5625 76.125 52.5938 L74.8125 48.0938 Q72.2656 38.9219 70.2812 31.3438 Q68.3125 23.7812 66.5 16.3281 Q64.7031 8.89062 62.9844 1.3125 Q63.0312 1.3125 62.9531 1.4375 Q62.8906 1.5625 62.8906 1.60938 Q62.8906 0.734375 61.7344 -0.234375 Q60.5938 -1.21875 59.1094 -1.875 Q57.625 -2.54688 56.6875 -2.6875 L56 -2.6875 Q54.3438 -1.85938 50.3438 5.75 Q46.3438 13.375 44.2812 18.3125 Q36.8594 36.6719 30.7188 56.6875 Q29.9375 51.8594 27.4844 41.375 Q25.0469 30.9062 21.6719 20.2656 Q18.3125 9.625 14.2812 2.3125 Q10.25 -4.98438 6.20312 -4.98438 Q3.60938 -4.98438 0.359375 -3.51562 Q-2.875 -2.04688 -2.875 0.203125" id="Cmsy10-4e"/>
     <path d=" M9.90625 -18.0156 Q9.90625 -17.5781 10.2969 -17.1875 Q13.9219 -13.7188 15.9219 -9.17188 Q17.9219 -4.64062 17.9219 0.390625 L17.9219 1.60938 Q16.3125 0 13.9219 0 Q11.625 0 10.0156 1.60938 Q8.40625 3.21875 8.40625 5.51562 Q8.40625 7.85938 10.0156 9.42188 Q11.625 10.9844 13.9219 10.9844 Q17.4844 10.9844 19 7.6875 Q20.5156 4.39062 20.5156 0.390625 Q20.5156 -5.17188 18.2812 -10.1719 Q16.0625 -15.1875 12.0156 -19.1875 Q11.625 -19.3906 11.375 -19.3906 Q10.8906 -19.3906 10.3906 -18.9375 Q9.90625 -18.5 9.90625 -18.0156" id="Cmmi10-3b"/>
    </defs>
    <g transform="translate(128.841875 19.56)scale(0.12 -0.12)">
     <use transform="translate(0.0 25.125)" xlink:href="#Cmsy10-4e"/>
     <use transform="translate(81.982421875 25.125)" xlink:href="#Cmr10-28"/>
     <use transform="translate(120.80078125 25.125)" xlink:href="#Cmmi10-b9"/>
     <use transform="translate(198.564453125 25.125)" xlink:href="#Cmr10-3d"/>
     <use transform="translate(282.623046875 25.125)" xlink:href="#Cmr10-30"/>
     <use transform="translate(332.623046875 25.125)" xlink:href="#Cmmi10-3b"/>
     <use transform="translate(362.291015625 25.125)" xlink:href="#Cmmi10-be"/>
     <use transform="translate(436.9296875 25.125)" xlink:href="#Cmr10-3d"/>
     <use transform="translate(520.98828125 25.125)" xlink:href="#Cmr10-31"/>
     <use transform="translate(570.98828125 25.125)" xlink:href="#Cmr10-29"/>
     <use transform="translate(609.806640625 25.125)" xlink:href="#Cmmi10-3b"/>
     <use transform="translate(665.8125 25.125)" xlink:href="#Cmmi10-4e"/>
     <use transform="translate(763.693359375 25.125)" xlink:href="#Cmr10-3d"/>
     <use transform="translate(847.751953125 25.125)" xlink:href="#Cmr10-31"/>
     <use transform="translate(897.751953125 25.125)" xlink:href="#Cmr10-30"/>
     <use transform="translate(947.751953125 25.125)" xlink:href="#Cmr10-30"/>
     <use transform="translate(997.751953125 25.125)" xlink:href="#Cmr10-30"/>
    </g>
   </g>
  </g>
 </g>
 <defs>
  <clipPath id="p3017017e97">
   <rect height="223.2" width="334.8" x="24.321875" y="21.56"/>
  </clipPath>
 </defs>
</svg>
</div>
</div>
</div>
</div>
</div>
<div class="text_cell_render border-box-sizing rendered_html">
<p>Since IPython only displays by default as an <code>Out[]</code> cell the result of the last computation, we can use the
<code>display()</code> function to show  more than one representation in a single cell:</p>
</div>
<div class="cell border-box-sizing code_cell vbox">
<div class="input hbox">
<div class="prompt input_prompt">In&nbsp;[6]:</div>
<div class="input_area box-flex1">
<div class="highlight"><pre><span class="n">display</span><span class="p">(</span><span class="n">x</span><span class="o">.</span><span class="n">png</span><span class="p">)</span>
<span class="n">display</span><span class="p">(</span><span class="n">x</span><span class="o">.</span><span class="n">svg</span><span class="p">)</span>
</pre></div>

</div>
</div>
<div class="vbox output_wrapper">
<div class="output vbox">
<div class="hbox output_area">
<div class="prompt output_prompt"></div>
<div class="box-flex1 output_subarea output_display_data">
<img src="data:image/png;base64,iVBORw0KGgoAAAANSUhEUgAAAXoAAAELCAYAAADX3k30AAAABHNCSVQICAgIfAhkiAAAAAlwSFlz
AAALEgAACxIB0t1+/AAAIABJREFUeJzsvXt8VdW1NvzktskVEkDcRFQIWC/hIrvFE0+/AvpVoiJe
sBJouVgIF6GgcKr9hEBSrMcWv6MSja1fsacqx1PantN+HOLRcErJ1veFYiEVsWiRixJCBGnABJJs
djLfP+aee17WnGuvfQsR1vP75Zdk73WZa645xxxjzDGekUIIIXDhwoULFxctUi90A1y4cOHCRXLh
CnoXLly4uMjhCnoXLly4uMjhCnoXLly4uMjhCnoXLly4uMjhCnoXLly4uMjhCnoXLly4uMjhCnoX
Lly4uMjhCnoXUeHw4cMXuglJxfHjx9HZ2Xmhm+HCRULhCnoXtnj33XcxZswYPPTQQzh8+DB27tx5
oZuUVPTv3x8//vGPL3QzXLhIKFJcCgQXALBo0SLcfPPNmDNnjvT5Qw89hKlTp2LcuHF46qmn8JOf
/CQp9//jH/+IXbt2oa2tDT6fD/fdd19S7qPinXfewW9/+1s899xz4c9ef/11pKWloaysrEfaYIKu
baZ+ivZzF5cYiAsXhJCbb76Z3HfffdJn+/btI2+88QYhhJC//OUvpLq6Oin3DgQCZNy4ceH/fT4f
+fzzz5NyLxH/8i//QqZNm0YefPBBy3eLFy92fJ0dO3aQu+++m1xxxRXk/PnzhBBCmpqayNe//nUy
dOhQ8oc//CEhbdP106lTp6L6vCf61UXvg+u6cYGuri5MmjQJ9fX16OjoCH++fft23HrrrQCALVu2
hP9ONOrq6jB8+PDw/z6fD9u2bUvKvUSsWLECd955p/a7c+fO4dNPP3V0nZKSEtx55534yle+gv/4
j/8AAAwePBiLFi3Cvn37Yuo3Xdt0/fSHP/whqs97ol9d9D6kX+gGuLjw+OCDDzBx4kTs3r0bb7zx
BqZOnQoACAQC6NOnDwDqq1+5cmVU1z106BB+/vOfG78vKSnBPffcg08//RQDBw4Mfz5gwAAcOHAg
hidxfk8GYvBcDhs2DO+99x6uuuqqiPfs7u5GRkYGli1bhqeffjrs8jl79ixycnIS1jZTP/Xv3z+q
z11cenAFvQvs2rULs2bNwvTp0/GrX/0KU6dORTAYDAt5gGq4KSkp4f+7urowYcIEvPPOOwCAefPm
4fHHH8eIESPCxxQVFeGpp56KeP8vvvgCmZmZ4f89Hg/a2tq0x/7tb3/Do48+is8++wz79+/H+PHj
MXnyZCxatCiqezKIzyRi+PDhOHbsmKNr7NmzB1/72tcwcuRIrFixAnv27IHP57NcO962mfopLS0t
qs9dXHpwXTcu0NbWhj59+uDuu+9GXV0dTpw4gT179uCrX/1q+BjRpQMAO3bswNVXXw2Aap47duyQ
hHw0GDZsmKS9tre3o3///pbj/v73v2PRokV4/fXXsXPnTnzjG9/Ab37zm7CQjwUmjb5///44ffq0
o2vs3bsXo0ePRmpqKhYvXoznn38eH330Ea699tqY26Vrm6mfov3cxaUHV6O/xHHmzBnk5+cDAPLy
8nDHHXfghRdewOWXX46FCxeGj+vq6kJ7ezuysrIAAG+++SZKS0sBAA0NDRg9erTl2k5dFcXFxXjj
jTfCnzc1NWHcuHGW4zds2IAlS5aE3SGtra1IS0uL6Z4MJo3+yJEjKCgoMF5HRHd3d/jv8vJyjBgx
AjfccAMefvjhhLZN7afjx49j3Lhxjj839auLSwAXbBvYxQVFe3s78fv95NlnnyWtra3hzxsaGkjf
vn3JypUrpeNnzZpF9u3bF/7/a1/7Wvj/qqoq8tJLL5Ha2tqY2hIIBMiYMWMIIYR0d3eT0aNHk/b2
dkIIIUeOHAkf9+ijj5L33nuPEEIjXVasWBHT/UT867/+qzbq5p/+6Z/I//zP/4T/F9shoqOjg7zy
yivSZwsXLiR33HFHwttm6qdoP3dx6SGtqqqq6kIvNi56Hu+88w5uueUW3HHHHfjGN74R/tzr9eLj
jz/GqFGj4PP5wp+3tLSgs7MT1157LU6ePIkf//jH8Hq9OH78OFpbW3H8+HGMHj3a0ealirS0NHi9
Xvz6179GfX09HnzwQVx33XUAgJtvvhnXXHMNRowYgREjRuA3v/kNjh49ig8//BAVFRVITY3d+/jc
c8/hl7/8Jf7yl7/g1KlTGDduXHhf4he/+AWWLVuG9PR0SzsY3n77bZSWlqKtrQ3/+I//iL59+wKg
vvj29napXxPRtuzsbG0/mfrPrl9dXFpwE6YuYZw6dQoDBgxwdOzp06dRUVGBF154ARs3bsT+/fvx
5JNPJrmF1K/83nvvoaSkJOn3Yjh16hR++MMforq6+oK2w4WLRCHuzdiuri6MHTsWU6ZMSUR7XPQg
nAp5AMjPz4fX68Xu3buxa9eucAhmsrF161bcdNNNPXIvhp/85CdYsmTJBW+HCxeJQtwa/TPPPIPd
u3ejtbUVmzdvTlS7XPRCEELw7LPPYsWKFRe6KUnD4cOH8e6772LatGkXuikuXCQMcWn0jY2NeOON
N1BeXm4MU3Nx8SAlJeWiFvIADWF0hbyLiw1xCfrly5fj6aefjmtDzIULFy5cJBcxx9Fv2bIFgwYN
wtixY7F9+3bjcaY4ZRcuXLhwYY9EeUpiVsX/9//+39i8eTOGDRuGGTNmYNu2bZg9e7b2WEKI+0MI
KisrL3gbesuP2xduX7h9Yf+TSMQs6P/5n/8ZR48exeHDh/GrX/0Kt956K1599dVEts2FCxcuXCQA
CXOuuy4aFy5cuOidSAjXzYQJEzBhwoREXOqixsSJEy90E3oN3L7gcPuCw+2L5CDpmbEpKSkJ9ze5
cOHCxcWORMpONy7ShQsXLi5yuILehQsXLi5yuILehQsXLi5yuILehQsXLi5yuILehQsXLi5yuILe
hQsXLi5yuILehQsXLi5yuILehQsXLi5yuILehQsXLi5yuILehQsXLi5yuILehQsXLi5yuILehQsX
Li5yuILehQsXLi5yJISm2IULFy4AoLbWj+rqOnR2pqNPnyCWLZuEyZPHX+hmXfJwBb0LFy4Sgtpa
Px5++C0cPPhk+LODB1cBgCvsLzBc140LFy4SgurqOknIA8DBg0/i+ee3XqAWuWBwBb0LFy4Sgs5O
vYOgoyOth1viQoUr6F24cJEQ9OkT1H6emdnVwy1xoSIuQd/R0YF/+Id/wI033oiSkhI8++yziWqX
CxcuvmRYtmwShg9fJX02fPhKLF162wVqkQuGuGvGnjt3DtnZ2ejs7MRXv/pV/P73v8eIESP4Ddya
sS5cXDKorfXj+ee3oqMjDZmZXVi69DZ3IzZGJFJ2xh11k52dDQBoa2tDMBhEnz594m6UCxcuvpyY
PHm8K9h7IeIW9N3d3Rg7diw++OADPPfcc7jyyisT0S4XLly4cOPyE4S4BX1qairee+89HDlyBHfe
eSe+/vWvY+zYsdIxVVVV4b8nTpyIiRMnxnvbSwLuIHdxKeNSi8vfvn07tm/fnpRrx+2jF/H9738f
I0aMwKJFi/gNXB99TNAN8uHDV2H9+tKLcpC7cKGitLQCdXU/0ny+Gm+++cQFaFHPIpGyM66om88/
/xynT58GAJw6dQp1dXW45557EtKwSx1u8omLSx1uXH7iEJfr5vjx45gzZw66urrg9Xrx/e9/H4MH
D05U2y5puIPcxaUONy4/cYhL0I8aNQp79uxJVFtcCHAHuYtLHcuWTcLBg6sU9+VKLF16+wVs1ZcT
LqlZL4U7yF1c6mB7Uc8/v1qIy7/d3aOKAQndjNXewN2MjRlu8okLF5cuEik7XUHvwoULF70QvSbq
xoULFy5c9H64gt6FCxcuLnK4gt6FCxcuLnK4UTcuXLjocbj0Hj0LV9C7SDrcSe1CxKXGYdMb4Ap6
F0mFO6ldqDDTe6x2x0SS4ProXSQVlzpnT22tH6WlFZg4sQqlpRWorfVf6CZdcLj0Hj0PV6N3kVRc
ypPatWb0cOk9eh6uRu8iqbiUJ/Wlbs2Y4NaW7Xm4Gr2LpOJS5uy5lK0ZO7gcNj0PV9C7SCou5Ul9
KVszkeCktuyXNVqrN7bbFfQxIp6X2RsHQjJxqRaMvpStmXjxZd3f6K3tdgW9A6iC+eabC7Fx47GY
XmZvHQguEo9L2ZqJF8kMwUymotVbQ0ddQR8BOsH89ttlaG/fJB3n9GXGMxAuFUvgYnrOS9WaiRfJ
2t9ItqLVW/dleqWg700TXSeY29uv1x7r5GXGOhAuFUugqupFrFu3F+3tPwt/djE+pwt7JGt/I9ka
d2/dl4krvPLo0aO45ZZbUFxcjIkTJ+L111+Pu0FMoNXV/Qj19VWoq/sRHn74rQuWaKIXzLG/zFgH
wqUQqldb68e6dfWSkAcuvud0ERnJCsFMtsbdW0NH49LoMzIy8Oyzz+LGG2/E559/jptuuglTpkxB
Xl5ezNfsbT4uvWCehKysRZJAcrrJFusGXW81CROJ6uq6uKylSxW9yQJOFJzsb0R6bt33yda4e+u+
TFyC3uv1wuv1AgAGDhyI4uJi/PnPf8Ytt9wS8zV7m0DTC+Y3MXPmaOzcGf3LjHUg9FaTMJGg7/7i
f85E4kK69JK9wNjtb0R6btP3M2dekfRIqF65L0MShAMHDpBhw4aRtrY26fNobzFp0ioCEMtPaWlF
opoaNbZsqSelpRVkwoRKUlpaQbZsqb8gbRg+fKXUJ8OHPx5TW7ZsqSeTJq0iEyZUkkmTVl2Q59GB
vvt6AsjPmZW1oNe0sbchGfPFyfjQj8eVPfae+HPXE2AVASoJsIr4fOXK99Z+sZvPvWluJFA8k4Rs
xra2tqKsrAzPPvsscnJyLN9XVVWF/544cSImTpxovFZvjD3uDSt0okzCntAAY9X06Lt/CwcPlgJY
DSANWVn78dhjEy54//dWJNoCdjo+7Fys7PtkupLoc/sBvAWAt+Ovf30ItbV+234xzecLHfCwfft2
bN++PTkXj3elCAQC5LbbbiPPPvus9vtYbpEoDbo3rc69Bcm2mOLV9HqD9ZRsJHJcJvp96q9XTwYM
mCa1d8KESu19i4sX9IimT9tpbmtBQVnU/dITcyOa954A8cyvFc/J3d3dZNasWWT58uXmGySwsdHA
KnDqSVbWNDJq1CMXhdCPVViYJuiECZUJaVc0k8XpM1xMC3ZlZQ3JylqYMEGYSJceIbrxYXWlDR++
kowdu1j7ngcMmNYjrtctW+pJZuZsm7bq2m3fL8mcG7EoQL1G0L/99tskJSWFjBkzhtx4443kxhtv
JP/93/8t3+ACCXpZ4OgH65dVYMSjNSdba3E6WZw+w4X2BScSW7ZQZSPR/Z9IK8g6PvTjxecr1y4w
o0Y9klRFQoR1sVHbWk+AClJQMNtRvyRzbsRy7V4j6B3doAcFvaj5FRTMthkAydEy4oVTzTWeAZlo
DTDWtiX6uC8D6LMk16KKF9bxYW6vboHpyfcVTVtju17i5kYs1kIiZWevzIyNBdaNlArh294VsqlD
NBtB8WzARdrUjTdkzulmutNn6G3htvHgyxA+qo6Pffv249Qp63GZmV3GTc2eCqaIpq2xXC+RMfAX
PDw6YUuGAT1wC0KITvMT3TW9XyuMRhNKltZkcpNUVtZE5SN34kq4dDX6L1f4aCxabrSupETtwSTb
Wo0HsbQtkbLzohH0etOonhQUTCfFxQs0G2CJHwDxDNhoTLtkDWhTxEUiNw+jfYbePHmjBX8W6jsG
KklW1jRSWVmT1HvGK0STGQkVzR6M0/j+3hq1VVlZQwYMmEb69ZtDBgyI/N4TKTsviOuGuQeOHTuJ
5ubTKCwsxODBOXHF2+pNo/G46aatePPNJ1Bb609qWnK8MbjRmHaxmpiR3DJ6N0mdgXsmPkoKp8/Q
W1PKnULt85kzr8DOnVuFZ1kSzuRcvfpVHDnSBqAPhg7NxRNPlMX1nLGMSdMYSVZ/O6U8cZIJy9tN
8Oijt/aqMVJb68fGjcdw6hRnvX3ppXnYvHkJ+va9LPnUFQlbMgxQbyFrNYmLpki25hdJm4jXxdAT
7Y+kOemfoXdvHvZmRBNZ5PXOtcwHr3e59linGnq0Y9KuvfFaBuL5Y8fOI2PHLtYETZjHV6RM194e
mWXvWta3OZHiuccFPX/g5KRuJ8NsczKQEhGDm0yz08mk1z1nMsIBLxVEtw8R2/uxE2jRjklTe/Wh
lNElwfHzVQHnrI/snuXLsI9jbX/kNidS0Pe464a7B1gKc13o7yCASXFFUyTLxHRiXiZiVz2ZJrKT
6BWdm6SkZAI2bmRRFPR9ZWYexYkTuait9fcq87i3Id7IIvXYaJld+ZiU51lr62dRtffw4Va0tPzc
ct81a+Y7itCS210HkbIAmARglfTZ8OErUVIyBD5fediVFQy2atuWmdmFjo7eH5lllQ/6Njc2nkBp
aYXtmIgFPS7o+QM3QuWpAFahtfVETzcpIpxM2Fg5enqKYtZuITLtmSxdStsybpwfa9bMx1//mo6O
jp+iowNoaAAefjh+HpCLkWKXwenibzpOPdbpwsH69MMPPwIwFcD1EOdZU9MK7SJtbkcfzWf+0Hj4
UfgTZ+HA6jPQYwsKZmD06GtDysUQvPTSbjQ3ewFsCN8vLW0hurpeCp/J5ld1dZ221b0lZBXQyQdd
X/tx6FAKPviA9ekPE9eAhNkGBqi34GacPoXa51uc7CYZYfJDOjUNYwkr4/sVNJkmWVEYpj2AGTMe
C0XV2PsMk8WSGO/z92Z6hGgii/Lz7yOAHN2UljZf6ovo3G/sfernmYmSQtdePd2BM04ca7sjt8eO
x2bgwDLL/Ip3f6unxpAoH3y+cuL1LpfabHWTfoldN2y1nzXrZbS0WL/Py7vM0XUSrQna7eo71dad
uF7EdtMEjyUQLZv2dmDdukUYN07vFjE9txi1EQi0IzU1DUOHXm2JZpLdMkNCFZ02gSaYmd0CyUhc
oiZ9aVTPr/ZFby6vGE1k0bBhm9DQUAbG2gl0oatrJnbu5JW1nIxD7iZh77NK2zbdezO1F6DWm3jf
zMyj6OgQz6ZMkqdObUJ9Pf3EOn9KAXRAdtX4kZb2z/hf/ysX/fvPwdChuQgGPQD6CdflbqfLL++H
7dvlZ4onMiuRYyiSTFLlgxgJ2Np6DH/7WxLFccKWDANMt9DvQq8iBQWzI66qydhlj6QtxbNRyjQG
azx/paNNmUjPXVlZI0RtOI9mklPy7TfukqHR0w2q2K97objYkwHaFzK3OlCv5QiyG4d804/9Tkwf
qfeNzDNjnT+c8IzlESwgwAOW8erx3B9+fmty2cIeD1Jw2j+xyiR+rtqWxInnCybo7Xfi7TspeULH
uvD06zfHcTaoTkDIz6kjjLIXsE6em06g6KOZZEEbeaImOvxTz/3ivN9jjXRS3xXL/NUl1nm9c8Oh
gMkU/GPHzrPMAWBluJCGU1ij2qJncXSCWHhm9JEneheNx/MAAZIf8ZUoxsp4ZJJcREXs08SJ5x53
3YjmTd++n8HnW4LDh0+hpeVX0nF20QTJKLawb99+4RNe0ODMGaCuzt6cszP/5IgDtd2TANRo26Tb
SDI9dzCYJVzbed/QzTcW9VAKXfQDM92jMY+dutWWLZuEt9+uQXs7+yS6fo8l0sn6rvzYtu11BIM/
A3V3/Eg42o/mZi+am3vCNdQHquuM/r8kqqvIbhLxfa5GZuanuOGGXKxdG18iFhA9z4x1jgHmWJDx
uOaaf8Mnn3yBtjbrt2JkSrxu20Rx0MQjk/i57BmY+y6BSNiSYYB4C5N5Ey21aSI1en0CV3TXl81Y
bn4PGDBNeTbddWtIaupcRxpXojV6a0r+ApKaehe5+ur5McfxR2vCyvzsiUjwsddW7Wl4dRpncjVK
hkRyoTM3S3HxAjJwYBkZNeqRpNMB2L0Lc5Kkff5AT1ByJMpSTYxGr/4kTjz3qKC3F1R6QanrcH3x
htjMUStvfQUB5jiedFu2iAUQdD5F9dmsg6qyssaR/980KCP76M19k+gkrVgGPGtDv37O+z3W9lsF
qvi/2vbECd9IsI5D+zkQL5KxF2F6F/o5Vkny8u4k+fkzLePV631EWSBM8yn2xVfN1PX5Fsc1B+JZ
MEznJlLQ96jrxmTeeL35yM9fZYnAOHXKGqtdW+vHSy/tRnt7CoAZADzweL7AzJm3xWS+yW0aH/qp
0B6rM+eqq+vQ0XFl6D81GQRob1+CrKxFIb4Y2r6srDKMGFGIwsLcqHhb7NwnNNb9NRw+/FMEAueQ
mno/hg69KuI94knS0rloYjFhWRtKSytQpwmJtjOjo22/1VQX/1eTd3qOWlZ2udjPgXiRrGgl07vQ
zzHA56vCo4/eGhq3dC4PG2Z1LYnjvampEO+/b713NG5b3fMPH74Ka9c648exc03GEvljOveuu55y
/EwRkbAlwwDxFpH4KpyUIUvUppV9m3TmoX515tESK40aYHHxggvGqGenuUWr1W3ZUk/Gjp1HCgrK
SE7O3cTjma/0ka7EXLzRVIllqrTeo4YAc5V3T11uulhnZkElghGS9WVBwWwyduxiUllZQ/Ly7kmI
xmqHnqYMSOT9EnEtefNzHgHKCDCb5OXdE0Xuizzu4+H+MY2hRIrnHtXo7eKAJ08ej5Ejt4VjcEWI
qzVNid6gHPFkSCOIrU17985Dc/NgsFhdr7cJCxd+DTt3Rl6dqYbIPtdvrA4ZMghvvvlETO3Twelm
p53mBiAqra621o/y8leEbEV145JuoPt88zF8uEiZQLXTlpbIm6vRakWx5FKI92hsPIFDh1LQ3j4H
bAMsK2s/HntsAqqqFofvoeYebNx4LC5tWO7L2QDq0NKSjr17NyMlZYD2nESm8/d0MZdYs8aTdS36
/H4ArwDg2betrX5MnVqNa6/9nZFNNxq2TdPYvBD5Hz0i6MUdckrTqp/IznbAdenYAOCJo4X9IAut
FRg3bmR4stvBOvDMkSuJQFXVi1i3bq9EHWwaJHaDkhASFW9KdXVdaDFk/aQfOnl5V2Dt2lvx/POr
sWvXgaiiqdgzqBNGF2ERz2QRXUU83Zye094O7Ny52tie0tKKqPpNB96XkyC6abq69C5DID53kSp0
vvhCk6kY5z0i3dNu3keDRNBWUzlTB0Acz1QpCQR+i/ffB95/Xz+enCySkcamPC9pQtjBgxmYM6cG
r7ySHGEfl6CfO3cuamtrMWjQILyvc5yFUFcn82GsX19qDLeLtFoPHZqrzagdNiw3pmegk+4Z6bPm
5mccr9DqwKNcPUuQl3dZWAOsrq7D009vi6h9R9JOa2v9QiYrzxg8eDAFa9a8FoFjhMNOc+voSHPo
ezcvyqxfJk6simih2cF52Cr7LjqBa9c/pvfhdKI74/0X93T8AI4CmAdVWcjMXISSktExhRTq+tDr
nQevd4U07hOpkJjem2neR4t4yf+WLZsEv/9ldHQMEz617q/pxpMTZZSPTf0c5e+fW7xAcvZjGOIS
9N/97nexdOlSzJ492/E5Bw+WYs6cGowcaRV8TlbrJ54oQ3m5PEi93uVYu7YspmeINHEZtcD+/Rno
6Pip8Byr8O67+7BjR5Ox2IFTrdPpcdXVdWhvvx7qAAGAv/71IQtRld2gpC5AK1pbj2nb0rfvaQAF
wpF61kFRWEQbo6wKyJMnW3DwoOwOY5MvEe4HU/tMffDuu/s0seD8nNLSChw7djLkDjJbXPy+6oS/
EtZY6i4UFn5udBcBsF1UdAtic/PL8PnmY8yY5BRzScQinGioY6uwkODQIfH9OxtPTpRR7hrSz1H+
/p0tLglBvE7+w4cPk5EjRxq/B6BszMW/kRFtSS47yBszPP3c5yu3SU02bdg6KeQRe11UnsnqnGQt
cmyz/J2ewIqENibV4hj1xOO53xinHc3mqu5YHrZqDW9MxKZcdH1QL5C/zZXGSn7+fcKmrZnTXQzn
o2GF00LXE6kBonsnPVEnQe2zSJuITu6ZyCABJ21W+8nrnauEdkZH/iYGV6ib8/R9mUnfeAa2Pn9o
1KhHCCFf4s1YuxUMsNdMGHQluTZuXOWIBEsHvhnrhUrlunr1ppBGWaV9lkgl9uLlI1eP45msL9se
r8s+Zq4kVXNTrafHH/+d9tp5eVdgwwZdKNwyW3+77h6ROcvZ81xpOQ5A6Dr6TfSlSx/UnhNN+55+
epvmaPa+/VD3dM6d+xZOn2YWpu5dMkrfSaBzYAg8nl3Izv4C5869BkojDKjafEHBR1i//iFDe3Q8
8X4cPJiCWbNexrhxdVi2bJKGk/4kgNPYvTsVpaUVUWWVmixP2bKNvAfgLEigFMzt8fbbNXjssX0Y
N25kTESGdlYNcAIffXQXzp7tA9VC9XqXY+nS+yzXE11HJteYx/MJAgHxLE76RjOI/QB+rG3v8ePH
Iz5T1Ih3pXCm0VeGfiYQ4I+WFay4eIHjkKVkhIaZNCZe5iy2EnuJ1ui5ZsLaa2eFRO5LFVu21AsJ
KdZrJxOm4u6ZmYssGi6zSKgWzdvp8dyfEIpn+5KKkcaC7ns9QVdq6r025/D3b0qmSk9/QPk8cYR3
zvvFatl6vXO1Yan6BCr5eelctLbT43lAc82VjkJdI1kYslVfEXqfFY7GvOlZrGGyuuMWKM/5RwL8
X+Syy75KKisrSQLEcxg9pNEfA9AKqglNtHzb3Hwap069hGRtMIrQFdlobNQQatC7hX4XAlgEgGvw
Hs9flBWbQvQ/Ow0Fi4YGGQDWrHkN779fhvPnR8BshXA49fvRPYAloBuCVgsnmRWlTMXdb7jhNVx2
GadyJcSDp5/epqV4DgQ4xTF7nlj4UHTvIytrf4iTRzf+7JKuGKWv1Zrt7h5jPEd8/6ZkqmCwAnzO
fAxAjHCi2n119Z8QDJ4BtQLtqagjwWnx+Eh7ANbr0Gd4++196OjIhs7yDwS+guZmNZy3FOvWvR4x
Ai3SXpHMNcPPy8ur0p4nUoK36gtf4aqrLkdHhziGdH13Gei75/sxwJPw+baiqqoKP/xh4gqP9JCg
HwTg56CpGegZAAAgAElEQVQvlBFovQqgDamp3Th7NhXy5gV98X/5y1n4fEvwxBNlmo0sGU5Cw7iZ
xSbMSyEzSh/WNmxYHvr0YW6db4O9kLS0ncjIyEcgYG/qRcNHzo5rbDyB5ubTyM4uDFfO0XFa+3xL
0NCgmqPPoLNzjvZZnJMrjQewCepE00UiJRJW4epHVlYNzp8vBCEEEycOwsaN54Xvq6DPRP4Z1qyZ
jzNnBsUcp8wX1Pk4fLgVQB8UFKTg3LkVaG7O1pwxyTb7+cSJXDQ02C0Qsstm4MAPsX79YkuQwpw5
NZLLkiogr4MqIFXC53L+Av8uXTmGKlW7dh1wtIjr5545zPbNN6u038nX4W09d47NQ901nS0yuoUr
kiIVjUzR55Oo8KO5+TS8XmDAgDIUFhaiqalJQ/o2CVlZ8kKV6HDsMOIxB6ZPn04GDx5MPB4PGTJk
CPnFL35hOQaAYq7UECsHtbjBaG9expM9aS5MbuaHsa+uE72pZ4do3C4mIriCgjJbN4Cz/rE3dZMF
kYxLdQdYOYOmhdpp5XCPpw/Etug28IqKyrTuJDu+oi1b6onHo8t4rSdpad+S2u/1ftc4lu0LTJv+
JoS7+pzNsWj6JBbuGTN1N3uf6jXVDWvWX+bNet097d6PU5lirX5VT4Dl0v9paQssfVtZWWPkqVLb
xTaj4xTPEuLS6P/93/89hrOaAHwFcoKSuMGoxhbrkwliSZiQC5OLoOeKdSvZNfUbYdGbetEXUaYw
Zd19/HGT9l7DhuWhf//YMge55pOi/T7ZNTj1iUwUNKwU4BrgEtDNrPNQ6w6fP69vv86q0b0bQKc9
U5dEaelqVFffFtX4mzx5PIYMeRGHDskWIPBLpKT0hZqsZ4J9gWnR/aNq7qyqE6MuTkEsLhzd3Ium
eLwuSODgwbM4c4YdwbLM94G7SsX3rboUnXNS2cXeRyNTrG6nfaD1r5n7ZT+6uuRxc/Dgk9i5czXW
ry+NeA95c1elrY4dPc5Hr78lcxeI36vJBH488EANRowwpyeL0E1gPlH0/uCbbtpqMTf1Zl20pt7v
pbj/vXtXYMOGSEWUzaY196XLgiMrayHWrp0FID5ypTVrXsNf//pQKG/AfvImA3pfsC72eAPkyeAH
kIJz585qrysWQu/sTMcXXzTi+PG+aG6+F6yvt2//MXJyitDScr32Gh0daWGhwa719NPbUF1dZzsm
r7zyOhw6dCtkf2wWgsEaiO+6uTnbsjcl7itxF5HYJ4Do/klP34tg+Ks6UCXKD2ArgM8B6KNinLj3
dALTWjzej4aGOnzrWy/j+us34YknaI6LjkisqIgWmqcQFys/gNVISdkLQv7/0PeqSzFyLodTOE3C
+uKLk+D5JH4A9QB+LRxRpZxB3+3OnY0gxH6MAHplLxHoEUHPuU8Ak5AEykKDeGDof1Wzfwvt7Zts
05MZZF88D9G6996hobYwzYZ/n5W1HyUlEyzX0vn3vN4mAPrMQnWB+fjjT9Hc/Kp0zebmZ7Bs2XSb
hehFAHvBNn9bWuSMOe5LB0TBUVTE+yNaYSy2e+DAy/GDHxTiv/5LnLx0QiYrc0+ENSQwHUAzPJ75
CASuEI4sEv7mikF3N9sLkgVASckQRdhUQKUhCAQqEAj8CFxblGuWtrZ+BsB5qCGb2JwTSey3KqgK
DSAnv+kKpTD/f0ZGG5qaxHE4HsOHv4mZM0sFLVtnfeqLmcRqsbG0/o6OH0nPI46Zvn1Pa4MEZG4k
6/5GU1ORwFap1pM2W+I6RMONZD62E8BxcMuoUDlTv//gpJAOYA42iRsJcwIZAEDyj/l85UYO6srK
GuLzlYd8oKI/0nnFeUKYH01fb5L5xK666ltKwQ/OWqheT5egpfP56Xx9qakPaNuekjJP68ejoXD2
fs9ILKDRJpuY9gZMYaeJYjm0K79oTc4iJDt7CklLm+zQL033TwoKZkv9Ih9TqTmvUjjf2gavd7nh
WmwM6ZPozP7taEIrrd+bfM/sc+t+hem5HnHkozeNLb5/oG8vD1W2+tPt/Ofy88ceWh3N/pe+3gU9
lrPVlhPgds1cFeVO9PNHft7EieceEfQqtmypJz5fOSkomE4KCmYTn2+xZXOEUhazjZc5Np1pfWlO
ik5bY5P114tmgOgnpW5j0JyNS4VrpbbtbJPJrgBJLDH0JmESaXJGS3Gs1mm1a6ue7liNBRf/tu8z
Pi7Efi/TnCf2hXmi6mOzzfkNrA/UjEq5aA0/p7h4gdJmuS8KCsoc9b11rMQWSGC9jqwYFRXNsn0P
+g1ys7Kmv684BmhfZWU5y4yPJlfFmkuygADTSG7udIVKfRrRyQ7gPlJUVEZSU2dEHJPsnmLWNM8X
SJx47nH2SpUMTIfJk8fje9/bhyefFGt5irDPsKV8JGYfK6CaSObrEeKc5dFsdqmbcEdhMtmvucYD
J3sAfft+hpycu9DZmYbMzFz07ZuPzZvPCOaxc1Y8c7s7hb+5C2P37l0oL/9Ccl1FW1P37bfLQuRs
/PpiVmcwqLKRqu+Iuqzy8v6Ca65hdYetT8A4aDo700PjQg3jVamlRb+v6iqg6OhI04QIvgrgHCK5
YtT+2bz5AzQ0WM85dGiRwosi3usttLT8KkwYF8kd0LfvZygooNnM588HQ3VYnQUSMFgZF0VXqh+p
qS+AuzOssAYJ+JGe/jpOndoUeg4/3n7bugenbpQePfoRGhtPIhD4/wBQtlGWGc/aqXPNOM2/sfJJ
8VDstjagrc2P9PRFIblUCJ0L9eqrszFixFAcOqTvS3Eey3ODzrGMjPeRl3e/MUY/JiRsyTAAQJwr
MCsOIIa06bUGnmGrhmhZS7PJK7xZG4yGK8SqNTAzea6kPaWnTyEmi4Nm1Kl8KvMIMJmMGvWIsOJb
NQm7koZ2mr0p8zI39w7DvWJxpanHVyr3jBS2Z/8e9OGQ31WyKesJcK/y/1QiFx6h5/l8i23DNPn9
WNtXCT+RNUcGWYO0u49d30eqCWzXr/L5JktNngemurvMpWHOZmYWjbV8aHyZ8ZF4f/Rz01oQx8on
pZsbC0h6+l0kN/d+Y1/KBYnEObrQMDd0lgG0YyYWJO5KphsAmkm8MKKpL3cUE/bTCfAtkpV1t7aD
5cFTQ4CF2g60xrWaB4GTqlcMVjNTNAG5oC8qut9I2JWTcyehgme5cK5uoptS7Z0JA725aO0rr3cu
ycu7T7mWKnSduNJMbTW1V/V3O3sm0TWi32N4RNNm+n4yM2U3YqT4au5iZH1ST6KJ7WYw5USIixh7
Ljt3mvpuTe4SXfW0ysoaMnbsPE2OwEoHipFuPNAawKaKavYLh3mOmRSvSLkTlZU1JD19odA+/Xjl
+3usn3Xjhc8NUwUyPi7sXWT2exswjplo0UPhldbsRZ3rQ9zppmZ2ENx04lWlurqmhfi0WVjcSaSm
NqGtLU+42mJw09w+rrWx8SQOHVokkFaJWYWiqUZhCuESMypptIpIVsWf9corq9Cv30khrIzD4xmI
s2czATC3iOqyEHMB5IgQoBCZmQ+ho+Ny64Uhk57piJjy8p5Da+t/Suc0N7+MgoI5ypVUd4ITV5oK
MZtUH1aamno0TMh29OiHaGxcEDbZAf17OHHieKgKWR+cP69zgeVo2kzfT0cHcNllqy2RS6ZQ1cmT
xapoLKpGHmsMdhEtgwfnCJEl/Pn37duPqqoXpSgeUz0GPWFYleZu41FU9G8YMoRnYQeDGVi37u9o
b/dCLsTBXX/f+94EIfrMru4uwPqzpGS1sbKa7JJyTmtiymI1FSRi19ixownBIMtuPwCZLoKPVxpl
9xYOHmT1LVi+inWMNze/jKKib2HAgDIEg1lIT2/HTTcNDZEuiuHPdLwMH74yHP5sfZ4ki+KELRkG
AGpmrF7D0W32pKTMMK72RUX3E4+nXFlpYyMfY/fXRynQtgwcWOa45qs5A5drGfYUuZU27WfX1NfO
LSq6P6IVEu3mqz5yQ7y3vo9lV5o5K5BfP5L1xbUj1QWoj9SxsxTM4yKajWar6W3OsjbB6gbibZW1
0FUkI4PV6tW7Q51GqeizU1mfMGvY+h70mctiO5m2+10yduxiYx+as2OtblZ7OWFP5czGvGwJ2MsE
FixCrZvvEHM9aCvpHs+AFr0Qs0le3r0RNpsvCo3eClXD0SUKEHIOppXus8+6EAj8HDJRkzWBgpNR
2d/fvirSeBQXb8P27VUAzOXtGPjGjzmhw6QtAsADD9QIbVY1GHbNPlA1DOBJ5OcvQXV1GR5+2Jwd
62zzFWBaXSDQriTqjIfX+0sUFlJtmxKMWa/GyeoY9FwutDwiy6GwWgYvvFAmZKnSc9SSf3KpQ5GS
dxEoTxHPl7j33qGoq9O3WS46Qq/j9/PEH9UKteZZbEVGxj5kZt6PoUOvQmFhrqPMWUCXjbspZEly
K/P8eYDmWbwClk0ubkjK79Y8/uT5xs4JgicB6a1gpqFba+mODpcKbG09hqamfDQ0WDfrAViyYzs7
gyGL+tuIVHHJbt7YjXnZErAPdmCyoKrqRTzxxFZ0d5dCXw+6TipGBPgRCPQDf18bwMbQ2bOHsHo1
71O1zOJ//VeDkKSYePSQoJeZH3UmtzUr9C3QdHB9we3OzozQX+J5fAe8X7+jKCm5UknRNt+fQR/l
UIe9e4+itLQCN99cqK32IybKcFdFZLIqnQB47LF9IcH3bQDNAB4C8NPwNb3eX6KtrTMUPSG7bzo7
gxFdDibzV46M4ElbZ8/S+4iJLEuXPqhwclv7ODu7UBCm3H1VXFwlnbtx47HQs+p59oPBLO3nomlP
x88ZqMlmOqG4a9cqfO97+nFBiEcQ8tbEHwBS26ur65CZ+XmYvIr2zT9Zjnn66W344otGAH3Qt+9l
2upq3A2E0P3/HvpbdRs0WfqKuR769CHCp4xOoAzp6Sno149g5swJGmoPNh4KATwLYAx0EPvbLnKu
tLQCe/ZYC8evWTMfTU3doQUZALzweo9jw4Y5APS0E7oIN7t7m8a8zACqzim9TNi8+QN0dy8Hp2CQ
F02P52CIwVZkEB0B/r7kJL6Ghjrcd9+/ICXl8pALkikSf8L11+fiBz8olurqvvWW9hFjQg8Jes78
yIQdIIddysUKxIEt8l4AjNWws7Mj9L+9f7C21o/Nm/eEw8tosQyrZsbAC5EMBtUIUwD8DC0tNLPN
Ghaoo0t9EcB8ALPAhfB7uO22rzjKKKVFyV8MXZNpBauRmfkpbrghF2vXPojq6jrU1alheX7s3/8s
Ro9ebksTIWuhnOKAkNyQdjEfDQ2nQIjorx+P9vbxKCy0+l1NC0t1dZ3R98zCDWXNsk7bH+npGpMM
slVGF6+PQIWg+H70QlHeo+GMoQcOmISrvO+gKy+ZkTEP6emBMCWCrBRYQyjNJQbZ/btZDyhPrqd4
6OhIw6OP3qq822OglgHVkJnmL2cf7wcwFTQkeSiiofgArFmkx4/r2/fRR004e/ZGiNw+zc2rsGbN
a9i9++fKQic/lxOIFCGNjScxZ04NCgt5uObMmVdo51RhYSf69h0gUVkAwP79beDKGqOPmI7s7FRc
d10O9u07D/m9VgG4FVbeLtEiqwC3Ol8BMBgdHcPQ0BDE8eO7sWHDnPBzpKTIi2VcSJgTyABA9tEX
Fy8gY8fOIxkZLCuwkgDzSFraN4nHw1jfVH8Y9c1mZ98j+AaZj9rsE42lCEdlZU3I92/yceoiJNQE
qDKtn9MUbaTzCTvJiLQyOjp/VtkPKZ/jJGnLCcy+Z942OeLE7MuPxC64ZUs9Ae7UtDuyP1a+NutT
3XuuJzk5d4b6TH3nCzTvW3w/zqKGeFseIbwwherDjhwiad5v4j56uqfBfu4R2qkLd12gLfIRTQhn
ero+Wq6gYDohxFwAyBThZm4LC0+eR+hcnE08nnuEpC75neqyYM3lAGl7eHSO7h2z56hUPhc/0++x
iVE5iRTPPeyj94cKJwPUxOHcGF1dG9DV5QfVhFVmRqqlZ2WV4dQppjXPBl0R+Urr8aRg5Mj+YY29
tLRCk+xkLk5eW+vHunX1CARUgjUROtZItRhwVeg45l+lmmx7+0AtYZWOMyU7+5y2/3btOoCJE6vQ
p08Qgwb1wyefsO+iKzQs85PI59AomwLLOUBkPhSVNIyQNqSn/78IBjdb7rNmzXx8/PEXwqfc1VVQ
8CluuumqsDkdySqbPHk8cnNfQlubLiJEdG9R98nevW0oLa3QFCDPB2VJVIvR0Pd79uxY0HFbBfmd
M02No71d5EGJHFkiWkZbt/4N3d1jQf3sr4G7GuqgcyNkZS1ESckYwUomGDJksDZChxGzDR68Cc3N
nQAuBy1MDnDun1IwK5zta+hcllYOGz/a2/OQklIOQnik3PDhK/HZZ7khd6MKD2pr/Th+nLFs2pfz
M80Z3pby0KeXg0XrBQIIlcBUoee0p3OgzNKejIxpOHHiMhw6dBZ0vIqlN9meCDuPJY+J756NzzaI
kYQUTxraGD96VNBnZdWE3B7TwR9SFVCDQF0e1k0kq88XALaiX79OlJRcg5KSwdixoylsgllNSF63
UZdVyLPiGHQmbL6lbdT0DQqfBWEV/hRiliRgpiYeMKBM23YxIzIrSzwm+spb9puyuo3thVi69DuW
o0V2xQMHWhAIfAWU+CkdNIytSnuXw4dbFRZOKpBTUw9h6NACLF16GwDGesgnRf/+q3SXwzXX5KOh
QW13IaigZIVveOhsXR2QmTlHuUp66GeOch02TtmzBCGPXV3VpKPC/+a9H5+vHKLv/uabC7FtWzq6
u4+H2svavhrA38AXFJ6Nedllf7cIYnl8cLDFum/fywB8CLmAhuiqoK7WX/5ySWicmpQC8ZneAjAb
hLwKYAZSU7swbFgW1q+fh2XLNmgF/bBhuaHNdMayyZ+rsLDNoqhY58yLOHjwY6SkkND/beCKJAch
wzW9YTcH1KzXY0hJ6YeGhhrw/soRzuF9l5OzD6mpQXR2LkQgIGZYi8EUDFwRaW09lxyG2ITZBgYA
CIclcjN9tsaUUU0cHko3cGBZRHeGzoS0FnuwN5+tHDk698s0oW0LQqbbdwgNo1LN68jmuikBxFpH
V80ULiPA3SQl5buOnk2FnOwj//AsQ3M4I4NMACWao5HD/Hg4p5pRSd0hmZmzNcla9uY8T/yi7U5J
MZGgmcbcXGF8iskuav1gNTlKV+zDxMtj+lscY8w1UE5YiB5QRtLS7tT2h/5d6pOj5GxRcza1GCLp
LPRWdfvQ95iaOoMUFZWFyAyXK+cv1rjwePtVTp8tW+qVtohzlL2D2cRpOKTJzaTLtJXliX04LXNz
FRcvILm5dwhuaXpuSsrtxn5nbs1Eiuce0ehZWGJpaUVocy5X+NaUOKGP0rBSBs/FiRNZmDXrRbS0
yEkQgcBAyFqZvdZLuaaZ2VUKupHFN5I9nl3o2zcDhPw7OjpmgHFgUIjUryza4R3b+wGmCBi5FFlu
bgaOHQsgGGQbOKyMGUCIH2lptyMjA+jstJrLuugiZvrKSR38HM5pv1XYXF2iTXB76qk6BAK/B9VK
ToJbanZhfqxMIHMDjQfVaKw0tx0dVdAlhokuLJEXZcMGud1NTdcIG8K69z8plGTG3CIvg79LMdGt
Inw8f5ZN0nXkZxQ38phGeAKpqZPRr1+eMFZ15RCvB93UY9o8Qn3wGrq6FkN9Z17vXLS16es8sOQo
UyTK9u3PhCJH5LZmZe1AR8cgNDQw91OH9fJQI7XSoY84AQ4dEjchucY+bBgtvGwtpGO1YPfunQeg
H1parhSOE0NBWW3nXJhqTog1iK2FUyjkOcBDRvfty5OuRbEV2dkfIDt7OgYPHozCwlyUlAxRrCs/
PJ4fIzf3W8jIyMGwYbmYMmUKXnqJlaY0b/onDAlbMgwQbyFvluhS/KNLc/f5ygUNTscCOJvIWpk9
pwjfnJpHgDss2oCsqdjRk+o0AP3zWClR1eQT9r+JS0XkxaEWhscz3cIIKsLKbSNbTk4xduw8oY9X
ErOGy5NHUlNvDyX8qH1WqTmPEOumVT3RJfPoEmusNABmTh+fbzHp12+O8V3KvDm0z3jykqhBU0ZH
u41H++QdE3WGqk3Sz/Py7gy1KzYKXzn4gD3rI6SoqMxBv3PqhIKC6aFnNr1HnYZNwtq6Mz4l0Zpi
70J9Z8wKul/zDvVUzHY0yfKccdbH0TDj2lFaJFI895iPXo45rkFubgbOnqWrYEZGG4Al+PzzE/j0
0/ngWgyQnk43mRjEGFoar8s2j66E1SdeAVkrEwtSyJWTVq/ehObmOQB+D+BeWGO6Vc0rU/neWgSh
pGSSbQy/HEO+GsAJAEcRDL4h3ZcnzbwMYJhy31dBNXzuj6RFy084ZKvUW06sfXaFGijVgBg3LFo1
TMOVKSy6u1lhD6alfw6gDKmp7ejuBqxat5oYVgcxJwOwbjpbGQHZO1fbRK/b1gacOSNWO7LmP2zY
QEOCeQgpsHTpPymfccvH5ytHQ4O6l7MSw4bl2iTviGXzxPR5P1JS/gZC2HH8naWnTw+xiOqLrUSq
tlRVtRjjxvmVZ7gPs2a9qLSd3e9ufP3rvtD4HoKXXvoYzc3MivODxuED1veoD9lsbT2GvXsDsFo/
RzVHi9c8EzqWbdqplBZ+ANUAJiM9PQ9ZWQHccss14ZwGHZMuDU5IR3U1DfO1JkHeCrWPMzMXYenS
b0tzZe9ese3mIIk333wC48bVoU4TVZzosp1xC3q/34+FCxciGAxi2bJlWLp0qeUYa8WnwTh3ju7k
nzqVgc7OfujTJwhCgE8/LYNo2gWD38HOnVu196adL5qKKq+Nak7TZKPs7OloaiqQyp6lpn4cutYz
oAuEaB4C1hKH6vf0+mo5QnUSlZQMCQ+2PXv+gtbW3wvnvwVgsHJNsULQJlgnTPS796aEKUbpe+zY
SXzyyVEEAlciEOCZrVY63D6Q6/2WgSa5PQM2cVNS1oGQLcrzWDep09LKMGgQM2UBvhCoG+rpyvfU
ndPYeDJ8hLxZJ0fyDBvmwYEDVk4ffbWj8Rg+fKUlyU2F7rMnnpiN8vJX0NzMx7LX24y1ax/Eu+/u
w7ZtjD9JHKN6KuaMjN04f16fxMQ39Vgb5gNoRXp6d2izVYa6eN98c6HEpbN0KVvMdclr45GX93LY
FevzLUFzc430PbAPKSnzQIg6jq2b+17vXDQ15aOlJVs4X3WVAXJCEsBdbADNWVkEquyI2AdgIICf
IRgEWlv9+M1vXpc4q1ii4+bNeyw5EfocBysl8Q03UIFsrVzGYO8u1lWwYwv0W2/1ojj6G2+8kdTX
15MjR46Qa6+9lpw8eVL6HoDBNGMmFjdXTIyOpthtel3RJDRt6EyXzDI9Nah4rUobU3Kx5ly+eTh2
rNllIruu5hFghub6JgpY0U0jtktfuCIn527jO7On9BVpd+3NVB73PEtpI3MrTNVssplNYJ+vnPh8
5aEcC5M7zxTnzXMUIlFL233vxIwX+9GOE8d0LT4fmFumnACLSXq6Pu6dupT0lLdy7Ll9LoWOT0p1
E2ZlTSNXX/0dkpp6u7YtPt/i8POZ3A45OXdrczQY/bOVXdTOVabbuFbfXw0B7hLmwALC6ajF3Bar
bKBu02hzHFjfPm4IEondHS2OkwSI5zDi0ujPhMq3jx9PV7pJkybhT3/6EyZPniwdJ2veDHUQXTQA
0NGh05LNZsyyZZPw9tsiL0yO5iirls3Tv8U2TQJnjNSt3h8C+JZwD1GDSgdgrasKQIop//jjv6O1
9RFQbVbVQEz8OJME9kx6T4/nx/B46MZOR8ff0d5uzZA9e/ZPyMujxwwdmivxtOgyWU+cyApxkzDu
IN5fIsSN5CeeKEN5+Qo0N3sguxrGA1iJa67pj4EDRWZG9nx6qoO8vCuwfXsVfL4laGgw8RdNAnUP
/E46V2RE1dec5fVeTRZNZmaX4yLRplhuQOZl0V2L1/yVv8vLm66Ne6eZweJ4PAHgNNLTUwHkhJhc
n0GkXApu6XANORhkm8KsmMgSfPLJWwAWgFtn9HuPpxrnz1+J0tKKUPaoyo1E4fFkY/fun1v4cETa
DAAYPXp56C95ruXm7sOGDcsAqLQI7DiVFmUxgE/Aw2grQC1jNbdFBYuh131nznFQN7ZlOgnezoKC
GSgs7Csw41KoLjWT6yiRiEvQv/vuu7juuuvC/99www3YuXOnRdDTiaXeKlIEBIWp6Dbzr3FeGNUM
Np/PuWjUNuSB+3BlitGsrLIQ6ZaYSCRGi3CwZKAzZwYp6e9DIMdjiz6/oHBNQPQPL1kyXuLAWLr0
/5H80VOnViMQ+G3oPBaZcxXa2gYDSEdLSxAzZ/4cGzeahdDEiVVKn0ROg2dRLrNmvYyWFp5gA3QB
uB15eduwbNmtFtM0JeUEuL/Zem3Z5WDlL/rww8uERDEO0RymNBZeiGOhqWkFamv9tuayU5jyH5hQ
tdvfcMY1xNs1c6YaGcIrHjU0UIppn28JDh48i5Dupe0XusCYhB8blyJJIMAWltTUIAKB34YqStFF
raAAaGnR70MA9pw0ANDUJEba8IUvM3N6+DwrLQI7RpQTftD8Arb4s+gsceHT9bnzsW73PPr3SRXM
pUtvw+rVr+LIEXOyn53SkCj0yGbswIHHkJ7+LoJBAJgY+nEW/rR06e149919WLdur7Qqso5QN5Na
W08AoKyKMrOd2JGMY36gcO86UI3ADzHbNjc3BV//+gg0NRXi/ff7wboho+/Cw4db0dLCLBZxErHj
T0IW6oxpkWnuVv+wDjTDcaOSIZsCmhXIF6DTp1dZsnJF8MHKfpsXTfX+dEPJqqFmZm6VNKHGxhOh
zOjHba9tnTgyf1FpaYVW0IvsgzTrUxbEzc3PhDfBWJt0YYdOYFeaLpK2b1po1JA+sV1sjO/adcAS
Rtzc/DLGjFmNgQMLlI09mZCP8kmZhF+68hvgwrcC3d1WZcbnmw+vt1m7D+EEXm8+Tp2yLhSXX94v
/DWBR2cAACAASURBVB8NeVYhywnKniruYbAwaWY5+qEjMuPMts7Gugmm91lSMsSY7KcqntRq2R76
AQ4ezHB0b8eIx+9z+vRpcuONN4b//973vke2bNkiHQOAbNlST4qKppKUlLmSH0vlsNbxdldW1pDU
1HuNfi4n3OH6RKsakpZ2C0lJmRf6396vK4dXRQ7ZlP2XlcJ5LOFK9LVTP2Ja2l0kK2sSyc29nxQU
UH+/jl9EhJXzptLgj6Shfab+0vPS6CsvqYhUiUn/HsxhnTzUle85eL3fdVz5iRCdH572cb9+cxwV
M48E/ZiiSWiRqh2xZ3C6FyAi0v6CtZC26PeeSzyemRF8yTp/s32R+Fieg/ehXIEJqA9fh3NiyQXB
PZ77peQ9OdFRnFuLhf95+HFKygPE51uscCg5G+sm6PrBedlD/TuNUzxLiEuj79ePrrx+vx9XXXUV
tm7disrKSstxDz/8Fg4d+g+oLIxTpsgc1oR4LAxy69bVo7tbH3HQ2HjCEXe4VfuirH5dXdtCf+v4
dSiYlkjdAa+guVl26WRnT0Fn50J0dfHolPT0hSgoIIK/lWklLJGK+ZjZvamPv6vLj/Z27mtvafHj
/fetkQKA7NeTaQSCMFXbCQTO2ZqItIj0TxEInENqqsinPi/sjrAr9B5JQ3Ya1knRD7JLbEX4Lyf3
sxbvpv165gylPohUUBuwDy+1anG82LVTn28sae6R9hcA2Gr+eXn3hhKkANGizMl5H93djBpbDEE2
RZjJexoiHTObv5FcWLyak0kTZomBLwJ4HayuQCAwEuvWUX9OVdXiUJ8wrTwFVJOnCWZ0DI2DOJYI
oeHH1tBSoKTkHyQaFRMDrArd+7T67ilkax8wuY4SinhXiu3bt5PrrruODB8+nKxfv97yPQBhxeQa
msjSZmKZ5CyK+pVRrssoRxOwxJVJk1ZpWPF0CQ3OUpkzM0tJevrdJDf328TnWxy6tlUrkVdtNenn
EUNb7CJu9Joh1/BEWoa7tH2elXWX9nqRCisz7coaRTHXtoqQikiMnPbHmYuP62CuYGS+r76Orr5P
2PH6YtexJS85gVPryTm1hrV4d3HxAjJwYFmo+DWLENMX/Da3Sa3LHLkPrZpwpdCf5kgr2RpVrQ99
AW/GmMnaMHbsPJKTc6dg4cvtdRJh5ZSBNjd3uvKZXvYkQDyHkbgrmW4AaB8kM3OREm6mPviqULiZ
mTaVh+7ZZ6JZi/iKk8DsTpBL2OkHrH5CUY6O4uIFZMCAaSQn5ztEL4jVtqjX0k9WMdzU5Jai4WVq
acZvaa+Xk2PvGtOXOouOFpmQeIRU9Pdi9ystrRAyXs39aG1bdMJabnP05QSjgZodLi62TDGJRFHs
xN1SXLyAqG48YDbJyblPOsdELxyppKUJ1oLZlRHfh5ma2cTRMzt8Hi9B6dTVEils1W6he9zA31RP
MjLukt7Jl1DQOyET002SVYSTFnEhnJp6X3hAWwWiOc29qKiM5OTcSShvOfve7H90UvvVPoaW/nAf
us56cKrR82cRa2mahKfMvW0XG19PUlNnaD5X+0AVvs4Foaopi7HUzvZUIk9yO23LiSVhPUZ9Xt4n
Osi5GdwfnJs7PWrftZN9J3acOS5eV/c1usXGJKgHDiyT2qDPf6kn6ekPaM8vLl7g8H2J49bZ+7BS
iugXIeaHp89oGuP0J9KeSySyRXVRlRdQ9vM4KS5eID1LIgV9j0TdZGYeRYeGE4n5LK2VdUSK2b2g
vjlKmwrsRVnZNaiqWozaWn/IT5oinK9msLI0dz/OnXsB3d03goZPzgONZTf7Hzs6dJEIDJQbvrCw
n1JPVUdStSR0jFoTlUbbpKbOQ3f3yzDH0Eeupan6q59+ehsOHVL71JomT6mjr3HQB2Js+qsANAHf
sNIi6yJQhg9fhbVrb7Wt8iX7v/XDtLHxBHy+cuzb14rz5/kz7N37CjZsgI0/3RpVYd3Hia7Kkimk
Mzd3BUpKBmtT7xlUDv/jx/uG4uIpTPsJy5ZtwKFDrwqfiHQZMiFfVtb+cBlBpygsLNTW1R08mGe9
0thvdQ7RuRcMfkVzVVqT4oMPuM9cfT7r+6qGk/dhpRRJg8dzGB7PQrS18T00r3c5pkwpDhH7RaIl
B0x7XnLYqv57ne++uroOH3wwCWo48pAhegaARKBHBP311+eGOEQYrHVY+YsVmyQW7yChz27ARx/R
xBfWgWvWvCYU1mUbn6Jwo8kh3d1fAd+U2QST8GMbQi+8wAJ4dVzilFmPbrjyeqqNjX/XJL1QFsGm
pqPCd3wz8vrrF4YZBtXw0JKS0XjhBftamqbBxCHSKABsgBUUfIQhQwrx/vvW8DLG4cGvMwl0cVSv
KcNJ0Xe7giiA+F7nh8rP6Y7SFbGhYOXp7BLE7Ddv2fM6D7kzh3Teq5SZlAWbdSG0FjDR9VdV1Ys4
fFhtM3snKu+LtZi6E6SnB7SfZ2Twz2UOGEZx8jFoHQKTYmEdy2vWzLcUzN65k4XkDkR7ez/Q8ceT
7dT3oaO+CASAkSPnKyHb92H16k2hIiUiXYH+nfftm6tNZGNj3W6DXAfTJnQ0eRzRokcE/RNPlAnF
o9XiD368/XYNBg3KwIABZejs7BKKE0Qu3iHu+j///Gq8884RnD27CkCGcm6V0CI/eAUhq/CbOfMb
2LjxmEDjKyZQAfIi8iqANrS3Z+LIkcMYMeIK7aAYMmQQPB7dIkC/U+uwiti+/YTjWppiERBuaYgD
kS8wN920GgcOfGLpA1rw4bSGGnoTeMKYfWES1o4//alR+0xO6oA2NXWHaoyq/W8qYsNg5fqJFOVi
1SI5L9Jnn7Wivb0Thw9nY/r0T3DNNZtw993FEkfMsmWThEQvMSN3v1awWbNVGZwVkHnhhXoQIlpi
rPar82tERifUfgdWAuCCnnPA7AONjBEzTU2KhXofP/7613Sp2tnBg6uwfn2poP2+BVoMhl4rNXUv
Zs78poZ4zIq8vCukzPjaWn+oHixAx/ErynOuhsdzGCNH9sPatbR4C5dfFKJgjjYBz2mUWiLRI4Le
HPbF0q43hRNgvN55yM1lKd1qdhtFR8dPjZXhJ06sQn39raBp0mrVJ35P2WUjC78dO5qUyUcTqDIy
puC660aEtHYrN3xrK3D48CwhJZ2CWQgvvdQElT3T4zmCEyf62VaVcaoxWLVDamnk5p7DqVPMPSS3
6Y9/3C20id1/JfLz88L9CtB3t3PnWZw5w4SZdXEoKtJpqaLGZN92K13EDZC1W0rYlZHRjbQ0llCi
N6sBj+FzM2h4Kc9gnDLla3jppd04ezYH9D0/GcpG9WPv3n+TQmpZKTurYlKlvZfZ7Hf2roPBLFjZ
OJlikqKeHr5GJEZSEX37DgHV1q0ZzwxcyKWAs4qqz0Ct8fPnz+DIER1tQp2UDQ/wxdBKn0Lb2t1t
tVAiUV8wyO4m9uyvAZiBjIwuXHllKvr1G4C8vMvCIZaskLxOMMciuGMNr40VPUZTLAti9qlViDc3
vwyfbz7GjFmNxsaT2L+/NURfK0PUTqz0BlWhb0ROFbZyM4ZLP6gpmAKq3feBx3MGJSWTsH37CeE8
vgj84z9WYfv2KpSWVqCujrJwqmb26dOvweebj8LC+Th8uBW0RFwuNm8+I5RK47HzgYDMj6N7+U41
Bqt2OD7k2ngd3d2cCjk1tQnB4GC88MJBBAI3IdJkZu+OPrfeOgCAIUNWa9oR2QVipRVmdBFqPv8g
AD/H+fPA+fNsARGL2PAJHgy2WhZPk5Dj958dPr+jYz9On96J5uarQmeL77lOEvIAzxSVXROili3D
bPaLwrsOdA+nCR9+ODjMMTN58niF/6YGVMjXgVIBNIGOMZnuu3///Ij8PCJkxkYmOOskwcnOozQY
umdgi54fbW3nobPO7Pbw9PQp/HsRkagv5LwaMcOdjuPMzEX4wQ9GY+PGYwLXErcu7KzunhbcUSNh
27oGqLeQd6gj76RHqgxvjTyoITQTTrfjXk94yb96Asy07H57vcsd3ZNGGujbr4tVliMToo+zdhIS
d/XV8zXXVSN31DDT6KJneHEWc1EHfXgkDXPUtV0eE2Kkky42XYxqYdFYKsshizKJHALH452tUSo0
GqlS857N45aH/NrnZ9i1Kz//vlBBE/MzVVbWCBE2C5R76TNO8/LMhXB0kT5y6KE8RyJHNqnFecxh
zHbzzZr5bT9GI81dua1yH/l85Y5zPaKB0ygqFYkUz4m7kukGSmOjTWSJFHutp2mtCQ2yewjwXelc
Pmjs6XIjxXvT+7IJxZOSzBMq0gJnrY8ZDbZsqSepqbqEKPFeusQxfY6CXUifz1dOcnImS4ljouCK
Nn5aX3GpngB3C22r1LS1nqSk3Eeuvvo7JCNDnwzmJASOhrvp2myq6uUk3NZ5FS91Eedj2n5+VFbW
kIEDywgPF7YLEzSH0eqTqFaGEol0ytIqUlAw20ChwY+VlRtdm3TUDdb5Zg2ZlJMZxTkTiaLa2laZ
Ylxfu9YcVutkXkZKGjMhkYK+R1w3ato883c1Np50TOEp1m5kVAmrV7+KDz4QfX514OYiN59TU6ei
uPjqUD1HxgRoJg3Ky7sCa9feautze+KJMsyc+RxOn/4cYsWjlJQH0N6uo0sWmTnNUTzMreUkRV9E
dXUdursLYd08E10HbfJJYJtcnHkyK2s/HnvMHIZnZ6JGqkVr2pzSV1waD/oOWdsOQN5zoccQMh7X
XbcaQ4emaTas/eHasnLVH+7i2bXrAILBAIDRmpZNQkZGDc6fz1WeZxLS0mTaC/H5qJtNHF/2dA+R
mURlMJdFVdViVFUtxujRy0MbnHZsjHXo7i5SPqP98NFHzQgGra6oNWvm48iRgHI8C6R4EXV19fif
//kYOTnPYcWKb2L9+lKsWcNdlsFgq+CScUbdoJtvuipY1rqs4j6J/j4MYlQX3QTmFONZWWURzzdB
5xqMJeosKUjYkmEAANvVzC7LT6f5WLMXVU3ZmZUgJ0o40zxV6M1Ee0uBaZCyhuKszSYyskmTVoWy
P3Umu6gNscQP0QqZR1JT74iJlEpFrLVozWRc6t9OktvYsWravq7YDP3xeKbbvjOdBVNZWWN0pemt
Gr0mbN+P+oxx9RrW43WZ6LOJuW/1FgClvNC51UQ3F21TSsoMcvnldysZ6GICV2KzhZ0ThtEiJs6z
h+u11kN0lBtc1uktBNl6NxEXJlI899hmLIO6monhkZE2injsK4O6qeJs42by5PF45RWESr3Jmmd+
/kycONEPEydWWaIS1BU7GNRFdphrS65dO0u6FtNQ9u49qg27ZG029c277+4TtJoKcA1dDnl87LEx
2LlzNd55pxVnz7JEMX5Mevp8PPqoPoHJbgNT/dwJaZkY/tncfBqFhYUYPDgnHDet5hKIf+/Zcwat
rYAuquLRR2eFNGlm0cl1dGXSK1nDCgSGwxQuKr4zp2DjyxxSbG+x8c13cePSfI2bby4MlSYUCckA
kUCQkFw0NIiRUgdAY90Bvba9KWR9irHw7P3Wgwc00DYR4sdnn9WAFyoJXTkYRHr6PcjLy0dBQSfy
82UK8WjGnAi7UMopUwbhhRfKEAxmoavrBDo7i9DQ8ELoCD+2bWNEgVWaK9CcF5bX4jT00aS5Dxig
WggvAmgQrHc//vAHawRXwpGwJcMAKBq9yd8VaRNky5b6kOalas+i9iiWEIusHTOiMkYLXFRUZtFI
GDmajuRKv0lk3ugxIdKzm76XtUZx84/eNytrmkTnSvvQvCGnIlqyKucb57Fz1/DNQSttraxJ67VU
fVp+PcnIKJf6TqXCjWVDzcy/Yu5z9VyZYEx/DZlYbwGhltsjkiVlfZeV0vNb9z5mKN9XEG4Rfkcz
1tUSf7G/Yyc+becavd3+ij11AZMRAwZwgkRT+52RyNUTum9oao/chkSK58RdyXQDWAW9Tujqiae4
iZObewexbphZ67ampf3fCu+9M6Y9K9ucqWasfH/VzOO1LvX314EKsOXSc3g83yFFRTQigfeNvPGb
na1urumjW0QhZWXOoz/q4mu3qWr6vKjofluz1wl3UCRwoaZnMrQSYsl9pt8orycezwNEXJjz8+8L
m/tFRVNDUTDWMeNkAXCyQRgJdoLEaa1l0U2qdy1VkIKC2TZuzXqSlnY/4aR8al87E6J2cBr1YtpQ
tRKGVUrHAKKcMTPWRquQ2LW7srKGDBgwjaSl3U2AbxvaR6R20jkPx+MjEnrcdSNuWtkn1qgblNNB
a0OKpul4AM+hqGg6mpoK0NHxU3R10XMZJQHlU+eml93miGwOqjH+IocOdxtcdtkpXH+9uFGchUDg
LM6fL0NhIb8/YN2Uls3BM5Dj6/04dIi5YSpgTcQBOjruU/pMrsRk7eMXAeyGDq2tx8LtY3wrMg8I
B03WUeFHU9Nl6OiYARO/yvHjjMvAzB2kc5mJoNmnOj4hWjO2Tx8S+qQQwDQA10jHdndPtyS00dj3
X0ttOX26OxRLzWLhZ4K+h5MATuPgwUJMn/5j5OZep+WlAaDkdvBrs/Gzb99+baKcznVhSgb69NPP
0NEx0tKXIsWIWDdAdKHJ2Z7jMXz4m1i/fh6efnpbKOlQdmVlZLwAQgIA7gCthsYqtOnqHceWnWvH
G6P2T2bm58jMvAWdnUUg5GV0dAAdHVXKmUHIc0eUM9yVVVDwKW666SosXXq7ICMqQIMBWGW4IA4e
LMXzz2+1vDO7KlM0y34TgIWgla7U9jHIdRNo3k9i0ENRN3p/l31ijTqZ+0CXjZmT04URI0bg0CHR
H0sThZqaatC///VhvpbJk8fbDiQ5+kOXsWgVtidPLsKLL94WKnfYjPb2slDbB+Pcuf2YOnUCALWU
oeyjra6uCyVTiTwnauFylujF0d29XCFUs+P/eBGUIO5RqBPY652LpqZ87NnD7s3aoc9qpck6IvwA
atDRIRZx9qO9PYjq6j9hx44m3HxzIT7+mBV3YX3JBFYjgL6Ooo7MCTQqydxAAJdBXRDOnv0Vrr2W
JuSxMUnLRIpHiX1fByAfPDqJ1msFgLa2CrS1/Uh6loMHU7BsWTVSUq7VlK78tnCdOpw6dT0eeKAG
jz22D1VViwGY92NmzrxCmwzU2TkL8txxth9gF+lC54t1rmVmBtDa6gNVuF4EUAugHLzQvboHYEWk
6JVIWeDW5LoayImRugQ0ce6ocoYvcKxPHn+c1Z49CXW+A/Pwzjt/tygkpv6UZdxp0DGpFrtnJUSt
CkzCkDDbwAC7W9gl1sil+AjhMeCyKV5UVKYU3xCTaSK5Z/g5tHSf6IePlADCf3y+8pC/Xu9SMPmu
WYIGd82I/aE+kzkG2i6RiveN6s+nboqMjLs07RPvbWfaisdUKteXzeqUlLuFz9XkpOiStqx7I2oi
GOPeV9tEx01BgRwFZE9RXCn0ne44ax+lpJj5xu3cTvq28L4wR3mJ71S/H0Aj2uaRgoKycJlK5/TH
9L3TCBLdvCi3FOxw4sI0JWnZxdRbk+t0MkQXVaWXM7qIKT6+7FzFslxxJuMeCV1jLhHdhCkppcTn
W6xxX8N43WjR464bEXZFoAkhSqHjMgCzAFwFcdU7d25FqICwap7pGQBlE0vWflpaKNdOURElsjp3
bi4I+UW4benpNaEC5zIOH25Fe/v1MLkUjhyZo3l6kciJac5qPLkfwO9BIxmWaK4RmRCN97HobmER
MX50dzfg0CGVHlIsfQgw6oSMjCZkZ4/Ajh1N4SgZzl0kav8i6RuLyqiCnLIvWidaekqtmT958ng8
9tg+rFsnWjKbQtfkz0dIHaz8RvTdtLTIlBNWs1t9D4Whv3VWnvWdE6KLyR+P7Oxf4MwZs9spksXJ
SdPYM1GKhJSUeSDkZdD+rdKc7cf773+B8+dHgPEytbQA5eUrJDpnBjvt1Mp0Oh5ZWf8Wjuzixz+o
vYbsOrJaLuvXl9ryysj9Q90paj8DwMCB01FcfB0yM7tw4kR/hT0XAAhSUwkIIdKncmnOQuUc67uL
FBMvy7gc8DnAKYnHjr0Su3fXhChGtJeJHwlbMgywu4Xd6q3LhjNFjHCNWqeR8R+2OWUfDcE2WK0r
r+n+1PowF0fQ30e38atqwvcIf9vTDkTuYzvtRG2Leq96kpa2QKvJyNaUGpdt2pyrVO7nPJNWFw1h
iqQBphK7ykGmYt0+X7myOW7S6E2x/XZRUpVEl00tF6HXt9VakEMcs7Qv9Bvl5tyOaFL75agpfWSX
U8RaLtKq0UfO7DbnaVi1cnk8q32pjlu9hajvM3Fu8XevFr2XrSBE3a8mXFCN3qQ5ALAUEMjK2o9B
gwaFWS5F5OVdgUGDUoTv7P18eoI1hrqQplgB2fcHBAJ+rU+c8lUzX6AVw4bloX9/eaNGJnLiq3x2
9gfIzp6OnJx0fPJJarhNvOCxSCXcFjG+lxdz+AiHDolEV+oeANPSdPfaj64uPdUu3/zU+WfF4SXe
Qy00Y82kFSmPAaoBrl79Kvbvz5CYDvPzVyEzs1ugtmYYj5ycdbj22hPYu/eM1hKzK9Yt5jkcPdqF
xsYFCARmQtVmPZ5nhGLb/Fl142TmzAl46qktCATOQ66V8DL27DmD2lp/RAI7zhSpkteNR2Hhajz1
1BILpS4da8OsHYDoqIv5fN0qzNclMWV4Wi0XanWdOrXJdp9G7h9nmd1m9lx2H66Vcw2cnS++b2cW
ogjx3o2NJ3DgQCoCAX3Re4oz4PMugYh1hfj1r39NbrjhBpKamkp2795tPC6WWziLG7fT6J1l4env
U0msqzf/0fnE+aptLt9m5jOxalj8emW2bYmWf4Nxo/TrN4dkZKhaMNXS0tJ01od6fx4Cpssv4P5Z
nQZcQXJy7hastUrpO2Y9iWXVeH/oxwUNvbWWZvP5yoUwUasWHa02K8a1jxr1SDh0TmeVmjJneYlH
s2bJ+IR0/vQtW+o1+1fyeNCPtcSTdcWDeMpFiuUoaeayfWlKEZFCXa1eBm4tcUsvOaGj1u97gUY/
atQo/O53v8PChQsTt+qEYPJTer35yM+3ajuEeAS/GudVFzludNltOu0pK2t/iNpXbxX06dMNQggA
hH+Lmk5jI8Fnn03H4MGDLfdVNUZV8/J65+LEiSzMmvViSOsoByLwi0cDxo1SW+vHnDk1Spk46rfP
zy/TlI8zh4A1NNB9DZ9PzHh8EIBa+YveY/jwNzFzZik2b96DI0dm4MyZL0I01HrKY0CMHKrSPtfV
V1+JY8f24/TpMtC9iHbk55/HlCnfDHHvTAAvikGRnr4IJSU6X7oeYgY3C30kJIhx40Zi3LiRjrnI
r7yyKFTi0ezvXbr0Npw5MwgtLdT6UjXGcePqtL5c1WJlqK31a7PAvd7lWLpUDdHtGTgtF9nRkRZT
OUoT6H6eFWLfAaqXYYm0tyBTMstttUOk0FHT94lAzFe+7rrrEtkOCaYQqyFDBmHp0tu09VGt4WDH
kJVF0L9/PxBCr6eLT1Y3fjjpmZU32xqGKJuX0Qw6HVlbU1M+GhqeARdos0FjaVMBPASAuyxiLT0W
iXhs5kz2/OJzNwFgsef6GgJjxqyWqviwZxRdIK2tx3D6dCt+8pMWdHRsAF001Oo+VgHEJ4B58c3M
HAox/T4zcwU2b/5AKBf3M+mcYPBnUZfWs9tAtNsQl9vKnsE86SMRYVHedTkXwE5oT548Hhs20IWX
Vt6ihVXWri27YBzq6vjft29/SMGw0lskihisttaP48c7EGm82c1lJwutCZFCR03fJwIX1Edvgp2f
UvcSeF1THk0CvIWzZ38e9vft3TsPQD9LcotuklKmvK1obPxc0s5PnMgKCWII14idiU58ltLSCmEB
Uf2EW0GjXmiFK5OF4gTWSUMXxoEDP8TMmeOxY0cTMjM/x4ABYsLXgwBYlanGUDKHDJM2o3IZHTp0
OeRcgch7D3wC6IuYEOKR3isANDc/g87OOaH/9MlujY167c6ERAgcuSKTFXJBdhlyH4u+3C4AX9je
Vzdvamv9EZL4kgs1gau8XF805Px551FZJnArlnH0RLfXJSLa0oHs/idPNgsMttbzdNdNGOz8Ot/8
5jfJyJEjLT+bN28OHzNx4sSIPvrKykry7W8/SIYP/wYZM2aOI64Q1c/onP3Q5O+L30eZiFR2Z9dO
DNMf5ROXY6dNfNt2nOQiYi3MwM8Tn9NZf1ojFypIZubsMA++/r3Uk/R0lqpvis5YGFWfJur9Mx88
ZYe0vuNYuY+cjmU2Lqz3N8eEx8L1E+25pn2raOsb6O5Px49+7I8a9YjjZxGvGZt8so5fhj/+8Y8h
OTmeXH31hIT66OO+khNBH4moKJ5BxCB2vH6zKv5JmozqM+Zrc+6RWOiDZQIwfl2PR0+O5XQyRUpo
McHKQRPd4ms3sfR9t1L5HZ+wsN6HFbeZQ9LT7wqHGJqSgEwU07pnitTH8Sw4+o1tvlE9YMA0y7u0
26CMNF+dkpTZPZdeCXGm+MicTfoxMHBgmfHdJQKxyo1eJ+j//Oc/m28A2D6oNXZUX6pMB9OL0d8v
kXHE0Q+4nr427QNnRGw861E/yXSCy6k2I7dHFMLq37E/s71FRzM3aUx9fAu9XXRVevpCMmPGYxou
9LmaDFFnLI7OFzbzoqy+O36uWvKQC3xWbUk/n6LLDo1GyEWSE9GOOf6+2AKywNJ24HFSXLwgqcpo
rAtzrxD0//mf/0mGDBlCMjMzyeWXX05uv/12/Q0A2wc10wMstr2/3YvRfRcLq6TpvtEOuAtxbdrn
euF99dXfCYcKsqQjvUYvLgp6IcDaHWkSmMzXoqKyqMLjnPSdbNGJdVTjW+jZfbhLiEh9w1kddQqG
HN5pR1vtpA2RlALT/KALumjhiNQieq1d7s/orDC9da0vm5kcZUdss64wT72SjKZfZGJVRuV2RLcw
9wpB7/gGgKLNyYPdFBNcUDDb9rpO+Ot18e7JEtK9DbR/zKaqzhzn1YDoD89NsI/5dmqa91T/USmt
AgAAGMVJREFU64uNJ67CkcxJEqlSU6X23pmZi+J6/kh9aZ+LwgTeXMIze51SdJuVNrV9+twHe4sg
Wt+3nYJhzdo2j4FkKKPWvohuYf7SCXqTv9jrXW4sqFBQMN32usncGL0YsGVLPcnIuNvS58xUNaWg
DxxYFp5k3J3jJC3fXlvp6Wfnk6ZSej6mzRUUTI95L0jW6CPtOSSGfiBaOOOvFxOpKm2ew0SXYX4W
Pi5iJ7CzgxMFQ1/acgHJyLgrnPBm7+4lIaqU2JRRtb3RL8yJE889El45efJ4DB68Cc3Navz1M8jN
vRNqyBywEsOG5dpeM1JMqh2clCr7smPy5PEYOXITGhpYevgJUJrUQjQ3n0ZqarbmrPEoLt6G7dur
ANCQT7notAxreBsn2vrDH5owevRyDB6cc0H6t2/fz1BQMAOtrecE+oP/0965x0ZV7Xv829p4KIKl
FrEgQmtb+0LaorQ8QhmVtnI5FQPhIh4bTevjcrX4wGMUSlr02gQIB6sRz41XNDFBxD+MppVHlUwH
I7RF0QOlVBHRIpZTikKhLfJY949hZs+e/Zj9WHtmz8zvk/AH09mz11p7r9/6rd/6PYSgrMLCVYol
EQMVP790yZOP/Z9QTvPgJjn5BE6fvuiTJkFcmFwuHz0P1GJRrr329NUkXzdCKHvp6+7p/7zd7UtM
XIJx467H0aPqqbEB39iHE3AXXvcEsw3ItkuPqyQg5+rqwo8/xqCi4h1MnboTy5aV+rkrup99WtoK
NDT8TTZ40p0Geiw87rfJySdQXf0IKio2KrRCkvtCkUBxNlYGSwFB9KMXZ94TmDjxFvT19aCnR/Br
TU7uwcsvP6L6e0Z8WQHloBdAvn5nOPPKK4uv9lWcR72vDxgYCFztPpDPd3//r/j5Z4//tifT5v0A
duDSpf/FgQMuHDiwEy7XO8jO/hCvvGI+QCeQYBae7/952+XOBS8VTHrfBbFw2Qh3MZx+n/7vBHAK
wGKMGBGLmTPTUV39CFat+vCqYNWeI8UsgeaHOyo7BkKsxvsQgvLkFoliFBY2Y/v2V1BXt9FbkzUu
blBUXMaDsND0AmAQspXK1zjQG+UtFozyOfgDZcKUkgBx1lt3HpqUlBH4/Xf9yqgerAyWAsBxb6CA
5xa8T9QZM2bztaOpwUrE7mXi7biWaveNjfI+38Lhtmdb77FjqtnEVyhWvNfaF33bdbFJyr/+p9T2
KtQmULf5+n6/kslnFn1WZHdWtlcr388savND/rm6D2AnTvyb4ruh9UxG+J6WnO76z0rkz2GMz2m1
c0TB9Cwc4vpmneRBRNjoGbPWNVEPwbDtW+WPaxQ1e62egy/lpGwtDPAkSfPcS6trZ2BXQw9aFmk9
vtjiWquB3QaVE3GpF0X3jJ+8N5CxseCF0mKg9LkeRamxscWnRrGvAK1iw4bdZ+pQXvkcxticdr83
yofmnvHQWizcCP5jHpaCnrHgeV0ooazd8tPo9XihBAsrdjFSgerJeil3uMdH89KySGvPfOofRKUt
Z7342dYy5b5KBQ1vLdQKtHuyaBOq7j7LVX1a5C2+bjZIUr7egxGNPrAnX6C5zVPJC1tBH0qEh8TP
zU4OK4Sq2ZentvZNietkXNzjhgpGeNoinVxVTOzCppYC2lfYutMda+mXlrFV2jmKA8Lk3O20CTBf
ZUVYPLT7SfPUQnkTSJAZUZQaG5VKP/JThnhYCxobW/x2eNJnolaGtLR0pULKauP9IkFvAHlXq1qv
TzkveJuGeOwQBK1KGihivC3SAJvY2EXM48IG/Adz266FdgeuGaDeL60TWm7nqKxNq9da9V9EfBdc
YWJrVx54aqG8CXSOZlRRkkZd84lS938WZq0FajUiGAucj0q6oJl7pjxlpy2zV1qB+JRecLPLza3j
6vFgxu1TDjMZEz0eKl9+eRT++d4BYGhol4m2CGmhExN/QWHhBEyb5sDevb9haGgshg0bg2nTxorq
iAopoD2VrPT1S6kimVxVH7nfELxQ5N4Fl2pmQSUPHXftXGmmUyXvDnE2T/1eY1aili9dLetpQ8N/
q76LY8ded9VN14NWd1151NJFm5nLbi815WcinttytX+zZX9Xr+uoFUSNoOctgJXQ4vapx3c7ULEC
JYTJUAalEofmXNoAj5CcPLlOkovev4/V1aVXc3m7DKU79qA377/vdYBvOTn/bxQjJ+d93Hij/CKi
tODu3btKcy56pfZoc/2zlqYmFw4e7JT9mzR1sj5FSb34uvg+WuCVn94f/7J/PT1/YPjwcd406OJ+
yM3L4MgYQ3DbGygQhFtoIpheP4Hc2vSYYsynBdZWQDlQf+Tt8lps0fJ9DKWbq5F3IZIjsbWYZXik
RvbMCXHxdf1z0epnIR4Pt6eQpwi6uulNm8uy2n3DOteNXQi11w9j+gWc0QVKmAy13pdQqSarGup2
eT21eLUdmhqdFHqvy819nI0YMZeNGLFQUpdVDiPPzU4utmpoOb/irSiZmYtWKwlKnkK+9QuUxsPo
WYHVfvRRYboRmxEY/v53/bUmeaHXFGN0iy+YqnyrVflWbXpMU3WhQHZ5ubZo6aMZ04XR6GbxdfJR
qu3tB7FnzwnJuOiJxA636Gst51e8TU1GTXCA8ah4rbjHQ84G/0+veYj3eMiZo3gS8YLebpPOyFmB
kUkhTAb9tW89NDW50N7e7ffLnr9v9B7S+V+n1Mf+/l8li4sR+7ZRG634OrnD4DKsXbtZlMfFf1y0
TGyrbMhW5WjS+k6aEc48sfp8wz0e2pQV31KIr7++E+vW7TL0bKzOdRPxphu7pTwIxVlBbu7jbPTo
xd6MfYHcyMTt1JdmVqmP4noAyrnttWDURiu+rpaJozVXMi0Rrsbapy9ewJ/GRv2l//T+vh2i1u2C
vO+/+zkmJf2nxjz6Rlyg/e9HphvNGPVasQre2oialqekgTkcdbK/5TsmglbqgnhHENgtUq6PQmF1
wWQyNATs368/sZdRDyrxdcfha7px87DsdXrfFfF9hP6eOSMk3AK09VfYkSZDnHCLzy7Btx128QAK
NfPmFeOFFw5i7VrfLJ0uxMVtRl/fh2hpcX/ieY48XKB//bUX8fHirKBc4bZkKAAgpAdSdtPoeWJU
k9CfM0Y4oIuLWyR7rXZtOnQlHcXXyWnvxtvme/haUFDls3sx11/5ourax50wjnwUtPQ5Gt1hSt9j
oaoX71w3QdHoW1rqAJi3jRuxUVp9cBNKjGoSWsZErJUKB3QJCYvR1yf9Te3atPkdllEN1Pe6vXvP
y/jxl6oGTSkhdw6UnFyFKVOexI8/yt1He3+FHamNfbQ5Y5d6Eb7BbRUVP8l+Z2joGsM7TOn8Lcbg
YDHGjXPHZsTE/I/itXoJqunGzFbT6KFqJG9LjZqltIyJ0mLw0EO+0a3C54GE4fTp47B7939hcHC0
7N/1CiwzgVPz5hWjrKwGO3f6/1U9aEoJuQW3p+cd5OWtwujRiTL30d5fQYhIi5pEisLii92cJzzt
+f33W2T/7n5HfB0f3EVl4uM7ccMNKaqebdKc+uKCNFwxuhV4/vnnWVZWFisoKGBPP/00GxgYkP0e
AC5bzUg2wRjF6jHRm8JW7XeEAJRHGeB/qBj8gz+eB5BqW3ce8QJyRdWnTNF/iB0OaKkFHcz4BHGe
euXnWFv7pl+wlLQGs3LQoLyDgwnxLMGwRl9aWoo1a9YAAJ544gls3rwZVVVVAa8zutW026GqHbDa
LKWkNet1K5P64rsQyBdfD0a2+np2eoF+X23rbnZHKb0eqK6u8poUtMRCaOmDXVCb56HQ9oX2CDEk
wDVITOxCQ8NS73337Dnhd5C6U1TVzN1WsUVDXMFNaoIF6vl1hMdq8dFHH7GKigrZv8FHozejuZFG
L08oo321HgZbGbLOw7XN7O+Hwj1RT7+tHiOeqM3zUMgArfeUvuPa3vnGRv+CNL7/+Gn0XH6ptLSU
bd26Vf4GABchpHZCHcoQ83AKdeeN1klg5QQNTjh84N8P9oKrp9888tQE6x1XWzRDkW9I6yKuXH3M
+PPhKehVTTclJSXo6emRfF5fX4/y8nIAwMsvv4yRI0di0aJFir/jcADANWhv34XrrrsCh/sDXfhn
ljt6NAaDgx/iwAHgwIHQHNgE2kqGy3bZKFrNaVaamKw26Wn9/WBHjerpt5kxstJcojY/5Exdnihs
f6z0PFJqDwCR2Wz69HF+73ipYlF6f4T5UQLACQBITPxCJsOqcVQFfXNzs+rF7733Hnbs2IEvvvhC
9Xt1dXW6GyaHr8dER4c1wSN6UHNvBGAr7wEr0BM6D1jj+WR1+ulgpbdWQ04g6mmXmT5Ymc5BbX7I
/XaoXKX926Nem8C3/sJk0f/VahQAwBtvNPt891X89a+z+XXC6FZg27ZtLCcnh506dUr1eyZuoYje
LZxVW0+1dshvx+RDqMMVKzIa6n1OVtvHQ50eQMm+Ll+2TrmqldE+WGUuMWpOsnsGWp6yhqfsNOx1
U11djT///BNz5swBAEyfPh0bN27ktPyoo0dDsXLrqdYOcaEGwBMKLxdCHa4aPk9N3a5xEqGOw1Ar
eNLQUKapXWb6YNWORt6c5EJb2w9wOOoUTZ12SKwmtF3wfQcuobOzC08/fcWeu3huS4YCVtxCj4Zi
5WGdWjvMHM5EI+RVJU+oC55YtaORL7QdTp5B0vbGxt7P9R3mKTvDMqmZHg3FysO6QO0Q2xMpDkAN
ipOQJ9RnBFbtaKT2dv01hEPFsmWl2L37TQwOfij6/MqVPNnv2+EdDktBD2jfwlk9UdSCigBhghw8
2GkoR0y0EGqBZlfskKvJCnOJ//z417+6Zb1M7CAk/Zk3rxjp6R/7FTwHbJ2PiNveQIEg3EKVUB+m
2a0ddiXY4xMO8Q++ZQ+TkoSshnZsq1nCzXSn5GxhpmasPzxlZ9hq9FoJ9WGa3dphV4I5PnZLnCWH
XBtHjVqJ6uoSW7WRV5yIHXYuepBv73Y89JA2l8pgE3N15bDuBjExULtFpAcVEfbDnblSmgK2rGyV
odKGVmD3NsotRGlpK9HQUGYqDbnYl9w+i5ocVrc3kOzUQ0g1+mBqVrSgEB7C4eDX7m20IpDKDq6T
egin9oZU0FsVdeePnbfqtAAFn3A4+LWijTzfNbsvRISYkAr6YL0swVpQ9MJzAaIFQzvhYA/m3Ube
yk44LJYAzQsPIRX0wXpZ7Kp98FqA7LxjsSPhcDDOu428lZ1wWCxpXgiEVNAH62Wxq/bBawGy647F
zoSDfZVnG3krO+GwWNK8EAipoFd7WaLBdYvXAmTXHQthH6xQduy+WNK8EAi5H73cy8J7y2VX7YPX
AmTXHQthH+yq7FgJzQuBkPvRy2F3H2Ke8PDFlfdpXoGGhtAvZoR9CDc/dbOE+7yIGD96JaJpy8Vj
+2vXHQthL+xuauENzQuBoAp6rXZ32nLpJ9omMUFogeaFm6AJej12dzl7YnJyJf7973jVogQEQRCE
lKAJej2uTv5brv7+X3HixCjs3/8Pn2uj0x82nKBgFYKwB0ET9Hrt7r5brrKyGnzzTeiLgRPaoWAV
ghAItdITNEFvxu4eTYezkQIFqxCEGzsoPbFGL1y1ahXy8vKQn5+PiooK9MmVT/Jh2bJSpKWtFH3m
9uMtCXgvOpwNP2hxJgg3ykpPc9DaYFjQv/DCC/juu+/w7bffIiMjAw0NDarfnzevGA0NZSgrW4XZ
s+tQVrZKsz+rmUVCK01NLpSV1cDhqENZWQ2amlzcfjsaocWZINzYQekxbLoZOXIkAODSpUs4f/48
EhISAl5j1NXJan9YO2ytIo1ojMQkpITaNm0HbKH0mKlDuGLFCpaUlMRmzJjBLly4IPsdk7cICuFW
rzJcaGxsYWVlNWz27NqIrXVKKCNfB3hF1L0HRush85SdqikQSkpK0NPTI/m8vr4e5eXlAICBgQGs
XOnWfjds2CD5bkxMDGpra73/dzgccDgc5lYnzjgcdWhpqZN8Pnt2HZxO6ecEQQQmmlKZBEJL+gmn
0wmn0+n9/+rVq4OTAqG5OfBhwfDhw1FZWYnHHntM8Tt1dXW6GxZMbLG1IogIww62abugxWztrwSv
Xr2a2/0NH8b+8MMPANw2+g8++AALFizg1qhgE4zDXoKINkiBsg+GD2NfeukldHV1IT4+Hg6HQ1Wj
tzuU/Igg+EMH8vbBlmmKCYKIDKItNTJPeMpOEvQEQRA2hKfsNGyjJwiCIMIDEvQEQRARDgl6giCI
CIcEPUEQRIRDgp4gCCLCIUFPEAQR4ZCgJwiCiHBI0BMEQUQ4JOgJgiAiHBL0BEEQEQ4JeoIgiAiH
BD1BEESEQ4KeIAgiwiFBTxAEEeGQoCcIgohwSNATBEFEOCToCYIgIhwS9ARBEBGOaUG/fv16xMbG
4vTp0zzaE9E4nc5QN8E20FgI0FgI0FhYgylB393djebmZkycOJFXeyIaeokFaCwEaCwEaCyswZSg
f+6557B27VpebSEIgiAswLCg/+STTzB+/HhMnjyZZ3sIgiAIzsQwxpjSH0tKStDT0yP5/NVXX0V9
fT127tyJ66+/Hqmpqdi3bx+SkpKkN4iJ4dtigiCIKEFFPOtCVdArcfDgQdxzzz0YPnw4AOD48eO4
+eab0dbWhjFjxnBpGEEQBMEHQ4Len9TUVHz99de44YYbeLSJIAiC4AgXP3oyzxAEQdgXLoL+6NGj
Em3e5XIhOzsbGRkZeOONN3jcxtZ0d3fjrrvuQm5uLhwOBzZv3gwA6O/vx/z58zFhwgTcf//9OHfu
nPea119/HRkZGcjJycGXX34ZqqZbxuXLl1FQUIDy8nIA0TsW58+fx8MPP4zbbrsNOTk5aG1tjdqx
ePvttzFjxgzccccdeOaZZwBEz3tRWVmJm266Cbfffrv3MyN97+zsxJQpU3Drrbdi5cqV2m7OLCI/
P5+1tLSwY8eOsczMTNbb22vVrWzBb7/9xvbv388YY6y3t5elpqays2fPsjVr1rCnnnqKDQ0NsSef
fJKtW7eOMcbYyZMnWWZmJvv555+Z0+lkBQUFoWy+Jaxfv549+OCDrLy8nDHGonYsli9fzmpqatjg
4CC7ePEi++OPP6JyLPr6+lhKSgo7d+4cu3z5Mps7dy7bvn171IyFy+Vi33zzDZs0aZL3MyN9nzt3
LtuyZQs7deoUmzlzJmtvbw94b0tSIJw5cwYAUFxcjIkTJ6K0tBStra1W3Mo2JCcnIz8/HwAwevRo
5Obmor29HW1tbaiqqsJf/vIXVFZWesehtbUV9957LyZMmIDZs2eDMYb+/v5QdoErx48fx2effYZH
H33U6zkQrWPx+eefY8WKFRg2bBji4uKQkJAQlWMRHx8PxhjOnDmDwcFBDAwMYNSoUVEzFrNmzUJi
YqLoMz1992j7XV1dWLx4MZKSkrBgwQJNstUSQd/e3o6srCzv/3NycrB3714rbmVLjhw5go6ODhQW
ForGIisrC21tbQDcDzI7O9t7TWZmpvdvkcCzzz6LdevWITZWeMWicSyOHz+OoaEhLF26FEVFRViz
Zg0GBwejcizi4+Px1ltvISUlBcnJyZg5cyaKioqiciw86Ol7a2srjhw5IvJs1CpbKakZZ/r7+7F4
8WJs2LABI0aM0OUHGymH2o2NjRgzZgwKCgpE/Y/GsRgaGsL333+PhQsXwul0oqOjA1u3bo3Ksejt
7cXSpUtx6NAhHDt2DHv27EFjY2NUjoUHs33Xer0lgn7q1Kk4fPiw9/8dHR2YNm2aFbeyFRcvXsTC
hQtRUVGB+fPnA3CPRWdnJwD3IcrUqVMBAEVFRTh06JD32sOHD3v/Fu589dVX+PTTT5GamoolS5Zg
165dqKioiMqxSE9PR2ZmJsrLyxEfH48lS5Zg+/btUTkWbW1tmDZtGtLT05GUlIRFixZh9+7dUTkW
HvT2PT09HSdPnvR+fujQIU2y1RJBn5CQAMDteXPs2DE0NzejqKjIilvZBsYYqqqqMGnSJK83AeB+
YJs2bcLg4CA2bdrkfSiFhYXYsWMHfvnlFzidTsTGxmLkyJGhaj5X6uvr0d3djZ9++glbtmzB3Xff
jffffz8qxwIAMjIy0NraiitXrqCpqQlz5syJyrGYNWsW9u3bh9OnT+PChQvYtm0bSktLo3IsPBjp
e1ZWFrZs2YJTp07h448/1iZbORwmy+J0OllWVhZLS0tjDQ0NVt3GNuzevZvFxMSwvLw8lp+fz/Lz
89m2bdvY2bNn2X333cduueUWNn/+fNbf3++95rXXXmNpaWksOzubuVyuELbeOpxOp9frJlrHoqur
ixUVFbG8vDy2fPlydu7cuagdi3fffZcVFxezO++8k9XU1LDLly9HzVg88MADbOzYsezaa69l48eP
Z5s2bTLU946ODlZQUMBSUlLYiy++qOneXCJjCYIgCPtCh7EEQRARDgl6giCICIcEPUEQRIRDgp4g
CCLCIUFPEAQR4ZCgJwiCiHD+H74WLtRMo/qRAAAAAElFTkSuQmCC
"></img>
</div>
</div>
<div class="hbox output_area">
<div class="prompt output_prompt"></div>
<div class="box-flex1 output_subarea output_display_data">
<svg height="263pt" version="1.1" viewBox="0 0 378 263" width="378pt" xmlns="http://www.w3.org/2000/svg" xmlns:xlink="http://www.w3.org/1999/xlink">
 <defs>
  <style type="text/css">
*{stroke-linecap:square;stroke-linejoin:round;}
  </style>
 </defs>
 <g id="figure_1">
  <g id="patch_1">
   <path d=" M0 263.524 L378.166 263.524 L378.166 0 L0 0 z " style="fill:#ffffff;"/>
  </g>
  <g id="axes_1">
   <g id="patch_2">
    <path d=" M24.3219 244.76 L359.122 244.76 L359.122 21.56 L24.3219 21.56 z " style="fill:#ffffff;"/>
   </g>
   <g id="line2d_1">
    <defs>
     <path d=" M0 3 C0.795609 3 1.55874 2.6839 2.12132 2.12132 C2.6839 1.55874 3 0.795609 3 0 C3 -0.795609 2.6839 -1.55874 2.12132 -2.12132 C1.55874 -2.6839 0.795609 -3 0 -3 C-0.795609 -3 -1.55874 -2.6839 -2.12132 -2.12132 C-2.6839 -1.55874 -3 -0.795609 -3 0 C-3 0.795609 -2.6839 1.55874 -2.12132 2.12132 C-1.55874 2.6839 -0.795609 3 0 3 z " id="m14f64f4070"/>
    </defs>
    <g clip-path="url(#p3017017e97)">
     <use style="fill:#0000ff;stroke:#000000;stroke-linecap:butt;stroke-width:0.5;" x="24.321875" xlink:href="#m14f64f4070" y="119.572324784"/>
     <use style="fill:#0000ff;stroke:#000000;stroke-linecap:butt;stroke-width:0.5;" x="24.656675" xlink:href="#m14f64f4070" y="106.274119484"/>
     <use style="fill:#0000ff;stroke:#000000;stroke-linecap:butt;stroke-width:0.5;" x="24.991475" xlink:href="#m14f64f4070" y="184.794750107"/>
     <use style="fill:#0000ff;stroke:#000000;stroke-linecap:butt;stroke-width:0.5;" x="25.326275" xlink:href="#m14f64f4070" y="122.112379581"/>
     <use style="fill:#0000ff;stroke:#000000;stroke-linecap:butt;stroke-width:0.5;" x="25.661075" xlink:href="#m14f64f4070" y="102.591922765"/>
     <use style="fill:#0000ff;stroke:#000000;stroke-linecap:butt;stroke-width:0.5;" x="25.995875" xlink:href="#m14f64f4070" y="149.174381999"/>
     <use style="fill:#0000ff;stroke:#000000;stroke-linecap:butt;stroke-width:0.5;" x="26.330675" xlink:href="#m14f64f4070" y="116.598579037"/>
     <use style="fill:#0000ff;stroke:#000000;stroke-linecap:butt;stroke-width:0.5;" x="26.665475" xlink:href="#m14f64f4070" y="137.312609604"/>
     <use style="fill:#0000ff;stroke:#000000;stroke-linecap:butt;stroke-width:0.5;" x="27.000275" xlink:href="#m14f64f4070" y="117.755390524"/>
     <use style="fill:#0000ff;stroke:#000000;stroke-linecap:butt;stroke-width:0.5;" x="27.335075" xlink:href="#m14f64f4070" y="108.772812602"/>
     <use style="fill:#0000ff;stroke:#000000;stroke-linecap:butt;stroke-width:0.5;" x="27.669875" xlink:href="#m14f64f4070" y="163.859374518"/>
     <use style="fill:#0000ff;stroke:#000000;stroke-linecap:butt;stroke-width:0.5;" x="28.004675" xlink:href="#m14f64f4070" y="139.105987231"/>
     <use style="fill:#0000ff;stroke:#000000;stroke-linecap:butt;stroke-width:0.5;" x="28.339475" xlink:href="#m14f64f4070" y="131.385317011"/>
     <use style="fill:#0000ff;stroke:#000000;stroke-linecap:butt;stroke-width:0.5;" x="28.674275" xlink:href="#m14f64f4070" y="210.801930392"/>
     <use style="fill:#0000ff;stroke:#000000;stroke-linecap:butt;stroke-width:0.5;" x="29.009075" xlink:href="#m14f64f4070" y="167.95191591"/>
     <use style="fill:#0000ff;stroke:#000000;stroke-linecap:butt;stroke-width:0.5;" x="29.343875" xlink:href="#m14f64f4070" y="132.354052741"/>
     <use style="fill:#0000ff;stroke:#000000;stroke-linecap:butt;stroke-width:0.5;" x="29.678675" xlink:href="#m14f64f4070" y="104.489588523"/>
     <use style="fill:#0000ff;stroke:#000000;stroke-linecap:butt;stroke-width:0.5;" x="30.013475" xlink:href="#m14f64f4070" y="124.525596741"/>
     <use style="fill:#0000ff;stroke:#000000;stroke-linecap:butt;stroke-width:0.5;" x="30.348275" xlink:href="#m14f64f4070" y="96.7127554573"/>
     <use style="fill:#0000ff;stroke:#000000;stroke-linecap:butt;stroke-width:0.5;" x="30.683075" xlink:href="#m14f64f4070" y="87.6477566191"/>
     <use style="fill:#0000ff;stroke:#000000;stroke-linecap:butt;stroke-width:0.5;" x="31.017875" xlink:href="#m14f64f4070" y="142.979798269"/>
     <use style="fill:#0000ff;stroke:#000000;stroke-linecap:butt;stroke-width:0.5;" x="31.352675" xlink:href="#m14f64f4070" y="109.783125479"/>
     <use style="fill:#0000ff;stroke:#000000;stroke-linecap:butt;stroke-width:0.5;" x="31.687475" xlink:href="#m14f64f4070" y="123.892456335"/>
     <use style="fill:#0000ff;stroke:#000000;stroke-linecap:butt;stroke-width:0.5;" x="32.022275" xlink:href="#m14f64f4070" y="109.968743302"/>
     <use style="fill:#0000ff;stroke:#000000;stroke-linecap:butt;stroke-width:0.5;" x="32.357075" xlink:href="#m14f64f4070" y="125.442020209"/>
     <use style="fill:#0000ff;stroke:#000000;stroke-linecap:butt;stroke-width:0.5;" x="32.691875" xlink:href="#m14f64f4070" y="131.66030143"/>
     <use style="fill:#0000ff;stroke:#000000;stroke-linecap:butt;stroke-width:0.5;" x="33.026675" xlink:href="#m14f64f4070" y="87.7005770354"/>
     <use style="fill:#0000ff;stroke:#000000;stroke-linecap:butt;stroke-width:0.5;" x="33.361475" xlink:href="#m14f64f4070" y="90.656858896"/>
     <use style="fill:#0000ff;stroke:#000000;stroke-linecap:butt;stroke-width:0.5;" x="33.696275" xlink:href="#m14f64f4070" y="144.034749048"/>
     <use style="fill:#0000ff;stroke:#000000;stroke-linecap:butt;stroke-width:0.5;" x="34.031075" xlink:href="#m14f64f4070" y="200.542038238"/>
     <use style="fill:#0000ff;stroke:#000000;stroke-linecap:butt;stroke-width:0.5;" x="34.365875" xlink:href="#m14f64f4070" y="153.458161412"/>
     <use style="fill:#0000ff;stroke:#000000;stroke-linecap:butt;stroke-width:0.5;" x="34.700675" xlink:href="#m14f64f4070" y="125.458670385"/>
     <use style="fill:#0000ff;stroke:#000000;stroke-linecap:butt;stroke-width:0.5;" x="35.035475" xlink:href="#m14f64f4070" y="166.3162809"/>
     <use style="fill:#0000ff;stroke:#000000;stroke-linecap:butt;stroke-width:0.5;" x="35.370275" xlink:href="#m14f64f4070" y="165.434998605"/>
     <use style="fill:#0000ff;stroke:#000000;stroke-linecap:butt;stroke-width:0.5;" x="35.705075" xlink:href="#m14f64f4070" y="137.462956841"/>
     <use style="fill:#0000ff;stroke:#000000;stroke-linecap:butt;stroke-width:0.5;" x="36.039875" xlink:href="#m14f64f4070" y="94.5885801967"/>
     <use style="fill:#0000ff;stroke:#000000;stroke-linecap:butt;stroke-width:0.5;" x="36.374675" xlink:href="#m14f64f4070" y="107.273945987"/>
     <use style="fill:#0000ff;stroke:#000000;stroke-linecap:butt;stroke-width:0.5;" x="36.709475" xlink:href="#m14f64f4070" y="108.775868896"/>
     <use style="fill:#0000ff;stroke:#000000;stroke-linecap:butt;stroke-width:0.5;" x="37.044275" xlink:href="#m14f64f4070" y="120.202848998"/>
     <use style="fill:#0000ff;stroke:#000000;stroke-linecap:butt;stroke-width:0.5;" x="37.379075" xlink:href="#m14f64f4070" y="150.180414221"/>
     <use style="fill:#0000ff;stroke:#000000;stroke-linecap:butt;stroke-width:0.5;" x="37.713875" xlink:href="#m14f64f4070" y="129.631497357"/>
     <use style="fill:#0000ff;stroke:#000000;stroke-linecap:butt;stroke-width:0.5;" x="38.048675" xlink:href="#m14f64f4070" y="99.0141870669"/>
     <use style="fill:#0000ff;stroke:#000000;stroke-linecap:butt;stroke-width:0.5;" x="38.383475" xlink:href="#m14f64f4070" y="125.662883305"/>
     <use style="fill:#0000ff;stroke:#000000;stroke-linecap:butt;stroke-width:0.5;" x="38.718275" xlink:href="#m14f64f4070" y="75.4580491506"/>
     <use style="fill:#0000ff;stroke:#000000;stroke-linecap:butt;stroke-width:0.5;" x="39.053075" xlink:href="#m14f64f4070" y="139.945403563"/>
     <use style="fill:#0000ff;stroke:#000000;stroke-linecap:butt;stroke-width:0.5;" x="39.387875" xlink:href="#m14f64f4070" y="110.412846688"/>
     <use style="fill:#0000ff;stroke:#000000;stroke-linecap:butt;stroke-width:0.5;" x="39.722675" xlink:href="#m14f64f4070" y="207.177657778"/>
     <use style="fill:#0000ff;stroke:#000000;stroke-linecap:butt;stroke-width:0.5;" x="40.057475" xlink:href="#m14f64f4070" y="121.927966872"/>
     <use style="fill:#0000ff;stroke:#000000;stroke-linecap:butt;stroke-width:0.5;" x="40.392275" xlink:href="#m14f64f4070" y="158.063435586"/>
     <use style="fill:#0000ff;stroke:#000000;stroke-linecap:butt;stroke-width:0.5;" x="40.727075" xlink:href="#m14f64f4070" y="112.125293696"/>
     <use style="fill:#0000ff;stroke:#000000;stroke-linecap:butt;stroke-width:0.5;" x="41.061875" xlink:href="#m14f64f4070" y="115.842375503"/>
     <use style="fill:#0000ff;stroke:#000000;stroke-linecap:butt;stroke-width:0.5;" x="41.396675" xlink:href="#m14f64f4070" y="153.037890606"/>
     <use style="fill:#0000ff;stroke:#000000;stroke-linecap:butt;stroke-width:0.5;" x="41.731475" xlink:href="#m14f64f4070" y="136.72543609"/>
     <use style="fill:#0000ff;stroke:#000000;stroke-linecap:butt;stroke-width:0.5;" x="42.066275" xlink:href="#m14f64f4070" y="118.250707066"/>
     <use style="fill:#0000ff;stroke:#000000;stroke-linecap:butt;stroke-width:0.5;" x="42.401075" xlink:href="#m14f64f4070" y="141.448116288"/>
     <use style="fill:#0000ff;stroke:#000000;stroke-linecap:butt;stroke-width:0.5;" x="42.735875" xlink:href="#m14f64f4070" y="136.353475636"/>
     <use style="fill:#0000ff;stroke:#000000;stroke-linecap:butt;stroke-width:0.5;" x="43.070675" xlink:href="#m14f64f4070" y="142.465107276"/>
     <use style="fill:#0000ff;stroke:#000000;stroke-linecap:butt;stroke-width:0.5;" x="43.405475" xlink:href="#m14f64f4070" y="118.539614056"/>
     <use style="fill:#0000ff;stroke:#000000;stroke-linecap:butt;stroke-width:0.5;" x="43.740275" xlink:href="#m14f64f4070" y="112.87302871"/>
     <use style="fill:#0000ff;stroke:#000000;stroke-linecap:butt;stroke-width:0.5;" x="44.075075" xlink:href="#m14f64f4070" y="134.527288301"/>
     <use style="fill:#0000ff;stroke:#000000;stroke-linecap:butt;stroke-width:0.5;" x="44.409875" xlink:href="#m14f64f4070" y="211.727819774"/>
     <use style="fill:#0000ff;stroke:#000000;stroke-linecap:butt;stroke-width:0.5;" x="44.744675" xlink:href="#m14f64f4070" y="151.390661036"/>
     <use style="fill:#0000ff;stroke:#000000;stroke-linecap:butt;stroke-width:0.5;" x="45.079475" xlink:href="#m14f64f4070" y="151.759608939"/>
     <use style="fill:#0000ff;stroke:#000000;stroke-linecap:butt;stroke-width:0.5;" x="45.414275" xlink:href="#m14f64f4070" y="185.815498612"/>
     <use style="fill:#0000ff;stroke:#000000;stroke-linecap:butt;stroke-width:0.5;" x="45.749075" xlink:href="#m14f64f4070" y="156.167144451"/>
     <use style="fill:#0000ff;stroke:#000000;stroke-linecap:butt;stroke-width:0.5;" x="46.083875" xlink:href="#m14f64f4070" y="148.559931506"/>
     <use style="fill:#0000ff;stroke:#000000;stroke-linecap:butt;stroke-width:0.5;" x="46.418675" xlink:href="#m14f64f4070" y="124.014689158"/>
     <use style="fill:#0000ff;stroke:#000000;stroke-linecap:butt;stroke-width:0.5;" x="46.753475" xlink:href="#m14f64f4070" y="105.876325073"/>
     <use style="fill:#0000ff;stroke:#000000;stroke-linecap:butt;stroke-width:0.5;" x="47.088275" xlink:href="#m14f64f4070" y="98.5414908632"/>
     <use style="fill:#0000ff;stroke:#000000;stroke-linecap:butt;stroke-width:0.5;" x="47.423075" xlink:href="#m14f64f4070" y="99.7093385071"/>
     <use style="fill:#0000ff;stroke:#000000;stroke-linecap:butt;stroke-width:0.5;" x="47.757875" xlink:href="#m14f64f4070" y="191.072675158"/>
     <use style="fill:#0000ff;stroke:#000000;stroke-linecap:butt;stroke-width:0.5;" x="48.092675" xlink:href="#m14f64f4070" y="115.043780547"/>
     <use style="fill:#0000ff;stroke:#000000;stroke-linecap:butt;stroke-width:0.5;" x="48.427475" xlink:href="#m14f64f4070" y="94.4146028945"/>
     <use style="fill:#0000ff;stroke:#000000;stroke-linecap:butt;stroke-width:0.5;" x="48.762275" xlink:href="#m14f64f4070" y="120.991353522"/>
     <use style="fill:#0000ff;stroke:#000000;stroke-linecap:butt;stroke-width:0.5;" x="49.097075" xlink:href="#m14f64f4070" y="120.352919173"/>
     <use style="fill:#0000ff;stroke:#000000;stroke-linecap:butt;stroke-width:0.5;" x="49.431875" xlink:href="#m14f64f4070" y="165.602887017"/>
     <use style="fill:#0000ff;stroke:#000000;stroke-linecap:butt;stroke-width:0.5;" x="49.766675" xlink:href="#m14f64f4070" y="129.354528444"/>
     <use style="fill:#0000ff;stroke:#000000;stroke-linecap:butt;stroke-width:0.5;" x="50.101475" xlink:href="#m14f64f4070" y="137.277898943"/>
     <use style="fill:#0000ff;stroke:#000000;stroke-linecap:butt;stroke-width:0.5;" x="50.436275" xlink:href="#m14f64f4070" y="148.448776886"/>
     <use style="fill:#0000ff;stroke:#000000;stroke-linecap:butt;stroke-width:0.5;" x="50.771075" xlink:href="#m14f64f4070" y="130.410400399"/>
     <use style="fill:#0000ff;stroke:#000000;stroke-linecap:butt;stroke-width:0.5;" x="51.105875" xlink:href="#m14f64f4070" y="120.003600903"/>
     <use style="fill:#0000ff;stroke:#000000;stroke-linecap:butt;stroke-width:0.5;" x="51.440675" xlink:href="#m14f64f4070" y="145.603073932"/>
     <use style="fill:#0000ff;stroke:#000000;stroke-linecap:butt;stroke-width:0.5;" x="51.775475" xlink:href="#m14f64f4070" y="159.353998784"/>
     <use style="fill:#0000ff;stroke:#000000;stroke-linecap:butt;stroke-width:0.5;" x="52.110275" xlink:href="#m14f64f4070" y="138.013773667"/>
     <use style="fill:#0000ff;stroke:#000000;stroke-linecap:butt;stroke-width:0.5;" x="52.445075" xlink:href="#m14f64f4070" y="153.144299347"/>
     <use style="fill:#0000ff;stroke:#000000;stroke-linecap:butt;stroke-width:0.5;" x="52.779875" xlink:href="#m14f64f4070" y="155.990269491"/>
     <use style="fill:#0000ff;stroke:#000000;stroke-linecap:butt;stroke-width:0.5;" x="53.114675" xlink:href="#m14f64f4070" y="126.660984059"/>
     <use style="fill:#0000ff;stroke:#000000;stroke-linecap:butt;stroke-width:0.5;" x="53.449475" xlink:href="#m14f64f4070" y="83.7717893869"/>
     <use style="fill:#0000ff;stroke:#000000;stroke-linecap:butt;stroke-width:0.5;" x="53.784275" xlink:href="#m14f64f4070" y="147.185958847"/>
     <use style="fill:#0000ff;stroke:#000000;stroke-linecap:butt;stroke-width:0.5;" x="54.119075" xlink:href="#m14f64f4070" y="129.567608995"/>
     <use style="fill:#0000ff;stroke:#000000;stroke-linecap:butt;stroke-width:0.5;" x="54.453875" xlink:href="#m14f64f4070" y="117.026099672"/>
     <use style="fill:#0000ff;stroke:#000000;stroke-linecap:butt;stroke-width:0.5;" x="54.788675" xlink:href="#m14f64f4070" y="148.176410043"/>
     <use style="fill:#0000ff;stroke:#000000;stroke-linecap:butt;stroke-width:0.5;" x="55.123475" xlink:href="#m14f64f4070" y="142.186460634"/>
     <use style="fill:#0000ff;stroke:#000000;stroke-linecap:butt;stroke-width:0.5;" x="55.458275" xlink:href="#m14f64f4070" y="138.875088398"/>
     <use style="fill:#0000ff;stroke:#000000;stroke-linecap:butt;stroke-width:0.5;" x="55.793075" xlink:href="#m14f64f4070" y="161.74816313"/>
     <use style="fill:#0000ff;stroke:#000000;stroke-linecap:butt;stroke-width:0.5;" x="56.127875" xlink:href="#m14f64f4070" y="112.970428122"/>
     <use style="fill:#0000ff;stroke:#000000;stroke-linecap:butt;stroke-width:0.5;" x="56.462675" xlink:href="#m14f64f4070" y="155.405693256"/>
     <use style="fill:#0000ff;stroke:#000000;stroke-linecap:butt;stroke-width:0.5;" x="56.797475" xlink:href="#m14f64f4070" y="113.565023179"/>
     <use style="fill:#0000ff;stroke:#000000;stroke-linecap:butt;stroke-width:0.5;" x="57.132275" xlink:href="#m14f64f4070" y="140.879538586"/>
     <use style="fill:#0000ff;stroke:#000000;stroke-linecap:butt;stroke-width:0.5;" x="57.467075" xlink:href="#m14f64f4070" y="80.7389741136"/>
     <use style="fill:#0000ff;stroke:#000000;stroke-linecap:butt;stroke-width:0.5;" x="57.801875" xlink:href="#m14f64f4070" y="127.236362453"/>
     <use style="fill:#0000ff;stroke:#000000;stroke-linecap:butt;stroke-width:0.5;" x="58.136675" xlink:href="#m14f64f4070" y="124.33718877"/>
     <use style="fill:#0000ff;stroke:#000000;stroke-linecap:butt;stroke-width:0.5;" x="58.471475" xlink:href="#m14f64f4070" y="142.533427916"/>
     <use style="fill:#0000ff;stroke:#000000;stroke-linecap:butt;stroke-width:0.5;" x="58.806275" xlink:href="#m14f64f4070" y="193.880410647"/>
     <use style="fill:#0000ff;stroke:#000000;stroke-linecap:butt;stroke-width:0.5;" x="59.141075" xlink:href="#m14f64f4070" y="181.427730063"/>
     <use style="fill:#0000ff;stroke:#000000;stroke-linecap:butt;stroke-width:0.5;" x="59.475875" xlink:href="#m14f64f4070" y="118.425651814"/>
     <use style="fill:#0000ff;stroke:#000000;stroke-linecap:butt;stroke-width:0.5;" x="59.810675" xlink:href="#m14f64f4070" y="82.2234920962"/>
     <use style="fill:#0000ff;stroke:#000000;stroke-linecap:butt;stroke-width:0.5;" x="60.145475" xlink:href="#m14f64f4070" y="134.81394194"/>
     <use style="fill:#0000ff;stroke:#000000;stroke-linecap:butt;stroke-width:0.5;" x="60.480275" xlink:href="#m14f64f4070" y="201.472126119"/>
     <use style="fill:#0000ff;stroke:#000000;stroke-linecap:butt;stroke-width:0.5;" x="60.815075" xlink:href="#m14f64f4070" y="162.134716683"/>
     <use style="fill:#0000ff;stroke:#000000;stroke-linecap:butt;stroke-width:0.5;" x="61.149875" xlink:href="#m14f64f4070" y="140.570183873"/>
     <use style="fill:#0000ff;stroke:#000000;stroke-linecap:butt;stroke-width:0.5;" x="61.484675" xlink:href="#m14f64f4070" y="173.607250716"/>
     <use style="fill:#0000ff;stroke:#000000;stroke-linecap:butt;stroke-width:0.5;" x="61.819475" xlink:href="#m14f64f4070" y="140.832045784"/>
     <use style="fill:#0000ff;stroke:#000000;stroke-linecap:butt;stroke-width:0.5;" x="62.154275" xlink:href="#m14f64f4070" y="125.5759309"/>
     <use style="fill:#0000ff;stroke:#000000;stroke-linecap:butt;stroke-width:0.5;" x="62.489075" xlink:href="#m14f64f4070" y="109.020844436"/>
     <use style="fill:#0000ff;stroke:#000000;stroke-linecap:butt;stroke-width:0.5;" x="62.823875" xlink:href="#m14f64f4070" y="144.455868804"/>
     <use style="fill:#0000ff;stroke:#000000;stroke-linecap:butt;stroke-width:0.5;" x="63.158675" xlink:href="#m14f64f4070" y="151.959644847"/>
     <use style="fill:#0000ff;stroke:#000000;stroke-linecap:butt;stroke-width:0.5;" x="63.493475" xlink:href="#m14f64f4070" y="170.053539081"/>
     <use style="fill:#0000ff;stroke:#000000;stroke-linecap:butt;stroke-width:0.5;" x="63.828275" xlink:href="#m14f64f4070" y="131.215585167"/>
     <use style="fill:#0000ff;stroke:#000000;stroke-linecap:butt;stroke-width:0.5;" x="64.163075" xlink:href="#m14f64f4070" y="137.424957264"/>
     <use style="fill:#0000ff;stroke:#000000;stroke-linecap:butt;stroke-width:0.5;" x="64.497875" xlink:href="#m14f64f4070" y="109.383804434"/>
     <use style="fill:#0000ff;stroke:#000000;stroke-linecap:butt;stroke-width:0.5;" x="64.832675" xlink:href="#m14f64f4070" y="140.830979417"/>
     <use style="fill:#0000ff;stroke:#000000;stroke-linecap:butt;stroke-width:0.5;" x="65.167475" xlink:href="#m14f64f4070" y="145.903919141"/>
     <use style="fill:#0000ff;stroke:#000000;stroke-linecap:butt;stroke-width:0.5;" x="65.502275" xlink:href="#m14f64f4070" y="114.387474246"/>
     <use style="fill:#0000ff;stroke:#000000;stroke-linecap:butt;stroke-width:0.5;" x="65.837075" xlink:href="#m14f64f4070" y="156.231100996"/>
     <use style="fill:#0000ff;stroke:#000000;stroke-linecap:butt;stroke-width:0.5;" x="66.171875" xlink:href="#m14f64f4070" y="146.19790056"/>
     <use style="fill:#0000ff;stroke:#000000;stroke-linecap:butt;stroke-width:0.5;" x="66.506675" xlink:href="#m14f64f4070" y="132.083164039"/>
     <use style="fill:#0000ff;stroke:#000000;stroke-linecap:butt;stroke-width:0.5;" x="66.841475" xlink:href="#m14f64f4070" y="96.8416187926"/>
     <use style="fill:#0000ff;stroke:#000000;stroke-linecap:butt;stroke-width:0.5;" x="67.176275" xlink:href="#m14f64f4070" y="137.817033997"/>
     <use style="fill:#0000ff;stroke:#000000;stroke-linecap:butt;stroke-width:0.5;" x="67.511075" xlink:href="#m14f64f4070" y="101.60612188"/>
     <use style="fill:#0000ff;stroke:#000000;stroke-linecap:butt;stroke-width:0.5;" x="67.845875" xlink:href="#m14f64f4070" y="105.987842295"/>
     <use style="fill:#0000ff;stroke:#000000;stroke-linecap:butt;stroke-width:0.5;" x="68.180675" xlink:href="#m14f64f4070" y="216.908453301"/>
     <use style="fill:#0000ff;stroke:#000000;stroke-linecap:butt;stroke-width:0.5;" x="68.515475" xlink:href="#m14f64f4070" y="114.599757989"/>
     <use style="fill:#0000ff;stroke:#000000;stroke-linecap:butt;stroke-width:0.5;" x="68.850275" xlink:href="#m14f64f4070" y="129.367294231"/>
     <use style="fill:#0000ff;stroke:#000000;stroke-linecap:butt;stroke-width:0.5;" x="69.185075" xlink:href="#m14f64f4070" y="134.062482056"/>
     <use style="fill:#0000ff;stroke:#000000;stroke-linecap:butt;stroke-width:0.5;" x="69.519875" xlink:href="#m14f64f4070" y="93.0147485023"/>
     <use style="fill:#0000ff;stroke:#000000;stroke-linecap:butt;stroke-width:0.5;" x="69.854675" xlink:href="#m14f64f4070" y="125.36697989"/>
     <use style="fill:#0000ff;stroke:#000000;stroke-linecap:butt;stroke-width:0.5;" x="70.189475" xlink:href="#m14f64f4070" y="129.99943322"/>
     <use style="fill:#0000ff;stroke:#000000;stroke-linecap:butt;stroke-width:0.5;" x="70.524275" xlink:href="#m14f64f4070" y="150.679719464"/>
     <use style="fill:#0000ff;stroke:#000000;stroke-linecap:butt;stroke-width:0.5;" x="70.859075" xlink:href="#m14f64f4070" y="119.428991065"/>
     <use style="fill:#0000ff;stroke:#000000;stroke-linecap:butt;stroke-width:0.5;" x="71.193875" xlink:href="#m14f64f4070" y="157.118058093"/>
     <use style="fill:#0000ff;stroke:#000000;stroke-linecap:butt;stroke-width:0.5;" x="71.528675" xlink:href="#m14f64f4070" y="124.432477314"/>
     <use style="fill:#0000ff;stroke:#000000;stroke-linecap:butt;stroke-width:0.5;" x="71.863475" xlink:href="#m14f64f4070" y="143.009602435"/>
     <use style="fill:#0000ff;stroke:#000000;stroke-linecap:butt;stroke-width:0.5;" x="72.198275" xlink:href="#m14f64f4070" y="96.3766443516"/>
     <use style="fill:#0000ff;stroke:#000000;stroke-linecap:butt;stroke-width:0.5;" x="72.533075" xlink:href="#m14f64f4070" y="129.526726214"/>
     <use style="fill:#0000ff;stroke:#000000;stroke-linecap:butt;stroke-width:0.5;" x="72.867875" xlink:href="#m14f64f4070" y="127.575620093"/>
     <use style="fill:#0000ff;stroke:#000000;stroke-linecap:butt;stroke-width:0.5;" x="73.202675" xlink:href="#m14f64f4070" y="156.515950939"/>
     <use style="fill:#0000ff;stroke:#000000;stroke-linecap:butt;stroke-width:0.5;" x="73.537475" xlink:href="#m14f64f4070" y="152.166670055"/>
     <use style="fill:#0000ff;stroke:#000000;stroke-linecap:butt;stroke-width:0.5;" x="73.872275" xlink:href="#m14f64f4070" y="139.373870796"/>
     <use style="fill:#0000ff;stroke:#000000;stroke-linecap:butt;stroke-width:0.5;" x="74.207075" xlink:href="#m14f64f4070" y="123.408166379"/>
     <use style="fill:#0000ff;stroke:#000000;stroke-linecap:butt;stroke-width:0.5;" x="74.541875" xlink:href="#m14f64f4070" y="105.353111852"/>
     <use style="fill:#0000ff;stroke:#000000;stroke-linecap:butt;stroke-width:0.5;" x="74.876675" xlink:href="#m14f64f4070" y="108.720023312"/>
     <use style="fill:#0000ff;stroke:#000000;stroke-linecap:butt;stroke-width:0.5;" x="75.211475" xlink:href="#m14f64f4070" y="73.2901916585"/>
     <use style="fill:#0000ff;stroke:#000000;stroke-linecap:butt;stroke-width:0.5;" x="75.546275" xlink:href="#m14f64f4070" y="114.525882755"/>
     <use style="fill:#0000ff;stroke:#000000;stroke-linecap:butt;stroke-width:0.5;" x="75.881075" xlink:href="#m14f64f4070" y="139.203164848"/>
     <use style="fill:#0000ff;stroke:#000000;stroke-linecap:butt;stroke-width:0.5;" x="76.215875" xlink:href="#m14f64f4070" y="103.635581933"/>
     <use style="fill:#0000ff;stroke:#000000;stroke-linecap:butt;stroke-width:0.5;" x="76.550675" xlink:href="#m14f64f4070" y="88.6530083672"/>
     <use style="fill:#0000ff;stroke:#000000;stroke-linecap:butt;stroke-width:0.5;" x="76.885475" xlink:href="#m14f64f4070" y="132.666361201"/>
     <use style="fill:#0000ff;stroke:#000000;stroke-linecap:butt;stroke-width:0.5;" x="77.220275" xlink:href="#m14f64f4070" y="128.928123029"/>
     <use style="fill:#0000ff;stroke:#000000;stroke-linecap:butt;stroke-width:0.5;" x="77.555075" xlink:href="#m14f64f4070" y="150.880578508"/>
     <use style="fill:#0000ff;stroke:#000000;stroke-linecap:butt;stroke-width:0.5;" x="77.889875" xlink:href="#m14f64f4070" y="160.744580332"/>
     <use style="fill:#0000ff;stroke:#000000;stroke-linecap:butt;stroke-width:0.5;" x="78.224675" xlink:href="#m14f64f4070" y="133.003908856"/>
     <use style="fill:#0000ff;stroke:#000000;stroke-linecap:butt;stroke-width:0.5;" x="78.559475" xlink:href="#m14f64f4070" y="154.242674786"/>
     <use style="fill:#0000ff;stroke:#000000;stroke-linecap:butt;stroke-width:0.5;" x="78.894275" xlink:href="#m14f64f4070" y="123.554898825"/>
     <use style="fill:#0000ff;stroke:#000000;stroke-linecap:butt;stroke-width:0.5;" x="79.229075" xlink:href="#m14f64f4070" y="122.205235028"/>
     <use style="fill:#0000ff;stroke:#000000;stroke-linecap:butt;stroke-width:0.5;" x="79.563875" xlink:href="#m14f64f4070" y="130.700101261"/>
     <use style="fill:#0000ff;stroke:#000000;stroke-linecap:butt;stroke-width:0.5;" x="79.898675" xlink:href="#m14f64f4070" y="141.769231104"/>
     <use style="fill:#0000ff;stroke:#000000;stroke-linecap:butt;stroke-width:0.5;" x="80.233475" xlink:href="#m14f64f4070" y="108.556551499"/>
     <use style="fill:#0000ff;stroke:#000000;stroke-linecap:butt;stroke-width:0.5;" x="80.568275" xlink:href="#m14f64f4070" y="71.4898635695"/>
     <use style="fill:#0000ff;stroke:#000000;stroke-linecap:butt;stroke-width:0.5;" x="80.903075" xlink:href="#m14f64f4070" y="127.93616546"/>
     <use style="fill:#0000ff;stroke:#000000;stroke-linecap:butt;stroke-width:0.5;" x="81.237875" xlink:href="#m14f64f4070" y="143.864538513"/>
     <use style="fill:#0000ff;stroke:#000000;stroke-linecap:butt;stroke-width:0.5;" x="81.572675" xlink:href="#m14f64f4070" y="104.782289017"/>
     <use style="fill:#0000ff;stroke:#000000;stroke-linecap:butt;stroke-width:0.5;" x="81.907475" xlink:href="#m14f64f4070" y="144.448530825"/>
     <use style="fill:#0000ff;stroke:#000000;stroke-linecap:butt;stroke-width:0.5;" x="82.242275" xlink:href="#m14f64f4070" y="190.964927996"/>
     <use style="fill:#0000ff;stroke:#000000;stroke-linecap:butt;stroke-width:0.5;" x="82.577075" xlink:href="#m14f64f4070" y="147.741379851"/>
     <use style="fill:#0000ff;stroke:#000000;stroke-linecap:butt;stroke-width:0.5;" x="82.911875" xlink:href="#m14f64f4070" y="97.7037600618"/>
     <use style="fill:#0000ff;stroke:#000000;stroke-linecap:butt;stroke-width:0.5;" x="83.246675" xlink:href="#m14f64f4070" y="136.737381525"/>
     <use style="fill:#0000ff;stroke:#000000;stroke-linecap:butt;stroke-width:0.5;" x="83.581475" xlink:href="#m14f64f4070" y="133.419604301"/>
     <use style="fill:#0000ff;stroke:#000000;stroke-linecap:butt;stroke-width:0.5;" x="83.916275" xlink:href="#m14f64f4070" y="95.5113461734"/>
     <use style="fill:#0000ff;stroke:#000000;stroke-linecap:butt;stroke-width:0.5;" x="84.251075" xlink:href="#m14f64f4070" y="122.973588942"/>
     <use style="fill:#0000ff;stroke:#000000;stroke-linecap:butt;stroke-width:0.5;" x="84.585875" xlink:href="#m14f64f4070" y="154.710566169"/>
     <use style="fill:#0000ff;stroke:#000000;stroke-linecap:butt;stroke-width:0.5;" x="84.920675" xlink:href="#m14f64f4070" y="153.855702866"/>
     <use style="fill:#0000ff;stroke:#000000;stroke-linecap:butt;stroke-width:0.5;" x="85.255475" xlink:href="#m14f64f4070" y="86.5341285467"/>
     <use style="fill:#0000ff;stroke:#000000;stroke-linecap:butt;stroke-width:0.5;" x="85.590275" xlink:href="#m14f64f4070" y="125.430243776"/>
     <use style="fill:#0000ff;stroke:#000000;stroke-linecap:butt;stroke-width:0.5;" x="85.925075" xlink:href="#m14f64f4070" y="154.83292272"/>
     <use style="fill:#0000ff;stroke:#000000;stroke-linecap:butt;stroke-width:0.5;" x="86.259875" xlink:href="#m14f64f4070" y="98.0050230031"/>
     <use style="fill:#0000ff;stroke:#000000;stroke-linecap:butt;stroke-width:0.5;" x="86.594675" xlink:href="#m14f64f4070" y="113.916169769"/>
     <use style="fill:#0000ff;stroke:#000000;stroke-linecap:butt;stroke-width:0.5;" x="86.929475" xlink:href="#m14f64f4070" y="147.514504048"/>
     <use style="fill:#0000ff;stroke:#000000;stroke-linecap:butt;stroke-width:0.5;" x="87.264275" xlink:href="#m14f64f4070" y="140.080349907"/>
     <use style="fill:#0000ff;stroke:#000000;stroke-linecap:butt;stroke-width:0.5;" x="87.599075" xlink:href="#m14f64f4070" y="173.277266579"/>
     <use style="fill:#0000ff;stroke:#000000;stroke-linecap:butt;stroke-width:0.5;" x="87.933875" xlink:href="#m14f64f4070" y="145.673956361"/>
     <use style="fill:#0000ff;stroke:#000000;stroke-linecap:butt;stroke-width:0.5;" x="88.268675" xlink:href="#m14f64f4070" y="122.784939089"/>
     <use style="fill:#0000ff;stroke:#000000;stroke-linecap:butt;stroke-width:0.5;" x="88.603475" xlink:href="#m14f64f4070" y="118.912967654"/>
     <use style="fill:#0000ff;stroke:#000000;stroke-linecap:butt;stroke-width:0.5;" x="88.938275" xlink:href="#m14f64f4070" y="123.885876447"/>
     <use style="fill:#0000ff;stroke:#000000;stroke-linecap:butt;stroke-width:0.5;" x="89.273075" xlink:href="#m14f64f4070" y="134.420151297"/>
     <use style="fill:#0000ff;stroke:#000000;stroke-linecap:butt;stroke-width:0.5;" x="89.607875" xlink:href="#m14f64f4070" y="191.491880741"/>
     <use style="fill:#0000ff;stroke:#000000;stroke-linecap:butt;stroke-width:0.5;" x="89.942675" xlink:href="#m14f64f4070" y="117.201204488"/>
     <use style="fill:#0000ff;stroke:#000000;stroke-linecap:butt;stroke-width:0.5;" x="90.277475" xlink:href="#m14f64f4070" y="126.116259361"/>
     <use style="fill:#0000ff;stroke:#000000;stroke-linecap:butt;stroke-width:0.5;" x="90.612275" xlink:href="#m14f64f4070" y="104.086149374"/>
     <use style="fill:#0000ff;stroke:#000000;stroke-linecap:butt;stroke-width:0.5;" x="90.947075" xlink:href="#m14f64f4070" y="113.073856171"/>
     <use style="fill:#0000ff;stroke:#000000;stroke-linecap:butt;stroke-width:0.5;" x="91.281875" xlink:href="#m14f64f4070" y="112.070232627"/>
     <use style="fill:#0000ff;stroke:#000000;stroke-linecap:butt;stroke-width:0.5;" x="91.616675" xlink:href="#m14f64f4070" y="95.216112237"/>
     <use style="fill:#0000ff;stroke:#000000;stroke-linecap:butt;stroke-width:0.5;" x="91.951475" xlink:href="#m14f64f4070" y="153.682469682"/>
     <use style="fill:#0000ff;stroke:#000000;stroke-linecap:butt;stroke-width:0.5;" x="92.286275" xlink:href="#m14f64f4070" y="136.754616229"/>
     <use style="fill:#0000ff;stroke:#000000;stroke-linecap:butt;stroke-width:0.5;" x="92.621075" xlink:href="#m14f64f4070" y="134.329545759"/>
     <use style="fill:#0000ff;stroke:#000000;stroke-linecap:butt;stroke-width:0.5;" x="92.955875" xlink:href="#m14f64f4070" y="144.045707855"/>
     <use style="fill:#0000ff;stroke:#000000;stroke-linecap:butt;stroke-width:0.5;" x="93.290675" xlink:href="#m14f64f4070" y="194.248878767"/>
     <use style="fill:#0000ff;stroke:#000000;stroke-linecap:butt;stroke-width:0.5;" x="93.625475" xlink:href="#m14f64f4070" y="93.4867164895"/>
     <use style="fill:#0000ff;stroke:#000000;stroke-linecap:butt;stroke-width:0.5;" x="93.960275" xlink:href="#m14f64f4070" y="131.65705889"/>
     <use style="fill:#0000ff;stroke:#000000;stroke-linecap:butt;stroke-width:0.5;" x="94.295075" xlink:href="#m14f64f4070" y="139.513902176"/>
     <use style="fill:#0000ff;stroke:#000000;stroke-linecap:butt;stroke-width:0.5;" x="94.629875" xlink:href="#m14f64f4070" y="178.359303417"/>
     <use style="fill:#0000ff;stroke:#000000;stroke-linecap:butt;stroke-width:0.5;" x="94.964675" xlink:href="#m14f64f4070" y="132.590998237"/>
     <use style="fill:#0000ff;stroke:#000000;stroke-linecap:butt;stroke-width:0.5;" x="95.299475" xlink:href="#m14f64f4070" y="71.5799129284"/>
     <use style="fill:#0000ff;stroke:#000000;stroke-linecap:butt;stroke-width:0.5;" x="95.634275" xlink:href="#m14f64f4070" y="113.893266854"/>
     <use style="fill:#0000ff;stroke:#000000;stroke-linecap:butt;stroke-width:0.5;" x="95.969075" xlink:href="#m14f64f4070" y="145.435112501"/>
     <use style="fill:#0000ff;stroke:#000000;stroke-linecap:butt;stroke-width:0.5;" x="96.303875" xlink:href="#m14f64f4070" y="135.922960769"/>
     <use style="fill:#0000ff;stroke:#000000;stroke-linecap:butt;stroke-width:0.5;" x="96.638675" xlink:href="#m14f64f4070" y="131.622769562"/>
     <use style="fill:#0000ff;stroke:#000000;stroke-linecap:butt;stroke-width:0.5;" x="96.973475" xlink:href="#m14f64f4070" y="155.89137058"/>
     <use style="fill:#0000ff;stroke:#000000;stroke-linecap:butt;stroke-width:0.5;" x="97.308275" xlink:href="#m14f64f4070" y="115.480620579"/>
     <use style="fill:#0000ff;stroke:#000000;stroke-linecap:butt;stroke-width:0.5;" x="97.643075" xlink:href="#m14f64f4070" y="129.945148161"/>
     <use style="fill:#0000ff;stroke:#000000;stroke-linecap:butt;stroke-width:0.5;" x="97.977875" xlink:href="#m14f64f4070" y="202.903780755"/>
     <use style="fill:#0000ff;stroke:#000000;stroke-linecap:butt;stroke-width:0.5;" x="98.312675" xlink:href="#m14f64f4070" y="91.539333652"/>
     <use style="fill:#0000ff;stroke:#000000;stroke-linecap:butt;stroke-width:0.5;" x="98.647475" xlink:href="#m14f64f4070" y="125.07262711"/>
     <use style="fill:#0000ff;stroke:#000000;stroke-linecap:butt;stroke-width:0.5;" x="98.982275" xlink:href="#m14f64f4070" y="92.9939137132"/>
     <use style="fill:#0000ff;stroke:#000000;stroke-linecap:butt;stroke-width:0.5;" x="99.317075" xlink:href="#m14f64f4070" y="136.534606286"/>
     <use style="fill:#0000ff;stroke:#000000;stroke-linecap:butt;stroke-width:0.5;" x="99.651875" xlink:href="#m14f64f4070" y="152.763594016"/>
     <use style="fill:#0000ff;stroke:#000000;stroke-linecap:butt;stroke-width:0.5;" x="99.986675" xlink:href="#m14f64f4070" y="148.21103749"/>
     <use style="fill:#0000ff;stroke:#000000;stroke-linecap:butt;stroke-width:0.5;" x="100.321475" xlink:href="#m14f64f4070" y="104.306348199"/>
     <use style="fill:#0000ff;stroke:#000000;stroke-linecap:butt;stroke-width:0.5;" x="100.656275" xlink:href="#m14f64f4070" y="160.738041032"/>
     <use style="fill:#0000ff;stroke:#000000;stroke-linecap:butt;stroke-width:0.5;" x="100.991075" xlink:href="#m14f64f4070" y="131.242523687"/>
     <use style="fill:#0000ff;stroke:#000000;stroke-linecap:butt;stroke-width:0.5;" x="101.325875" xlink:href="#m14f64f4070" y="83.7950992998"/>
     <use style="fill:#0000ff;stroke:#000000;stroke-linecap:butt;stroke-width:0.5;" x="101.660675" xlink:href="#m14f64f4070" y="110.401525285"/>
     <use style="fill:#0000ff;stroke:#000000;stroke-linecap:butt;stroke-width:0.5;" x="101.995475" xlink:href="#m14f64f4070" y="153.281712377"/>
     <use style="fill:#0000ff;stroke:#000000;stroke-linecap:butt;stroke-width:0.5;" x="102.330275" xlink:href="#m14f64f4070" y="137.334053489"/>
     <use style="fill:#0000ff;stroke:#000000;stroke-linecap:butt;stroke-width:0.5;" x="102.665075" xlink:href="#m14f64f4070" y="129.080955229"/>
     <use style="fill:#0000ff;stroke:#000000;stroke-linecap:butt;stroke-width:0.5;" x="102.999875" xlink:href="#m14f64f4070" y="117.356156895"/>
     <use style="fill:#0000ff;stroke:#000000;stroke-linecap:butt;stroke-width:0.5;" x="103.334675" xlink:href="#m14f64f4070" y="113.705672398"/>
     <use style="fill:#0000ff;stroke:#000000;stroke-linecap:butt;stroke-width:0.5;" x="103.669475" xlink:href="#m14f64f4070" y="113.206446068"/>
     <use style="fill:#0000ff;stroke:#000000;stroke-linecap:butt;stroke-width:0.5;" x="104.004275" xlink:href="#m14f64f4070" y="159.41972506"/>
     <use style="fill:#0000ff;stroke:#000000;stroke-linecap:butt;stroke-width:0.5;" x="104.339075" xlink:href="#m14f64f4070" y="118.041360643"/>
     <use style="fill:#0000ff;stroke:#000000;stroke-linecap:butt;stroke-width:0.5;" x="104.673875" xlink:href="#m14f64f4070" y="123.171499706"/>
     <use style="fill:#0000ff;stroke:#000000;stroke-linecap:butt;stroke-width:0.5;" x="105.008675" xlink:href="#m14f64f4070" y="152.555998573"/>
     <use style="fill:#0000ff;stroke:#000000;stroke-linecap:butt;stroke-width:0.5;" x="105.343475" xlink:href="#m14f64f4070" y="52.6551210108"/>
     <use style="fill:#0000ff;stroke:#000000;stroke-linecap:butt;stroke-width:0.5;" x="105.678275" xlink:href="#m14f64f4070" y="136.678696862"/>
     <use style="fill:#0000ff;stroke:#000000;stroke-linecap:butt;stroke-width:0.5;" x="106.013075" xlink:href="#m14f64f4070" y="157.015500233"/>
     <use style="fill:#0000ff;stroke:#000000;stroke-linecap:butt;stroke-width:0.5;" x="106.347875" xlink:href="#m14f64f4070" y="156.331361402"/>
     <use style="fill:#0000ff;stroke:#000000;stroke-linecap:butt;stroke-width:0.5;" x="106.682675" xlink:href="#m14f64f4070" y="174.971852133"/>
     <use style="fill:#0000ff;stroke:#000000;stroke-linecap:butt;stroke-width:0.5;" x="107.017475" xlink:href="#m14f64f4070" y="128.810854582"/>
     <use style="fill:#0000ff;stroke:#000000;stroke-linecap:butt;stroke-width:0.5;" x="107.352275" xlink:href="#m14f64f4070" y="117.498531176"/>
     <use style="fill:#0000ff;stroke:#000000;stroke-linecap:butt;stroke-width:0.5;" x="107.687075" xlink:href="#m14f64f4070" y="156.949426405"/>
     <use style="fill:#0000ff;stroke:#000000;stroke-linecap:butt;stroke-width:0.5;" x="108.021875" xlink:href="#m14f64f4070" y="149.677465356"/>
     <use style="fill:#0000ff;stroke:#000000;stroke-linecap:butt;stroke-width:0.5;" x="108.356675" xlink:href="#m14f64f4070" y="141.091003844"/>
     <use style="fill:#0000ff;stroke:#000000;stroke-linecap:butt;stroke-width:0.5;" x="108.691475" xlink:href="#m14f64f4070" y="73.9915797726"/>
     <use style="fill:#0000ff;stroke:#000000;stroke-linecap:butt;stroke-width:0.5;" x="109.026275" xlink:href="#m14f64f4070" y="152.648866042"/>
     <use style="fill:#0000ff;stroke:#000000;stroke-linecap:butt;stroke-width:0.5;" x="109.361075" xlink:href="#m14f64f4070" y="126.298954726"/>
     <use style="fill:#0000ff;stroke:#000000;stroke-linecap:butt;stroke-width:0.5;" x="109.695875" xlink:href="#m14f64f4070" y="103.295229017"/>
     <use style="fill:#0000ff;stroke:#000000;stroke-linecap:butt;stroke-width:0.5;" x="110.030675" xlink:href="#m14f64f4070" y="93.7842134941"/>
     <use style="fill:#0000ff;stroke:#000000;stroke-linecap:butt;stroke-width:0.5;" x="110.365475" xlink:href="#m14f64f4070" y="128.349953081"/>
     <use style="fill:#0000ff;stroke:#000000;stroke-linecap:butt;stroke-width:0.5;" x="110.700275" xlink:href="#m14f64f4070" y="116.746155055"/>
     <use style="fill:#0000ff;stroke:#000000;stroke-linecap:butt;stroke-width:0.5;" x="111.035075" xlink:href="#m14f64f4070" y="127.64441491"/>
     <use style="fill:#0000ff;stroke:#000000;stroke-linecap:butt;stroke-width:0.5;" x="111.369875" xlink:href="#m14f64f4070" y="101.709086646"/>
     <use style="fill:#0000ff;stroke:#000000;stroke-linecap:butt;stroke-width:0.5;" x="111.704675" xlink:href="#m14f64f4070" y="104.002893933"/>
     <use style="fill:#0000ff;stroke:#000000;stroke-linecap:butt;stroke-width:0.5;" x="112.039475" xlink:href="#m14f64f4070" y="82.2820224099"/>
     <use style="fill:#0000ff;stroke:#000000;stroke-linecap:butt;stroke-width:0.5;" x="112.374275" xlink:href="#m14f64f4070" y="110.600312946"/>
     <use style="fill:#0000ff;stroke:#000000;stroke-linecap:butt;stroke-width:0.5;" x="112.709075" xlink:href="#m14f64f4070" y="108.441071258"/>
     <use style="fill:#0000ff;stroke:#000000;stroke-linecap:butt;stroke-width:0.5;" x="113.043875" xlink:href="#m14f64f4070" y="117.443146551"/>
     <use style="fill:#0000ff;stroke:#000000;stroke-linecap:butt;stroke-width:0.5;" x="113.378675" xlink:href="#m14f64f4070" y="120.437325152"/>
     <use style="fill:#0000ff;stroke:#000000;stroke-linecap:butt;stroke-width:0.5;" x="113.713475" xlink:href="#m14f64f4070" y="149.904254701"/>
     <use style="fill:#0000ff;stroke:#000000;stroke-linecap:butt;stroke-width:0.5;" x="114.048275" xlink:href="#m14f64f4070" y="123.093542852"/>
     <use style="fill:#0000ff;stroke:#000000;stroke-linecap:butt;stroke-width:0.5;" x="114.383075" xlink:href="#m14f64f4070" y="183.814216228"/>
     <use style="fill:#0000ff;stroke:#000000;stroke-linecap:butt;stroke-width:0.5;" x="114.717875" xlink:href="#m14f64f4070" y="136.41454757"/>
     <use style="fill:#0000ff;stroke:#000000;stroke-linecap:butt;stroke-width:0.5;" x="115.052675" xlink:href="#m14f64f4070" y="128.716735309"/>
     <use style="fill:#0000ff;stroke:#000000;stroke-linecap:butt;stroke-width:0.5;" x="115.387475" xlink:href="#m14f64f4070" y="129.547613094"/>
     <use style="fill:#0000ff;stroke:#000000;stroke-linecap:butt;stroke-width:0.5;" x="115.722275" xlink:href="#m14f64f4070" y="203.915939353"/>
     <use style="fill:#0000ff;stroke:#000000;stroke-linecap:butt;stroke-width:0.5;" x="116.057075" xlink:href="#m14f64f4070" y="93.6039509941"/>
     <use style="fill:#0000ff;stroke:#000000;stroke-linecap:butt;stroke-width:0.5;" x="116.391875" xlink:href="#m14f64f4070" y="132.495471713"/>
     <use style="fill:#0000ff;stroke:#000000;stroke-linecap:butt;stroke-width:0.5;" x="116.726675" xlink:href="#m14f64f4070" y="147.335051834"/>
     <use style="fill:#0000ff;stroke:#000000;stroke-linecap:butt;stroke-width:0.5;" x="117.061475" xlink:href="#m14f64f4070" y="93.6227529973"/>
     <use style="fill:#0000ff;stroke:#000000;stroke-linecap:butt;stroke-width:0.5;" x="117.396275" xlink:href="#m14f64f4070" y="124.023859426"/>
     <use style="fill:#0000ff;stroke:#000000;stroke-linecap:butt;stroke-width:0.5;" x="117.731075" xlink:href="#m14f64f4070" y="145.75049203"/>
     <use style="fill:#0000ff;stroke:#000000;stroke-linecap:butt;stroke-width:0.5;" x="118.065875" xlink:href="#m14f64f4070" y="115.239335513"/>
     <use style="fill:#0000ff;stroke:#000000;stroke-linecap:butt;stroke-width:0.5;" x="118.400675" xlink:href="#m14f64f4070" y="144.211497896"/>
     <use style="fill:#0000ff;stroke:#000000;stroke-linecap:butt;stroke-width:0.5;" x="118.735475" xlink:href="#m14f64f4070" y="106.587068643"/>
     <use style="fill:#0000ff;stroke:#000000;stroke-linecap:butt;stroke-width:0.5;" x="119.070275" xlink:href="#m14f64f4070" y="93.8970703164"/>
     <use style="fill:#0000ff;stroke:#000000;stroke-linecap:butt;stroke-width:0.5;" x="119.405075" xlink:href="#m14f64f4070" y="133.931685516"/>
     <use style="fill:#0000ff;stroke:#000000;stroke-linecap:butt;stroke-width:0.5;" x="119.739875" xlink:href="#m14f64f4070" y="134.251850471"/>
     <use style="fill:#0000ff;stroke:#000000;stroke-linecap:butt;stroke-width:0.5;" x="120.074675" xlink:href="#m14f64f4070" y="116.680693471"/>
     <use style="fill:#0000ff;stroke:#000000;stroke-linecap:butt;stroke-width:0.5;" x="120.409475" xlink:href="#m14f64f4070" y="134.475210473"/>
     <use style="fill:#0000ff;stroke:#000000;stroke-linecap:butt;stroke-width:0.5;" x="120.744275" xlink:href="#m14f64f4070" y="138.695816899"/>
     <use style="fill:#0000ff;stroke:#000000;stroke-linecap:butt;stroke-width:0.5;" x="121.079075" xlink:href="#m14f64f4070" y="177.133113683"/>
     <use style="fill:#0000ff;stroke:#000000;stroke-linecap:butt;stroke-width:0.5;" x="121.413875" xlink:href="#m14f64f4070" y="163.591322186"/>
     <use style="fill:#0000ff;stroke:#000000;stroke-linecap:butt;stroke-width:0.5;" x="121.748675" xlink:href="#m14f64f4070" y="165.746893974"/>
     <use style="fill:#0000ff;stroke:#000000;stroke-linecap:butt;stroke-width:0.5;" x="122.083475" xlink:href="#m14f64f4070" y="100.854066182"/>
     <use style="fill:#0000ff;stroke:#000000;stroke-linecap:butt;stroke-width:0.5;" x="122.418275" xlink:href="#m14f64f4070" y="163.847927472"/>
     <use style="fill:#0000ff;stroke:#000000;stroke-linecap:butt;stroke-width:0.5;" x="122.753075" xlink:href="#m14f64f4070" y="177.444351346"/>
     <use style="fill:#0000ff;stroke:#000000;stroke-linecap:butt;stroke-width:0.5;" x="123.087875" xlink:href="#m14f64f4070" y="153.393444363"/>
     <use style="fill:#0000ff;stroke:#000000;stroke-linecap:butt;stroke-width:0.5;" x="123.422675" xlink:href="#m14f64f4070" y="144.887645373"/>
     <use style="fill:#0000ff;stroke:#000000;stroke-linecap:butt;stroke-width:0.5;" x="123.757475" xlink:href="#m14f64f4070" y="173.862826571"/>
     <use style="fill:#0000ff;stroke:#000000;stroke-linecap:butt;stroke-width:0.5;" x="124.092275" xlink:href="#m14f64f4070" y="169.995651823"/>
     <use style="fill:#0000ff;stroke:#000000;stroke-linecap:butt;stroke-width:0.5;" x="124.427075" xlink:href="#m14f64f4070" y="140.44556737"/>
     <use style="fill:#0000ff;stroke:#000000;stroke-linecap:butt;stroke-width:0.5;" x="124.761875" xlink:href="#m14f64f4070" y="153.71424126"/>
     <use style="fill:#0000ff;stroke:#000000;stroke-linecap:butt;stroke-width:0.5;" x="125.096675" xlink:href="#m14f64f4070" y="87.8759054458"/>
     <use style="fill:#0000ff;stroke:#000000;stroke-linecap:butt;stroke-width:0.5;" x="125.431475" xlink:href="#m14f64f4070" y="154.221272906"/>
     <use style="fill:#0000ff;stroke:#000000;stroke-linecap:butt;stroke-width:0.5;" x="125.766275" xlink:href="#m14f64f4070" y="136.753868956"/>
     <use style="fill:#0000ff;stroke:#000000;stroke-linecap:butt;stroke-width:0.5;" x="126.101075" xlink:href="#m14f64f4070" y="146.603567394"/>
     <use style="fill:#0000ff;stroke:#000000;stroke-linecap:butt;stroke-width:0.5;" x="126.435875" xlink:href="#m14f64f4070" y="146.352789087"/>
     <use style="fill:#0000ff;stroke:#000000;stroke-linecap:butt;stroke-width:0.5;" x="126.770675" xlink:href="#m14f64f4070" y="160.463024508"/>
     <use style="fill:#0000ff;stroke:#000000;stroke-linecap:butt;stroke-width:0.5;" x="127.105475" xlink:href="#m14f64f4070" y="78.7001367287"/>
     <use style="fill:#0000ff;stroke:#000000;stroke-linecap:butt;stroke-width:0.5;" x="127.440275" xlink:href="#m14f64f4070" y="149.626723034"/>
     <use style="fill:#0000ff;stroke:#000000;stroke-linecap:butt;stroke-width:0.5;" x="127.775075" xlink:href="#m14f64f4070" y="118.808645124"/>
     <use style="fill:#0000ff;stroke:#000000;stroke-linecap:butt;stroke-width:0.5;" x="128.109875" xlink:href="#m14f64f4070" y="128.039164427"/>
     <use style="fill:#0000ff;stroke:#000000;stroke-linecap:butt;stroke-width:0.5;" x="128.444675" xlink:href="#m14f64f4070" y="180.502907399"/>
     <use style="fill:#0000ff;stroke:#000000;stroke-linecap:butt;stroke-width:0.5;" x="128.779475" xlink:href="#m14f64f4070" y="167.319950457"/>
     <use style="fill:#0000ff;stroke:#000000;stroke-linecap:butt;stroke-width:0.5;" x="129.114275" xlink:href="#m14f64f4070" y="157.079393322"/>
     <use style="fill:#0000ff;stroke:#000000;stroke-linecap:butt;stroke-width:0.5;" x="129.449075" xlink:href="#m14f64f4070" y="101.350613201"/>
     <use style="fill:#0000ff;stroke:#000000;stroke-linecap:butt;stroke-width:0.5;" x="129.783875" xlink:href="#m14f64f4070" y="143.666203875"/>
     <use style="fill:#0000ff;stroke:#000000;stroke-linecap:butt;stroke-width:0.5;" x="130.118675" xlink:href="#m14f64f4070" y="92.6714866191"/>
     <use style="fill:#0000ff;stroke:#000000;stroke-linecap:butt;stroke-width:0.5;" x="130.453475" xlink:href="#m14f64f4070" y="123.974256426"/>
     <use style="fill:#0000ff;stroke:#000000;stroke-linecap:butt;stroke-width:0.5;" x="130.788275" xlink:href="#m14f64f4070" y="143.31537016"/>
     <use style="fill:#0000ff;stroke:#000000;stroke-linecap:butt;stroke-width:0.5;" x="131.123075" xlink:href="#m14f64f4070" y="91.7666191048"/>
     <use style="fill:#0000ff;stroke:#000000;stroke-linecap:butt;stroke-width:0.5;" x="131.457875" xlink:href="#m14f64f4070" y="139.821901022"/>
     <use style="fill:#0000ff;stroke:#000000;stroke-linecap:butt;stroke-width:0.5;" x="131.792675" xlink:href="#m14f64f4070" y="137.612127427"/>
     <use style="fill:#0000ff;stroke:#000000;stroke-linecap:butt;stroke-width:0.5;" x="132.127475" xlink:href="#m14f64f4070" y="153.868515943"/>
     <use style="fill:#0000ff;stroke:#000000;stroke-linecap:butt;stroke-width:0.5;" x="132.462275" xlink:href="#m14f64f4070" y="114.024991994"/>
     <use style="fill:#0000ff;stroke:#000000;stroke-linecap:butt;stroke-width:0.5;" x="132.797075" xlink:href="#m14f64f4070" y="131.919888162"/>
     <use style="fill:#0000ff;stroke:#000000;stroke-linecap:butt;stroke-width:0.5;" x="133.131875" xlink:href="#m14f64f4070" y="163.101282397"/>
     <use style="fill:#0000ff;stroke:#000000;stroke-linecap:butt;stroke-width:0.5;" x="133.466675" xlink:href="#m14f64f4070" y="91.8476023353"/>
     <use style="fill:#0000ff;stroke:#000000;stroke-linecap:butt;stroke-width:0.5;" x="133.801475" xlink:href="#m14f64f4070" y="106.750628014"/>
     <use style="fill:#0000ff;stroke:#000000;stroke-linecap:butt;stroke-width:0.5;" x="134.136275" xlink:href="#m14f64f4070" y="85.3293673736"/>
     <use style="fill:#0000ff;stroke:#000000;stroke-linecap:butt;stroke-width:0.5;" x="134.471075" xlink:href="#m14f64f4070" y="118.215861963"/>
     <use style="fill:#0000ff;stroke:#000000;stroke-linecap:butt;stroke-width:0.5;" x="134.805875" xlink:href="#m14f64f4070" y="132.304145928"/>
     <use style="fill:#0000ff;stroke:#000000;stroke-linecap:butt;stroke-width:0.5;" x="135.140675" xlink:href="#m14f64f4070" y="104.433093249"/>
     <use style="fill:#0000ff;stroke:#000000;stroke-linecap:butt;stroke-width:0.5;" x="135.475475" xlink:href="#m14f64f4070" y="156.936225414"/>
     <use style="fill:#0000ff;stroke:#000000;stroke-linecap:butt;stroke-width:0.5;" x="135.810275" xlink:href="#m14f64f4070" y="153.426089545"/>
     <use style="fill:#0000ff;stroke:#000000;stroke-linecap:butt;stroke-width:0.5;" x="136.145075" xlink:href="#m14f64f4070" y="122.854816577"/>
     <use style="fill:#0000ff;stroke:#000000;stroke-linecap:butt;stroke-width:0.5;" x="136.479875" xlink:href="#m14f64f4070" y="107.975604836"/>
     <use style="fill:#0000ff;stroke:#000000;stroke-linecap:butt;stroke-width:0.5;" x="136.814675" xlink:href="#m14f64f4070" y="121.539346297"/>
     <use style="fill:#0000ff;stroke:#000000;stroke-linecap:butt;stroke-width:0.5;" x="137.149475" xlink:href="#m14f64f4070" y="181.905343923"/>
     <use style="fill:#0000ff;stroke:#000000;stroke-linecap:butt;stroke-width:0.5;" x="137.484275" xlink:href="#m14f64f4070" y="130.918896204"/>
     <use style="fill:#0000ff;stroke:#000000;stroke-linecap:butt;stroke-width:0.5;" x="137.819075" xlink:href="#m14f64f4070" y="165.516202548"/>
     <use style="fill:#0000ff;stroke:#000000;stroke-linecap:butt;stroke-width:0.5;" x="138.153875" xlink:href="#m14f64f4070" y="112.640040981"/>
     <use style="fill:#0000ff;stroke:#000000;stroke-linecap:butt;stroke-width:0.5;" x="138.488675" xlink:href="#m14f64f4070" y="150.489972538"/>
     <use style="fill:#0000ff;stroke:#000000;stroke-linecap:butt;stroke-width:0.5;" x="138.823475" xlink:href="#m14f64f4070" y="138.594906234"/>
     <use style="fill:#0000ff;stroke:#000000;stroke-linecap:butt;stroke-width:0.5;" x="139.158275" xlink:href="#m14f64f4070" y="85.8479074285"/>
     <use style="fill:#0000ff;stroke:#000000;stroke-linecap:butt;stroke-width:0.5;" x="139.493075" xlink:href="#m14f64f4070" y="179.303135123"/>
     <use style="fill:#0000ff;stroke:#000000;stroke-linecap:butt;stroke-width:0.5;" x="139.827875" xlink:href="#m14f64f4070" y="156.898451143"/>
     <use style="fill:#0000ff;stroke:#000000;stroke-linecap:butt;stroke-width:0.5;" x="140.162675" xlink:href="#m14f64f4070" y="117.26615529"/>
     <use style="fill:#0000ff;stroke:#000000;stroke-linecap:butt;stroke-width:0.5;" x="140.497475" xlink:href="#m14f64f4070" y="167.023454781"/>
     <use style="fill:#0000ff;stroke:#000000;stroke-linecap:butt;stroke-width:0.5;" x="140.832275" xlink:href="#m14f64f4070" y="101.067761661"/>
     <use style="fill:#0000ff;stroke:#000000;stroke-linecap:butt;stroke-width:0.5;" x="141.167075" xlink:href="#m14f64f4070" y="90.5289219234"/>
     <use style="fill:#0000ff;stroke:#000000;stroke-linecap:butt;stroke-width:0.5;" x="141.501875" xlink:href="#m14f64f4070" y="137.688853832"/>
     <use style="fill:#0000ff;stroke:#000000;stroke-linecap:butt;stroke-width:0.5;" x="141.836675" xlink:href="#m14f64f4070" y="141.836688557"/>
     <use style="fill:#0000ff;stroke:#000000;stroke-linecap:butt;stroke-width:0.5;" x="142.171475" xlink:href="#m14f64f4070" y="174.968990066"/>
     <use style="fill:#0000ff;stroke:#000000;stroke-linecap:butt;stroke-width:0.5;" x="142.506275" xlink:href="#m14f64f4070" y="100.601087879"/>
     <use style="fill:#0000ff;stroke:#000000;stroke-linecap:butt;stroke-width:0.5;" x="142.841075" xlink:href="#m14f64f4070" y="159.594026246"/>
     <use style="fill:#0000ff;stroke:#000000;stroke-linecap:butt;stroke-width:0.5;" x="143.175875" xlink:href="#m14f64f4070" y="141.951165293"/>
     <use style="fill:#0000ff;stroke:#000000;stroke-linecap:butt;stroke-width:0.5;" x="143.510675" xlink:href="#m14f64f4070" y="181.620526229"/>
     <use style="fill:#0000ff;stroke:#000000;stroke-linecap:butt;stroke-width:0.5;" x="143.845475" xlink:href="#m14f64f4070" y="151.186588304"/>
     <use style="fill:#0000ff;stroke:#000000;stroke-linecap:butt;stroke-width:0.5;" x="144.180275" xlink:href="#m14f64f4070" y="115.917277232"/>
     <use style="fill:#0000ff;stroke:#000000;stroke-linecap:butt;stroke-width:0.5;" x="144.515075" xlink:href="#m14f64f4070" y="141.946364943"/>
     <use style="fill:#0000ff;stroke:#000000;stroke-linecap:butt;stroke-width:0.5;" x="144.849875" xlink:href="#m14f64f4070" y="139.106964223"/>
     <use style="fill:#0000ff;stroke:#000000;stroke-linecap:butt;stroke-width:0.5;" x="145.184675" xlink:href="#m14f64f4070" y="170.589213464"/>
     <use style="fill:#0000ff;stroke:#000000;stroke-linecap:butt;stroke-width:0.5;" x="145.519475" xlink:href="#m14f64f4070" y="99.905557098"/>
     <use style="fill:#0000ff;stroke:#000000;stroke-linecap:butt;stroke-width:0.5;" x="145.854275" xlink:href="#m14f64f4070" y="188.679432023"/>
     <use style="fill:#0000ff;stroke:#000000;stroke-linecap:butt;stroke-width:0.5;" x="146.189075" xlink:href="#m14f64f4070" y="127.849897943"/>
     <use style="fill:#0000ff;stroke:#000000;stroke-linecap:butt;stroke-width:0.5;" x="146.523875" xlink:href="#m14f64f4070" y="129.391895792"/>
     <use style="fill:#0000ff;stroke:#000000;stroke-linecap:butt;stroke-width:0.5;" x="146.858675" xlink:href="#m14f64f4070" y="155.031729801"/>
     <use style="fill:#0000ff;stroke:#000000;stroke-linecap:butt;stroke-width:0.5;" x="147.193475" xlink:href="#m14f64f4070" y="127.332701966"/>
     <use style="fill:#0000ff;stroke:#000000;stroke-linecap:butt;stroke-width:0.5;" x="147.528275" xlink:href="#m14f64f4070" y="166.8013288"/>
     <use style="fill:#0000ff;stroke:#000000;stroke-linecap:butt;stroke-width:0.5;" x="147.863075" xlink:href="#m14f64f4070" y="131.533671915"/>
     <use style="fill:#0000ff;stroke:#000000;stroke-linecap:butt;stroke-width:0.5;" x="148.197875" xlink:href="#m14f64f4070" y="117.802551622"/>
     <use style="fill:#0000ff;stroke:#000000;stroke-linecap:butt;stroke-width:0.5;" x="148.532675" xlink:href="#m14f64f4070" y="128.79262233"/>
     <use style="fill:#0000ff;stroke:#000000;stroke-linecap:butt;stroke-width:0.5;" x="148.867475" xlink:href="#m14f64f4070" y="170.759728063"/>
     <use style="fill:#0000ff;stroke:#000000;stroke-linecap:butt;stroke-width:0.5;" x="149.202275" xlink:href="#m14f64f4070" y="169.649978134"/>
     <use style="fill:#0000ff;stroke:#000000;stroke-linecap:butt;stroke-width:0.5;" x="149.537075" xlink:href="#m14f64f4070" y="152.555741424"/>
     <use style="fill:#0000ff;stroke:#000000;stroke-linecap:butt;stroke-width:0.5;" x="149.871875" xlink:href="#m14f64f4070" y="148.092993179"/>
     <use style="fill:#0000ff;stroke:#000000;stroke-linecap:butt;stroke-width:0.5;" x="150.206675" xlink:href="#m14f64f4070" y="125.495725981"/>
     <use style="fill:#0000ff;stroke:#000000;stroke-linecap:butt;stroke-width:0.5;" x="150.541475" xlink:href="#m14f64f4070" y="126.712430658"/>
     <use style="fill:#0000ff;stroke:#000000;stroke-linecap:butt;stroke-width:0.5;" x="150.876275" xlink:href="#m14f64f4070" y="80.0810372584"/>
     <use style="fill:#0000ff;stroke:#000000;stroke-linecap:butt;stroke-width:0.5;" x="151.211075" xlink:href="#m14f64f4070" y="97.3772179046"/>
     <use style="fill:#0000ff;stroke:#000000;stroke-linecap:butt;stroke-width:0.5;" x="151.545875" xlink:href="#m14f64f4070" y="169.928095157"/>
     <use style="fill:#0000ff;stroke:#000000;stroke-linecap:butt;stroke-width:0.5;" x="151.880675" xlink:href="#m14f64f4070" y="144.30051175"/>
     <use style="fill:#0000ff;stroke:#000000;stroke-linecap:butt;stroke-width:0.5;" x="152.215475" xlink:href="#m14f64f4070" y="154.810595508"/>
     <use style="fill:#0000ff;stroke:#000000;stroke-linecap:butt;stroke-width:0.5;" x="152.550275" xlink:href="#m14f64f4070" y="177.470329265"/>
     <use style="fill:#0000ff;stroke:#000000;stroke-linecap:butt;stroke-width:0.5;" x="152.885075" xlink:href="#m14f64f4070" y="213.147766821"/>
     <use style="fill:#0000ff;stroke:#000000;stroke-linecap:butt;stroke-width:0.5;" x="153.219875" xlink:href="#m14f64f4070" y="126.067779109"/>
     <use style="fill:#0000ff;stroke:#000000;stroke-linecap:butt;stroke-width:0.5;" x="153.554675" xlink:href="#m14f64f4070" y="171.125997487"/>
     <use style="fill:#0000ff;stroke:#000000;stroke-linecap:butt;stroke-width:0.5;" x="153.889475" xlink:href="#m14f64f4070" y="155.517038792"/>
     <use style="fill:#0000ff;stroke:#000000;stroke-linecap:butt;stroke-width:0.5;" x="154.224275" xlink:href="#m14f64f4070" y="101.175951367"/>
     <use style="fill:#0000ff;stroke:#000000;stroke-linecap:butt;stroke-width:0.5;" x="154.559075" xlink:href="#m14f64f4070" y="119.885793318"/>
     <use style="fill:#0000ff;stroke:#000000;stroke-linecap:butt;stroke-width:0.5;" x="154.893875" xlink:href="#m14f64f4070" y="129.751861981"/>
     <use style="fill:#0000ff;stroke:#000000;stroke-linecap:butt;stroke-width:0.5;" x="155.228675" xlink:href="#m14f64f4070" y="141.258694473"/>
     <use style="fill:#0000ff;stroke:#000000;stroke-linecap:butt;stroke-width:0.5;" x="155.563475" xlink:href="#m14f64f4070" y="65.2108785592"/>
     <use style="fill:#0000ff;stroke:#000000;stroke-linecap:butt;stroke-width:0.5;" x="155.898275" xlink:href="#m14f64f4070" y="124.37027915"/>
     <use style="fill:#0000ff;stroke:#000000;stroke-linecap:butt;stroke-width:0.5;" x="156.233075" xlink:href="#m14f64f4070" y="115.611883289"/>
     <use style="fill:#0000ff;stroke:#000000;stroke-linecap:butt;stroke-width:0.5;" x="156.567875" xlink:href="#m14f64f4070" y="186.755851248"/>
     <use style="fill:#0000ff;stroke:#000000;stroke-linecap:butt;stroke-width:0.5;" x="156.902675" xlink:href="#m14f64f4070" y="161.623155495"/>
     <use style="fill:#0000ff;stroke:#000000;stroke-linecap:butt;stroke-width:0.5;" x="157.237475" xlink:href="#m14f64f4070" y="154.100659993"/>
     <use style="fill:#0000ff;stroke:#000000;stroke-linecap:butt;stroke-width:0.5;" x="157.572275" xlink:href="#m14f64f4070" y="181.591577864"/>
     <use style="fill:#0000ff;stroke:#000000;stroke-linecap:butt;stroke-width:0.5;" x="157.907075" xlink:href="#m14f64f4070" y="172.207148341"/>
     <use style="fill:#0000ff;stroke:#000000;stroke-linecap:butt;stroke-width:0.5;" x="158.241875" xlink:href="#m14f64f4070" y="134.81810564"/>
     <use style="fill:#0000ff;stroke:#000000;stroke-linecap:butt;stroke-width:0.5;" x="158.576675" xlink:href="#m14f64f4070" y="151.077892848"/>
     <use style="fill:#0000ff;stroke:#000000;stroke-linecap:butt;stroke-width:0.5;" x="158.911475" xlink:href="#m14f64f4070" y="183.311398469"/>
     <use style="fill:#0000ff;stroke:#000000;stroke-linecap:butt;stroke-width:0.5;" x="159.246275" xlink:href="#m14f64f4070" y="128.91642475"/>
     <use style="fill:#0000ff;stroke:#000000;stroke-linecap:butt;stroke-width:0.5;" x="159.581075" xlink:href="#m14f64f4070" y="160.794808715"/>
     <use style="fill:#0000ff;stroke:#000000;stroke-linecap:butt;stroke-width:0.5;" x="159.915875" xlink:href="#m14f64f4070" y="131.307313149"/>
     <use style="fill:#0000ff;stroke:#000000;stroke-linecap:butt;stroke-width:0.5;" x="160.250675" xlink:href="#m14f64f4070" y="151.308412613"/>
     <use style="fill:#0000ff;stroke:#000000;stroke-linecap:butt;stroke-width:0.5;" x="160.585475" xlink:href="#m14f64f4070" y="154.996220412"/>
     <use style="fill:#0000ff;stroke:#000000;stroke-linecap:butt;stroke-width:0.5;" x="160.920275" xlink:href="#m14f64f4070" y="82.2718422186"/>
     <use style="fill:#0000ff;stroke:#000000;stroke-linecap:butt;stroke-width:0.5;" x="161.255075" xlink:href="#m14f64f4070" y="114.562460727"/>
     <use style="fill:#0000ff;stroke:#000000;stroke-linecap:butt;stroke-width:0.5;" x="161.589875" xlink:href="#m14f64f4070" y="174.565780225"/>
     <use style="fill:#0000ff;stroke:#000000;stroke-linecap:butt;stroke-width:0.5;" x="161.924675" xlink:href="#m14f64f4070" y="160.668614279"/>
     <use style="fill:#0000ff;stroke:#000000;stroke-linecap:butt;stroke-width:0.5;" x="162.259475" xlink:href="#m14f64f4070" y="125.317723988"/>
     <use style="fill:#0000ff;stroke:#000000;stroke-linecap:butt;stroke-width:0.5;" x="162.594275" xlink:href="#m14f64f4070" y="92.4096164002"/>
     <use style="fill:#0000ff;stroke:#000000;stroke-linecap:butt;stroke-width:0.5;" x="162.929075" xlink:href="#m14f64f4070" y="92.893238073"/>
     <use style="fill:#0000ff;stroke:#000000;stroke-linecap:butt;stroke-width:0.5;" x="163.263875" xlink:href="#m14f64f4070" y="122.259589044"/>
     <use style="fill:#0000ff;stroke:#000000;stroke-linecap:butt;stroke-width:0.5;" x="163.598675" xlink:href="#m14f64f4070" y="157.165846325"/>
     <use style="fill:#0000ff;stroke:#000000;stroke-linecap:butt;stroke-width:0.5;" x="163.933475" xlink:href="#m14f64f4070" y="153.680274444"/>
     <use style="fill:#0000ff;stroke:#000000;stroke-linecap:butt;stroke-width:0.5;" x="164.268275" xlink:href="#m14f64f4070" y="145.300073172"/>
     <use style="fill:#0000ff;stroke:#000000;stroke-linecap:butt;stroke-width:0.5;" x="164.603075" xlink:href="#m14f64f4070" y="116.537379083"/>
     <use style="fill:#0000ff;stroke:#000000;stroke-linecap:butt;stroke-width:0.5;" x="164.937875" xlink:href="#m14f64f4070" y="194.344216562"/>
     <use style="fill:#0000ff;stroke:#000000;stroke-linecap:butt;stroke-width:0.5;" x="165.272675" xlink:href="#m14f64f4070" y="104.602325983"/>
     <use style="fill:#0000ff;stroke:#000000;stroke-linecap:butt;stroke-width:0.5;" x="165.607475" xlink:href="#m14f64f4070" y="126.883553285"/>
     <use style="fill:#0000ff;stroke:#000000;stroke-linecap:butt;stroke-width:0.5;" x="165.942275" xlink:href="#m14f64f4070" y="74.7543546666"/>
     <use style="fill:#0000ff;stroke:#000000;stroke-linecap:butt;stroke-width:0.5;" x="166.277075" xlink:href="#m14f64f4070" y="119.546520556"/>
     <use style="fill:#0000ff;stroke:#000000;stroke-linecap:butt;stroke-width:0.5;" x="166.611875" xlink:href="#m14f64f4070" y="95.7240863793"/>
     <use style="fill:#0000ff;stroke:#000000;stroke-linecap:butt;stroke-width:0.5;" x="166.946675" xlink:href="#m14f64f4070" y="145.32335011"/>
     <use style="fill:#0000ff;stroke:#000000;stroke-linecap:butt;stroke-width:0.5;" x="167.281475" xlink:href="#m14f64f4070" y="127.486623486"/>
     <use style="fill:#0000ff;stroke:#000000;stroke-linecap:butt;stroke-width:0.5;" x="167.616275" xlink:href="#m14f64f4070" y="74.2738610268"/>
     <use style="fill:#0000ff;stroke:#000000;stroke-linecap:butt;stroke-width:0.5;" x="167.951075" xlink:href="#m14f64f4070" y="131.866848201"/>
     <use style="fill:#0000ff;stroke:#000000;stroke-linecap:butt;stroke-width:0.5;" x="168.285875" xlink:href="#m14f64f4070" y="137.030694837"/>
     <use style="fill:#0000ff;stroke:#000000;stroke-linecap:butt;stroke-width:0.5;" x="168.620675" xlink:href="#m14f64f4070" y="109.701226031"/>
     <use style="fill:#0000ff;stroke:#000000;stroke-linecap:butt;stroke-width:0.5;" x="168.955475" xlink:href="#m14f64f4070" y="142.56433295"/>
     <use style="fill:#0000ff;stroke:#000000;stroke-linecap:butt;stroke-width:0.5;" x="169.290275" xlink:href="#m14f64f4070" y="114.061749881"/>
     <use style="fill:#0000ff;stroke:#000000;stroke-linecap:butt;stroke-width:0.5;" x="169.625075" xlink:href="#m14f64f4070" y="144.994951097"/>
     <use style="fill:#0000ff;stroke:#000000;stroke-linecap:butt;stroke-width:0.5;" x="169.959875" xlink:href="#m14f64f4070" y="103.083758158"/>
     <use style="fill:#0000ff;stroke:#000000;stroke-linecap:butt;stroke-width:0.5;" x="170.294675" xlink:href="#m14f64f4070" y="143.331488376"/>
     <use style="fill:#0000ff;stroke:#000000;stroke-linecap:butt;stroke-width:0.5;" x="170.629475" xlink:href="#m14f64f4070" y="81.8760379834"/>
     <use style="fill:#0000ff;stroke:#000000;stroke-linecap:butt;stroke-width:0.5;" x="170.964275" xlink:href="#m14f64f4070" y="125.879861651"/>
     <use style="fill:#0000ff;stroke:#000000;stroke-linecap:butt;stroke-width:0.5;" x="171.299075" xlink:href="#m14f64f4070" y="128.847097202"/>
     <use style="fill:#0000ff;stroke:#000000;stroke-linecap:butt;stroke-width:0.5;" x="171.633875" xlink:href="#m14f64f4070" y="119.493930501"/>
     <use style="fill:#0000ff;stroke:#000000;stroke-linecap:butt;stroke-width:0.5;" x="171.968675" xlink:href="#m14f64f4070" y="138.570477381"/>
     <use style="fill:#0000ff;stroke:#000000;stroke-linecap:butt;stroke-width:0.5;" x="172.303475" xlink:href="#m14f64f4070" y="158.690583219"/>
     <use style="fill:#0000ff;stroke:#000000;stroke-linecap:butt;stroke-width:0.5;" x="172.638275" xlink:href="#m14f64f4070" y="114.872338074"/>
     <use style="fill:#0000ff;stroke:#000000;stroke-linecap:butt;stroke-width:0.5;" x="172.973075" xlink:href="#m14f64f4070" y="108.923221164"/>
     <use style="fill:#0000ff;stroke:#000000;stroke-linecap:butt;stroke-width:0.5;" x="173.307875" xlink:href="#m14f64f4070" y="145.152330749"/>
     <use style="fill:#0000ff;stroke:#000000;stroke-linecap:butt;stroke-width:0.5;" x="173.642675" xlink:href="#m14f64f4070" y="171.320404717"/>
     <use style="fill:#0000ff;stroke:#000000;stroke-linecap:butt;stroke-width:0.5;" x="173.977475" xlink:href="#m14f64f4070" y="158.456330672"/>
     <use style="fill:#0000ff;stroke:#000000;stroke-linecap:butt;stroke-width:0.5;" x="174.312275" xlink:href="#m14f64f4070" y="146.460667454"/>
     <use style="fill:#0000ff;stroke:#000000;stroke-linecap:butt;stroke-width:0.5;" x="174.647075" xlink:href="#m14f64f4070" y="150.839543475"/>
     <use style="fill:#0000ff;stroke:#000000;stroke-linecap:butt;stroke-width:0.5;" x="174.981875" xlink:href="#m14f64f4070" y="110.828075849"/>
     <use style="fill:#0000ff;stroke:#000000;stroke-linecap:butt;stroke-width:0.5;" x="175.316675" xlink:href="#m14f64f4070" y="128.668912056"/>
     <use style="fill:#0000ff;stroke:#000000;stroke-linecap:butt;stroke-width:0.5;" x="175.651475" xlink:href="#m14f64f4070" y="131.483055095"/>
     <use style="fill:#0000ff;stroke:#000000;stroke-linecap:butt;stroke-width:0.5;" x="175.986275" xlink:href="#m14f64f4070" y="151.918206027"/>
     <use style="fill:#0000ff;stroke:#000000;stroke-linecap:butt;stroke-width:0.5;" x="176.321075" xlink:href="#m14f64f4070" y="179.776166502"/>
     <use style="fill:#0000ff;stroke:#000000;stroke-linecap:butt;stroke-width:0.5;" x="176.655875" xlink:href="#m14f64f4070" y="101.782992848"/>
     <use style="fill:#0000ff;stroke:#000000;stroke-linecap:butt;stroke-width:0.5;" x="176.990675" xlink:href="#m14f64f4070" y="141.479082206"/>
     <use style="fill:#0000ff;stroke:#000000;stroke-linecap:butt;stroke-width:0.5;" x="177.325475" xlink:href="#m14f64f4070" y="107.171315607"/>
     <use style="fill:#0000ff;stroke:#000000;stroke-linecap:butt;stroke-width:0.5;" x="177.660275" xlink:href="#m14f64f4070" y="108.052857371"/>
     <use style="fill:#0000ff;stroke:#000000;stroke-linecap:butt;stroke-width:0.5;" x="177.995075" xlink:href="#m14f64f4070" y="110.542275802"/>
     <use style="fill:#0000ff;stroke:#000000;stroke-linecap:butt;stroke-width:0.5;" x="178.329875" xlink:href="#m14f64f4070" y="92.4975106828"/>
     <use style="fill:#0000ff;stroke:#000000;stroke-linecap:butt;stroke-width:0.5;" x="178.664675" xlink:href="#m14f64f4070" y="141.162439799"/>
     <use style="fill:#0000ff;stroke:#000000;stroke-linecap:butt;stroke-width:0.5;" x="178.999475" xlink:href="#m14f64f4070" y="142.030680196"/>
     <use style="fill:#0000ff;stroke:#000000;stroke-linecap:butt;stroke-width:0.5;" x="179.334275" xlink:href="#m14f64f4070" y="189.41727959"/>
     <use style="fill:#0000ff;stroke:#000000;stroke-linecap:butt;stroke-width:0.5;" x="179.669075" xlink:href="#m14f64f4070" y="155.824736547"/>
     <use style="fill:#0000ff;stroke:#000000;stroke-linecap:butt;stroke-width:0.5;" x="180.003875" xlink:href="#m14f64f4070" y="154.54862928"/>
     <use style="fill:#0000ff;stroke:#000000;stroke-linecap:butt;stroke-width:0.5;" x="180.338675" xlink:href="#m14f64f4070" y="160.627165832"/>
     <use style="fill:#0000ff;stroke:#000000;stroke-linecap:butt;stroke-width:0.5;" x="180.673475" xlink:href="#m14f64f4070" y="120.124591903"/>
     <use style="fill:#0000ff;stroke:#000000;stroke-linecap:butt;stroke-width:0.5;" x="181.008275" xlink:href="#m14f64f4070" y="113.162777781"/>
     <use style="fill:#0000ff;stroke:#000000;stroke-linecap:butt;stroke-width:0.5;" x="181.343075" xlink:href="#m14f64f4070" y="145.725923202"/>
     <use style="fill:#0000ff;stroke:#000000;stroke-linecap:butt;stroke-width:0.5;" x="181.677875" xlink:href="#m14f64f4070" y="122.05656618"/>
     <use style="fill:#0000ff;stroke:#000000;stroke-linecap:butt;stroke-width:0.5;" x="182.012675" xlink:href="#m14f64f4070" y="119.571067831"/>
     <use style="fill:#0000ff;stroke:#000000;stroke-linecap:butt;stroke-width:0.5;" x="182.347475" xlink:href="#m14f64f4070" y="123.172884942"/>
     <use style="fill:#0000ff;stroke:#000000;stroke-linecap:butt;stroke-width:0.5;" x="182.682275" xlink:href="#m14f64f4070" y="169.804523838"/>
     <use style="fill:#0000ff;stroke:#000000;stroke-linecap:butt;stroke-width:0.5;" x="183.017075" xlink:href="#m14f64f4070" y="122.270170783"/>
     <use style="fill:#0000ff;stroke:#000000;stroke-linecap:butt;stroke-width:0.5;" x="183.351875" xlink:href="#m14f64f4070" y="149.869216447"/>
     <use style="fill:#0000ff;stroke:#000000;stroke-linecap:butt;stroke-width:0.5;" x="183.686675" xlink:href="#m14f64f4070" y="130.347805161"/>
     <use style="fill:#0000ff;stroke:#000000;stroke-linecap:butt;stroke-width:0.5;" x="184.021475" xlink:href="#m14f64f4070" y="109.263680314"/>
     <use style="fill:#0000ff;stroke:#000000;stroke-linecap:butt;stroke-width:0.5;" x="184.356275" xlink:href="#m14f64f4070" y="164.389108349"/>
     <use style="fill:#0000ff;stroke:#000000;stroke-linecap:butt;stroke-width:0.5;" x="184.691075" xlink:href="#m14f64f4070" y="153.382119354"/>
     <use style="fill:#0000ff;stroke:#000000;stroke-linecap:butt;stroke-width:0.5;" x="185.025875" xlink:href="#m14f64f4070" y="133.476094863"/>
     <use style="fill:#0000ff;stroke:#000000;stroke-linecap:butt;stroke-width:0.5;" x="185.360675" xlink:href="#m14f64f4070" y="148.507515504"/>
     <use style="fill:#0000ff;stroke:#000000;stroke-linecap:butt;stroke-width:0.5;" x="185.695475" xlink:href="#m14f64f4070" y="159.522757887"/>
     <use style="fill:#0000ff;stroke:#000000;stroke-linecap:butt;stroke-width:0.5;" x="186.030275" xlink:href="#m14f64f4070" y="117.315678776"/>
     <use style="fill:#0000ff;stroke:#000000;stroke-linecap:butt;stroke-width:0.5;" x="186.365075" xlink:href="#m14f64f4070" y="152.460950326"/>
     <use style="fill:#0000ff;stroke:#000000;stroke-linecap:butt;stroke-width:0.5;" x="186.699875" xlink:href="#m14f64f4070" y="165.473744911"/>
     <use style="fill:#0000ff;stroke:#000000;stroke-linecap:butt;stroke-width:0.5;" x="187.034675" xlink:href="#m14f64f4070" y="122.176057166"/>
     <use style="fill:#0000ff;stroke:#000000;stroke-linecap:butt;stroke-width:0.5;" x="187.369475" xlink:href="#m14f64f4070" y="126.13858017"/>
     <use style="fill:#0000ff;stroke:#000000;stroke-linecap:butt;stroke-width:0.5;" x="187.704275" xlink:href="#m14f64f4070" y="136.580220215"/>
     <use style="fill:#0000ff;stroke:#000000;stroke-linecap:butt;stroke-width:0.5;" x="188.039075" xlink:href="#m14f64f4070" y="155.970576569"/>
     <use style="fill:#0000ff;stroke:#000000;stroke-linecap:butt;stroke-width:0.5;" x="188.373875" xlink:href="#m14f64f4070" y="160.167687575"/>
     <use style="fill:#0000ff;stroke:#000000;stroke-linecap:butt;stroke-width:0.5;" x="188.708675" xlink:href="#m14f64f4070" y="163.378218649"/>
     <use style="fill:#0000ff;stroke:#000000;stroke-linecap:butt;stroke-width:0.5;" x="189.043475" xlink:href="#m14f64f4070" y="171.90734446"/>
     <use style="fill:#0000ff;stroke:#000000;stroke-linecap:butt;stroke-width:0.5;" x="189.378275" xlink:href="#m14f64f4070" y="145.791802742"/>
     <use style="fill:#0000ff;stroke:#000000;stroke-linecap:butt;stroke-width:0.5;" x="189.713075" xlink:href="#m14f64f4070" y="125.869095749"/>
     <use style="fill:#0000ff;stroke:#000000;stroke-linecap:butt;stroke-width:0.5;" x="190.047875" xlink:href="#m14f64f4070" y="113.321339193"/>
     <use style="fill:#0000ff;stroke:#000000;stroke-linecap:butt;stroke-width:0.5;" x="190.382675" xlink:href="#m14f64f4070" y="179.851269792"/>
     <use style="fill:#0000ff;stroke:#000000;stroke-linecap:butt;stroke-width:0.5;" x="190.717475" xlink:href="#m14f64f4070" y="96.17294066"/>
     <use style="fill:#0000ff;stroke:#000000;stroke-linecap:butt;stroke-width:0.5;" x="191.052275" xlink:href="#m14f64f4070" y="148.76532746"/>
     <use style="fill:#0000ff;stroke:#000000;stroke-linecap:butt;stroke-width:0.5;" x="191.387075" xlink:href="#m14f64f4070" y="115.837043129"/>
     <use style="fill:#0000ff;stroke:#000000;stroke-linecap:butt;stroke-width:0.5;" x="191.721875" xlink:href="#m14f64f4070" y="129.48474359"/>
     <use style="fill:#0000ff;stroke:#000000;stroke-linecap:butt;stroke-width:0.5;" x="192.056675" xlink:href="#m14f64f4070" y="173.574344383"/>
     <use style="fill:#0000ff;stroke:#000000;stroke-linecap:butt;stroke-width:0.5;" x="192.391475" xlink:href="#m14f64f4070" y="199.283462644"/>
     <use style="fill:#0000ff;stroke:#000000;stroke-linecap:butt;stroke-width:0.5;" x="192.726275" xlink:href="#m14f64f4070" y="179.554919086"/>
     <use style="fill:#0000ff;stroke:#000000;stroke-linecap:butt;stroke-width:0.5;" x="193.061075" xlink:href="#m14f64f4070" y="118.277291073"/>
     <use style="fill:#0000ff;stroke:#000000;stroke-linecap:butt;stroke-width:0.5;" x="193.395875" xlink:href="#m14f64f4070" y="182.954049225"/>
     <use style="fill:#0000ff;stroke:#000000;stroke-linecap:butt;stroke-width:0.5;" x="193.730675" xlink:href="#m14f64f4070" y="111.795137465"/>
     <use style="fill:#0000ff;stroke:#000000;stroke-linecap:butt;stroke-width:0.5;" x="194.065475" xlink:href="#m14f64f4070" y="100.566591923"/>
     <use style="fill:#0000ff;stroke:#000000;stroke-linecap:butt;stroke-width:0.5;" x="194.400275" xlink:href="#m14f64f4070" y="169.664365902"/>
     <use style="fill:#0000ff;stroke:#000000;stroke-linecap:butt;stroke-width:0.5;" x="194.735075" xlink:href="#m14f64f4070" y="95.6039610362"/>
     <use style="fill:#0000ff;stroke:#000000;stroke-linecap:butt;stroke-width:0.5;" x="195.069875" xlink:href="#m14f64f4070" y="112.931599844"/>
     <use style="fill:#0000ff;stroke:#000000;stroke-linecap:butt;stroke-width:0.5;" x="195.404675" xlink:href="#m14f64f4070" y="123.951950691"/>
     <use style="fill:#0000ff;stroke:#000000;stroke-linecap:butt;stroke-width:0.5;" x="195.739475" xlink:href="#m14f64f4070" y="152.135161827"/>
     <use style="fill:#0000ff;stroke:#000000;stroke-linecap:butt;stroke-width:0.5;" x="196.074275" xlink:href="#m14f64f4070" y="145.03738738"/>
     <use style="fill:#0000ff;stroke:#000000;stroke-linecap:butt;stroke-width:0.5;" x="196.409075" xlink:href="#m14f64f4070" y="147.22295591"/>
     <use style="fill:#0000ff;stroke:#000000;stroke-linecap:butt;stroke-width:0.5;" x="196.743875" xlink:href="#m14f64f4070" y="172.099366847"/>
     <use style="fill:#0000ff;stroke:#000000;stroke-linecap:butt;stroke-width:0.5;" x="197.078675" xlink:href="#m14f64f4070" y="145.645123094"/>
     <use style="fill:#0000ff;stroke:#000000;stroke-linecap:butt;stroke-width:0.5;" x="197.413475" xlink:href="#m14f64f4070" y="138.566023169"/>
     <use style="fill:#0000ff;stroke:#000000;stroke-linecap:butt;stroke-width:0.5;" x="197.748275" xlink:href="#m14f64f4070" y="180.735937341"/>
     <use style="fill:#0000ff;stroke:#000000;stroke-linecap:butt;stroke-width:0.5;" x="198.083075" xlink:href="#m14f64f4070" y="127.370684714"/>
     <use style="fill:#0000ff;stroke:#000000;stroke-linecap:butt;stroke-width:0.5;" x="198.417875" xlink:href="#m14f64f4070" y="94.8973938527"/>
     <use style="fill:#0000ff;stroke:#000000;stroke-linecap:butt;stroke-width:0.5;" x="198.752675" xlink:href="#m14f64f4070" y="123.440589678"/>
     <use style="fill:#0000ff;stroke:#000000;stroke-linecap:butt;stroke-width:0.5;" x="199.087475" xlink:href="#m14f64f4070" y="120.82668193"/>
     <use style="fill:#0000ff;stroke:#000000;stroke-linecap:butt;stroke-width:0.5;" x="199.422275" xlink:href="#m14f64f4070" y="111.723334881"/>
     <use style="fill:#0000ff;stroke:#000000;stroke-linecap:butt;stroke-width:0.5;" x="199.757075" xlink:href="#m14f64f4070" y="125.298343595"/>
     <use style="fill:#0000ff;stroke:#000000;stroke-linecap:butt;stroke-width:0.5;" x="200.091875" xlink:href="#m14f64f4070" y="153.001747425"/>
     <use style="fill:#0000ff;stroke:#000000;stroke-linecap:butt;stroke-width:0.5;" x="200.426675" xlink:href="#m14f64f4070" y="104.309858546"/>
     <use style="fill:#0000ff;stroke:#000000;stroke-linecap:butt;stroke-width:0.5;" x="200.761475" xlink:href="#m14f64f4070" y="110.15247357"/>
     <use style="fill:#0000ff;stroke:#000000;stroke-linecap:butt;stroke-width:0.5;" x="201.096275" xlink:href="#m14f64f4070" y="138.364957978"/>
     <use style="fill:#0000ff;stroke:#000000;stroke-linecap:butt;stroke-width:0.5;" x="201.431075" xlink:href="#m14f64f4070" y="121.581261664"/>
     <use style="fill:#0000ff;stroke:#000000;stroke-linecap:butt;stroke-width:0.5;" x="201.765875" xlink:href="#m14f64f4070" y="96.3537175962"/>
     <use style="fill:#0000ff;stroke:#000000;stroke-linecap:butt;stroke-width:0.5;" x="202.100675" xlink:href="#m14f64f4070" y="143.803973604"/>
     <use style="fill:#0000ff;stroke:#000000;stroke-linecap:butt;stroke-width:0.5;" x="202.435475" xlink:href="#m14f64f4070" y="113.933512011"/>
     <use style="fill:#0000ff;stroke:#000000;stroke-linecap:butt;stroke-width:0.5;" x="202.770275" xlink:href="#m14f64f4070" y="188.467843308"/>
     <use style="fill:#0000ff;stroke:#000000;stroke-linecap:butt;stroke-width:0.5;" x="203.105075" xlink:href="#m14f64f4070" y="153.012982805"/>
     <use style="fill:#0000ff;stroke:#000000;stroke-linecap:butt;stroke-width:0.5;" x="203.439875" xlink:href="#m14f64f4070" y="144.419741788"/>
     <use style="fill:#0000ff;stroke:#000000;stroke-linecap:butt;stroke-width:0.5;" x="203.774675" xlink:href="#m14f64f4070" y="151.528189013"/>
     <use style="fill:#0000ff;stroke:#000000;stroke-linecap:butt;stroke-width:0.5;" x="204.109475" xlink:href="#m14f64f4070" y="154.292441472"/>
     <use style="fill:#0000ff;stroke:#000000;stroke-linecap:butt;stroke-width:0.5;" x="204.444275" xlink:href="#m14f64f4070" y="144.107630583"/>
     <use style="fill:#0000ff;stroke:#000000;stroke-linecap:butt;stroke-width:0.5;" x="204.779075" xlink:href="#m14f64f4070" y="175.939762255"/>
     <use style="fill:#0000ff;stroke:#000000;stroke-linecap:butt;stroke-width:0.5;" x="205.113875" xlink:href="#m14f64f4070" y="104.951114856"/>
     <use style="fill:#0000ff;stroke:#000000;stroke-linecap:butt;stroke-width:0.5;" x="205.448675" xlink:href="#m14f64f4070" y="124.502360382"/>
     <use style="fill:#0000ff;stroke:#000000;stroke-linecap:butt;stroke-width:0.5;" x="205.783475" xlink:href="#m14f64f4070" y="154.448943222"/>
     <use style="fill:#0000ff;stroke:#000000;stroke-linecap:butt;stroke-width:0.5;" x="206.118275" xlink:href="#m14f64f4070" y="160.810138863"/>
     <use style="fill:#0000ff;stroke:#000000;stroke-linecap:butt;stroke-width:0.5;" x="206.453075" xlink:href="#m14f64f4070" y="168.996660904"/>
     <use style="fill:#0000ff;stroke:#000000;stroke-linecap:butt;stroke-width:0.5;" x="206.787875" xlink:href="#m14f64f4070" y="124.135970222"/>
     <use style="fill:#0000ff;stroke:#000000;stroke-linecap:butt;stroke-width:0.5;" x="207.122675" xlink:href="#m14f64f4070" y="101.128491312"/>
     <use style="fill:#0000ff;stroke:#000000;stroke-linecap:butt;stroke-width:0.5;" x="207.457475" xlink:href="#m14f64f4070" y="106.122135735"/>
     <use style="fill:#0000ff;stroke:#000000;stroke-linecap:butt;stroke-width:0.5;" x="207.792275" xlink:href="#m14f64f4070" y="164.468077639"/>
     <use style="fill:#0000ff;stroke:#000000;stroke-linecap:butt;stroke-width:0.5;" x="208.127075" xlink:href="#m14f64f4070" y="143.498551725"/>
     <use style="fill:#0000ff;stroke:#000000;stroke-linecap:butt;stroke-width:0.5;" x="208.461875" xlink:href="#m14f64f4070" y="164.974724851"/>
     <use style="fill:#0000ff;stroke:#000000;stroke-linecap:butt;stroke-width:0.5;" x="208.796675" xlink:href="#m14f64f4070" y="133.34719576"/>
     <use style="fill:#0000ff;stroke:#000000;stroke-linecap:butt;stroke-width:0.5;" x="209.131475" xlink:href="#m14f64f4070" y="122.880212701"/>
     <use style="fill:#0000ff;stroke:#000000;stroke-linecap:butt;stroke-width:0.5;" x="209.466275" xlink:href="#m14f64f4070" y="112.880656879"/>
     <use style="fill:#0000ff;stroke:#000000;stroke-linecap:butt;stroke-width:0.5;" x="209.801075" xlink:href="#m14f64f4070" y="125.108019451"/>
     <use style="fill:#0000ff;stroke:#000000;stroke-linecap:butt;stroke-width:0.5;" x="210.135875" xlink:href="#m14f64f4070" y="153.040982107"/>
     <use style="fill:#0000ff;stroke:#000000;stroke-linecap:butt;stroke-width:0.5;" x="210.470675" xlink:href="#m14f64f4070" y="171.090744626"/>
     <use style="fill:#0000ff;stroke:#000000;stroke-linecap:butt;stroke-width:0.5;" x="210.805475" xlink:href="#m14f64f4070" y="117.391548952"/>
     <use style="fill:#0000ff;stroke:#000000;stroke-linecap:butt;stroke-width:0.5;" x="211.140275" xlink:href="#m14f64f4070" y="154.477317259"/>
     <use style="fill:#0000ff;stroke:#000000;stroke-linecap:butt;stroke-width:0.5;" x="211.475075" xlink:href="#m14f64f4070" y="166.97075535"/>
     <use style="fill:#0000ff;stroke:#000000;stroke-linecap:butt;stroke-width:0.5;" x="211.809875" xlink:href="#m14f64f4070" y="170.707405033"/>
     <use style="fill:#0000ff;stroke:#000000;stroke-linecap:butt;stroke-width:0.5;" x="212.144675" xlink:href="#m14f64f4070" y="104.802045914"/>
     <use style="fill:#0000ff;stroke:#000000;stroke-linecap:butt;stroke-width:0.5;" x="212.479475" xlink:href="#m14f64f4070" y="184.961117979"/>
     <use style="fill:#0000ff;stroke:#000000;stroke-linecap:butt;stroke-width:0.5;" x="212.814275" xlink:href="#m14f64f4070" y="137.183879974"/>
     <use style="fill:#0000ff;stroke:#000000;stroke-linecap:butt;stroke-width:0.5;" x="213.149075" xlink:href="#m14f64f4070" y="123.915340949"/>
     <use style="fill:#0000ff;stroke:#000000;stroke-linecap:butt;stroke-width:0.5;" x="213.483875" xlink:href="#m14f64f4070" y="115.923469371"/>
     <use style="fill:#0000ff;stroke:#000000;stroke-linecap:butt;stroke-width:0.5;" x="213.818675" xlink:href="#m14f64f4070" y="164.854216106"/>
     <use style="fill:#0000ff;stroke:#000000;stroke-linecap:butt;stroke-width:0.5;" x="214.153475" xlink:href="#m14f64f4070" y="114.222007549"/>
     <use style="fill:#0000ff;stroke:#000000;stroke-linecap:butt;stroke-width:0.5;" x="214.488275" xlink:href="#m14f64f4070" y="140.788506791"/>
     <use style="fill:#0000ff;stroke:#000000;stroke-linecap:butt;stroke-width:0.5;" x="214.823075" xlink:href="#m14f64f4070" y="143.831141762"/>
     <use style="fill:#0000ff;stroke:#000000;stroke-linecap:butt;stroke-width:0.5;" x="215.157875" xlink:href="#m14f64f4070" y="116.389827408"/>
     <use style="fill:#0000ff;stroke:#000000;stroke-linecap:butt;stroke-width:0.5;" x="215.492675" xlink:href="#m14f64f4070" y="103.988063422"/>
     <use style="fill:#0000ff;stroke:#000000;stroke-linecap:butt;stroke-width:0.5;" x="215.827475" xlink:href="#m14f64f4070" y="134.51819265"/>
     <use style="fill:#0000ff;stroke:#000000;stroke-linecap:butt;stroke-width:0.5;" x="216.162275" xlink:href="#m14f64f4070" y="153.590584227"/>
     <use style="fill:#0000ff;stroke:#000000;stroke-linecap:butt;stroke-width:0.5;" x="216.497075" xlink:href="#m14f64f4070" y="180.385336899"/>
     <use style="fill:#0000ff;stroke:#000000;stroke-linecap:butt;stroke-width:0.5;" x="216.831875" xlink:href="#m14f64f4070" y="146.067586463"/>
     <use style="fill:#0000ff;stroke:#000000;stroke-linecap:butt;stroke-width:0.5;" x="217.166675" xlink:href="#m14f64f4070" y="126.778846282"/>
     <use style="fill:#0000ff;stroke:#000000;stroke-linecap:butt;stroke-width:0.5;" x="217.501475" xlink:href="#m14f64f4070" y="125.613669964"/>
     <use style="fill:#0000ff;stroke:#000000;stroke-linecap:butt;stroke-width:0.5;" x="217.836275" xlink:href="#m14f64f4070" y="66.950379915"/>
     <use style="fill:#0000ff;stroke:#000000;stroke-linecap:butt;stroke-width:0.5;" x="218.171075" xlink:href="#m14f64f4070" y="87.5127212247"/>
     <use style="fill:#0000ff;stroke:#000000;stroke-linecap:butt;stroke-width:0.5;" x="218.505875" xlink:href="#m14f64f4070" y="123.245056422"/>
     <use style="fill:#0000ff;stroke:#000000;stroke-linecap:butt;stroke-width:0.5;" x="218.840675" xlink:href="#m14f64f4070" y="182.732578675"/>
     <use style="fill:#0000ff;stroke:#000000;stroke-linecap:butt;stroke-width:0.5;" x="219.175475" xlink:href="#m14f64f4070" y="141.622954119"/>
     <use style="fill:#0000ff;stroke:#000000;stroke-linecap:butt;stroke-width:0.5;" x="219.510275" xlink:href="#m14f64f4070" y="164.743660026"/>
     <use style="fill:#0000ff;stroke:#000000;stroke-linecap:butt;stroke-width:0.5;" x="219.845075" xlink:href="#m14f64f4070" y="149.548880291"/>
     <use style="fill:#0000ff;stroke:#000000;stroke-linecap:butt;stroke-width:0.5;" x="220.179875" xlink:href="#m14f64f4070" y="106.232982691"/>
     <use style="fill:#0000ff;stroke:#000000;stroke-linecap:butt;stroke-width:0.5;" x="220.514675" xlink:href="#m14f64f4070" y="166.560961843"/>
     <use style="fill:#0000ff;stroke:#000000;stroke-linecap:butt;stroke-width:0.5;" x="220.849475" xlink:href="#m14f64f4070" y="110.459739967"/>
     <use style="fill:#0000ff;stroke:#000000;stroke-linecap:butt;stroke-width:0.5;" x="221.184275" xlink:href="#m14f64f4070" y="106.581097781"/>
     <use style="fill:#0000ff;stroke:#000000;stroke-linecap:butt;stroke-width:0.5;" x="221.519075" xlink:href="#m14f64f4070" y="122.716449396"/>
     <use style="fill:#0000ff;stroke:#000000;stroke-linecap:butt;stroke-width:0.5;" x="221.853875" xlink:href="#m14f64f4070" y="154.308410464"/>
     <use style="fill:#0000ff;stroke:#000000;stroke-linecap:butt;stroke-width:0.5;" x="222.188675" xlink:href="#m14f64f4070" y="169.710069788"/>
     <use style="fill:#0000ff;stroke:#000000;stroke-linecap:butt;stroke-width:0.5;" x="222.523475" xlink:href="#m14f64f4070" y="82.4391963313"/>
     <use style="fill:#0000ff;stroke:#000000;stroke-linecap:butt;stroke-width:0.5;" x="222.858275" xlink:href="#m14f64f4070" y="154.69229602"/>
     <use style="fill:#0000ff;stroke:#000000;stroke-linecap:butt;stroke-width:0.5;" x="223.193075" xlink:href="#m14f64f4070" y="157.688086224"/>
     <use style="fill:#0000ff;stroke:#000000;stroke-linecap:butt;stroke-width:0.5;" x="223.527875" xlink:href="#m14f64f4070" y="80.7529699145"/>
     <use style="fill:#0000ff;stroke:#000000;stroke-linecap:butt;stroke-width:0.5;" x="223.862675" xlink:href="#m14f64f4070" y="130.896977463"/>
     <use style="fill:#0000ff;stroke:#000000;stroke-linecap:butt;stroke-width:0.5;" x="224.197475" xlink:href="#m14f64f4070" y="101.178753769"/>
     <use style="fill:#0000ff;stroke:#000000;stroke-linecap:butt;stroke-width:0.5;" x="224.532275" xlink:href="#m14f64f4070" y="126.889137484"/>
     <use style="fill:#0000ff;stroke:#000000;stroke-linecap:butt;stroke-width:0.5;" x="224.867075" xlink:href="#m14f64f4070" y="158.764763395"/>
     <use style="fill:#0000ff;stroke:#000000;stroke-linecap:butt;stroke-width:0.5;" x="225.201875" xlink:href="#m14f64f4070" y="101.047333676"/>
     <use style="fill:#0000ff;stroke:#000000;stroke-linecap:butt;stroke-width:0.5;" x="225.536675" xlink:href="#m14f64f4070" y="172.299592285"/>
     <use style="fill:#0000ff;stroke:#000000;stroke-linecap:butt;stroke-width:0.5;" x="225.871475" xlink:href="#m14f64f4070" y="102.298566974"/>
     <use style="fill:#0000ff;stroke:#000000;stroke-linecap:butt;stroke-width:0.5;" x="226.206275" xlink:href="#m14f64f4070" y="106.07947136"/>
     <use style="fill:#0000ff;stroke:#000000;stroke-linecap:butt;stroke-width:0.5;" x="226.541075" xlink:href="#m14f64f4070" y="110.993627705"/>
     <use style="fill:#0000ff;stroke:#000000;stroke-linecap:butt;stroke-width:0.5;" x="226.875875" xlink:href="#m14f64f4070" y="113.153123211"/>
     <use style="fill:#0000ff;stroke:#000000;stroke-linecap:butt;stroke-width:0.5;" x="227.210675" xlink:href="#m14f64f4070" y="142.402589772"/>
     <use style="fill:#0000ff;stroke:#000000;stroke-linecap:butt;stroke-width:0.5;" x="227.545475" xlink:href="#m14f64f4070" y="126.790257283"/>
     <use style="fill:#0000ff;stroke:#000000;stroke-linecap:butt;stroke-width:0.5;" x="227.880275" xlink:href="#m14f64f4070" y="103.835932209"/>
     <use style="fill:#0000ff;stroke:#000000;stroke-linecap:butt;stroke-width:0.5;" x="228.215075" xlink:href="#m14f64f4070" y="87.6641652843"/>
     <use style="fill:#0000ff;stroke:#000000;stroke-linecap:butt;stroke-width:0.5;" x="228.549875" xlink:href="#m14f64f4070" y="116.234117777"/>
     <use style="fill:#0000ff;stroke:#000000;stroke-linecap:butt;stroke-width:0.5;" x="228.884675" xlink:href="#m14f64f4070" y="92.3235767272"/>
     <use style="fill:#0000ff;stroke:#000000;stroke-linecap:butt;stroke-width:0.5;" x="229.219475" xlink:href="#m14f64f4070" y="87.4710364941"/>
     <use style="fill:#0000ff;stroke:#000000;stroke-linecap:butt;stroke-width:0.5;" x="229.554275" xlink:href="#m14f64f4070" y="95.2919514327"/>
     <use style="fill:#0000ff;stroke:#000000;stroke-linecap:butt;stroke-width:0.5;" x="229.889075" xlink:href="#m14f64f4070" y="120.43063921"/>
     <use style="fill:#0000ff;stroke:#000000;stroke-linecap:butt;stroke-width:0.5;" x="230.223875" xlink:href="#m14f64f4070" y="129.589131116"/>
     <use style="fill:#0000ff;stroke:#000000;stroke-linecap:butt;stroke-width:0.5;" x="230.558675" xlink:href="#m14f64f4070" y="100.90363768"/>
     <use style="fill:#0000ff;stroke:#000000;stroke-linecap:butt;stroke-width:0.5;" x="230.893475" xlink:href="#m14f64f4070" y="154.117112911"/>
     <use style="fill:#0000ff;stroke:#000000;stroke-linecap:butt;stroke-width:0.5;" x="231.228275" xlink:href="#m14f64f4070" y="141.126398854"/>
     <use style="fill:#0000ff;stroke:#000000;stroke-linecap:butt;stroke-width:0.5;" x="231.563075" xlink:href="#m14f64f4070" y="99.3533321881"/>
     <use style="fill:#0000ff;stroke:#000000;stroke-linecap:butt;stroke-width:0.5;" x="231.897875" xlink:href="#m14f64f4070" y="160.20741904"/>
     <use style="fill:#0000ff;stroke:#000000;stroke-linecap:butt;stroke-width:0.5;" x="232.232675" xlink:href="#m14f64f4070" y="126.455328796"/>
     <use style="fill:#0000ff;stroke:#000000;stroke-linecap:butt;stroke-width:0.5;" x="232.567475" xlink:href="#m14f64f4070" y="145.508286192"/>
     <use style="fill:#0000ff;stroke:#000000;stroke-linecap:butt;stroke-width:0.5;" x="232.902275" xlink:href="#m14f64f4070" y="123.830830018"/>
     <use style="fill:#0000ff;stroke:#000000;stroke-linecap:butt;stroke-width:0.5;" x="233.237075" xlink:href="#m14f64f4070" y="199.218045827"/>
     <use style="fill:#0000ff;stroke:#000000;stroke-linecap:butt;stroke-width:0.5;" x="233.571875" xlink:href="#m14f64f4070" y="122.441978369"/>
     <use style="fill:#0000ff;stroke:#000000;stroke-linecap:butt;stroke-width:0.5;" x="233.906675" xlink:href="#m14f64f4070" y="121.594313129"/>
     <use style="fill:#0000ff;stroke:#000000;stroke-linecap:butt;stroke-width:0.5;" x="234.241475" xlink:href="#m14f64f4070" y="119.893123145"/>
     <use style="fill:#0000ff;stroke:#000000;stroke-linecap:butt;stroke-width:0.5;" x="234.576275" xlink:href="#m14f64f4070" y="145.827945277"/>
     <use style="fill:#0000ff;stroke:#000000;stroke-linecap:butt;stroke-width:0.5;" x="234.911075" xlink:href="#m14f64f4070" y="113.364543138"/>
     <use style="fill:#0000ff;stroke:#000000;stroke-linecap:butt;stroke-width:0.5;" x="235.245875" xlink:href="#m14f64f4070" y="192.534775117"/>
     <use style="fill:#0000ff;stroke:#000000;stroke-linecap:butt;stroke-width:0.5;" x="235.580675" xlink:href="#m14f64f4070" y="183.123083015"/>
     <use style="fill:#0000ff;stroke:#000000;stroke-linecap:butt;stroke-width:0.5;" x="235.915475" xlink:href="#m14f64f4070" y="104.319372593"/>
     <use style="fill:#0000ff;stroke:#000000;stroke-linecap:butt;stroke-width:0.5;" x="236.250275" xlink:href="#m14f64f4070" y="121.353574969"/>
     <use style="fill:#0000ff;stroke:#000000;stroke-linecap:butt;stroke-width:0.5;" x="236.585075" xlink:href="#m14f64f4070" y="130.283925515"/>
     <use style="fill:#0000ff;stroke:#000000;stroke-linecap:butt;stroke-width:0.5;" x="236.919875" xlink:href="#m14f64f4070" y="181.902476622"/>
     <use style="fill:#0000ff;stroke:#000000;stroke-linecap:butt;stroke-width:0.5;" x="237.254675" xlink:href="#m14f64f4070" y="128.057362119"/>
     <use style="fill:#0000ff;stroke:#000000;stroke-linecap:butt;stroke-width:0.5;" x="237.589475" xlink:href="#m14f64f4070" y="149.52647732"/>
     <use style="fill:#0000ff;stroke:#000000;stroke-linecap:butt;stroke-width:0.5;" x="237.924275" xlink:href="#m14f64f4070" y="108.351979012"/>
     <use style="fill:#0000ff;stroke:#000000;stroke-linecap:butt;stroke-width:0.5;" x="238.259075" xlink:href="#m14f64f4070" y="154.449820563"/>
     <use style="fill:#0000ff;stroke:#000000;stroke-linecap:butt;stroke-width:0.5;" x="238.593875" xlink:href="#m14f64f4070" y="89.0219646569"/>
     <use style="fill:#0000ff;stroke:#000000;stroke-linecap:butt;stroke-width:0.5;" x="238.928675" xlink:href="#m14f64f4070" y="115.543016026"/>
     <use style="fill:#0000ff;stroke:#000000;stroke-linecap:butt;stroke-width:0.5;" x="239.263475" xlink:href="#m14f64f4070" y="124.45606295"/>
     <use style="fill:#0000ff;stroke:#000000;stroke-linecap:butt;stroke-width:0.5;" x="239.598275" xlink:href="#m14f64f4070" y="134.227502273"/>
     <use style="fill:#0000ff;stroke:#000000;stroke-linecap:butt;stroke-width:0.5;" x="239.933075" xlink:href="#m14f64f4070" y="162.113300134"/>
     <use style="fill:#0000ff;stroke:#000000;stroke-linecap:butt;stroke-width:0.5;" x="240.267875" xlink:href="#m14f64f4070" y="121.314872268"/>
     <use style="fill:#0000ff;stroke:#000000;stroke-linecap:butt;stroke-width:0.5;" x="240.602675" xlink:href="#m14f64f4070" y="156.796862739"/>
     <use style="fill:#0000ff;stroke:#000000;stroke-linecap:butt;stroke-width:0.5;" x="240.937475" xlink:href="#m14f64f4070" y="142.369991255"/>
     <use style="fill:#0000ff;stroke:#000000;stroke-linecap:butt;stroke-width:0.5;" x="241.272275" xlink:href="#m14f64f4070" y="189.114579022"/>
     <use style="fill:#0000ff;stroke:#000000;stroke-linecap:butt;stroke-width:0.5;" x="241.607075" xlink:href="#m14f64f4070" y="141.886991257"/>
     <use style="fill:#0000ff;stroke:#000000;stroke-linecap:butt;stroke-width:0.5;" x="241.941875" xlink:href="#m14f64f4070" y="140.018713064"/>
     <use style="fill:#0000ff;stroke:#000000;stroke-linecap:butt;stroke-width:0.5;" x="242.276675" xlink:href="#m14f64f4070" y="105.42148925"/>
     <use style="fill:#0000ff;stroke:#000000;stroke-linecap:butt;stroke-width:0.5;" x="242.611475" xlink:href="#m14f64f4070" y="108.983010005"/>
     <use style="fill:#0000ff;stroke:#000000;stroke-linecap:butt;stroke-width:0.5;" x="242.946275" xlink:href="#m14f64f4070" y="76.6761898781"/>
     <use style="fill:#0000ff;stroke:#000000;stroke-linecap:butt;stroke-width:0.5;" x="243.281075" xlink:href="#m14f64f4070" y="151.594865325"/>
     <use style="fill:#0000ff;stroke:#000000;stroke-linecap:butt;stroke-width:0.5;" x="243.615875" xlink:href="#m14f64f4070" y="129.331224837"/>
     <use style="fill:#0000ff;stroke:#000000;stroke-linecap:butt;stroke-width:0.5;" x="243.950675" xlink:href="#m14f64f4070" y="149.58392339"/>
     <use style="fill:#0000ff;stroke:#000000;stroke-linecap:butt;stroke-width:0.5;" x="244.285475" xlink:href="#m14f64f4070" y="144.283233232"/>
     <use style="fill:#0000ff;stroke:#000000;stroke-linecap:butt;stroke-width:0.5;" x="244.620275" xlink:href="#m14f64f4070" y="145.918749145"/>
     <use style="fill:#0000ff;stroke:#000000;stroke-linecap:butt;stroke-width:0.5;" x="244.955075" xlink:href="#m14f64f4070" y="107.33021031"/>
     <use style="fill:#0000ff;stroke:#000000;stroke-linecap:butt;stroke-width:0.5;" x="245.289875" xlink:href="#m14f64f4070" y="126.101133918"/>
     <use style="fill:#0000ff;stroke:#000000;stroke-linecap:butt;stroke-width:0.5;" x="245.624675" xlink:href="#m14f64f4070" y="145.705831955"/>
     <use style="fill:#0000ff;stroke:#000000;stroke-linecap:butt;stroke-width:0.5;" x="245.959475" xlink:href="#m14f64f4070" y="139.581813215"/>
     <use style="fill:#0000ff;stroke:#000000;stroke-linecap:butt;stroke-width:0.5;" x="246.294275" xlink:href="#m14f64f4070" y="132.273472866"/>
     <use style="fill:#0000ff;stroke:#000000;stroke-linecap:butt;stroke-width:0.5;" x="246.629075" xlink:href="#m14f64f4070" y="154.342093379"/>
     <use style="fill:#0000ff;stroke:#000000;stroke-linecap:butt;stroke-width:0.5;" x="246.963875" xlink:href="#m14f64f4070" y="91.9651477593"/>
     <use style="fill:#0000ff;stroke:#000000;stroke-linecap:butt;stroke-width:0.5;" x="247.298675" xlink:href="#m14f64f4070" y="118.781441461"/>
     <use style="fill:#0000ff;stroke:#000000;stroke-linecap:butt;stroke-width:0.5;" x="247.633475" xlink:href="#m14f64f4070" y="145.394254895"/>
     <use style="fill:#0000ff;stroke:#000000;stroke-linecap:butt;stroke-width:0.5;" x="247.968275" xlink:href="#m14f64f4070" y="108.768620649"/>
     <use style="fill:#0000ff;stroke:#000000;stroke-linecap:butt;stroke-width:0.5;" x="248.303075" xlink:href="#m14f64f4070" y="140.74217801"/>
     <use style="fill:#0000ff;stroke:#000000;stroke-linecap:butt;stroke-width:0.5;" x="248.637875" xlink:href="#m14f64f4070" y="135.879478098"/>
     <use style="fill:#0000ff;stroke:#000000;stroke-linecap:butt;stroke-width:0.5;" x="248.972675" xlink:href="#m14f64f4070" y="166.346077413"/>
     <use style="fill:#0000ff;stroke:#000000;stroke-linecap:butt;stroke-width:0.5;" x="249.307475" xlink:href="#m14f64f4070" y="91.870050375"/>
     <use style="fill:#0000ff;stroke:#000000;stroke-linecap:butt;stroke-width:0.5;" x="249.642275" xlink:href="#m14f64f4070" y="123.409254739"/>
     <use style="fill:#0000ff;stroke:#000000;stroke-linecap:butt;stroke-width:0.5;" x="249.977075" xlink:href="#m14f64f4070" y="86.73375859"/>
     <use style="fill:#0000ff;stroke:#000000;stroke-linecap:butt;stroke-width:0.5;" x="250.311875" xlink:href="#m14f64f4070" y="117.436613011"/>
     <use style="fill:#0000ff;stroke:#000000;stroke-linecap:butt;stroke-width:0.5;" x="250.646675" xlink:href="#m14f64f4070" y="111.161972527"/>
     <use style="fill:#0000ff;stroke:#000000;stroke-linecap:butt;stroke-width:0.5;" x="250.981475" xlink:href="#m14f64f4070" y="90.6860650161"/>
     <use style="fill:#0000ff;stroke:#000000;stroke-linecap:butt;stroke-width:0.5;" x="251.316275" xlink:href="#m14f64f4070" y="103.13602203"/>
     <use style="fill:#0000ff;stroke:#000000;stroke-linecap:butt;stroke-width:0.5;" x="251.651075" xlink:href="#m14f64f4070" y="107.337474289"/>
     <use style="fill:#0000ff;stroke:#000000;stroke-linecap:butt;stroke-width:0.5;" x="251.985875" xlink:href="#m14f64f4070" y="156.422957284"/>
     <use style="fill:#0000ff;stroke:#000000;stroke-linecap:butt;stroke-width:0.5;" x="252.320675" xlink:href="#m14f64f4070" y="188.656662333"/>
     <use style="fill:#0000ff;stroke:#000000;stroke-linecap:butt;stroke-width:0.5;" x="252.655475" xlink:href="#m14f64f4070" y="156.409147648"/>
     <use style="fill:#0000ff;stroke:#000000;stroke-linecap:butt;stroke-width:0.5;" x="252.990275" xlink:href="#m14f64f4070" y="147.287900276"/>
     <use style="fill:#0000ff;stroke:#000000;stroke-linecap:butt;stroke-width:0.5;" x="253.325075" xlink:href="#m14f64f4070" y="202.999805162"/>
     <use style="fill:#0000ff;stroke:#000000;stroke-linecap:butt;stroke-width:0.5;" x="253.659875" xlink:href="#m14f64f4070" y="132.384900904"/>
     <use style="fill:#0000ff;stroke:#000000;stroke-linecap:butt;stroke-width:0.5;" x="253.994675" xlink:href="#m14f64f4070" y="144.667451581"/>
     <use style="fill:#0000ff;stroke:#000000;stroke-linecap:butt;stroke-width:0.5;" x="254.329475" xlink:href="#m14f64f4070" y="107.210964103"/>
     <use style="fill:#0000ff;stroke:#000000;stroke-linecap:butt;stroke-width:0.5;" x="254.664275" xlink:href="#m14f64f4070" y="163.889514112"/>
     <use style="fill:#0000ff;stroke:#000000;stroke-linecap:butt;stroke-width:0.5;" x="254.999075" xlink:href="#m14f64f4070" y="114.33558315"/>
     <use style="fill:#0000ff;stroke:#000000;stroke-linecap:butt;stroke-width:0.5;" x="255.333875" xlink:href="#m14f64f4070" y="134.308059646"/>
     <use style="fill:#0000ff;stroke:#000000;stroke-linecap:butt;stroke-width:0.5;" x="255.668675" xlink:href="#m14f64f4070" y="109.639623146"/>
     <use style="fill:#0000ff;stroke:#000000;stroke-linecap:butt;stroke-width:0.5;" x="256.003475" xlink:href="#m14f64f4070" y="166.141415741"/>
     <use style="fill:#0000ff;stroke:#000000;stroke-linecap:butt;stroke-width:0.5;" x="256.338275" xlink:href="#m14f64f4070" y="98.4652599372"/>
     <use style="fill:#0000ff;stroke:#000000;stroke-linecap:butt;stroke-width:0.5;" x="256.673075" xlink:href="#m14f64f4070" y="119.798267128"/>
     <use style="fill:#0000ff;stroke:#000000;stroke-linecap:butt;stroke-width:0.5;" x="257.007875" xlink:href="#m14f64f4070" y="148.753996929"/>
     <use style="fill:#0000ff;stroke:#000000;stroke-linecap:butt;stroke-width:0.5;" x="257.342675" xlink:href="#m14f64f4070" y="163.366318222"/>
     <use style="fill:#0000ff;stroke:#000000;stroke-linecap:butt;stroke-width:0.5;" x="257.677475" xlink:href="#m14f64f4070" y="132.177102842"/>
     <use style="fill:#0000ff;stroke:#000000;stroke-linecap:butt;stroke-width:0.5;" x="258.012275" xlink:href="#m14f64f4070" y="123.966838574"/>
     <use style="fill:#0000ff;stroke:#000000;stroke-linecap:butt;stroke-width:0.5;" x="258.347075" xlink:href="#m14f64f4070" y="167.316621863"/>
     <use style="fill:#0000ff;stroke:#000000;stroke-linecap:butt;stroke-width:0.5;" x="258.681875" xlink:href="#m14f64f4070" y="124.336092137"/>
     <use style="fill:#0000ff;stroke:#000000;stroke-linecap:butt;stroke-width:0.5;" x="259.016675" xlink:href="#m14f64f4070" y="125.339418685"/>
     <use style="fill:#0000ff;stroke:#000000;stroke-linecap:butt;stroke-width:0.5;" x="259.351475" xlink:href="#m14f64f4070" y="164.48531487"/>
     <use style="fill:#0000ff;stroke:#000000;stroke-linecap:butt;stroke-width:0.5;" x="259.686275" xlink:href="#m14f64f4070" y="147.372460924"/>
     <use style="fill:#0000ff;stroke:#000000;stroke-linecap:butt;stroke-width:0.5;" x="260.021075" xlink:href="#m14f64f4070" y="118.599954078"/>
     <use style="fill:#0000ff;stroke:#000000;stroke-linecap:butt;stroke-width:0.5;" x="260.355875" xlink:href="#m14f64f4070" y="177.803527632"/>
     <use style="fill:#0000ff;stroke:#000000;stroke-linecap:butt;stroke-width:0.5;" x="260.690675" xlink:href="#m14f64f4070" y="122.460845877"/>
     <use style="fill:#0000ff;stroke:#000000;stroke-linecap:butt;stroke-width:0.5;" x="261.025475" xlink:href="#m14f64f4070" y="133.200036567"/>
     <use style="fill:#0000ff;stroke:#000000;stroke-linecap:butt;stroke-width:0.5;" x="261.360275" xlink:href="#m14f64f4070" y="165.474740074"/>
     <use style="fill:#0000ff;stroke:#000000;stroke-linecap:butt;stroke-width:0.5;" x="261.695075" xlink:href="#m14f64f4070" y="87.9421600116"/>
     <use style="fill:#0000ff;stroke:#000000;stroke-linecap:butt;stroke-width:0.5;" x="262.029875" xlink:href="#m14f64f4070" y="118.022564431"/>
     <use style="fill:#0000ff;stroke:#000000;stroke-linecap:butt;stroke-width:0.5;" x="262.364675" xlink:href="#m14f64f4070" y="173.577599301"/>
     <use style="fill:#0000ff;stroke:#000000;stroke-linecap:butt;stroke-width:0.5;" x="262.699475" xlink:href="#m14f64f4070" y="132.752633947"/>
     <use style="fill:#0000ff;stroke:#000000;stroke-linecap:butt;stroke-width:0.5;" x="263.034275" xlink:href="#m14f64f4070" y="78.7239559124"/>
     <use style="fill:#0000ff;stroke:#000000;stroke-linecap:butt;stroke-width:0.5;" x="263.369075" xlink:href="#m14f64f4070" y="121.083630922"/>
     <use style="fill:#0000ff;stroke:#000000;stroke-linecap:butt;stroke-width:0.5;" x="263.703875" xlink:href="#m14f64f4070" y="119.648335821"/>
     <use style="fill:#0000ff;stroke:#000000;stroke-linecap:butt;stroke-width:0.5;" x="264.038675" xlink:href="#m14f64f4070" y="150.970417386"/>
     <use style="fill:#0000ff;stroke:#000000;stroke-linecap:butt;stroke-width:0.5;" x="264.373475" xlink:href="#m14f64f4070" y="166.687914862"/>
     <use style="fill:#0000ff;stroke:#000000;stroke-linecap:butt;stroke-width:0.5;" x="264.708275" xlink:href="#m14f64f4070" y="149.18900422"/>
     <use style="fill:#0000ff;stroke:#000000;stroke-linecap:butt;stroke-width:0.5;" x="265.043075" xlink:href="#m14f64f4070" y="127.922522315"/>
     <use style="fill:#0000ff;stroke:#000000;stroke-linecap:butt;stroke-width:0.5;" x="265.377875" xlink:href="#m14f64f4070" y="128.517381247"/>
     <use style="fill:#0000ff;stroke:#000000;stroke-linecap:butt;stroke-width:0.5;" x="265.712675" xlink:href="#m14f64f4070" y="141.831677324"/>
     <use style="fill:#0000ff;stroke:#000000;stroke-linecap:butt;stroke-width:0.5;" x="266.047475" xlink:href="#m14f64f4070" y="137.242193077"/>
     <use style="fill:#0000ff;stroke:#000000;stroke-linecap:butt;stroke-width:0.5;" x="266.382275" xlink:href="#m14f64f4070" y="139.008168155"/>
     <use style="fill:#0000ff;stroke:#000000;stroke-linecap:butt;stroke-width:0.5;" x="266.717075" xlink:href="#m14f64f4070" y="191.329564662"/>
     <use style="fill:#0000ff;stroke:#000000;stroke-linecap:butt;stroke-width:0.5;" x="267.051875" xlink:href="#m14f64f4070" y="146.228023402"/>
     <use style="fill:#0000ff;stroke:#000000;stroke-linecap:butt;stroke-width:0.5;" x="267.386675" xlink:href="#m14f64f4070" y="80.5086798458"/>
     <use style="fill:#0000ff;stroke:#000000;stroke-linecap:butt;stroke-width:0.5;" x="267.721475" xlink:href="#m14f64f4070" y="133.927176159"/>
     <use style="fill:#0000ff;stroke:#000000;stroke-linecap:butt;stroke-width:0.5;" x="268.056275" xlink:href="#m14f64f4070" y="89.4067207255"/>
     <use style="fill:#0000ff;stroke:#000000;stroke-linecap:butt;stroke-width:0.5;" x="268.391075" xlink:href="#m14f64f4070" y="164.112261358"/>
     <use style="fill:#0000ff;stroke:#000000;stroke-linecap:butt;stroke-width:0.5;" x="268.725875" xlink:href="#m14f64f4070" y="175.004573196"/>
     <use style="fill:#0000ff;stroke:#000000;stroke-linecap:butt;stroke-width:0.5;" x="269.060675" xlink:href="#m14f64f4070" y="114.557404295"/>
     <use style="fill:#0000ff;stroke:#000000;stroke-linecap:butt;stroke-width:0.5;" x="269.395475" xlink:href="#m14f64f4070" y="125.265506539"/>
     <use style="fill:#0000ff;stroke:#000000;stroke-linecap:butt;stroke-width:0.5;" x="269.730275" xlink:href="#m14f64f4070" y="152.748673785"/>
     <use style="fill:#0000ff;stroke:#000000;stroke-linecap:butt;stroke-width:0.5;" x="270.065075" xlink:href="#m14f64f4070" y="106.251774041"/>
     <use style="fill:#0000ff;stroke:#000000;stroke-linecap:butt;stroke-width:0.5;" x="270.399875" xlink:href="#m14f64f4070" y="148.224978631"/>
     <use style="fill:#0000ff;stroke:#000000;stroke-linecap:butt;stroke-width:0.5;" x="270.734675" xlink:href="#m14f64f4070" y="170.695629089"/>
     <use style="fill:#0000ff;stroke:#000000;stroke-linecap:butt;stroke-width:0.5;" x="271.069475" xlink:href="#m14f64f4070" y="151.948238939"/>
     <use style="fill:#0000ff;stroke:#000000;stroke-linecap:butt;stroke-width:0.5;" x="271.404275" xlink:href="#m14f64f4070" y="164.937610243"/>
     <use style="fill:#0000ff;stroke:#000000;stroke-linecap:butt;stroke-width:0.5;" x="271.739075" xlink:href="#m14f64f4070" y="149.056404882"/>
     <use style="fill:#0000ff;stroke:#000000;stroke-linecap:butt;stroke-width:0.5;" x="272.073875" xlink:href="#m14f64f4070" y="116.012990989"/>
     <use style="fill:#0000ff;stroke:#000000;stroke-linecap:butt;stroke-width:0.5;" x="272.408675" xlink:href="#m14f64f4070" y="149.169029562"/>
     <use style="fill:#0000ff;stroke:#000000;stroke-linecap:butt;stroke-width:0.5;" x="272.743475" xlink:href="#m14f64f4070" y="78.2747738101"/>
     <use style="fill:#0000ff;stroke:#000000;stroke-linecap:butt;stroke-width:0.5;" x="273.078275" xlink:href="#m14f64f4070" y="199.532353347"/>
     <use style="fill:#0000ff;stroke:#000000;stroke-linecap:butt;stroke-width:0.5;" x="273.413075" xlink:href="#m14f64f4070" y="91.2943100673"/>
     <use style="fill:#0000ff;stroke:#000000;stroke-linecap:butt;stroke-width:0.5;" x="273.747875" xlink:href="#m14f64f4070" y="130.462270628"/>
     <use style="fill:#0000ff;stroke:#000000;stroke-linecap:butt;stroke-width:0.5;" x="274.082675" xlink:href="#m14f64f4070" y="149.838888648"/>
     <use style="fill:#0000ff;stroke:#000000;stroke-linecap:butt;stroke-width:0.5;" x="274.417475" xlink:href="#m14f64f4070" y="129.830249333"/>
     <use style="fill:#0000ff;stroke:#000000;stroke-linecap:butt;stroke-width:0.5;" x="274.752275" xlink:href="#m14f64f4070" y="123.956596645"/>
     <use style="fill:#0000ff;stroke:#000000;stroke-linecap:butt;stroke-width:0.5;" x="275.087075" xlink:href="#m14f64f4070" y="107.331745069"/>
     <use style="fill:#0000ff;stroke:#000000;stroke-linecap:butt;stroke-width:0.5;" x="275.421875" xlink:href="#m14f64f4070" y="140.262003038"/>
     <use style="fill:#0000ff;stroke:#000000;stroke-linecap:butt;stroke-width:0.5;" x="275.756675" xlink:href="#m14f64f4070" y="115.728761804"/>
     <use style="fill:#0000ff;stroke:#000000;stroke-linecap:butt;stroke-width:0.5;" x="276.091475" xlink:href="#m14f64f4070" y="150.914141536"/>
     <use style="fill:#0000ff;stroke:#000000;stroke-linecap:butt;stroke-width:0.5;" x="276.426275" xlink:href="#m14f64f4070" y="137.577015722"/>
     <use style="fill:#0000ff;stroke:#000000;stroke-linecap:butt;stroke-width:0.5;" x="276.761075" xlink:href="#m14f64f4070" y="92.5710571022"/>
     <use style="fill:#0000ff;stroke:#000000;stroke-linecap:butt;stroke-width:0.5;" x="277.095875" xlink:href="#m14f64f4070" y="112.328914312"/>
     <use style="fill:#0000ff;stroke:#000000;stroke-linecap:butt;stroke-width:0.5;" x="277.430675" xlink:href="#m14f64f4070" y="142.582214156"/>
     <use style="fill:#0000ff;stroke:#000000;stroke-linecap:butt;stroke-width:0.5;" x="277.765475" xlink:href="#m14f64f4070" y="43.8886485826"/>
     <use style="fill:#0000ff;stroke:#000000;stroke-linecap:butt;stroke-width:0.5;" x="278.100275" xlink:href="#m14f64f4070" y="149.284816992"/>
     <use style="fill:#0000ff;stroke:#000000;stroke-linecap:butt;stroke-width:0.5;" x="278.435075" xlink:href="#m14f64f4070" y="125.803166297"/>
     <use style="fill:#0000ff;stroke:#000000;stroke-linecap:butt;stroke-width:0.5;" x="278.769875" xlink:href="#m14f64f4070" y="126.780121182"/>
     <use style="fill:#0000ff;stroke:#000000;stroke-linecap:butt;stroke-width:0.5;" x="279.104675" xlink:href="#m14f64f4070" y="80.1953119523"/>
     <use style="fill:#0000ff;stroke:#000000;stroke-linecap:butt;stroke-width:0.5;" x="279.439475" xlink:href="#m14f64f4070" y="113.330740067"/>
     <use style="fill:#0000ff;stroke:#000000;stroke-linecap:butt;stroke-width:0.5;" x="279.774275" xlink:href="#m14f64f4070" y="121.001770355"/>
     <use style="fill:#0000ff;stroke:#000000;stroke-linecap:butt;stroke-width:0.5;" x="280.109075" xlink:href="#m14f64f4070" y="102.735615267"/>
     <use style="fill:#0000ff;stroke:#000000;stroke-linecap:butt;stroke-width:0.5;" x="280.443875" xlink:href="#m14f64f4070" y="141.422535499"/>
     <use style="fill:#0000ff;stroke:#000000;stroke-linecap:butt;stroke-width:0.5;" x="280.778675" xlink:href="#m14f64f4070" y="128.226576596"/>
     <use style="fill:#0000ff;stroke:#000000;stroke-linecap:butt;stroke-width:0.5;" x="281.113475" xlink:href="#m14f64f4070" y="167.070280905"/>
     <use style="fill:#0000ff;stroke:#000000;stroke-linecap:butt;stroke-width:0.5;" x="281.448275" xlink:href="#m14f64f4070" y="150.485697617"/>
     <use style="fill:#0000ff;stroke:#000000;stroke-linecap:butt;stroke-width:0.5;" x="281.783075" xlink:href="#m14f64f4070" y="218.383428901"/>
     <use style="fill:#0000ff;stroke:#000000;stroke-linecap:butt;stroke-width:0.5;" x="282.117875" xlink:href="#m14f64f4070" y="137.539519583"/>
     <use style="fill:#0000ff;stroke:#000000;stroke-linecap:butt;stroke-width:0.5;" x="282.452675" xlink:href="#m14f64f4070" y="144.488372137"/>
     <use style="fill:#0000ff;stroke:#000000;stroke-linecap:butt;stroke-width:0.5;" x="282.787475" xlink:href="#m14f64f4070" y="167.643736438"/>
     <use style="fill:#0000ff;stroke:#000000;stroke-linecap:butt;stroke-width:0.5;" x="283.122275" xlink:href="#m14f64f4070" y="169.824995244"/>
     <use style="fill:#0000ff;stroke:#000000;stroke-linecap:butt;stroke-width:0.5;" x="283.457075" xlink:href="#m14f64f4070" y="164.233800158"/>
     <use style="fill:#0000ff;stroke:#000000;stroke-linecap:butt;stroke-width:0.5;" x="283.791875" xlink:href="#m14f64f4070" y="172.55700305"/>
     <use style="fill:#0000ff;stroke:#000000;stroke-linecap:butt;stroke-width:0.5;" x="284.126675" xlink:href="#m14f64f4070" y="88.6885884111"/>
     <use style="fill:#0000ff;stroke:#000000;stroke-linecap:butt;stroke-width:0.5;" x="284.461475" xlink:href="#m14f64f4070" y="96.8686394107"/>
     <use style="fill:#0000ff;stroke:#000000;stroke-linecap:butt;stroke-width:0.5;" x="284.796275" xlink:href="#m14f64f4070" y="127.402110434"/>
     <use style="fill:#0000ff;stroke:#000000;stroke-linecap:butt;stroke-width:0.5;" x="285.131075" xlink:href="#m14f64f4070" y="145.011189704"/>
     <use style="fill:#0000ff;stroke:#000000;stroke-linecap:butt;stroke-width:0.5;" x="285.465875" xlink:href="#m14f64f4070" y="111.863941445"/>
     <use style="fill:#0000ff;stroke:#000000;stroke-linecap:butt;stroke-width:0.5;" x="285.800675" xlink:href="#m14f64f4070" y="122.145370225"/>
     <use style="fill:#0000ff;stroke:#000000;stroke-linecap:butt;stroke-width:0.5;" x="286.135475" xlink:href="#m14f64f4070" y="123.071773536"/>
     <use style="fill:#0000ff;stroke:#000000;stroke-linecap:butt;stroke-width:0.5;" x="286.470275" xlink:href="#m14f64f4070" y="92.5251444902"/>
     <use style="fill:#0000ff;stroke:#000000;stroke-linecap:butt;stroke-width:0.5;" x="286.805075" xlink:href="#m14f64f4070" y="88.4813974472"/>
     <use style="fill:#0000ff;stroke:#000000;stroke-linecap:butt;stroke-width:0.5;" x="287.139875" xlink:href="#m14f64f4070" y="166.635952617"/>
     <use style="fill:#0000ff;stroke:#000000;stroke-linecap:butt;stroke-width:0.5;" x="287.474675" xlink:href="#m14f64f4070" y="140.968549222"/>
     <use style="fill:#0000ff;stroke:#000000;stroke-linecap:butt;stroke-width:0.5;" x="287.809475" xlink:href="#m14f64f4070" y="64.0652922819"/>
     <use style="fill:#0000ff;stroke:#000000;stroke-linecap:butt;stroke-width:0.5;" x="288.144275" xlink:href="#m14f64f4070" y="105.504146874"/>
     <use style="fill:#0000ff;stroke:#000000;stroke-linecap:butt;stroke-width:0.5;" x="288.479075" xlink:href="#m14f64f4070" y="174.215679675"/>
     <use style="fill:#0000ff;stroke:#000000;stroke-linecap:butt;stroke-width:0.5;" x="288.813875" xlink:href="#m14f64f4070" y="155.75602605"/>
     <use style="fill:#0000ff;stroke:#000000;stroke-linecap:butt;stroke-width:0.5;" x="289.148675" xlink:href="#m14f64f4070" y="116.126937806"/>
     <use style="fill:#0000ff;stroke:#000000;stroke-linecap:butt;stroke-width:0.5;" x="289.483475" xlink:href="#m14f64f4070" y="192.031568132"/>
     <use style="fill:#0000ff;stroke:#000000;stroke-linecap:butt;stroke-width:0.5;" x="289.818275" xlink:href="#m14f64f4070" y="132.479642388"/>
     <use style="fill:#0000ff;stroke:#000000;stroke-linecap:butt;stroke-width:0.5;" x="290.153075" xlink:href="#m14f64f4070" y="94.266013122"/>
     <use style="fill:#0000ff;stroke:#000000;stroke-linecap:butt;stroke-width:0.5;" x="290.487875" xlink:href="#m14f64f4070" y="130.864230226"/>
     <use style="fill:#0000ff;stroke:#000000;stroke-linecap:butt;stroke-width:0.5;" x="290.822675" xlink:href="#m14f64f4070" y="93.4877021155"/>
     <use style="fill:#0000ff;stroke:#000000;stroke-linecap:butt;stroke-width:0.5;" x="291.157475" xlink:href="#m14f64f4070" y="86.1755251543"/>
     <use style="fill:#0000ff;stroke:#000000;stroke-linecap:butt;stroke-width:0.5;" x="291.492275" xlink:href="#m14f64f4070" y="108.652460029"/>
     <use style="fill:#0000ff;stroke:#000000;stroke-linecap:butt;stroke-width:0.5;" x="291.827075" xlink:href="#m14f64f4070" y="142.663784029"/>
     <use style="fill:#0000ff;stroke:#000000;stroke-linecap:butt;stroke-width:0.5;" x="292.161875" xlink:href="#m14f64f4070" y="116.817289583"/>
     <use style="fill:#0000ff;stroke:#000000;stroke-linecap:butt;stroke-width:0.5;" x="292.496675" xlink:href="#m14f64f4070" y="127.742816407"/>
     <use style="fill:#0000ff;stroke:#000000;stroke-linecap:butt;stroke-width:0.5;" x="292.831475" xlink:href="#m14f64f4070" y="157.709246049"/>
     <use style="fill:#0000ff;stroke:#000000;stroke-linecap:butt;stroke-width:0.5;" x="293.166275" xlink:href="#m14f64f4070" y="124.763435458"/>
     <use style="fill:#0000ff;stroke:#000000;stroke-linecap:butt;stroke-width:0.5;" x="293.501075" xlink:href="#m14f64f4070" y="194.660019485"/>
     <use style="fill:#0000ff;stroke:#000000;stroke-linecap:butt;stroke-width:0.5;" x="293.835875" xlink:href="#m14f64f4070" y="161.501260352"/>
     <use style="fill:#0000ff;stroke:#000000;stroke-linecap:butt;stroke-width:0.5;" x="294.170675" xlink:href="#m14f64f4070" y="107.466395828"/>
     <use style="fill:#0000ff;stroke:#000000;stroke-linecap:butt;stroke-width:0.5;" x="294.505475" xlink:href="#m14f64f4070" y="121.04084253"/>
     <use style="fill:#0000ff;stroke:#000000;stroke-linecap:butt;stroke-width:0.5;" x="294.840275" xlink:href="#m14f64f4070" y="105.699130506"/>
     <use style="fill:#0000ff;stroke:#000000;stroke-linecap:butt;stroke-width:0.5;" x="295.175075" xlink:href="#m14f64f4070" y="186.342734468"/>
     <use style="fill:#0000ff;stroke:#000000;stroke-linecap:butt;stroke-width:0.5;" x="295.509875" xlink:href="#m14f64f4070" y="150.856619003"/>
     <use style="fill:#0000ff;stroke:#000000;stroke-linecap:butt;stroke-width:0.5;" x="295.844675" xlink:href="#m14f64f4070" y="136.65728245"/>
     <use style="fill:#0000ff;stroke:#000000;stroke-linecap:butt;stroke-width:0.5;" x="296.179475" xlink:href="#m14f64f4070" y="107.154668104"/>
     <use style="fill:#0000ff;stroke:#000000;stroke-linecap:butt;stroke-width:0.5;" x="296.514275" xlink:href="#m14f64f4070" y="90.526578905"/>
     <use style="fill:#0000ff;stroke:#000000;stroke-linecap:butt;stroke-width:0.5;" x="296.849075" xlink:href="#m14f64f4070" y="91.453285216"/>
     <use style="fill:#0000ff;stroke:#000000;stroke-linecap:butt;stroke-width:0.5;" x="297.183875" xlink:href="#m14f64f4070" y="71.1977458208"/>
     <use style="fill:#0000ff;stroke:#000000;stroke-linecap:butt;stroke-width:0.5;" x="297.518675" xlink:href="#m14f64f4070" y="127.482896445"/>
     <use style="fill:#0000ff;stroke:#000000;stroke-linecap:butt;stroke-width:0.5;" x="297.853475" xlink:href="#m14f64f4070" y="51.9593142718"/>
     <use style="fill:#0000ff;stroke:#000000;stroke-linecap:butt;stroke-width:0.5;" x="298.188275" xlink:href="#m14f64f4070" y="93.8591597846"/>
     <use style="fill:#0000ff;stroke:#000000;stroke-linecap:butt;stroke-width:0.5;" x="298.523075" xlink:href="#m14f64f4070" y="135.506856948"/>
     <use style="fill:#0000ff;stroke:#000000;stroke-linecap:butt;stroke-width:0.5;" x="298.857875" xlink:href="#m14f64f4070" y="142.22172024"/>
     <use style="fill:#0000ff;stroke:#000000;stroke-linecap:butt;stroke-width:0.5;" x="299.192675" xlink:href="#m14f64f4070" y="131.946706535"/>
     <use style="fill:#0000ff;stroke:#000000;stroke-linecap:butt;stroke-width:0.5;" x="299.527475" xlink:href="#m14f64f4070" y="110.529494601"/>
     <use style="fill:#0000ff;stroke:#000000;stroke-linecap:butt;stroke-width:0.5;" x="299.862275" xlink:href="#m14f64f4070" y="159.755963767"/>
     <use style="fill:#0000ff;stroke:#000000;stroke-linecap:butt;stroke-width:0.5;" x="300.197075" xlink:href="#m14f64f4070" y="142.72978222"/>
     <use style="fill:#0000ff;stroke:#000000;stroke-linecap:butt;stroke-width:0.5;" x="300.531875" xlink:href="#m14f64f4070" y="136.636779776"/>
     <use style="fill:#0000ff;stroke:#000000;stroke-linecap:butt;stroke-width:0.5;" x="300.866675" xlink:href="#m14f64f4070" y="86.4939435699"/>
     <use style="fill:#0000ff;stroke:#000000;stroke-linecap:butt;stroke-width:0.5;" x="301.201475" xlink:href="#m14f64f4070" y="138.20967309"/>
     <use style="fill:#0000ff;stroke:#000000;stroke-linecap:butt;stroke-width:0.5;" x="301.536275" xlink:href="#m14f64f4070" y="106.627255642"/>
     <use style="fill:#0000ff;stroke:#000000;stroke-linecap:butt;stroke-width:0.5;" x="301.871075" xlink:href="#m14f64f4070" y="188.345050049"/>
     <use style="fill:#0000ff;stroke:#000000;stroke-linecap:butt;stroke-width:0.5;" x="302.205875" xlink:href="#m14f64f4070" y="111.350347407"/>
     <use style="fill:#0000ff;stroke:#000000;stroke-linecap:butt;stroke-width:0.5;" x="302.540675" xlink:href="#m14f64f4070" y="127.680709931"/>
     <use style="fill:#0000ff;stroke:#000000;stroke-linecap:butt;stroke-width:0.5;" x="302.875475" xlink:href="#m14f64f4070" y="97.1784924149"/>
     <use style="fill:#0000ff;stroke:#000000;stroke-linecap:butt;stroke-width:0.5;" x="303.210275" xlink:href="#m14f64f4070" y="154.449380125"/>
     <use style="fill:#0000ff;stroke:#000000;stroke-linecap:butt;stroke-width:0.5;" x="303.545075" xlink:href="#m14f64f4070" y="116.159081471"/>
     <use style="fill:#0000ff;stroke:#000000;stroke-linecap:butt;stroke-width:0.5;" x="303.879875" xlink:href="#m14f64f4070" y="176.047079874"/>
     <use style="fill:#0000ff;stroke:#000000;stroke-linecap:butt;stroke-width:0.5;" x="304.214675" xlink:href="#m14f64f4070" y="130.11413455"/>
     <use style="fill:#0000ff;stroke:#000000;stroke-linecap:butt;stroke-width:0.5;" x="304.549475" xlink:href="#m14f64f4070" y="125.245267997"/>
     <use style="fill:#0000ff;stroke:#000000;stroke-linecap:butt;stroke-width:0.5;" x="304.884275" xlink:href="#m14f64f4070" y="168.118574761"/>
     <use style="fill:#0000ff;stroke:#000000;stroke-linecap:butt;stroke-width:0.5;" x="305.219075" xlink:href="#m14f64f4070" y="147.541642439"/>
     <use style="fill:#0000ff;stroke:#000000;stroke-linecap:butt;stroke-width:0.5;" x="305.553875" xlink:href="#m14f64f4070" y="76.6822759623"/>
     <use style="fill:#0000ff;stroke:#000000;stroke-linecap:butt;stroke-width:0.5;" x="305.888675" xlink:href="#m14f64f4070" y="107.647667465"/>
     <use style="fill:#0000ff;stroke:#000000;stroke-linecap:butt;stroke-width:0.5;" x="306.223475" xlink:href="#m14f64f4070" y="79.3152113117"/>
     <use style="fill:#0000ff;stroke:#000000;stroke-linecap:butt;stroke-width:0.5;" x="306.558275" xlink:href="#m14f64f4070" y="153.745000001"/>
     <use style="fill:#0000ff;stroke:#000000;stroke-linecap:butt;stroke-width:0.5;" x="306.893075" xlink:href="#m14f64f4070" y="126.942758219"/>
     <use style="fill:#0000ff;stroke:#000000;stroke-linecap:butt;stroke-width:0.5;" x="307.227875" xlink:href="#m14f64f4070" y="152.586189035"/>
     <use style="fill:#0000ff;stroke:#000000;stroke-linecap:butt;stroke-width:0.5;" x="307.562675" xlink:href="#m14f64f4070" y="126.460497673"/>
     <use style="fill:#0000ff;stroke:#000000;stroke-linecap:butt;stroke-width:0.5;" x="307.897475" xlink:href="#m14f64f4070" y="133.776837635"/>
     <use style="fill:#0000ff;stroke:#000000;stroke-linecap:butt;stroke-width:0.5;" x="308.232275" xlink:href="#m14f64f4070" y="170.377767683"/>
     <use style="fill:#0000ff;stroke:#000000;stroke-linecap:butt;stroke-width:0.5;" x="308.567075" xlink:href="#m14f64f4070" y="87.9530708023"/>
     <use style="fill:#0000ff;stroke:#000000;stroke-linecap:butt;stroke-width:0.5;" x="308.901875" xlink:href="#m14f64f4070" y="128.77717521"/>
     <use style="fill:#0000ff;stroke:#000000;stroke-linecap:butt;stroke-width:0.5;" x="309.236675" xlink:href="#m14f64f4070" y="132.802239278"/>
     <use style="fill:#0000ff;stroke:#000000;stroke-linecap:butt;stroke-width:0.5;" x="309.571475" xlink:href="#m14f64f4070" y="116.997616748"/>
     <use style="fill:#0000ff;stroke:#000000;stroke-linecap:butt;stroke-width:0.5;" x="309.906275" xlink:href="#m14f64f4070" y="81.2047145136"/>
     <use style="fill:#0000ff;stroke:#000000;stroke-linecap:butt;stroke-width:0.5;" x="310.241075" xlink:href="#m14f64f4070" y="124.350180326"/>
     <use style="fill:#0000ff;stroke:#000000;stroke-linecap:butt;stroke-width:0.5;" x="310.575875" xlink:href="#m14f64f4070" y="140.944999174"/>
     <use style="fill:#0000ff;stroke:#000000;stroke-linecap:butt;stroke-width:0.5;" x="310.910675" xlink:href="#m14f64f4070" y="145.04949357"/>
     <use style="fill:#0000ff;stroke:#000000;stroke-linecap:butt;stroke-width:0.5;" x="311.245475" xlink:href="#m14f64f4070" y="135.812900174"/>
     <use style="fill:#0000ff;stroke:#000000;stroke-linecap:butt;stroke-width:0.5;" x="311.580275" xlink:href="#m14f64f4070" y="150.61371863"/>
     <use style="fill:#0000ff;stroke:#000000;stroke-linecap:butt;stroke-width:0.5;" x="311.915075" xlink:href="#m14f64f4070" y="123.522916451"/>
     <use style="fill:#0000ff;stroke:#000000;stroke-linecap:butt;stroke-width:0.5;" x="312.249875" xlink:href="#m14f64f4070" y="131.538415472"/>
     <use style="fill:#0000ff;stroke:#000000;stroke-linecap:butt;stroke-width:0.5;" x="312.584675" xlink:href="#m14f64f4070" y="124.633900344"/>
     <use style="fill:#0000ff;stroke:#000000;stroke-linecap:butt;stroke-width:0.5;" x="312.919475" xlink:href="#m14f64f4070" y="124.469349663"/>
     <use style="fill:#0000ff;stroke:#000000;stroke-linecap:butt;stroke-width:0.5;" x="313.254275" xlink:href="#m14f64f4070" y="131.299670456"/>
     <use style="fill:#0000ff;stroke:#000000;stroke-linecap:butt;stroke-width:0.5;" x="313.589075" xlink:href="#m14f64f4070" y="77.2939227139"/>
     <use style="fill:#0000ff;stroke:#000000;stroke-linecap:butt;stroke-width:0.5;" x="313.923875" xlink:href="#m14f64f4070" y="133.297742135"/>
     <use style="fill:#0000ff;stroke:#000000;stroke-linecap:butt;stroke-width:0.5;" x="314.258675" xlink:href="#m14f64f4070" y="164.897916953"/>
     <use style="fill:#0000ff;stroke:#000000;stroke-linecap:butt;stroke-width:0.5;" x="314.593475" xlink:href="#m14f64f4070" y="203.469776966"/>
     <use style="fill:#0000ff;stroke:#000000;stroke-linecap:butt;stroke-width:0.5;" x="314.928275" xlink:href="#m14f64f4070" y="136.304434021"/>
     <use style="fill:#0000ff;stroke:#000000;stroke-linecap:butt;stroke-width:0.5;" x="315.263075" xlink:href="#m14f64f4070" y="149.724666454"/>
     <use style="fill:#0000ff;stroke:#000000;stroke-linecap:butt;stroke-width:0.5;" x="315.597875" xlink:href="#m14f64f4070" y="137.162643965"/>
     <use style="fill:#0000ff;stroke:#000000;stroke-linecap:butt;stroke-width:0.5;" x="315.932675" xlink:href="#m14f64f4070" y="105.121619052"/>
     <use style="fill:#0000ff;stroke:#000000;stroke-linecap:butt;stroke-width:0.5;" x="316.267475" xlink:href="#m14f64f4070" y="153.191938918"/>
     <use style="fill:#0000ff;stroke:#000000;stroke-linecap:butt;stroke-width:0.5;" x="316.602275" xlink:href="#m14f64f4070" y="162.633488821"/>
     <use style="fill:#0000ff;stroke:#000000;stroke-linecap:butt;stroke-width:0.5;" x="316.937075" xlink:href="#m14f64f4070" y="130.895192478"/>
     <use style="fill:#0000ff;stroke:#000000;stroke-linecap:butt;stroke-width:0.5;" x="317.271875" xlink:href="#m14f64f4070" y="117.701209236"/>
     <use style="fill:#0000ff;stroke:#000000;stroke-linecap:butt;stroke-width:0.5;" x="317.606675" xlink:href="#m14f64f4070" y="114.370670318"/>
     <use style="fill:#0000ff;stroke:#000000;stroke-linecap:butt;stroke-width:0.5;" x="317.941475" xlink:href="#m14f64f4070" y="163.216771723"/>
     <use style="fill:#0000ff;stroke:#000000;stroke-linecap:butt;stroke-width:0.5;" x="318.276275" xlink:href="#m14f64f4070" y="161.025119345"/>
     <use style="fill:#0000ff;stroke:#000000;stroke-linecap:butt;stroke-width:0.5;" x="318.611075" xlink:href="#m14f64f4070" y="122.50775562"/>
     <use style="fill:#0000ff;stroke:#000000;stroke-linecap:butt;stroke-width:0.5;" x="318.945875" xlink:href="#m14f64f4070" y="157.458947577"/>
     <use style="fill:#0000ff;stroke:#000000;stroke-linecap:butt;stroke-width:0.5;" x="319.280675" xlink:href="#m14f64f4070" y="149.977412149"/>
     <use style="fill:#0000ff;stroke:#000000;stroke-linecap:butt;stroke-width:0.5;" x="319.615475" xlink:href="#m14f64f4070" y="72.5317381305"/>
     <use style="fill:#0000ff;stroke:#000000;stroke-linecap:butt;stroke-width:0.5;" x="319.950275" xlink:href="#m14f64f4070" y="99.035301774"/>
     <use style="fill:#0000ff;stroke:#000000;stroke-linecap:butt;stroke-width:0.5;" x="320.285075" xlink:href="#m14f64f4070" y="143.41652944"/>
     <use style="fill:#0000ff;stroke:#000000;stroke-linecap:butt;stroke-width:0.5;" x="320.619875" xlink:href="#m14f64f4070" y="117.608015582"/>
     <use style="fill:#0000ff;stroke:#000000;stroke-linecap:butt;stroke-width:0.5;" x="320.954675" xlink:href="#m14f64f4070" y="140.850171633"/>
     <use style="fill:#0000ff;stroke:#000000;stroke-linecap:butt;stroke-width:0.5;" x="321.289475" xlink:href="#m14f64f4070" y="101.413050337"/>
     <use style="fill:#0000ff;stroke:#000000;stroke-linecap:butt;stroke-width:0.5;" x="321.624275" xlink:href="#m14f64f4070" y="100.778481917"/>
     <use style="fill:#0000ff;stroke:#000000;stroke-linecap:butt;stroke-width:0.5;" x="321.959075" xlink:href="#m14f64f4070" y="132.290157659"/>
     <use style="fill:#0000ff;stroke:#000000;stroke-linecap:butt;stroke-width:0.5;" x="322.293875" xlink:href="#m14f64f4070" y="148.117363927"/>
     <use style="fill:#0000ff;stroke:#000000;stroke-linecap:butt;stroke-width:0.5;" x="322.628675" xlink:href="#m14f64f4070" y="92.6125156683"/>
     <use style="fill:#0000ff;stroke:#000000;stroke-linecap:butt;stroke-width:0.5;" x="322.963475" xlink:href="#m14f64f4070" y="123.646662442"/>
     <use style="fill:#0000ff;stroke:#000000;stroke-linecap:butt;stroke-width:0.5;" x="323.298275" xlink:href="#m14f64f4070" y="139.295679888"/>
     <use style="fill:#0000ff;stroke:#000000;stroke-linecap:butt;stroke-width:0.5;" x="323.633075" xlink:href="#m14f64f4070" y="106.242929441"/>
     <use style="fill:#0000ff;stroke:#000000;stroke-linecap:butt;stroke-width:0.5;" x="323.967875" xlink:href="#m14f64f4070" y="138.867422697"/>
     <use style="fill:#0000ff;stroke:#000000;stroke-linecap:butt;stroke-width:0.5;" x="324.302675" xlink:href="#m14f64f4070" y="130.923486412"/>
     <use style="fill:#0000ff;stroke:#000000;stroke-linecap:butt;stroke-width:0.5;" x="324.637475" xlink:href="#m14f64f4070" y="164.778094054"/>
     <use style="fill:#0000ff;stroke:#000000;stroke-linecap:butt;stroke-width:0.5;" x="324.972275" xlink:href="#m14f64f4070" y="102.430387328"/>
     <use style="fill:#0000ff;stroke:#000000;stroke-linecap:butt;stroke-width:0.5;" x="325.307075" xlink:href="#m14f64f4070" y="170.310660617"/>
     <use style="fill:#0000ff;stroke:#000000;stroke-linecap:butt;stroke-width:0.5;" x="325.641875" xlink:href="#m14f64f4070" y="78.9051831122"/>
     <use style="fill:#0000ff;stroke:#000000;stroke-linecap:butt;stroke-width:0.5;" x="325.976675" xlink:href="#m14f64f4070" y="171.691983741"/>
     <use style="fill:#0000ff;stroke:#000000;stroke-linecap:butt;stroke-width:0.5;" x="326.311475" xlink:href="#m14f64f4070" y="137.829021703"/>
     <use style="fill:#0000ff;stroke:#000000;stroke-linecap:butt;stroke-width:0.5;" x="326.646275" xlink:href="#m14f64f4070" y="145.225923377"/>
     <use style="fill:#0000ff;stroke:#000000;stroke-linecap:butt;stroke-width:0.5;" x="326.981075" xlink:href="#m14f64f4070" y="154.585872209"/>
     <use style="fill:#0000ff;stroke:#000000;stroke-linecap:butt;stroke-width:0.5;" x="327.315875" xlink:href="#m14f64f4070" y="115.215970233"/>
     <use style="fill:#0000ff;stroke:#000000;stroke-linecap:butt;stroke-width:0.5;" x="327.650675" xlink:href="#m14f64f4070" y="177.585048016"/>
     <use style="fill:#0000ff;stroke:#000000;stroke-linecap:butt;stroke-width:0.5;" x="327.985475" xlink:href="#m14f64f4070" y="114.212233482"/>
     <use style="fill:#0000ff;stroke:#000000;stroke-linecap:butt;stroke-width:0.5;" x="328.320275" xlink:href="#m14f64f4070" y="151.742206073"/>
     <use style="fill:#0000ff;stroke:#000000;stroke-linecap:butt;stroke-width:0.5;" x="328.655075" xlink:href="#m14f64f4070" y="122.975467245"/>
     <use style="fill:#0000ff;stroke:#000000;stroke-linecap:butt;stroke-width:0.5;" x="328.989875" xlink:href="#m14f64f4070" y="179.336909895"/>
     <use style="fill:#0000ff;stroke:#000000;stroke-linecap:butt;stroke-width:0.5;" x="329.324675" xlink:href="#m14f64f4070" y="116.129286865"/>
     <use style="fill:#0000ff;stroke:#000000;stroke-linecap:butt;stroke-width:0.5;" x="329.659475" xlink:href="#m14f64f4070" y="120.495498332"/>
     <use style="fill:#0000ff;stroke:#000000;stroke-linecap:butt;stroke-width:0.5;" x="329.994275" xlink:href="#m14f64f4070" y="152.227085966"/>
     <use style="fill:#0000ff;stroke:#000000;stroke-linecap:butt;stroke-width:0.5;" x="330.329075" xlink:href="#m14f64f4070" y="154.400131805"/>
     <use style="fill:#0000ff;stroke:#000000;stroke-linecap:butt;stroke-width:0.5;" x="330.663875" xlink:href="#m14f64f4070" y="118.087521936"/>
     <use style="fill:#0000ff;stroke:#000000;stroke-linecap:butt;stroke-width:0.5;" x="330.998675" xlink:href="#m14f64f4070" y="115.863159042"/>
     <use style="fill:#0000ff;stroke:#000000;stroke-linecap:butt;stroke-width:0.5;" x="331.333475" xlink:href="#m14f64f4070" y="185.542292158"/>
     <use style="fill:#0000ff;stroke:#000000;stroke-linecap:butt;stroke-width:0.5;" x="331.668275" xlink:href="#m14f64f4070" y="139.185687423"/>
     <use style="fill:#0000ff;stroke:#000000;stroke-linecap:butt;stroke-width:0.5;" x="332.003075" xlink:href="#m14f64f4070" y="166.492185255"/>
     <use style="fill:#0000ff;stroke:#000000;stroke-linecap:butt;stroke-width:0.5;" x="332.337875" xlink:href="#m14f64f4070" y="165.983849653"/>
     <use style="fill:#0000ff;stroke:#000000;stroke-linecap:butt;stroke-width:0.5;" x="332.672675" xlink:href="#m14f64f4070" y="117.74762811"/>
     <use style="fill:#0000ff;stroke:#000000;stroke-linecap:butt;stroke-width:0.5;" x="333.007475" xlink:href="#m14f64f4070" y="183.124639178"/>
     <use style="fill:#0000ff;stroke:#000000;stroke-linecap:butt;stroke-width:0.5;" x="333.342275" xlink:href="#m14f64f4070" y="128.37443686"/>
     <use style="fill:#0000ff;stroke:#000000;stroke-linecap:butt;stroke-width:0.5;" x="333.677075" xlink:href="#m14f64f4070" y="126.303773922"/>
     <use style="fill:#0000ff;stroke:#000000;stroke-linecap:butt;stroke-width:0.5;" x="334.011875" xlink:href="#m14f64f4070" y="172.81272923"/>
     <use style="fill:#0000ff;stroke:#000000;stroke-linecap:butt;stroke-width:0.5;" x="334.346675" xlink:href="#m14f64f4070" y="154.999103903"/>
     <use style="fill:#0000ff;stroke:#000000;stroke-linecap:butt;stroke-width:0.5;" x="334.681475" xlink:href="#m14f64f4070" y="111.685486796"/>
     <use style="fill:#0000ff;stroke:#000000;stroke-linecap:butt;stroke-width:0.5;" x="335.016275" xlink:href="#m14f64f4070" y="99.592124573"/>
     <use style="fill:#0000ff;stroke:#000000;stroke-linecap:butt;stroke-width:0.5;" x="335.351075" xlink:href="#m14f64f4070" y="108.977202164"/>
     <use style="fill:#0000ff;stroke:#000000;stroke-linecap:butt;stroke-width:0.5;" x="335.685875" xlink:href="#m14f64f4070" y="108.85629319"/>
     <use style="fill:#0000ff;stroke:#000000;stroke-linecap:butt;stroke-width:0.5;" x="336.020675" xlink:href="#m14f64f4070" y="157.905564522"/>
     <use style="fill:#0000ff;stroke:#000000;stroke-linecap:butt;stroke-width:0.5;" x="336.355475" xlink:href="#m14f64f4070" y="192.306888183"/>
     <use style="fill:#0000ff;stroke:#000000;stroke-linecap:butt;stroke-width:0.5;" x="336.690275" xlink:href="#m14f64f4070" y="122.4700438"/>
     <use style="fill:#0000ff;stroke:#000000;stroke-linecap:butt;stroke-width:0.5;" x="337.025075" xlink:href="#m14f64f4070" y="175.36659112"/>
     <use style="fill:#0000ff;stroke:#000000;stroke-linecap:butt;stroke-width:0.5;" x="337.359875" xlink:href="#m14f64f4070" y="195.437714104"/>
     <use style="fill:#0000ff;stroke:#000000;stroke-linecap:butt;stroke-width:0.5;" x="337.694675" xlink:href="#m14f64f4070" y="111.684763605"/>
     <use style="fill:#0000ff;stroke:#000000;stroke-linecap:butt;stroke-width:0.5;" x="338.029475" xlink:href="#m14f64f4070" y="120.242320148"/>
     <use style="fill:#0000ff;stroke:#000000;stroke-linecap:butt;stroke-width:0.5;" x="338.364275" xlink:href="#m14f64f4070" y="113.798720996"/>
     <use style="fill:#0000ff;stroke:#000000;stroke-linecap:butt;stroke-width:0.5;" x="338.699075" xlink:href="#m14f64f4070" y="110.609700748"/>
     <use style="fill:#0000ff;stroke:#000000;stroke-linecap:butt;stroke-width:0.5;" x="339.033875" xlink:href="#m14f64f4070" y="106.13830199"/>
     <use style="fill:#0000ff;stroke:#000000;stroke-linecap:butt;stroke-width:0.5;" x="339.368675" xlink:href="#m14f64f4070" y="122.801012401"/>
     <use style="fill:#0000ff;stroke:#000000;stroke-linecap:butt;stroke-width:0.5;" x="339.703475" xlink:href="#m14f64f4070" y="131.050048367"/>
     <use style="fill:#0000ff;stroke:#000000;stroke-linecap:butt;stroke-width:0.5;" x="340.038275" xlink:href="#m14f64f4070" y="139.319046928"/>
     <use style="fill:#0000ff;stroke:#000000;stroke-linecap:butt;stroke-width:0.5;" x="340.373075" xlink:href="#m14f64f4070" y="182.172285942"/>
     <use style="fill:#0000ff;stroke:#000000;stroke-linecap:butt;stroke-width:0.5;" x="340.707875" xlink:href="#m14f64f4070" y="148.996437904"/>
     <use style="fill:#0000ff;stroke:#000000;stroke-linecap:butt;stroke-width:0.5;" x="341.042675" xlink:href="#m14f64f4070" y="187.082174207"/>
     <use style="fill:#0000ff;stroke:#000000;stroke-linecap:butt;stroke-width:0.5;" x="341.377475" xlink:href="#m14f64f4070" y="93.4814321319"/>
     <use style="fill:#0000ff;stroke:#000000;stroke-linecap:butt;stroke-width:0.5;" x="341.712275" xlink:href="#m14f64f4070" y="120.814086001"/>
     <use style="fill:#0000ff;stroke:#000000;stroke-linecap:butt;stroke-width:0.5;" x="342.047075" xlink:href="#m14f64f4070" y="173.79250817"/>
     <use style="fill:#0000ff;stroke:#000000;stroke-linecap:butt;stroke-width:0.5;" x="342.381875" xlink:href="#m14f64f4070" y="193.819131365"/>
     <use style="fill:#0000ff;stroke:#000000;stroke-linecap:butt;stroke-width:0.5;" x="342.716675" xlink:href="#m14f64f4070" y="110.206418816"/>
     <use style="fill:#0000ff;stroke:#000000;stroke-linecap:butt;stroke-width:0.5;" x="343.051475" xlink:href="#m14f64f4070" y="118.538925157"/>
     <use style="fill:#0000ff;stroke:#000000;stroke-linecap:butt;stroke-width:0.5;" x="343.386275" xlink:href="#m14f64f4070" y="70.5797274045"/>
     <use style="fill:#0000ff;stroke:#000000;stroke-linecap:butt;stroke-width:0.5;" x="343.721075" xlink:href="#m14f64f4070" y="102.266293899"/>
     <use style="fill:#0000ff;stroke:#000000;stroke-linecap:butt;stroke-width:0.5;" x="344.055875" xlink:href="#m14f64f4070" y="127.865052366"/>
     <use style="fill:#0000ff;stroke:#000000;stroke-linecap:butt;stroke-width:0.5;" x="344.390675" xlink:href="#m14f64f4070" y="120.567520066"/>
     <use style="fill:#0000ff;stroke:#000000;stroke-linecap:butt;stroke-width:0.5;" x="344.725475" xlink:href="#m14f64f4070" y="114.831158296"/>
     <use style="fill:#0000ff;stroke:#000000;stroke-linecap:butt;stroke-width:0.5;" x="345.060275" xlink:href="#m14f64f4070" y="103.760994026"/>
     <use style="fill:#0000ff;stroke:#000000;stroke-linecap:butt;stroke-width:0.5;" x="345.395075" xlink:href="#m14f64f4070" y="187.061742947"/>
     <use style="fill:#0000ff;stroke:#000000;stroke-linecap:butt;stroke-width:0.5;" x="345.729875" xlink:href="#m14f64f4070" y="122.090607782"/>
     <use style="fill:#0000ff;stroke:#000000;stroke-linecap:butt;stroke-width:0.5;" x="346.064675" xlink:href="#m14f64f4070" y="113.359063822"/>
     <use style="fill:#0000ff;stroke:#000000;stroke-linecap:butt;stroke-width:0.5;" x="346.399475" xlink:href="#m14f64f4070" y="134.804118623"/>
     <use style="fill:#0000ff;stroke:#000000;stroke-linecap:butt;stroke-width:0.5;" x="346.734275" xlink:href="#m14f64f4070" y="152.929495455"/>
     <use style="fill:#0000ff;stroke:#000000;stroke-linecap:butt;stroke-width:0.5;" x="347.069075" xlink:href="#m14f64f4070" y="146.770690713"/>
     <use style="fill:#0000ff;stroke:#000000;stroke-linecap:butt;stroke-width:0.5;" x="347.403875" xlink:href="#m14f64f4070" y="129.141025177"/>
     <use style="fill:#0000ff;stroke:#000000;stroke-linecap:butt;stroke-width:0.5;" x="347.738675" xlink:href="#m14f64f4070" y="122.919248369"/>
     <use style="fill:#0000ff;stroke:#000000;stroke-linecap:butt;stroke-width:0.5;" x="348.073475" xlink:href="#m14f64f4070" y="213.661885416"/>
     <use style="fill:#0000ff;stroke:#000000;stroke-linecap:butt;stroke-width:0.5;" x="348.408275" xlink:href="#m14f64f4070" y="163.315323408"/>
     <use style="fill:#0000ff;stroke:#000000;stroke-linecap:butt;stroke-width:0.5;" x="348.743075" xlink:href="#m14f64f4070" y="106.435364917"/>
     <use style="fill:#0000ff;stroke:#000000;stroke-linecap:butt;stroke-width:0.5;" x="349.077875" xlink:href="#m14f64f4070" y="87.3485173592"/>
     <use style="fill:#0000ff;stroke:#000000;stroke-linecap:butt;stroke-width:0.5;" x="349.412675" xlink:href="#m14f64f4070" y="80.4672078694"/>
     <use style="fill:#0000ff;stroke:#000000;stroke-linecap:butt;stroke-width:0.5;" x="349.747475" xlink:href="#m14f64f4070" y="151.174587995"/>
     <use style="fill:#0000ff;stroke:#000000;stroke-linecap:butt;stroke-width:0.5;" x="350.082275" xlink:href="#m14f64f4070" y="152.518332567"/>
     <use style="fill:#0000ff;stroke:#000000;stroke-linecap:butt;stroke-width:0.5;" x="350.417075" xlink:href="#m14f64f4070" y="157.712295148"/>
     <use style="fill:#0000ff;stroke:#000000;stroke-linecap:butt;stroke-width:0.5;" x="350.751875" xlink:href="#m14f64f4070" y="122.324323664"/>
     <use style="fill:#0000ff;stroke:#000000;stroke-linecap:butt;stroke-width:0.5;" x="351.086675" xlink:href="#m14f64f4070" y="150.872232243"/>
     <use style="fill:#0000ff;stroke:#000000;stroke-linecap:butt;stroke-width:0.5;" x="351.421475" xlink:href="#m14f64f4070" y="149.473082676"/>
     <use style="fill:#0000ff;stroke:#000000;stroke-linecap:butt;stroke-width:0.5;" x="351.756275" xlink:href="#m14f64f4070" y="100.804256757"/>
     <use style="fill:#0000ff;stroke:#000000;stroke-linecap:butt;stroke-width:0.5;" x="352.091075" xlink:href="#m14f64f4070" y="137.773575621"/>
     <use style="fill:#0000ff;stroke:#000000;stroke-linecap:butt;stroke-width:0.5;" x="352.425875" xlink:href="#m14f64f4070" y="135.624403498"/>
     <use style="fill:#0000ff;stroke:#000000;stroke-linecap:butt;stroke-width:0.5;" x="352.760675" xlink:href="#m14f64f4070" y="123.432153128"/>
     <use style="fill:#0000ff;stroke:#000000;stroke-linecap:butt;stroke-width:0.5;" x="353.095475" xlink:href="#m14f64f4070" y="124.270891519"/>
     <use style="fill:#0000ff;stroke:#000000;stroke-linecap:butt;stroke-width:0.5;" x="353.430275" xlink:href="#m14f64f4070" y="88.279754273"/>
     <use style="fill:#0000ff;stroke:#000000;stroke-linecap:butt;stroke-width:0.5;" x="353.765075" xlink:href="#m14f64f4070" y="105.021619639"/>
     <use style="fill:#0000ff;stroke:#000000;stroke-linecap:butt;stroke-width:0.5;" x="354.099875" xlink:href="#m14f64f4070" y="102.680247305"/>
     <use style="fill:#0000ff;stroke:#000000;stroke-linecap:butt;stroke-width:0.5;" x="354.434675" xlink:href="#m14f64f4070" y="183.816799782"/>
     <use style="fill:#0000ff;stroke:#000000;stroke-linecap:butt;stroke-width:0.5;" x="354.769475" xlink:href="#m14f64f4070" y="115.657171893"/>
     <use style="fill:#0000ff;stroke:#000000;stroke-linecap:butt;stroke-width:0.5;" x="355.104275" xlink:href="#m14f64f4070" y="127.20383605"/>
     <use style="fill:#0000ff;stroke:#000000;stroke-linecap:butt;stroke-width:0.5;" x="355.439075" xlink:href="#m14f64f4070" y="149.950210576"/>
     <use style="fill:#0000ff;stroke:#000000;stroke-linecap:butt;stroke-width:0.5;" x="355.773875" xlink:href="#m14f64f4070" y="133.757689119"/>
     <use style="fill:#0000ff;stroke:#000000;stroke-linecap:butt;stroke-width:0.5;" x="356.108675" xlink:href="#m14f64f4070" y="187.263602386"/>
     <use style="fill:#0000ff;stroke:#000000;stroke-linecap:butt;stroke-width:0.5;" x="356.443475" xlink:href="#m14f64f4070" y="93.9135736386"/>
     <use style="fill:#0000ff;stroke:#000000;stroke-linecap:butt;stroke-width:0.5;" x="356.778275" xlink:href="#m14f64f4070" y="166.744627386"/>
     <use style="fill:#0000ff;stroke:#000000;stroke-linecap:butt;stroke-width:0.5;" x="357.113075" xlink:href="#m14f64f4070" y="117.3196918"/>
     <use style="fill:#0000ff;stroke:#000000;stroke-linecap:butt;stroke-width:0.5;" x="357.447875" xlink:href="#m14f64f4070" y="179.400514956"/>
     <use style="fill:#0000ff;stroke:#000000;stroke-linecap:butt;stroke-width:0.5;" x="357.782675" xlink:href="#m14f64f4070" y="157.51811661"/>
     <use style="fill:#0000ff;stroke:#000000;stroke-linecap:butt;stroke-width:0.5;" x="358.117475" xlink:href="#m14f64f4070" y="91.2325650267"/>
     <use style="fill:#0000ff;stroke:#000000;stroke-linecap:butt;stroke-width:0.5;" x="358.452275" xlink:href="#m14f64f4070" y="153.077592703"/>
     <use style="fill:#0000ff;stroke:#000000;stroke-linecap:butt;stroke-width:0.5;" x="358.787075" xlink:href="#m14f64f4070" y="110.881233717"/>
    </g>
   </g>
   <g id="matplotlib.axis_1">
    <g id="xtick_1">
     <g id="line2d_2">
      <defs>
       <path d=" M0 0 L0 -4" id="m996995e743"/>
      </defs>
      <g>
       <use style="stroke:#000000;stroke-linecap:butt;stroke-width:0.5;" x="24.321875" xlink:href="#m996995e743" y="244.76"/>
      </g>
     </g>
     <g id="line2d_3">
      <defs>
       <path d=" M0 0 L0 4" id="m72bed0fe63"/>
      </defs>
      <g>
       <use style="stroke:#000000;stroke-linecap:butt;stroke-width:0.5;" x="24.321875" xlink:href="#m72bed0fe63" y="21.56"/>
      </g>
     </g>
     <g id="text_1">
      <!-- 0 -->
      <defs>
       <path d=" M31.7812 66.4062 Q24.1719 66.4062 20.3281 58.9062 Q16.5 51.4219 16.5 36.375 Q16.5 21.3906 20.3281 13.8906 Q24.1719 6.39062 31.7812 6.39062 Q39.4531 6.39062 43.2812 13.8906 Q47.125 21.3906 47.125 36.375 Q47.125 51.4219 43.2812 58.9062 Q39.4531 66.4062 31.7812 66.4062 M31.7812 74.2188 Q44.0469 74.2188 50.5156 64.5156 Q56.9844 54.8281 56.9844 36.375 Q56.9844 17.9688 50.5156 8.26562 Q44.0469 -1.42188 31.7812 -1.42188 Q19.5312 -1.42188 13.0625 8.26562 Q6.59375 17.9688 6.59375 36.375 Q6.59375 54.8281 13.0625 64.5156 Q19.5312 74.2188 31.7812 74.2188" id="BitstreamVeraSans-Roman-30"/>
      </defs>
      <g transform="translate(21.80234375 256.181875)scale(0.1 -0.1)">
       <use xlink:href="#BitstreamVeraSans-Roman-30"/>
      </g>
     </g>
    </g>
    <g id="xtick_2">
     <g id="line2d_4">
      <defs>
       <path d=" M0 0 L0 -4" id="m996995e743"/>
      </defs>
      <g>
       <use style="stroke:#000000;stroke-linecap:butt;stroke-width:0.5;" x="91.281875" xlink:href="#m996995e743" y="244.76"/>
      </g>
     </g>
     <g id="line2d_5">
      <defs>
       <path d=" M0 0 L0 4" id="m72bed0fe63"/>
      </defs>
      <g>
       <use style="stroke:#000000;stroke-linecap:butt;stroke-width:0.5;" x="91.281875" xlink:href="#m72bed0fe63" y="21.56"/>
      </g>
     </g>
     <g id="text_2">
      <!-- 200 -->
      <defs>
       <path d=" M19.1875 8.29688 L53.6094 8.29688 L53.6094 0 L7.32812 0 L7.32812 8.29688 Q12.9375 14.1094 22.625 23.8906 Q32.3281 33.6875 34.8125 36.5312 Q39.5469 41.8438 41.4219 45.5312 Q43.3125 49.2188 43.3125 52.7812 Q43.3125 58.5938 39.2344 62.25 Q35.1562 65.9219 28.6094 65.9219 Q23.9688 65.9219 18.8125 64.3125 Q13.6719 62.7031 7.8125 59.4219 L7.8125 69.3906 Q13.7656 71.7812 18.9375 73 Q24.125 74.2188 28.4219 74.2188 Q39.75 74.2188 46.4844 68.5469 Q53.2188 62.8906 53.2188 53.4219 Q53.2188 48.9219 51.5312 44.8906 Q49.8594 40.875 45.4062 35.4062 Q44.1875 33.9844 37.6406 27.2188 Q31.1094 20.4531 19.1875 8.29688" id="BitstreamVeraSans-Roman-32"/>
      </defs>
      <g transform="translate(82.4365625 256.181875)scale(0.1 -0.1)">
       <use xlink:href="#BitstreamVeraSans-Roman-32"/>
       <use x="63.623046875" xlink:href="#BitstreamVeraSans-Roman-30"/>
       <use x="127.24609375" xlink:href="#BitstreamVeraSans-Roman-30"/>
      </g>
     </g>
    </g>
    <g id="xtick_3">
     <g id="line2d_6">
      <defs>
       <path d=" M0 0 L0 -4" id="m996995e743"/>
      </defs>
      <g>
       <use style="stroke:#000000;stroke-linecap:butt;stroke-width:0.5;" x="158.241875" xlink:href="#m996995e743" y="244.76"/>
      </g>
     </g>
     <g id="line2d_7">
      <defs>
       <path d=" M0 0 L0 4" id="m72bed0fe63"/>
      </defs>
      <g>
       <use style="stroke:#000000;stroke-linecap:butt;stroke-width:0.5;" x="158.241875" xlink:href="#m72bed0fe63" y="21.56"/>
      </g>
     </g>
     <g id="text_3">
      <!-- 400 -->
      <defs>
       <path d=" M37.7969 64.3125 L12.8906 25.3906 L37.7969 25.3906 z  M35.2031 72.9062 L47.6094 72.9062 L47.6094 25.3906 L58.0156 25.3906 L58.0156 17.1875 L47.6094 17.1875 L47.6094 0 L37.7969 0 L37.7969 17.1875 L4.89062 17.1875 L4.89062 26.7031 z " id="BitstreamVeraSans-Roman-34"/>
      </defs>
      <g transform="translate(149.2746875 256.181875)scale(0.1 -0.1)">
       <use xlink:href="#BitstreamVeraSans-Roman-34"/>
       <use x="63.623046875" xlink:href="#BitstreamVeraSans-Roman-30"/>
       <use x="127.24609375" xlink:href="#BitstreamVeraSans-Roman-30"/>
      </g>
     </g>
    </g>
    <g id="xtick_4">
     <g id="line2d_8">
      <defs>
       <path d=" M0 0 L0 -4" id="m996995e743"/>
      </defs>
      <g>
       <use style="stroke:#000000;stroke-linecap:butt;stroke-width:0.5;" x="225.201875" xlink:href="#m996995e743" y="244.76"/>
      </g>
     </g>
     <g id="line2d_9">
      <defs>
       <path d=" M0 0 L0 4" id="m72bed0fe63"/>
      </defs>
      <g>
       <use style="stroke:#000000;stroke-linecap:butt;stroke-width:0.5;" x="225.201875" xlink:href="#m72bed0fe63" y="21.56"/>
      </g>
     </g>
     <g id="text_4">
      <!-- 600 -->
      <defs>
       <path d=" M33.0156 40.375 Q26.375 40.375 22.4844 35.8281 Q18.6094 31.2969 18.6094 23.3906 Q18.6094 15.5312 22.4844 10.9531 Q26.375 6.39062 33.0156 6.39062 Q39.6562 6.39062 43.5312 10.9531 Q47.4062 15.5312 47.4062 23.3906 Q47.4062 31.2969 43.5312 35.8281 Q39.6562 40.375 33.0156 40.375 M52.5938 71.2969 L52.5938 62.3125 Q48.875 64.0625 45.0938 64.9844 Q41.3125 65.9219 37.5938 65.9219 Q27.8281 65.9219 22.6719 59.3281 Q17.5312 52.7344 16.7969 39.4062 Q19.6719 43.6562 24.0156 45.9219 Q28.375 48.1875 33.5938 48.1875 Q44.5781 48.1875 50.9531 41.5156 Q57.3281 34.8594 57.3281 23.3906 Q57.3281 12.1562 50.6875 5.35938 Q44.0469 -1.42188 33.0156 -1.42188 Q20.3594 -1.42188 13.6719 8.26562 Q6.98438 17.9688 6.98438 36.375 Q6.98438 53.6562 15.1875 63.9375 Q23.3906 74.2188 37.2031 74.2188 Q40.9219 74.2188 44.7031 73.4844 Q48.4844 72.75 52.5938 71.2969" id="BitstreamVeraSans-Roman-36"/>
      </defs>
      <g transform="translate(216.339375 256.181875)scale(0.1 -0.1)">
       <use xlink:href="#BitstreamVeraSans-Roman-36"/>
       <use x="63.623046875" xlink:href="#BitstreamVeraSans-Roman-30"/>
       <use x="127.24609375" xlink:href="#BitstreamVeraSans-Roman-30"/>
      </g>
     </g>
    </g>
    <g id="xtick_5">
     <g id="line2d_10">
      <defs>
       <path d=" M0 0 L0 -4" id="m996995e743"/>
      </defs>
      <g>
       <use style="stroke:#000000;stroke-linecap:butt;stroke-width:0.5;" x="292.161875" xlink:href="#m996995e743" y="244.76"/>
      </g>
     </g>
     <g id="line2d_11">
      <defs>
       <path d=" M0 0 L0 4" id="m72bed0fe63"/>
      </defs>
      <g>
       <use style="stroke:#000000;stroke-linecap:butt;stroke-width:0.5;" x="292.161875" xlink:href="#m72bed0fe63" y="21.56"/>
      </g>
     </g>
     <g id="text_5">
      <!-- 800 -->
      <defs>
       <path d=" M31.7812 34.625 Q24.75 34.625 20.7188 30.8594 Q16.7031 27.0938 16.7031 20.5156 Q16.7031 13.9219 20.7188 10.1562 Q24.75 6.39062 31.7812 6.39062 Q38.8125 6.39062 42.8594 10.1719 Q46.9219 13.9688 46.9219 20.5156 Q46.9219 27.0938 42.8906 30.8594 Q38.875 34.625 31.7812 34.625 M21.9219 38.8125 Q15.5781 40.375 12.0312 44.7188 Q8.5 49.0781 8.5 55.3281 Q8.5 64.0625 14.7188 69.1406 Q20.9531 74.2188 31.7812 74.2188 Q42.6719 74.2188 48.875 69.1406 Q55.0781 64.0625 55.0781 55.3281 Q55.0781 49.0781 51.5312 44.7188 Q48 40.375 41.7031 38.8125 Q48.8281 37.1562 52.7969 32.3125 Q56.7812 27.4844 56.7812 20.5156 Q56.7812 9.90625 50.3125 4.23438 Q43.8438 -1.42188 31.7812 -1.42188 Q19.7344 -1.42188 13.25 4.23438 Q6.78125 9.90625 6.78125 20.5156 Q6.78125 27.4844 10.7812 32.3125 Q14.7969 37.1562 21.9219 38.8125 M18.3125 54.3906 Q18.3125 48.7344 21.8438 45.5625 Q25.3906 42.3906 31.7812 42.3906 Q38.1406 42.3906 41.7188 45.5625 Q45.3125 48.7344 45.3125 54.3906 Q45.3125 60.0625 41.7188 63.2344 Q38.1406 66.4062 31.7812 66.4062 Q25.3906 66.4062 21.8438 63.2344 Q18.3125 60.0625 18.3125 54.3906" id="BitstreamVeraSans-Roman-38"/>
      </defs>
      <g transform="translate(283.28921875 256.181875)scale(0.1 -0.1)">
       <use xlink:href="#BitstreamVeraSans-Roman-38"/>
       <use x="63.623046875" xlink:href="#BitstreamVeraSans-Roman-30"/>
       <use x="127.24609375" xlink:href="#BitstreamVeraSans-Roman-30"/>
      </g>
     </g>
    </g>
    <g id="xtick_6">
     <g id="line2d_12">
      <defs>
       <path d=" M0 0 L0 -4" id="m996995e743"/>
      </defs>
      <g>
       <use style="stroke:#000000;stroke-linecap:butt;stroke-width:0.5;" x="359.121875" xlink:href="#m996995e743" y="244.76"/>
      </g>
     </g>
     <g id="line2d_13">
      <defs>
       <path d=" M0 0 L0 4" id="m72bed0fe63"/>
      </defs>
      <g>
       <use style="stroke:#000000;stroke-linecap:butt;stroke-width:0.5;" x="359.121875" xlink:href="#m72bed0fe63" y="21.56"/>
      </g>
     </g>
     <g id="text_6">
      <!-- 1000 -->
      <defs>
       <path d=" M12.4062 8.29688 L28.5156 8.29688 L28.5156 63.9219 L10.9844 60.4062 L10.9844 69.3906 L28.4219 72.9062 L38.2812 72.9062 L38.2812 8.29688 L54.3906 8.29688 L54.3906 0 L12.4062 0 z " id="BitstreamVeraSans-Roman-31"/>
      </defs>
      <g transform="translate(347.278125 256.181875)scale(0.1 -0.1)">
       <use xlink:href="#BitstreamVeraSans-Roman-31"/>
       <use x="63.623046875" xlink:href="#BitstreamVeraSans-Roman-30"/>
       <use x="127.24609375" xlink:href="#BitstreamVeraSans-Roman-30"/>
       <use x="190.869140625" xlink:href="#BitstreamVeraSans-Roman-30"/>
      </g>
     </g>
    </g>
   </g>
   <g id="matplotlib.axis_2">
    <g id="ytick_1">
     <g id="line2d_14">
      <defs>
       <path d=" M0 0 L4 0" id="maff58bf311"/>
      </defs>
      <g>
       <use style="stroke:#000000;stroke-linecap:butt;stroke-width:0.5;" x="24.321875" xlink:href="#maff58bf311" y="244.76"/>
      </g>
     </g>
     <g id="line2d_15">
      <defs>
       <path d=" M0 0 L-4 0" id="mb8da78deed"/>
      </defs>
      <g>
       <use style="stroke:#000000;stroke-linecap:butt;stroke-width:0.5;" x="359.121875" xlink:href="#mb8da78deed" y="244.76"/>
      </g>
     </g>
     <g id="text_7">
      <!-- −4 -->
      <defs>
       <path d=" M10.5938 35.5 L73.1875 35.5 L73.1875 27.2031 L10.5938 27.2031 z " id="BitstreamVeraSans-Roman-2212"/>
      </defs>
      <g transform="translate(7.2 248.4053125)scale(0.1 -0.1)">
       <use xlink:href="#BitstreamVeraSans-Roman-2212"/>
       <use x="83.7890625" xlink:href="#BitstreamVeraSans-Roman-34"/>
      </g>
     </g>
    </g>
    <g id="ytick_2">
     <g id="line2d_16">
      <defs>
       <path d=" M0 0 L4 0" id="maff58bf311"/>
      </defs>
      <g>
       <use style="stroke:#000000;stroke-linecap:butt;stroke-width:0.5;" x="24.321875" xlink:href="#maff58bf311" y="216.86"/>
      </g>
     </g>
     <g id="line2d_17">
      <defs>
       <path d=" M0 0 L-4 0" id="mb8da78deed"/>
      </defs>
      <g>
       <use style="stroke:#000000;stroke-linecap:butt;stroke-width:0.5;" x="359.121875" xlink:href="#mb8da78deed" y="216.86"/>
      </g>
     </g>
     <g id="text_8">
      <!-- −3 -->
      <defs>
       <path d=" M40.5781 39.3125 Q47.6562 37.7969 51.625 33 Q55.6094 28.2188 55.6094 21.1875 Q55.6094 10.4062 48.1875 4.48438 Q40.7656 -1.42188 27.0938 -1.42188 Q22.5156 -1.42188 17.6562 -0.515625 Q12.7969 0.390625 7.625 2.20312 L7.625 11.7188 Q11.7188 9.32812 16.5938 8.10938 Q21.4844 6.89062 26.8125 6.89062 Q36.0781 6.89062 40.9375 10.5469 Q45.7969 14.2031 45.7969 21.1875 Q45.7969 27.6406 41.2812 31.2656 Q36.7656 34.9062 28.7188 34.9062 L20.2188 34.9062 L20.2188 43.0156 L29.1094 43.0156 Q36.375 43.0156 40.2344 45.9219 Q44.0938 48.8281 44.0938 54.2969 Q44.0938 59.9062 40.1094 62.9062 Q36.1406 65.9219 28.7188 65.9219 Q24.6562 65.9219 20.0156 65.0312 Q15.375 64.1562 9.8125 62.3125 L9.8125 71.0938 Q15.4375 72.6562 20.3438 73.4375 Q25.25 74.2188 29.5938 74.2188 Q40.8281 74.2188 47.3594 69.1094 Q53.9062 64.0156 53.9062 55.3281 Q53.9062 49.2656 50.4375 45.0938 Q46.9688 40.9219 40.5781 39.3125" id="BitstreamVeraSans-Roman-33"/>
      </defs>
      <g transform="translate(7.440625 220.49984375)scale(0.1 -0.1)">
       <use xlink:href="#BitstreamVeraSans-Roman-2212"/>
       <use x="83.7890625" xlink:href="#BitstreamVeraSans-Roman-33"/>
      </g>
     </g>
    </g>
    <g id="ytick_3">
     <g id="line2d_18">
      <defs>
       <path d=" M0 0 L4 0" id="maff58bf311"/>
      </defs>
      <g>
       <use style="stroke:#000000;stroke-linecap:butt;stroke-width:0.5;" x="24.321875" xlink:href="#maff58bf311" y="188.96"/>
      </g>
     </g>
     <g id="line2d_19">
      <defs>
       <path d=" M0 0 L-4 0" id="mb8da78deed"/>
      </defs>
      <g>
       <use style="stroke:#000000;stroke-linecap:butt;stroke-width:0.5;" x="359.121875" xlink:href="#mb8da78deed" y="188.96"/>
      </g>
     </g>
     <g id="text_9">
      <!-- −2 -->
      <g transform="translate(7.640625 192.6709375)scale(0.1 -0.1)">
       <use xlink:href="#BitstreamVeraSans-Roman-2212"/>
       <use x="83.7890625" xlink:href="#BitstreamVeraSans-Roman-32"/>
      </g>
     </g>
    </g>
    <g id="ytick_4">
     <g id="line2d_20">
      <defs>
       <path d=" M0 0 L4 0" id="maff58bf311"/>
      </defs>
      <g>
       <use style="stroke:#000000;stroke-linecap:butt;stroke-width:0.5;" x="24.321875" xlink:href="#maff58bf311" y="161.06"/>
      </g>
     </g>
     <g id="line2d_21">
      <defs>
       <path d=" M0 0 L-4 0" id="mb8da78deed"/>
      </defs>
      <g>
       <use style="stroke:#000000;stroke-linecap:butt;stroke-width:0.5;" x="359.121875" xlink:href="#mb8da78deed" y="161.06"/>
      </g>
     </g>
     <g id="text_10">
      <!-- −1 -->
      <g transform="translate(7.5625 164.7053125)scale(0.1 -0.1)">
       <use xlink:href="#BitstreamVeraSans-Roman-2212"/>
       <use x="83.7890625" xlink:href="#BitstreamVeraSans-Roman-31"/>
      </g>
     </g>
    </g>
    <g id="ytick_5">
     <g id="line2d_22">
      <defs>
       <path d=" M0 0 L4 0" id="maff58bf311"/>
      </defs>
      <g>
       <use style="stroke:#000000;stroke-linecap:butt;stroke-width:0.5;" x="24.321875" xlink:href="#maff58bf311" y="133.16"/>
      </g>
     </g>
     <g id="line2d_23">
      <defs>
       <path d=" M0 0 L-4 0" id="mb8da78deed"/>
      </defs>
      <g>
       <use style="stroke:#000000;stroke-linecap:butt;stroke-width:0.5;" x="359.121875" xlink:href="#mb8da78deed" y="133.16"/>
      </g>
     </g>
     <g id="text_11">
      <!-- 0 -->
      <g transform="translate(15.2828125 136.79984375)scale(0.1 -0.1)">
       <use xlink:href="#BitstreamVeraSans-Roman-30"/>
      </g>
     </g>
    </g>
    <g id="ytick_6">
     <g id="line2d_24">
      <defs>
       <path d=" M0 0 L4 0" id="maff58bf311"/>
      </defs>
      <g>
       <use style="stroke:#000000;stroke-linecap:butt;stroke-width:0.5;" x="24.321875" xlink:href="#maff58bf311" y="105.26"/>
      </g>
     </g>
     <g id="line2d_25">
      <defs>
       <path d=" M0 0 L-4 0" id="mb8da78deed"/>
      </defs>
      <g>
       <use style="stroke:#000000;stroke-linecap:butt;stroke-width:0.5;" x="359.121875" xlink:href="#mb8da78deed" y="105.26"/>
      </g>
     </g>
     <g id="text_12">
      <!-- 1 -->
      <g transform="translate(15.98125 108.9053125)scale(0.1 -0.1)">
       <use xlink:href="#BitstreamVeraSans-Roman-31"/>
      </g>
     </g>
    </g>
    <g id="ytick_7">
     <g id="line2d_26">
      <defs>
       <path d=" M0 0 L4 0" id="maff58bf311"/>
      </defs>
      <g>
       <use style="stroke:#000000;stroke-linecap:butt;stroke-width:0.5;" x="24.321875" xlink:href="#maff58bf311" y="77.36"/>
      </g>
     </g>
     <g id="line2d_27">
      <defs>
       <path d=" M0 0 L-4 0" id="mb8da78deed"/>
      </defs>
      <g>
       <use style="stroke:#000000;stroke-linecap:butt;stroke-width:0.5;" x="359.121875" xlink:href="#mb8da78deed" y="77.36"/>
      </g>
     </g>
     <g id="text_13">
      <!-- 2 -->
      <g transform="translate(15.69375 81.0709375)scale(0.1 -0.1)">
       <use xlink:href="#BitstreamVeraSans-Roman-32"/>
      </g>
     </g>
    </g>
    <g id="ytick_8">
     <g id="line2d_28">
      <defs>
       <path d=" M0 0 L4 0" id="maff58bf311"/>
      </defs>
      <g>
       <use style="stroke:#000000;stroke-linecap:butt;stroke-width:0.5;" x="24.321875" xlink:href="#maff58bf311" y="49.46"/>
      </g>
     </g>
     <g id="line2d_29">
      <defs>
       <path d=" M0 0 L-4 0" id="mb8da78deed"/>
      </defs>
      <g>
       <use style="stroke:#000000;stroke-linecap:butt;stroke-width:0.5;" x="359.121875" xlink:href="#mb8da78deed" y="49.46"/>
      </g>
     </g>
     <g id="text_14">
      <!-- 3 -->
      <g transform="translate(15.5234375 53.09984375)scale(0.1 -0.1)">
       <use xlink:href="#BitstreamVeraSans-Roman-33"/>
      </g>
     </g>
    </g>
    <g id="ytick_9">
     <g id="line2d_30">
      <defs>
       <path d=" M0 0 L4 0" id="maff58bf311"/>
      </defs>
      <g>
       <use style="stroke:#000000;stroke-linecap:butt;stroke-width:0.5;" x="24.321875" xlink:href="#maff58bf311" y="21.56"/>
      </g>
     </g>
     <g id="line2d_31">
      <defs>
       <path d=" M0 0 L-4 0" id="mb8da78deed"/>
      </defs>
      <g>
       <use style="stroke:#000000;stroke-linecap:butt;stroke-width:0.5;" x="359.121875" xlink:href="#mb8da78deed" y="21.56"/>
      </g>
     </g>
     <g id="text_15">
      <!-- 4 -->
      <g transform="translate(15.009375 25.2053125)scale(0.1 -0.1)">
       <use xlink:href="#BitstreamVeraSans-Roman-34"/>
      </g>
     </g>
    </g>
   </g>
   <g id="patch_3">
    <path d=" M24.3219 21.56 L359.122 21.56" style="fill:none;stroke:#000000;"/>
   </g>
   <g id="patch_4">
    <path d=" M359.122 244.76 L359.122 21.56" style="fill:none;stroke:#000000;"/>
   </g>
   <g id="patch_5">
    <path d=" M24.3219 244.76 L359.122 244.76" style="fill:none;stroke:#000000;"/>
   </g>
   <g id="patch_6">
    <path d=" M24.3219 244.76 L24.3219 21.56" style="fill:none;stroke:#000000;"/>
   </g>
   <g id="text_16">
    <!-- $\mathcal{N}(\mu=0, \sigma=1),\ N=1000$ -->
    <defs>
     <path d=" M9.28125 0 L9.28125 3.51562 Q21.7812 3.51562 21.7812 6.6875 L21.7812 59.1875 Q16.6094 56.6875 8.6875 56.6875 L8.6875 60.2031 Q20.9531 60.2031 27.2031 66.6094 L28.6094 66.6094 Q28.9531 66.6094 29.2656 66.3281 Q29.5938 66.0625 29.5938 65.7188 L29.5938 6.6875 Q29.5938 3.51562 42.0938 3.51562 L42.0938 0 z " id="Cmr10-31"/>
     <path d=" M25 -2.20312 Q12.75 -2.20312 8.32812 7.875 Q3.90625 17.9688 3.90625 31.8906 Q3.90625 40.5781 5.48438 48.2344 Q7.07812 55.9062 11.7812 61.25 Q16.5 66.6094 25 66.6094 Q31.5938 66.6094 35.7812 63.375 Q39.9844 60.1562 42.1875 55.0469 Q44.3906 49.9531 45.1875 44.1094 Q46 38.2812 46 31.8906 Q46 23.2969 44.4062 15.7969 Q42.8281 8.29688 38.1875 3.04688 Q33.5469 -2.20312 25 -2.20312 M25 0.390625 Q30.5625 0.390625 33.2969 6.09375 Q36.0312 11.8125 36.6719 18.75 Q37.3125 25.6875 37.3125 33.5 Q37.3125 41.0156 36.6719 47.3594 Q36.0312 53.7188 33.3125 58.8594 Q30.6094 64.0156 25 64.0156 Q19.3438 64.0156 16.6094 58.8281 Q13.875 53.6562 13.2344 47.3281 Q12.5938 41.0156 12.5938 33.5 Q12.5938 27.9375 12.8594 23 Q13.1406 18.0625 14.3125 12.8125 Q15.4844 7.5625 18.0938 3.96875 Q20.7031 0.390625 25 0.390625" id="Cmr10-30"/>
     <path d=" M31 -24.8125 Q25.4375 -20.4062 21.4062 -14.7188 Q17.3906 -9.03125 14.8125 -2.57812 Q12.25 3.85938 10.9844 10.8906 Q9.71875 17.9219 9.71875 25 Q9.71875 32.1719 10.9844 39.2031 Q12.25 46.2344 14.8594 52.7344 Q17.4844 59.2344 21.5312 64.8906 Q25.5938 70.5625 31 74.8125 Q31 75 31.5 75 L32.4219 75 Q32.7188 75 32.9531 74.7344 Q33.2031 74.4688 33.2031 74.125 Q33.2031 73.6875 33.0156 73.4844 Q28.125 68.7031 24.875 63.2344 Q21.625 57.7656 19.6406 51.5781 Q17.6719 45.4062 16.7969 38.7812 Q15.9219 32.1719 15.9219 25 Q15.9219 -6.78125 32.9062 -23.2969 Q33.2031 -23.5781 33.2031 -24.125 Q33.2031 -24.3594 32.9375 -24.6719 Q32.6719 -25 32.4219 -25 L31.5 -25 Q31 -25 31 -24.8125" id="Cmr10-28"/>
     <path d=" M6.5 -25 Q5.60938 -25 5.60938 -24.125 Q5.60938 -23.6875 5.8125 -23.4844 Q22.9062 -6.78125 22.9062 25 Q22.9062 56.7812 6 73.2969 Q5.60938 73.5312 5.60938 74.125 Q5.60938 74.4688 5.875 74.7344 Q6.15625 75 6.5 75 L7.42188 75 Q7.71875 75 7.90625 74.8125 Q15.0938 69.1406 19.875 61.0312 Q24.6562 52.9375 26.875 43.75 Q29.1094 34.5781 29.1094 25 Q29.1094 17.9219 27.9062 11.0625 Q26.7031 4.20312 24.0938 -2.45312 Q21.4844 -9.125 17.4844 -14.7656 Q13.4844 -20.4062 7.90625 -24.8125 Q7.71875 -25 7.42188 -25 z " id="Cmr10-29"/>
     <path d=" M4.6875 0 Q3.71875 0 3.71875 1.3125 Q3.76562 1.5625 3.90625 2.17188 Q4.04688 2.78125 4.3125 3.14062 Q4.59375 3.51562 4.98438 3.51562 Q14.5469 3.51562 16.1094 9.625 L29.6875 64.3125 Q26.9062 64.7969 20.9062 64.7969 Q19.9219 64.7969 19.9219 66.1094 Q19.9688 66.3594 20.1094 66.9688 Q20.2656 67.5781 20.5312 67.9375 Q20.7969 68.3125 21.1875 68.3125 L38.4844 68.3125 Q39.2031 68.3125 39.4062 67.6719 L61.625 14.7969 L72.7031 59.0781 Q72.9062 60.1562 72.9062 60.5938 Q72.9062 64.7969 65.1875 64.7969 Q64.2031 64.7969 64.2031 66.1094 Q64.5469 67.3906 64.7344 67.8438 Q64.9375 68.3125 65.9219 68.3125 L87.3125 68.3125 Q88.2812 68.3125 88.2812 67 Q88.2344 66.75 88.0781 66.1406 Q87.9375 65.5312 87.6719 65.1562 Q87.4062 64.7969 87.0156 64.7969 Q77.4375 64.7969 75.875 58.6875 L61.5312 0.875 Q61.1875 0 60.5 0 L59.2812 0 Q58.5938 0 58.4062 0.6875 L32.9062 61.1875 L32.7188 61.8125 Q32.5156 62.0156 32.5156 62.1094 L19.2812 9.1875 Q19.1875 8.9375 19.1406 8.5625 Q19.0938 8.20312 19 7.71875 Q19 5.125 21.2344 4.3125 Q23.4844 3.51562 26.8125 3.51562 Q27.7812 3.51562 27.7812 2.20312 Q27.4375 0.828125 27.1875 0.40625 Q26.9531 0 26.125 0 z " id="Cmmi10-4e"/>
     <path d=" M18.7031 -1.125 Q14.2656 -1.125 10.8125 1 Q7.375 3.125 5.48438 6.73438 Q3.60938 10.3594 3.60938 14.7031 Q3.60938 19.3438 5.70312 24.4688 Q7.8125 29.5938 11.4531 33.8438 Q15.0938 38.0938 19.6719 40.5938 Q24.2656 43.1094 29.1094 43.1094 L54.2969 43.1094 Q55.3281 43.1094 56.0469 42.4219 Q56.7812 41.75 56.7812 40.5781 Q56.7812 39.1094 55.7344 38.0156 Q54.6875 36.9219 53.2188 36.9219 L41.0156 36.9219 Q43.8906 32.625 43.8906 26.5156 Q43.8906 21.4844 41.9375 16.5938 Q39.9844 11.7188 36.5156 7.6875 Q33.0625 3.65625 28.4375 1.26562 Q23.8281 -1.125 18.7031 -1.125 M18.7969 1.51562 Q24.2656 1.51562 28.4844 5.78125 Q32.7188 10.0625 34.9531 16.2344 Q37.2031 22.4062 37.2031 27.6875 Q37.2031 31.9844 34.8281 34.4531 Q32.4688 36.9219 28.2188 36.9219 Q22.4062 36.9219 18.3281 33.0156 Q14.2656 29.1094 12.2344 23.1875 Q10.2031 17.2812 10.2031 11.8125 Q10.2031 7.51562 12.4688 4.51562 Q14.75 1.51562 18.7969 1.51562" id="Cmmi10-be"/>
     <path d=" M2.78125 -18.7969 Q2.78125 -18.2188 2.875 -18.0156 L17.5781 41.0156 Q18.0156 42.4375 19.1562 43.3125 Q20.3125 44.1875 21.7812 44.1875 Q23.0469 44.1875 23.9219 43.4219 Q24.8125 42.6719 24.8125 41.4062 Q24.8125 41.1094 24.7812 40.9375 Q24.75 40.7656 24.7031 40.5781 L18.7969 17.1875 Q17.8281 13.0312 17.8281 10.0156 Q17.8281 6.29688 19.5781 3.90625 Q21.3438 1.51562 24.9062 1.51562 Q32.1719 1.51562 37.7031 10.5938 Q37.75 10.6875 37.7656 10.7344 Q37.7969 10.7969 37.7969 10.8906 L45.0156 39.8906 Q45.3594 41.2188 46.5781 42.1562 Q47.7969 43.1094 49.2188 43.1094 Q50.3906 43.1094 51.2969 42.3281 Q52.2031 41.5469 52.2031 40.2812 Q52.2031 39.7031 52.0938 39.5 L44.9219 10.6875 Q44.1875 7.85938 44.1875 5.8125 Q44.1875 1.51562 47.125 1.51562 Q50.25 1.51562 51.8281 5.375 Q53.4219 9.23438 54.5938 14.7031 Q54.7812 15.2812 55.4219 15.2812 L56.5938 15.2812 Q56.9844 15.2812 57.25 14.9688 Q57.5156 14.6562 57.5156 14.3125 Q55.7656 7.32812 53.6875 3.09375 Q51.6094 -1.125 46.9219 -1.125 Q43.6094 -1.125 41.0469 0.78125 Q38.4844 2.6875 37.7031 5.90625 Q35.2031 2.78125 31.8594 0.828125 Q28.5156 -1.125 24.8125 -1.125 Q18.5625 -1.125 14.9844 1.8125 L9.90625 -18.4062 Q9.625 -19.8281 8.45312 -20.7031 Q7.28125 -21.5781 5.8125 -21.5781 Q4.59375 -21.5781 3.6875 -20.8125 Q2.78125 -20.0625 2.78125 -18.7969" id="Cmmi10-b9"/>
     <path d=" M7.51562 13.2812 Q6.6875 13.2812 6.14062 13.9062 Q5.60938 14.5469 5.60938 15.2812 Q5.60938 16.1094 6.14062 16.6875 Q6.6875 17.2812 7.51562 17.2812 L70.3125 17.2812 Q71.0469 17.2812 71.5781 16.6875 Q72.125 16.1094 72.125 15.2812 Q72.125 14.5469 71.5781 13.9062 Q71.0469 13.2812 70.3125 13.2812 z  M7.51562 32.7188 Q6.6875 32.7188 6.14062 33.2969 Q5.60938 33.8906 5.60938 34.7188 Q5.60938 35.4531 6.14062 36.0781 Q6.6875 36.7188 7.51562 36.7188 L70.3125 36.7188 Q71.0469 36.7188 71.5781 36.0781 Q72.125 35.4531 72.125 34.7188 Q72.125 33.8906 71.5781 33.2969 Q71.0469 32.7188 70.3125 32.7188 z " id="Cmr10-3d"/>
     <path d=" M-2.875 0.203125 Q-2.875 2.04688 -1.60938 5.03125 Q-0.34375 8.01562 1.125 8.01562 Q1.3125 8.01562 1.42188 7.90625 Q4.59375 4.59375 9.28125 4.59375 Q11.9219 4.59375 13.9375 9.34375 Q15.9688 14.1094 17.9219 20.4062 Q18.9531 23.5781 20.4375 28.7031 Q21.9219 33.8438 22.7031 37.0156 Q23.3906 39.6562 24.3438 44.1719 Q25.2969 48.6875 25.9062 52.0469 Q26.5156 55.4219 27 58.9375 Q27.4844 62.4531 27.875 66.3125 Q27.875 66.8438 28.6094 67.5781 Q29.6875 68.7031 31.2031 69.5781 Q32.625 70.2188 34.0781 70.5156 L34.9062 70.5156 Q35.5 70.2188 35.5938 69.8281 Q38.0938 61.0781 41.7969 50 Q45.1719 39.75 47.5625 33.2031 Q49.9531 26.6562 53.2031 19.4062 Q56.4531 12.1562 60.2969 6 Q65.5312 28.4219 70.7031 46.6875 L72.0156 51.3125 Q74.1719 58.8906 75.5625 63.1094 Q76.9531 67.3281 79.1094 70.7031 Q80.8594 73.4375 83.6875 75 Q86.5312 76.5625 89.8906 77.2188 Q93.2656 77.875 96.9219 77.875 Q97.7969 77.875 97.7969 76.2188 Q97.7969 75.0469 97.2812 73.2188 Q96.7812 71.3906 95.8906 69.9688 Q95.0156 68.5625 93.8906 68.3125 Q89.9375 68.3125 86.8281 67.6719 Q83.7344 67.0469 81.2031 65.375 Q79.9375 64.4531 79.7188 63.9688 Q79.5 63.4844 78.7188 61.0781 Q77.4375 57.5625 76.125 52.5938 L74.8125 48.0938 Q72.2656 38.9219 70.2812 31.3438 Q68.3125 23.7812 66.5 16.3281 Q64.7031 8.89062 62.9844 1.3125 Q63.0312 1.3125 62.9531 1.4375 Q62.8906 1.5625 62.8906 1.60938 Q62.8906 0.734375 61.7344 -0.234375 Q60.5938 -1.21875 59.1094 -1.875 Q57.625 -2.54688 56.6875 -2.6875 L56 -2.6875 Q54.3438 -1.85938 50.3438 5.75 Q46.3438 13.375 44.2812 18.3125 Q36.8594 36.6719 30.7188 56.6875 Q29.9375 51.8594 27.4844 41.375 Q25.0469 30.9062 21.6719 20.2656 Q18.3125 9.625 14.2812 2.3125 Q10.25 -4.98438 6.20312 -4.98438 Q3.60938 -4.98438 0.359375 -3.51562 Q-2.875 -2.04688 -2.875 0.203125" id="Cmsy10-4e"/>
     <path d=" M9.90625 -18.0156 Q9.90625 -17.5781 10.2969 -17.1875 Q13.9219 -13.7188 15.9219 -9.17188 Q17.9219 -4.64062 17.9219 0.390625 L17.9219 1.60938 Q16.3125 0 13.9219 0 Q11.625 0 10.0156 1.60938 Q8.40625 3.21875 8.40625 5.51562 Q8.40625 7.85938 10.0156 9.42188 Q11.625 10.9844 13.9219 10.9844 Q17.4844 10.9844 19 7.6875 Q20.5156 4.39062 20.5156 0.390625 Q20.5156 -5.17188 18.2812 -10.1719 Q16.0625 -15.1875 12.0156 -19.1875 Q11.625 -19.3906 11.375 -19.3906 Q10.8906 -19.3906 10.3906 -18.9375 Q9.90625 -18.5 9.90625 -18.0156" id="Cmmi10-3b"/>
    </defs>
    <g transform="translate(128.841875 19.56)scale(0.12 -0.12)">
     <use transform="translate(0.0 25.125)" xlink:href="#Cmsy10-4e"/>
     <use transform="translate(81.982421875 25.125)" xlink:href="#Cmr10-28"/>
     <use transform="translate(120.80078125 25.125)" xlink:href="#Cmmi10-b9"/>
     <use transform="translate(198.564453125 25.125)" xlink:href="#Cmr10-3d"/>
     <use transform="translate(282.623046875 25.125)" xlink:href="#Cmr10-30"/>
     <use transform="translate(332.623046875 25.125)" xlink:href="#Cmmi10-3b"/>
     <use transform="translate(362.291015625 25.125)" xlink:href="#Cmmi10-be"/>
     <use transform="translate(436.9296875 25.125)" xlink:href="#Cmr10-3d"/>
     <use transform="translate(520.98828125 25.125)" xlink:href="#Cmr10-31"/>
     <use transform="translate(570.98828125 25.125)" xlink:href="#Cmr10-29"/>
     <use transform="translate(609.806640625 25.125)" xlink:href="#Cmmi10-3b"/>
     <use transform="translate(665.8125 25.125)" xlink:href="#Cmmi10-4e"/>
     <use transform="translate(763.693359375 25.125)" xlink:href="#Cmr10-3d"/>
     <use transform="translate(847.751953125 25.125)" xlink:href="#Cmr10-31"/>
     <use transform="translate(897.751953125 25.125)" xlink:href="#Cmr10-30"/>
     <use transform="translate(947.751953125 25.125)" xlink:href="#Cmr10-30"/>
     <use transform="translate(997.751953125 25.125)" xlink:href="#Cmr10-30"/>
    </g>
   </g>
  </g>
 </g>
 <defs>
  <clipPath id="p3017017e97">
   <rect height="223.2" width="334.8" x="24.321875" y="21.56"/>
  </clipPath>
 </defs>
</svg>
</div>
</div>
</div>
</div>
</div>
<div class="text_cell_render border-box-sizing rendered_html">
<p>Now let's create a new Gaussian with different parameters</p>
</div>
<div class="cell border-box-sizing code_cell vbox">
<div class="input hbox">
<div class="prompt input_prompt">In&nbsp;[7]:</div>
<div class="input_area box-flex1">
<div class="highlight"><pre><span class="n">x2</span> <span class="o">=</span> <span class="n">Gaussian</span><span class="p">(</span><span class="mf">0.5</span><span class="p">,</span> <span class="mf">0.2</span><span class="p">,</span> <span class="mi">2000</span><span class="p">)</span>
<span class="n">x2</span>
</pre></div>

</div>
</div>
<div class="vbox output_wrapper">
<div class="output vbox">
<div class="hbox output_area">
<div class="prompt output_prompt">Out[7]:</div>
<div class="box-flex1 output_subarea output_pyout">
$\mathcal{N}(\mu=0.5, \sigma=0.2),\ N=2000$
</div>
</div>
</div>
</div>
</div>
<div class="text_cell_render border-box-sizing rendered_html">
<p>We can easily compare them by displaying their histograms</p>
</div>
<div class="cell border-box-sizing code_cell vbox">
<div class="input hbox">
<div class="prompt input_prompt">In&nbsp;[8]:</div>
<div class="input_area box-flex1">
<div class="highlight"><pre><span class="n">display</span><span class="p">(</span><span class="n">x</span><span class="o">.</span><span class="n">hist</span><span class="p">)</span>
<span class="n">display</span><span class="p">(</span><span class="n">x2</span><span class="o">.</span><span class="n">hist</span><span class="p">)</span>
</pre></div>

</div>
</div>
<div class="vbox output_wrapper">
<div class="output vbox">
<div class="hbox output_area">
<div class="prompt output_prompt"></div>
<div class="box-flex1 output_subarea output_display_data">
<img src="data:image/png;base64,iVBORw0KGgoAAAANSUhEUgAAAW8AAAELCAYAAAAWWQdYAAAABHNCSVQICAgIfAhkiAAAAAlwSFlz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"></img>
</div>
</div>
<div class="hbox output_area">
<div class="prompt output_prompt"></div>
<div class="box-flex1 output_subarea output_display_data">
<img src="data:image/png;base64,iVBORw0KGgoAAAANSUhEUgAAAXMAAAELCAYAAAAry2Y+AAAABHNCSVQICAgIfAhkiAAAAAlwSFlz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"></img>
</div>
</div>
</div>
</div>
</div>
<div class="text_cell_render border-box-sizing rendered_html">
<h2>
  Adding IPython display support to existing objects
</h2>
</div>
<div class="text_cell_render border-box-sizing rendered_html">
<p>When you are directly writing your own classes, you can adapt them for display in IPython by following the above example.  But in practice, we often need to work with existing code we can't modify.  We now illustrate how to add these kinds of extended display capabilities to existing objects. We will use the NumPy polynomials and change their default representation to be a formatted LaTeX expression.</p>
</div>
<div class="text_cell_render border-box-sizing rendered_html">
<p>First, consider how a numpy polynomial object renders by default:</p>
</div>
<div class="cell border-box-sizing code_cell vbox">
<div class="input hbox">
<div class="prompt input_prompt">In&nbsp;[9]:</div>
<div class="input_area box-flex1">
<div class="highlight"><pre><span class="n">p</span> <span class="o">=</span> <span class="n">np</span><span class="o">.</span><span class="n">polynomial</span><span class="o">.</span><span class="n">Polynomial</span><span class="p">([</span><span class="mi">1</span><span class="p">,</span><span class="mi">2</span><span class="p">,</span><span class="mi">3</span><span class="p">],</span> <span class="p">[</span><span class="o">-</span><span class="mi">10</span><span class="p">,</span> <span class="mi">10</span><span class="p">])</span>
<span class="n">p</span>
</pre></div>

</div>
</div>
<div class="vbox output_wrapper">
<div class="output vbox">
<div class="hbox output_area">
<div class="prompt output_prompt">Out[9]:</div>
<div class="box-flex1 output_subarea output_pyout">
<pre>Polynomial([ 1.,  2.,  3.], [-10.,  10.], [-1.,  1.])</pre>
</div>
</div>
</div>
</div>
</div>
<div class="text_cell_render border-box-sizing rendered_html">
<p>Next, we define a function that pretty-prints a polynomial as a LaTeX string:</p>
</div>
<div class="cell border-box-sizing code_cell vbox">
<div class="input hbox">
<div class="prompt input_prompt">In&nbsp;[10]:</div>
<div class="input_area box-flex1">
<div class="highlight"><pre><span class="k">def</span> <span class="nf">poly2latex</span><span class="p">(</span><span class="n">p</span><span class="p">):</span>
    <span class="n">terms</span> <span class="o">=</span> <span class="p">[</span><span class="s">&#39;</span><span class="si">%.2g</span><span class="s">&#39;</span> <span class="o">%</span> <span class="n">p</span><span class="o">.</span><span class="n">coef</span><span class="p">[</span><span class="mi">0</span><span class="p">]]</span>
    <span class="k">if</span> <span class="nb">len</span><span class="p">(</span><span class="n">p</span><span class="p">)</span> <span class="o">&gt;</span> <span class="mi">1</span><span class="p">:</span>
        <span class="n">term</span> <span class="o">=</span> <span class="s">&#39;x&#39;</span>
        <span class="n">c</span> <span class="o">=</span> <span class="n">p</span><span class="o">.</span><span class="n">coef</span><span class="p">[</span><span class="mi">1</span><span class="p">]</span>
        <span class="k">if</span> <span class="n">c</span><span class="o">!=</span><span class="mi">1</span><span class="p">:</span>
            <span class="n">term</span> <span class="o">=</span> <span class="p">(</span><span class="s">&#39;</span><span class="si">%.2g</span><span class="s"> &#39;</span> <span class="o">%</span> <span class="n">c</span><span class="p">)</span> <span class="o">+</span> <span class="n">term</span>
        <span class="n">terms</span><span class="o">.</span><span class="n">append</span><span class="p">(</span><span class="n">term</span><span class="p">)</span>
    <span class="k">if</span> <span class="nb">len</span><span class="p">(</span><span class="n">p</span><span class="p">)</span> <span class="o">&gt;</span> <span class="mi">2</span><span class="p">:</span>
        <span class="k">for</span> <span class="n">i</span> <span class="ow">in</span> <span class="nb">range</span><span class="p">(</span><span class="mi">2</span><span class="p">,</span> <span class="nb">len</span><span class="p">(</span><span class="n">p</span><span class="p">)):</span>
            <span class="n">term</span> <span class="o">=</span> <span class="s">&#39;x^</span><span class="si">%d</span><span class="s">&#39;</span> <span class="o">%</span> <span class="n">i</span>
            <span class="n">c</span> <span class="o">=</span> <span class="n">p</span><span class="o">.</span><span class="n">coef</span><span class="p">[</span><span class="n">i</span><span class="p">]</span>
            <span class="k">if</span> <span class="n">c</span><span class="o">!=</span><span class="mi">1</span><span class="p">:</span>
                <span class="n">term</span> <span class="o">=</span> <span class="p">(</span><span class="s">&#39;</span><span class="si">%.2g</span><span class="s"> &#39;</span> <span class="o">%</span> <span class="n">c</span><span class="p">)</span> <span class="o">+</span> <span class="n">term</span>
            <span class="n">terms</span><span class="o">.</span><span class="n">append</span><span class="p">(</span><span class="n">term</span><span class="p">)</span>
    <span class="n">px</span> <span class="o">=</span> <span class="s">&#39;$P(x)=</span><span class="si">%s</span><span class="s">$&#39;</span> <span class="o">%</span> <span class="s">&#39;+&#39;</span><span class="o">.</span><span class="n">join</span><span class="p">(</span><span class="n">terms</span><span class="p">)</span>
    <span class="n">dom</span> <span class="o">=</span> <span class="s">r&#39;, domain: $[</span><span class="si">%.2g</span><span class="s">,\ </span><span class="si">%.2g</span><span class="s">]$&#39;</span> <span class="o">%</span> <span class="nb">tuple</span><span class="p">(</span><span class="n">p</span><span class="o">.</span><span class="n">domain</span><span class="p">)</span>
    <span class="k">return</span> <span class="n">px</span><span class="o">+</span><span class="n">dom</span>
</pre></div>

</div>
</div>
</div>
<div class="text_cell_render border-box-sizing rendered_html">
<p>This produces, on our polynomial <code>p</code>, the following:</p>
</div>
<div class="cell border-box-sizing code_cell vbox">
<div class="input hbox">
<div class="prompt input_prompt">In&nbsp;[11]:</div>
<div class="input_area box-flex1">
<div class="highlight"><pre><span class="n">poly2latex</span><span class="p">(</span><span class="n">p</span><span class="p">)</span>
</pre></div>

</div>
</div>
<div class="vbox output_wrapper">
<div class="output vbox">
<div class="hbox output_area">
<div class="prompt output_prompt">Out[11]:</div>
<div class="box-flex1 output_subarea output_pyout">
<pre>&apos;$P(x)=1+2 x+3 x^2$, domain: $[-10,\\ 10]$&apos;</pre>
</div>
</div>
</div>
</div>
</div>
<div class="cell border-box-sizing code_cell vbox">
<div class="input hbox">
<div class="prompt input_prompt">In&nbsp;[12]:</div>
<div class="input_area box-flex1">
<div class="highlight"><pre><span class="kn">from</span> <span class="nn">IPython.display</span> <span class="kn">import</span> <span class="n">Latex</span>
<span class="n">Latex</span><span class="p">(</span><span class="n">poly2latex</span><span class="p">(</span><span class="n">p</span><span class="p">))</span>
</pre></div>

</div>
</div>
<div class="vbox output_wrapper">
<div class="output vbox">
<div class="hbox output_area">
<div class="prompt output_prompt">Out[12]:</div>
<div class="box-flex1 output_subarea output_pyout">
$P(x)=1+2 x+3 x^2$, domain: $[-10,\ 10]$
</div>
</div>
</div>
</div>
</div>
<div class="text_cell_render border-box-sizing rendered_html">
<p>But we can configure IPython to do this automatically for us as follows.  We hook into the
IPython display system and instruct it to use <code>poly2latex</code> for the latex mimetype, when
encountering objects of the <code>Polynomial</code> type defined in the
<code>numpy.polynomial.polynomial</code> module:</p>
</div>
<div class="cell border-box-sizing code_cell vbox">
<div class="input hbox">
<div class="prompt input_prompt">In&nbsp;[13]:</div>
<div class="input_area box-flex1">
<div class="highlight"><pre><span class="n">ip</span> <span class="o">=</span> <span class="n">get_ipython</span><span class="p">()</span>
<span class="n">latex_formatter</span> <span class="o">=</span> <span class="n">ip</span><span class="o">.</span><span class="n">display_formatter</span><span class="o">.</span><span class="n">formatters</span><span class="p">[</span><span class="s">&#39;text/latex&#39;</span><span class="p">]</span>
<span class="n">latex_formatter</span><span class="o">.</span><span class="n">for_type_by_name</span><span class="p">(</span><span class="s">&#39;numpy.polynomial.polynomial&#39;</span><span class="p">,</span>
                                 <span class="s">&#39;Polynomial&#39;</span><span class="p">,</span> <span class="n">poly2latex</span><span class="p">)</span>
</pre></div>

</div>
</div>
</div>
<div class="text_cell_render border-box-sizing rendered_html">
<p>For more examples on how to use the above system, and how to bundle similar print functions
into a convenient IPython extension, see the <code>IPython/extensions/sympyprinting.py</code> file.<br />
The machinery that defines the display system is in the <code>display.py</code> and <code>displaypub.py</code> 
files in <code>IPython/core</code>.</p>
<p>Once our special printer has been loaded, all polynomials will be represented by their 
mathematical form instead:</p>
</div>
<div class="cell border-box-sizing code_cell vbox">
<div class="input hbox">
<div class="prompt input_prompt">In&nbsp;[14]:</div>
<div class="input_area box-flex1">
<div class="highlight"><pre><span class="n">p</span>
</pre></div>

</div>
</div>
<div class="vbox output_wrapper">
<div class="output vbox">
<div class="hbox output_area">
<div class="prompt output_prompt">Out[14]:</div>
<div class="box-flex1 output_subarea output_pyout">
$P(x)=1+2 x+3 x^2$, domain: $[-10,\ 10]$
</div>
</div>
</div>
</div>
</div>
<div class="cell border-box-sizing code_cell vbox">
<div class="input hbox">
<div class="prompt input_prompt">In&nbsp;[15]:</div>
<div class="input_area box-flex1">
<div class="highlight"><pre><span class="n">p2</span> <span class="o">=</span> <span class="n">np</span><span class="o">.</span><span class="n">polynomial</span><span class="o">.</span><span class="n">Polynomial</span><span class="p">([</span><span class="o">-</span><span class="mi">20</span><span class="p">,</span> <span class="mi">71</span><span class="p">,</span> <span class="o">-</span><span class="mi">15</span><span class="p">,</span> <span class="mi">1</span><span class="p">])</span>
<span class="n">p2</span>
</pre></div>

</div>
</div>
<div class="vbox output_wrapper">
<div class="output vbox">
<div class="hbox output_area">
<div class="prompt output_prompt">Out[15]:</div>
<div class="box-flex1 output_subarea output_pyout">
$P(x)=-20+71 x+-15 x^2+x^3$, domain: $[-1,\ 1]$
</div>
</div>
</div>
</div>
</div>
</body>
</html>