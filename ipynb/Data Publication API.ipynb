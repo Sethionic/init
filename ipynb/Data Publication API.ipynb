<html>
<head>
<style type="text/css">
/**
 * HTML5 ✰ Boilerplate
 *
 * style.css contains a reset, font normalization and some base styles.
 *
 * Credit is left where credit is due.
 * Much inspiration was taken from these projects:
 * - yui.yahooapis.com/2.8.1/build/base/base.css
 * - camendesign.com/design/
 * - praegnanz.de/weblog/htmlcssjs-kickstart
 */


/**
 * html5doctor.com Reset Stylesheet (Eric Meyer's Reset Reloaded + HTML5 baseline)
 * v1.6.1 2010-09-17 | Authors: Eric Meyer & Richard Clark
 * html5doctor.com/html-5-reset-stylesheet/
 */

html, body, div, span, object, iframe,
h1, h2, h3, h4, h5, h6, p, blockquote, pre,
abbr, address, cite, code, del, dfn, em, img, ins, kbd, q, samp,
small, strong, sub, sup, var, b, i, dl, dt, dd, ol, ul, li,
fieldset, form, label, legend,
table, caption, tbody, tfoot, thead, tr, th, td,
article, aside, canvas, details, figcaption, figure,
footer, header, hgroup, menu, nav, section, summary,
time, mark, audio, video {
  margin: 0;
  padding: 0;
  border: 0;
  font-size: 100%;
  font: inherit;
  vertical-align: baseline;
}

sup { vertical-align: super; }
sub { vertical-align: sub; }

article, aside, details, figcaption, figure,
footer, header, hgroup, menu, nav, section {
  display: block;
}

blockquote, q { quotes: none; }

blockquote:before, blockquote:after,
q:before, q:after { content: ""; content: none; }

ins { background-color: #ff9; color: #000; text-decoration: none; }

mark { background-color: #ff9; color: #000; font-style: italic; font-weight: bold; }

del { text-decoration: line-through; }

abbr[title], dfn[title] { border-bottom: 1px dotted; cursor: help; }

table { border-collapse: collapse; border-spacing: 0; }

hr { display: block; height: 1px; border: 0; border-top: 1px solid #ccc; margin: 1em 0; padding: 0; }

input, select { vertical-align: middle; }


/**
 * Font normalization inspired by YUI Library's fonts.css: developer.yahoo.com/yui/
 */

body { font:13px/1.231 sans-serif; *font-size:small; } /* Hack retained to preserve specificity */
select, input, textarea, button { font:99% sans-serif; }

/* Normalize monospace sizing:
   en.wikipedia.org/wiki/MediaWiki_talk:Common.css/Archive_11#Teletype_style_fix_for_Chrome */
pre, code, kbd, samp { font-family: monospace, sans-serif; }

em,i { font-style: italic; }
b,strong { font-weight: bold; }

</style>
<style type="text/css">

/* Flexible box model classes */
/* Taken from Alex Russell http://infrequently.org/2009/08/css-3-progress/ */
 
.hbox {
	display: -webkit-box;
	-webkit-box-orient: horizontal;
	-webkit-box-align: stretch;
 
	display: -moz-box;
	-moz-box-orient: horizontal;
	-moz-box-align: stretch;
 
	display: box;
	box-orient: horizontal;
	box-align: stretch;
}
 
.hbox > * {
	-webkit-box-flex: 0;
	-moz-box-flex: 0;
	box-flex: 0;
}
 
.vbox {
	display: -webkit-box;
	-webkit-box-orient: vertical;
	-webkit-box-align: stretch;
 
	display: -moz-box;
	-moz-box-orient: vertical;
	-moz-box-align: stretch;
 
	display: box;
	box-orient: vertical;
	box-align: stretch;
}
 
.vbox > * {
	-webkit-box-flex: 0;
	-moz-box-flex: 0;
	box-flex: 0;
}
  
.reverse {
	-webkit-box-direction: reverse;
	-moz-box-direction: reverse;
	box-direction: reverse;
}
 
.box-flex0 {
	-webkit-box-flex: 0;
	-moz-box-flex: 0;
	box-flex: 0;
}
 
.box-flex1, .box-flex {
	-webkit-box-flex: 1;
	-moz-box-flex: 1;
	box-flex: 1;
}
 
.box-flex2 {
	-webkit-box-flex: 2;
	-moz-box-flex: 2;
	box-flex: 2;
}
 
.box-group1 {
	-webkit-box-flex-group: 1;
	-moz-box-flex-group: 1;
	box-flex-group: 1;
}
 
.box-group2 {
	-webkit-box-flex-group: 2;
	-moz-box-flex-group: 2;
	box-flex-group: 2;
}
 
.start {
	-webkit-box-pack: start;
	-moz-box-pack: start;
	box-pack: start;
}
 
.end {
	-webkit-box-pack: end;
	-moz-box-pack: end;
	box-pack: end;
}
 
.center {
	-webkit-box-pack: center;
	-moz-box-pack: center;
	box-pack: center;
}

</style>
<style type="text/css">
/**
 * Primary styles
 *
 * Author: IPython Development Team
 */


body {
    overflow: hidden;
}

span#save_widget {
    padding: 5px;
    margin: 0px 0px 0px 300px;
    display:inline-block;
}

span#notebook_name {
    height: 1em;
    line-height: 1em;
    padding: 3px;
    border: none;
    font-size: 146.5%;
}

.ui-menubar-item .ui-button .ui-button-text {
    padding: 0.4em 1.0em;
    font-size: 100%;
}

.ui-menu {
  -moz-box-shadow:    0px 6px 10px -1px #adadad;
  -webkit-box-shadow: 0px 6px 10px -1px #adadad;
  box-shadow:         0px 6px 10px -1px #adadad;
}

.ui-menu .ui-menu-item a {
    border: 1px solid transparent;
    padding: 2px 1.6em;
}

.ui-menu .ui-menu-item a.ui-state-focus {
    margin: 0;
}

.ui-menu hr {
    margin: 0.3em 0;
}

#menubar_container {
    position: relative;
}

#notification {
    position: absolute;
    right: 3px;
    top: 3px;
    height: 25px;
    padding: 3px 6px;
    z-index: 10;
}

#toolbar {
    padding: 3px 15px;
}

#cell_type {
    font-size: 85%;
}


div#main_app {
    width: 100%;
    position: relative;
}

span#quick_help_area {
    position: static;
    padding: 5px 0px;
    margin: 0px 0px 0px 0px;
}

.help_string {
    float: right;
    width: 170px;
    padding: 0px 5px;
    text-align: left;
    font-size: 85%;
}

.help_string_label {
    float: right;
    font-size: 85%;
}

div#notebook_panel {
    margin: 0px 0px 0px 0px;
    padding: 0px;
}

div#notebook {
    overflow-y: scroll;
    overflow-x: auto;
    width: 100%;
    /* This spaces the cell away from the edge of the notebook area */
    padding: 5px 5px 15px 5px;
    margin: 0px;
    background-color: white;
}

div#pager_splitter {
    height: 8px;
}

div#pager {
    padding: 15px;
    overflow: auto;
    display: none;
}

div.ui-widget-content {
    border: 1px solid #aaa;
    outline: none;
}

.cell {
    border: 1px solid transparent;
}

div.cell {
    width: 100%;
    padding: 5px 5px 5px 0px;
    /* This acts as a spacer between cells, that is outside the border */
    margin: 2px 0px 2px 0px;
}

div.code_cell {
    background-color: white;
}

/* any special styling for code cells that are currently running goes here */
div.code_cell.running {
}

div.prompt {
    /* This needs to be wide enough for 3 digit prompt numbers: In[100]: */
    width: 11ex;
    /* This 0.4em is tuned to match the padding on the CodeMirror editor. */
    padding: 0.4em;
    margin: 0px;
    font-family: monospace;
    text-align:right;
}

div.input {
    page-break-inside: avoid;
}

/* input_area and input_prompt must match in top border and margin for alignment */
div.input_area {
    color: black;
    border: 1px solid #ddd;
    border-radius: 3px;
    background: #f7f7f7;
}

div.input_prompt {
    color: navy;
    border-top: 1px solid transparent;
}

div.output_wrapper {
    /* This is a spacer between the input and output of each cell */
    margin-top: 5px;
    margin-left: 5px;
    /* FF needs explicit width to stretch */
    width: 100%;
    /* this position must be relative to enable descendents to be absolute within it */
    position: relative;
}

/* class for the output area when it should be height-limited */
div.output_scroll {
  /* ideally, this would be max-height, but FF barfs all over that */
  height: 24em;
  /* FF needs this *and the wrapper* to specify full width, or it will shrinkwrap */
  width: 100%;
  
  overflow: auto;
  border-radius: 3px;
  box-shadow: inset 0 2px 8px rgba(0, 0, 0, .8);
}

/* output div while it is collapsed */
div.output_collapsed {
  margin-right: 5px;
}

div.out_prompt_overlay {
  height: 100%;
  padding: 0px;
  position: absolute;
  border-radius: 3px;
}

div.out_prompt_overlay:hover {
  /* use inner shadow to get border that is computed the same on WebKit/FF */
  box-shadow: inset 0 0 1px #000;
  background: rgba(240, 240, 240, 0.5);
}

div.output_prompt {
    color: darkred;
    /* 5px right shift to account for margin in parent container */
    margin: 0 5px 0 -5px;
}

/* This class is the outer container of all output sections. */
div.output_area {
    padding: 0px;
    page-break-inside: avoid;
}

/* This class is for the output subarea inside the output_area and after
   the prompt div. */
div.output_subarea {
    padding: 0.4em 0.4em 0.4em 0.4em;
}

/* The rest of the output_* classes are for special styling of the different
   output types */

/* all text output has this class: */
div.output_text {
    text-align: left;
    color: black;
    font-family: monospace;
}

/* stdout/stderr are 'text' as well as 'stream', but pyout/pyerr are *not* streams */
div.output_stream {
    padding-top: 0.0em;
    padding-bottom: 0.0em;
}
div.output_stdout {
}
div.output_stderr {
    background: #fdd; /* very light red background for stderr */
}

div.output_latex {
    text-align: left;
    color: black;
}

div.output_html {
}

div.output_png {
}

div.output_jpeg {
}

div.text_cell {
    background-color: white;
    padding: 5px 5px 5px 5px;
}

div.text_cell_input {
    color: black;
    border: 1px solid #ddd;
    border-radius: 3px;
    background: #f7f7f7;
}

div.text_cell_render {
    font-family: "Helvetica Neue", Arial, Helvetica, Geneva, sans-serif;
    outline: none;
    resize: none;
    width:  inherit;
    border-style: none;
    padding: 5px;
    color: black;
}

/* The following gets added to the <head> if it is detected that the user has a
 * monospace font with inconsistent normal/bold/italic height.  See
 * notebookmain.js.  Such fonts will have keywords vertically offset with
 * respect to the rest of the text.  The user should select a better font. 
 * See: https://github.com/ipython/ipython/issues/1503
 *
 * .CodeMirror span {
 *      vertical-align: bottom;
 * }
 */

.CodeMirror {
    line-height: 1.231;  /* Changed from 1em to our global default */
}

.CodeMirror-scroll {
    height: auto;     /* Changed to auto to autogrow */
    /*  The CodeMirror docs are a bit fuzzy on if overflow-y should be hidden or visible.*/
    /*  We have found that if it is visible, vertical scrollbars appear with font size changes.*/
    overflow-y: hidden;
    overflow-x: auto; /* Changed from auto to remove scrollbar */
}

/* CSS font colors for translated ANSI colors. */


.ansiblack {color: black;}
.ansired {color: darkred;}
.ansigreen {color: darkgreen;}
.ansiyellow {color: brown;}
.ansiblue {color: darkblue;}
.ansipurple {color: darkviolet;}
.ansicyan {color: steelblue;}
.ansigrey {color: grey;}
.ansibold {font-weight: bold;}

.completions {
    position: absolute;
    z-index: 10;
    overflow: hidden;
    border: 1px solid grey;
}

.completions select {
    background: white;
    outline: none;
    border: none;
    padding: 0px;
    margin: 0px;
    overflow: auto;
    font-family: monospace;
}

option.context {
  background-color: #DEF7FF;
}
option.introspection {
  background-color: #EBF4EB;
}

/*fixed part of the completion*/
.completions p b {
    font-weight:bold;
}

.completions p {
    background: #DDF;
    /*outline: none;
    padding: 0px;*/
    border-bottom: black solid 1px;
    padding: 1px;
    font-family: monospace;
}

pre.dialog {
    background-color: #f7f7f7;
    border: 1px solid #ddd;
    border-radius: 3px;
    padding: 0.4em;
    padding-left: 2em;
}

p.dialog {
    padding : 0.2em;
}

.shortcut_key {
    display: inline-block;
    width: 15ex;
    text-align: right;
    font-family: monospace;
}

.shortcut_descr {
}

/* Word-wrap output correctly.  This is the CSS3 spelling, though Firefox seems
   to not honor it correctly.  Webkit browsers (Chrome, rekonq, Safari) do.
 */
pre, code, kbd, samp { white-space: pre-wrap; }

#fonttest {
    font-family: monospace;
}

</style>
<style type="text/css">
.rendered_html {color: black;}
.rendered_html em {font-style: italic;}
.rendered_html strong {font-weight: bold;}
.rendered_html u {text-decoration: underline;}
.rendered_html :link { text-decoration: underline }
.rendered_html :visited { text-decoration: underline }
.rendered_html h1 {font-size: 197%; margin: .65em 0; font-weight: bold;}
.rendered_html h2 {font-size: 153.9%; margin: .75em 0; font-weight: bold;}
.rendered_html h3 {font-size: 123.1%; margin: .85em 0; font-weight: bold;}
.rendered_html h4 {font-size: 100% margin: 0.95em 0; font-weight: bold;}
.rendered_html h5 {font-size: 85%; margin: 1.5em 0; font-weight: bold;}
.rendered_html h6 {font-size: 77%; margin: 1.65em 0; font-weight: bold;}
.rendered_html ul {list-style:disc; margin: 1em 2em;}
.rendered_html ul ul {list-style:square; margin: 0em 2em;}
.rendered_html ul ul ul {list-style:circle; margin-left: 0em 2em;}
.rendered_html ol {list-style:upper-roman; margin: 1em 2em;}
.rendered_html ol ol {list-style:upper-alpha; margin: 0em 2em;}
.rendered_html ol ol ol {list-style:decimal; margin: 0em 2em;}
.rendered_html ol ol ol ol {list-style:lower-alpha; margin 0em 2em;}
.rendered_html ol ol ol ol ol {list-style:lower-roman; 0em 2em;}

.rendered_html hr {
    color: black;
    background-color: black;
}

.rendered_html pre {
    margin: 1em 2em;
}

.rendered_html blockquote {
    margin: 1em 2em;
}

.rendered_html table {
    border: 1px solid black;
    border-collapse: collapse;
    margin: 1em 2em;
}

.rendered_html td {
    border: 1px solid black;
    text-align: left;
    vertical-align: middle;
    padding: 4px;
}

.rendered_html th {
    border: 1px solid black;
    text-align: left;
    vertical-align: middle;
    padding: 4px;
    font-weight: bold;
}

.rendered_html tr {
    border: 1px solid black;
}    

.rendered_html p + p {
    margin-top: 1em;
}


</style>
<style type="text/css">
/* Overrides of notebook CSS for static HTML export

*/
body {
  overflow: visible;
  padding: 8px;
}
.input_area {
  padding: 0.4em;
}

</style>
<style type="text/css">
.highlight .hll { background-color: #ffffcc }
.highlight  { background: #f8f8f8; }
.highlight .c { color: #408080; font-style: italic } /* Comment */
.highlight .err { border: 1px solid #FF0000 } /* Error */
.highlight .k { color: #008000; font-weight: bold } /* Keyword */
.highlight .o { color: #666666 } /* Operator */
.highlight .cm { color: #408080; font-style: italic } /* Comment.Multiline */
.highlight .cp { color: #BC7A00 } /* Comment.Preproc */
.highlight .c1 { color: #408080; font-style: italic } /* Comment.Single */
.highlight .cs { color: #408080; font-style: italic } /* Comment.Special */
.highlight .gd { color: #A00000 } /* Generic.Deleted */
.highlight .ge { font-style: italic } /* Generic.Emph */
.highlight .gr { color: #FF0000 } /* Generic.Error */
.highlight .gh { color: #000080; font-weight: bold } /* Generic.Heading */
.highlight .gi { color: #00A000 } /* Generic.Inserted */
.highlight .go { color: #808080 } /* Generic.Output */
.highlight .gp { color: #000080; font-weight: bold } /* Generic.Prompt */
.highlight .gs { font-weight: bold } /* Generic.Strong */
.highlight .gu { color: #800080; font-weight: bold } /* Generic.Subheading */
.highlight .gt { color: #0040D0 } /* Generic.Traceback */
.highlight .kc { color: #008000; font-weight: bold } /* Keyword.Constant */
.highlight .kd { color: #008000; font-weight: bold } /* Keyword.Declaration */
.highlight .kn { color: #008000; font-weight: bold } /* Keyword.Namespace */
.highlight .kp { color: #008000 } /* Keyword.Pseudo */
.highlight .kr { color: #008000; font-weight: bold } /* Keyword.Reserved */
.highlight .kt { color: #B00040 } /* Keyword.Type */
.highlight .m { color: #666666 } /* Literal.Number */
.highlight .s { color: #BA2121 } /* Literal.String */
.highlight .na { color: #7D9029 } /* Name.Attribute */
.highlight .nb { color: #008000 } /* Name.Builtin */
.highlight .nc { color: #0000FF; font-weight: bold } /* Name.Class */
.highlight .no { color: #880000 } /* Name.Constant */
.highlight .nd { color: #AA22FF } /* Name.Decorator */
.highlight .ni { color: #999999; font-weight: bold } /* Name.Entity */
.highlight .ne { color: #D2413A; font-weight: bold } /* Name.Exception */
.highlight .nf { color: #0000FF } /* Name.Function */
.highlight .nl { color: #A0A000 } /* Name.Label */
.highlight .nn { color: #0000FF; font-weight: bold } /* Name.Namespace */
.highlight .nt { color: #008000; font-weight: bold } /* Name.Tag */
.highlight .nv { color: #19177C } /* Name.Variable */
.highlight .ow { color: #AA22FF; font-weight: bold } /* Operator.Word */
.highlight .w { color: #bbbbbb } /* Text.Whitespace */
.highlight .mf { color: #666666 } /* Literal.Number.Float */
.highlight .mh { color: #666666 } /* Literal.Number.Hex */
.highlight .mi { color: #666666 } /* Literal.Number.Integer */
.highlight .mo { color: #666666 } /* Literal.Number.Oct */
.highlight .sb { color: #BA2121 } /* Literal.String.Backtick */
.highlight .sc { color: #BA2121 } /* Literal.String.Char */
.highlight .sd { color: #BA2121; font-style: italic } /* Literal.String.Doc */
.highlight .s2 { color: #BA2121 } /* Literal.String.Double */
.highlight .se { color: #BB6622; font-weight: bold } /* Literal.String.Escape */
.highlight .sh { color: #BA2121 } /* Literal.String.Heredoc */
.highlight .si { color: #BB6688; font-weight: bold } /* Literal.String.Interpol */
.highlight .sx { color: #008000 } /* Literal.String.Other */
.highlight .sr { color: #BB6688 } /* Literal.String.Regex */
.highlight .s1 { color: #BA2121 } /* Literal.String.Single */
.highlight .ss { color: #19177C } /* Literal.String.Symbol */
.highlight .bp { color: #008000 } /* Name.Builtin.Pseudo */
.highlight .vc { color: #19177C } /* Name.Variable.Class */
.highlight .vg { color: #19177C } /* Name.Variable.Global */
.highlight .vi { color: #19177C } /* Name.Variable.Instance */
.highlight .il { color: #666666 } /* Literal.Number.Integer.Long */
</style>
<script type="text/javascript"src="https://c328740.ssl.cf1.rackcdn.com/mathjax/latest/MathJax.js?config=TeX-AMS_HTML">

</script>
<script type="text/javascript">
init_mathjax = function() {
    if (window.MathJax) {
        // MathJax loaded
        MathJax.Hub.Config({
            tex2jax: {
                inlineMath: [ ['$','$'], ["\\(","\\)"] ],
                displayMath: [ ['$$','$$'], ["\\[","\\]"] ]
            },
            displayAlign: 'left', // Change this to 'center' to center equations.
            "HTML-CSS": {
                styles: {'.MathJax_Display': {"margin": 0}}
            }
        });
        MathJax.Hub.Queue(["Typeset",MathJax.Hub]);
    }
}
init_mathjax();
</script>
</head>
<body>
<div style="position:absolute; right:1em; top:1em; padding:0.4em; border:1px dashed black;">
  <a href="http://github.com/ipython/ipython/raw/master/examples/notebooks/Data Publication API.ipynb">Download notebook</a>
</div>
<div class="text_cell_render border-box-sizing rendered_html">
<h1>
  IPython's Data Publication API
</h1>
</div>
<div class="text_cell_render border-box-sizing rendered_html">
<p>IPython has an API that allows IPython Engines to publish data back to the Client.  This Notebook shows how this API works.</p>
</div>
<div class="text_cell_render border-box-sizing rendered_html">
<h2>
  Setup
</h2>
</div>
<div class="text_cell_render border-box-sizing rendered_html">
<p>We begin by enabling pylab mode and creating a <code>Client</code> object to work with an IPython cluster.</p>
</div>
<div class="cell border-box-sizing code_cell vbox">
<div class="input hbox">
<div class="prompt input_prompt">In&nbsp;[48]:</div>
<div class="input_area box-flex1">
<div class="highlight"><pre><span class="o">%</span><span class="k">pylab</span> <span class="n">inline</span>
</pre></div>

</div>
</div>
<div class="vbox output_wrapper">
<div class="output vbox">
<div class="hbox output_area">
<div class="prompt output_prompt"></div>
<div class="box-flex1 output_subarea output_stream output_stdout">
<pre>
Welcome to pylab, a matplotlib-based Python environment [backend: module://IPython.kernel.zmq.pylab.backend_inline].
For more information, type &apos;help(pylab)&apos;.
</pre>
</div>
</div>
</div>
</div>
</div>
<div class="cell border-box-sizing code_cell vbox">
<div class="input hbox">
<div class="prompt input_prompt">In&nbsp;[12]:</div>
<div class="input_area box-flex1">
<div class="highlight"><pre><span class="kn">from</span> <span class="nn">IPython.parallel</span> <span class="kn">import</span> <span class="n">Client</span>
</pre></div>

</div>
</div>
</div>
<div class="cell border-box-sizing code_cell vbox">
<div class="input hbox">
<div class="prompt input_prompt">In&nbsp;[13]:</div>
<div class="input_area box-flex1">
<div class="highlight"><pre><span class="n">c</span> <span class="o">=</span> <span class="n">Client</span><span class="p">()</span>
<span class="n">dv</span> <span class="o">=</span> <span class="n">c</span><span class="p">[:]</span>
<span class="n">dv</span><span class="o">.</span><span class="n">block</span> <span class="o">=</span> <span class="bp">False</span>
</pre></div>

</div>
</div>
</div>
<div class="text_cell_render border-box-sizing rendered_html">
<h2>
  Simple publication
</h2>
</div>
<div class="text_cell_render border-box-sizing rendered_html">
<p>Here is a simple Python function we are going to run on the Engines.  This function uses <code>publish_data</code> to publish a simple Python dictionary when it is run.</p>
</div>
<div class="cell border-box-sizing code_cell vbox">
<div class="input hbox">
<div class="prompt input_prompt">In&nbsp;[14]:</div>
<div class="input_area box-flex1">
<div class="highlight"><pre><span class="k">def</span> <span class="nf">publish_it</span><span class="p">():</span>
    <span class="kn">from</span> <span class="nn">IPython.kernel.zmq.datapub</span> <span class="kn">import</span> <span class="n">publish_data</span>
    <span class="n">publish_data</span><span class="p">(</span><span class="nb">dict</span><span class="p">(</span><span class="n">a</span><span class="o">=</span><span class="s">&#39;hi&#39;</span><span class="p">))</span>
</pre></div>

</div>
</div>
</div>
<div class="text_cell_render border-box-sizing rendered_html">
<p>We run the function on the Engines using <code>apply_async</code> and save the returned <code>AsyncResult</code> object:</p>
</div>
<div class="cell border-box-sizing code_cell vbox">
<div class="input hbox">
<div class="prompt input_prompt">In&nbsp;[15]:</div>
<div class="input_area box-flex1">
<div class="highlight"><pre><span class="n">ar</span> <span class="o">=</span> <span class="n">dv</span><span class="o">.</span><span class="n">apply_async</span><span class="p">(</span><span class="n">publish_it</span><span class="p">)</span>
</pre></div>

</div>
</div>
</div>
<div class="text_cell_render border-box-sizing rendered_html">
<p>The published data from each engine is then available under the <code>.data</code> attribute of the <code>AsyncResult</code> object.</p>
</div>
<div class="cell border-box-sizing code_cell vbox">
<div class="input hbox">
<div class="prompt input_prompt">In&nbsp;[16]:</div>
<div class="input_area box-flex1">
<div class="highlight"><pre><span class="n">ar</span><span class="o">.</span><span class="n">data</span>
</pre></div>

</div>
</div>
<div class="vbox output_wrapper">
<div class="output vbox">
<div class="hbox output_area">
<div class="prompt output_prompt">Out[16]:</div>
<div class="box-flex1 output_subarea output_pyout">
<pre>[{&apos;a&apos;: &apos;hi&apos;}, {&apos;a&apos;: &apos;hi&apos;}, {&apos;a&apos;: &apos;hi&apos;}, {&apos;a&apos;: &apos;hi&apos;}]</pre>
</div>
</div>
</div>
</div>
</div>
<div class="text_cell_render border-box-sizing rendered_html">
<p>Each time <code>publish_data</code> is called, the <code>.data</code> attribute is updated with the most recently published data.</p>
</div>
<div class="text_cell_render border-box-sizing rendered_html">
<h2>
  Simulation loop
</h2>
</div>
<div class="text_cell_render border-box-sizing rendered_html">
<p>In many cases, the Engines will be running a simulation loop and we will want to publish data at each time step of the simulation.  To show how this works, we create a mock simulation function that iterates over a loop and publishes a NumPy array and loop variable at each time step. By inserting a call to <code>time.sleep(1)</code>, we ensure that new data will be published every second.</p>
</div>
<div class="cell border-box-sizing code_cell vbox">
<div class="input hbox">
<div class="prompt input_prompt">In&nbsp;[57]:</div>
<div class="input_area box-flex1">
<div class="highlight"><pre><span class="k">def</span> <span class="nf">simulation_loop</span><span class="p">():</span>
    <span class="kn">from</span> <span class="nn">IPython.kernel.zmq.datapub</span> <span class="kn">import</span> <span class="n">publish_data</span>
    <span class="kn">import</span> <span class="nn">time</span>
    <span class="kn">import</span> <span class="nn">numpy</span> <span class="kn">as</span> <span class="nn">np</span>
    <span class="k">for</span> <span class="n">i</span> <span class="ow">in</span> <span class="nb">range</span><span class="p">(</span><span class="mi">10</span><span class="p">):</span>
        <span class="n">publish_data</span><span class="p">(</span><span class="nb">dict</span><span class="p">(</span><span class="n">a</span><span class="o">=</span><span class="n">np</span><span class="o">.</span><span class="n">random</span><span class="o">.</span><span class="n">rand</span><span class="p">(</span><span class="mi">20</span><span class="p">),</span> <span class="n">i</span><span class="o">=</span><span class="n">i</span><span class="p">))</span>
        <span class="n">time</span><span class="o">.</span><span class="n">sleep</span><span class="p">(</span><span class="mi">1</span><span class="p">)</span>
</pre></div>

</div>
</div>
</div>
<div class="text_cell_render border-box-sizing rendered_html">
<p>Again, we run the <code>simulation_loop</code> function in parallel using <code>apply_async</code> and save the returned <code>AsyncResult</code> object.</p>
</div>
<div class="cell border-box-sizing code_cell vbox">
<div class="input hbox">
<div class="prompt input_prompt">In&nbsp;[58]:</div>
<div class="input_area box-flex1">
<div class="highlight"><pre><span class="n">ar</span> <span class="o">=</span> <span class="n">dv</span><span class="o">.</span><span class="n">apply_async</span><span class="p">(</span><span class="n">simulation_loop</span><span class="p">)</span>
</pre></div>

</div>
</div>
</div>
<div class="text_cell_render border-box-sizing rendered_html">
<p>New data will be published by the Engines every second.  Anytime we access <code>ar.data</code>, we will get the most recently published data.</p>
</div>
<div class="cell border-box-sizing code_cell vbox">
<div class="input hbox">
<div class="prompt input_prompt">In&nbsp;[61]:</div>
<div class="input_area box-flex1">
<div class="highlight"><pre><span class="n">data</span> <span class="o">=</span> <span class="n">ar</span><span class="o">.</span><span class="n">data</span>
<span class="k">for</span> <span class="n">i</span><span class="p">,</span> <span class="n">d</span> <span class="ow">in</span> <span class="nb">enumerate</span><span class="p">(</span><span class="n">data</span><span class="p">):</span>
    <span class="n">plot</span><span class="p">(</span><span class="n">d</span><span class="p">[</span><span class="s">&#39;a&#39;</span><span class="p">],</span> <span class="n">label</span><span class="o">=</span><span class="s">&#39;engine: &#39;</span><span class="o">+</span><span class="nb">str</span><span class="p">(</span><span class="n">i</span><span class="p">))</span>
<span class="n">title</span><span class="p">(</span><span class="s">&#39;Data published at time step: &#39;</span> <span class="o">+</span> <span class="nb">str</span><span class="p">(</span><span class="n">data</span><span class="p">[</span><span class="mi">0</span><span class="p">][</span><span class="s">&#39;i&#39;</span><span class="p">]))</span>
<span class="n">legend</span><span class="p">()</span>
</pre></div>

</div>
</div>
<div class="vbox output_wrapper">
<div class="output vbox">
<div class="hbox output_area">
<div class="prompt output_prompt">Out[61]:</div>
<div class="box-flex1 output_subarea output_pyout">
<pre>&lt;matplotlib.legend.Legend at 0x10a8ed8d0&gt;</pre>
</div>
</div>
<div class="hbox output_area">
<div class="prompt output_prompt"></div>
<div class="box-flex1 output_subarea output_display_data">
<img src="data:image/png;base64,iVBORw0KGgoAAAANSUhEUgAAAXUAAAEICAYAAACgQWTXAAAABHNCSVQICAgIfAhkiAAAAAlwSFlz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"></img>
</div>
</div>
</div>
</div>
</div>
</body>
</html>